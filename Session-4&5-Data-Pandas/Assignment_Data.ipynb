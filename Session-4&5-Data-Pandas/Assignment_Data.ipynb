{
 "cells": [
  {
   "cell_type": "markdown",
   "metadata": {},
   "source": [
    "# **Importance of Data -- Assignment**\n",
    "---\n",
    "<img src=\"Imperial_logo.png\" align = \"left\" width=200>\n",
    " <br><br>\n",
    " \n",
    "- Copyright (c) Antoine Jacquier, 2024. All rights reserved\n",
    "\n",
    "- Author: Jack Jacquier <a.jacquier@imperial.ac.uk>\n",
    "\n",
    "- Platform: Tested on Windows 10 with Python 3.9"
   ]
  },
  {
   "cell_type": "markdown",
   "metadata": {},
   "source": [
    "## Data Import and visualisation\n",
    "\n",
    "- Import a history of time series of your stock of your choice and plot a histogram of the returns using the `sns` library.\n",
    "\n",
    "- Using `yahoo_fin`, create a dictionary where each key is a ticker of the S&P500 and the value is a table containing all the daily values of the ticker between 1/1/2018 and 5/1/2018. *Hint: you may want to also use the `try` command to handle any possible errors.*"
   ]
  },
  {
   "cell_type": "markdown",
   "metadata": {},
   "source": [
    "## Application to option pricing"
   ]
  },
  {
   "cell_type": "markdown",
   "metadata": {},
   "source": [
    "Using the `bokeh` library (example in the course notebook), analyse graphically the influence of the maturity $T$ and the volatility parameter $\\sigma$ on the function $K\\mapsto C^{\\mathrm{BS}}(S_0, K, T, \\sigma)$, for some fixed $S_0 = 100$, as $K$ ranges from $50$ to $100$. We assume no interest and no dividend."
   ]
  },
  {
   "cell_type": "markdown",
   "metadata": {},
   "source": [
    "## Analysis of the S&P 500\n",
    "\n",
    "Write a `python` script using `yahoo_fin` to return the `n` largest holders of S&P 500 companies. How much do they own in total?"
   ]
  }
 ],
 "metadata": {
  "kernelspec": {
   "display_name": "Python 3 (ipykernel)",
   "language": "python",
   "name": "python3"
  },
  "language_info": {
   "codemirror_mode": {
    "name": "ipython",
    "version": 3
   },
   "file_extension": ".py",
   "mimetype": "text/x-python",
   "name": "python",
   "nbconvert_exporter": "python",
   "pygments_lexer": "ipython3",
   "version": "3.11.7"
  },
  "latex_envs": {
   "LaTeX_envs_menu_present": true,
   "autoclose": false,
   "autocomplete": true,
   "bibliofile": "biblio.bib",
   "cite_by": "apalike",
   "current_citInitial": 1,
   "eqLabelWithNumbers": true,
   "eqNumInitial": 1,
   "hotkeys": {
    "equation": "Ctrl-E",
    "itemize": "Ctrl-I"
   },
   "labels_anchors": false,
   "latex_user_defs": false,
   "report_style_numbering": false,
   "user_envs_cfg": false
  },
  "toc": {
   "base_numbering": 1,
   "nav_menu": {},
   "number_sections": true,
   "sideBar": true,
   "skip_h1_title": true,
   "title_cell": "Table of Contents",
   "title_sidebar": "Contents",
   "toc_cell": false,
   "toc_position": {},
   "toc_section_display": true,
   "toc_window_display": true
  }
 },
 "nbformat": 4,
 "nbformat_minor": 4
}
