{
 "cells": [
  {
   "cell_type": "markdown",
   "metadata": {},
   "source": [
    "# Numba example: Learning $\\pi$\n",
    "---\n",
    "***"
   ]
  },
  {
   "cell_type": "code",
   "execution_count": 2,
   "metadata": {},
   "outputs": [],
   "source": [
    "import functools\n",
    "from numba import jit\n",
    "import numpy as np\n",
    "import matplotlib.pylab as plt"
   ]
  },
  {
   "cell_type": "code",
   "execution_count": 3,
   "metadata": {},
   "outputs": [],
   "source": [
    "def pi_eval(n, xx, c, r):\n",
    "    def f(a,b,c):\n",
    "        return (a-c)**2+(b-c)**2\n",
    "\n",
    "    Z = functools.reduce(lambda a, b: f(a,b,c), xx)\n",
    "    l = list(filter(lambda z: z<=.25, Z))\n",
    "    return 4.*len(l) / n\n",
    "\n",
    "def pi_eval2(n, xx, c, r):\n",
    "    def f(a,b,c):\n",
    "        return (a-c)**2+(b-c)**2\n",
    "\n",
    "    gg = [f(x[0],x[1],c)<=.25 for x in xx]\n",
    "    return 4.*np.sum(gg) / n\n",
    "\n",
    "def pi_eval3(n, xx, c, r):\n",
    "    gg = [(x[0]-c)**2+(x[1]-c)**2<=.25 for x in xx]\n",
    "    return 4.*np.sum(gg) / n\n",
    "\n",
    "@jit(nopython=True)\n",
    "def pi_eval_jit(n, xx, c, r):\n",
    "    s = 0\n",
    "    for i in range(n):\n",
    "        if (xx[i,0]-c)**2+(xx[i,1]-c)**2<=.25:\n",
    "            s += 1\n",
    "    return 4.*s / n"
   ]
  },
  {
   "cell_type": "code",
   "execution_count": 5,
   "metadata": {},
   "outputs": [
    {
     "name": "stdout",
     "output_type": "stream",
     "text": [
      "Wall time: 11.1 s\n",
      "Wall time: 5 s\n",
      "Wall time: 4.4 s\n",
      "Wall time: 3.99 ms\n"
     ]
    }
   ],
   "source": [
    "n=1000000\n",
    "xx = np.random.rand(n,2)\n",
    "c = .5 ## center\n",
    "r = .5 ## radius\n",
    "\n",
    "p = np.zeros(4)\n",
    "p[0] = %time pi_eval(n, xx, c, r)\n",
    "p[1] = %time pi_eval2(n, xx, c, r)\n",
    "p[2] = %time pi_eval3(n, xx, c, r)\n",
    "p[3] = %time pi_eval_jit(n, xx, c, r)"
   ]
  },
  {
   "cell_type": "markdown",
   "metadata": {},
   "source": [
    "Warning: `numba` only works with limited commands"
   ]
  },
  {
   "cell_type": "code",
   "execution_count": null,
   "metadata": {},
   "outputs": [],
   "source": [
    "nn = np.arange(1000, 500000, 10000)\n",
    "pp = [pi_eval_jit(n, xx, c, r) for n in nn]\n",
    "plt.plot(nn, pp,'b*')\n",
    "plt.plot(nn, [np.pi]*len(nn), 'k')\n",
    "plt.show()"
   ]
  },
  {
   "cell_type": "code",
   "execution_count": null,
   "metadata": {},
   "outputs": [],
   "source": []
  }
 ],
 "metadata": {
  "kernelspec": {
   "display_name": "Python 3",
   "language": "python",
   "name": "python3"
  },
  "language_info": {
   "codemirror_mode": {
    "name": "ipython",
    "version": 3
   },
   "file_extension": ".py",
   "mimetype": "text/x-python",
   "name": "python",
   "nbconvert_exporter": "python",
   "pygments_lexer": "ipython3",
   "version": "3.6.9"
  },
  "latex_envs": {
   "LaTeX_envs_menu_present": true,
   "autoclose": false,
   "autocomplete": true,
   "bibliofile": "biblio.bib",
   "cite_by": "apalike",
   "current_citInitial": 1,
   "eqLabelWithNumbers": true,
   "eqNumInitial": 1,
   "hotkeys": {
    "equation": "Ctrl-E",
    "itemize": "Ctrl-I"
   },
   "labels_anchors": false,
   "latex_user_defs": false,
   "report_style_numbering": false,
   "user_envs_cfg": false
  },
  "toc": {
   "base_numbering": 1,
   "nav_menu": {},
   "number_sections": true,
   "sideBar": true,
   "skip_h1_title": true,
   "title_cell": "Table of Contents",
   "title_sidebar": "Contents",
   "toc_cell": false,
   "toc_position": {
    "height": "calc(100% - 180px)",
    "left": "10px",
    "top": "150px",
    "width": "165px"
   },
   "toc_section_display": true,
   "toc_window_display": true
  }
 },
 "nbformat": 4,
 "nbformat_minor": 4
}
