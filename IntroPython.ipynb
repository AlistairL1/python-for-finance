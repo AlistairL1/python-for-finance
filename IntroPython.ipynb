{
 "cells": [
  {
   "cell_type": "markdown",
   "metadata": {
    "zanadu": {}
   },
   "source": [
    "Introduction to Python\n",
    "---"
   ]
  },
  {
   "cell_type": "markdown",
   "metadata": {
    "zanadu": {}
   },
   "source": [
    "# Why Python?"
   ]
  },
  {
   "cell_type": "markdown",
   "metadata": {
    "zanadu": {}
   },
   "source": [
    "One of the most in-demand programming languages in the financial industry: https://news.efinancialcareers.com/uk-en/137065/the-six-hottest-programming-languages-to-know-in-banking-technology<br>\n",
    "See more details in the PDF file<br>\n"
   ]
  },
  {
   "cell_type": "markdown",
   "metadata": {
    "zanadu": {}
   },
   "source": [
    "# Installing Python locally"
   ]
  },
  {
   "cell_type": "markdown",
   "metadata": {
    "zanadu": {}
   },
   "source": [
    "The easiest way to install Jupyter notebooks is through the license-free Anaconda software available\n",
    "at: https://www.continuum.io/downloads (you will find versions for Windows, MAC and Linux).\n",
    "Once the package is installed you can easily access the Jupyter notebook by typing jupyter notebook\n",
    "either in the Anaconda prompt or in the OS command line. (I recommend using the Anaconda\n",
    "prompt specially when running in Windows, since there might be some compatibility issues).\n",
    "I also recommend installing the following package, since it makes very easy to download financial\n",
    "series data from either Yahoo Finance or Google Finance:<br>"
   ]
  },
  {
   "cell_type": "markdown",
   "metadata": {
    "zanadu": {}
   },
   "source": [
    "### Installing the R kernel"
   ]
  },
  {
   "cell_type": "markdown",
   "metadata": {
    "zanadu": {}
   },
   "source": [
    "Since you will be using both Python and R , a useful feature of Jupyter notebooks is that they may\n",
    "also be run in R. To this end in the Anaconda prompt type the following command to install the\n",
    "required packages:<br><br>\n",
    "conda install -c r r-essentials<br><br>\n",
    "whenever you type jupyter notebook in the command prompt, now you should be able to run\n",
    "notebooks in either R or Python."
   ]
  },
  {
   "cell_type": "markdown",
   "metadata": {
    "zanadu": {}
   },
   "source": [
    "### Using both R and Python in the same notebook"
   ]
  },
  {
   "cell_type": "markdown",
   "metadata": {
    "zanadu": {}
   },
   "source": [
    "Sometimes it might be useful to be able to use both programming languages and be able to move\n",
    "back and forth between them. In this case you will need to install (if they are already installed\n",
    "make sure they are updated):<br><br>\n",
    "conda install rpy2 (if already installed replace install by update)<br><br>\n",
    "conda install menuinst"
   ]
  },
  {
   "cell_type": "markdown",
   "metadata": {
    "zanadu": {}
   },
   "source": [
    "# Introduction to IPython notebook"
   ]
  },
  {
   "cell_type": "markdown",
   "metadata": {
    "zanadu": {}
   },
   "source": [
    "There are two fundamental different types of cells: markdown cells, like this one, including text and \\LaTeX formulae, such as \n",
    "$$\n",
    "\\frac{1}{2\\pi}\\int_{\\mathbb{R}}\\exp\\left(-\\frac{x^2}{2}\\right)dx = \\cdots\n",
    "$$"
   ]
  },
  {
   "cell_type": "code",
   "execution_count": 4,
   "metadata": {
    "zanadu": {
     "code_type": ""
    }
   },
   "outputs": [
    {
     "name": "stdout",
     "output_type": "stream",
     "text": [
      "Hello MSc Math Finance. This is a code cell.\n"
     ]
    }
   ],
   "source": [
    "print(\"Hello MSc Math Finance.\", \"This is a code cell.\")"
   ]
  },
  {
   "cell_type": "markdown",
   "metadata": {
    "zanadu": {}
   },
   "source": [
    "A session, or a kernel, manages all the code, variables, names,...., within a notebook. The kernel can be restarted anytime if needed."
   ]
  },
  {
   "cell_type": "markdown",
   "metadata": {
    "zanadu": {}
   },
   "source": [
    "# Python"
   ]
  },
  {
   "cell_type": "markdown",
   "metadata": {
    "zanadu": {}
   },
   "source": [
    "The main documentation for Python is available at https://docs.python.org/3.5/reference/.\n",
    "A fundamental thing to bear in mind is indentation!!!    "
   ]
  },
  {
   "cell_type": "markdown",
   "metadata": {
    "zanadu": {}
   },
   "source": [
    "## Basic operations"
   ]
  },
  {
   "cell_type": "code",
   "execution_count": 6,
   "metadata": {
    "zanadu": {
     "code_type": ""
    }
   },
   "outputs": [
    {
     "name": "stdout",
     "output_type": "stream",
     "text": [
      "<class 'int'>\n",
      "<class 'float'>\n"
     ]
    }
   ],
   "source": [
    "a=5\n",
    "b=7\n",
    "c=2.\n",
    "print(type(a))\n",
    "print(type(c))"
   ]
  },
  {
   "cell_type": "code",
   "execution_count": 15,
   "metadata": {
    "zanadu": {
     "code_type": ""
    }
   },
   "outputs": [
    {
     "name": "stdout",
     "output_type": "stream",
     "text": [
      "12\n",
      "78125\n",
      "<class 'int'>\n",
      "<class 'float'>\n"
     ]
    }
   ],
   "source": [
    "print(a+b)\n",
    "print(a**b)\n",
    "print(type(a+b))\n",
    "print(type(a*c))"
   ]
  },
  {
   "cell_type": "markdown",
   "metadata": {
    "zanadu": {}
   },
   "source": [
    "WATCH OUT: ^ is not a power operator but the XOR operator."
   ]
  },
  {
   "cell_type": "markdown",
   "metadata": {
    "zanadu": {}
   },
   "source": [
    "Naming variables:<br>\n",
    "- Start with lowercase letter or underscore<br>\n",
    "- CamelCase<br>\n",
    "- variables written in upper case are usually constants<br>\n",
    "- one cannot use a keyword (reserved word) as a variable name (print, for, end, while,...)."
   ]
  },
  {
   "cell_type": "markdown",
   "metadata": {
    "zanadu": {}
   },
   "source": [
    "As exciting as the above sum is, we might be interested in going a tad further into mathematical computations. \n",
    "For this, we shall need the NumPy package, which can be imported as follows (as any other package):"
   ]
  },
  {
   "cell_type": "code",
   "execution_count": 4,
   "metadata": {
    "zanadu": {
     "code_type": ""
    }
   },
   "outputs": [],
   "source": [
    "import numpy as np"
   ]
  },
  {
   "cell_type": "markdown",
   "metadata": {
    "zanadu": {}
   },
   "source": [
    "The numpy library has pretty much all the functions you would expect in Matlab or R.\n",
    "Check for example http://mathesaurus.sourceforge.net/matlab-numpy.html for the correspondence between MATLAB and Python"
   ]
  },
  {
   "cell_type": "code",
   "execution_count": 20,
   "metadata": {
    "zanadu": {
     "code_type": ""
    }
   },
   "outputs": [
    {
     "name": "stdout",
     "output_type": "stream",
     "text": [
      "[ 0  1  2  3  4  5  6  7  8  9 10 11 12 13 14 15 16 17 18 19]\n",
      "Note that the first element is index by 0\n",
      "190\n"
     ]
    }
   ],
   "source": [
    "rr = range(20)\n",
    "aa=np.array(rr)\n",
    "print(aa)\n",
    "print(\"Note that the first element is index by 0\")\n",
    "print(np.sum(aa))"
   ]
  },
  {
   "cell_type": "code",
   "execution_count": 21,
   "metadata": {},
   "outputs": [
    {
     "name": "stdout",
     "output_type": "stream",
     "text": [
      "<class 'numpy.ndarray'>\n",
      "<class 'range'>\n"
     ]
    }
   ],
   "source": [
    "## Note that the variables a and rr are not the same:\n",
    "print(type(aa))\n",
    "print(type(rr))"
   ]
  },
  {
   "cell_type": "markdown",
   "metadata": {
    "zanadu": {}
   },
   "source": [
    "## Variable types"
   ]
  },
  {
   "cell_type": "markdown",
   "metadata": {
    "zanadu": {}
   },
   "source": [
    "#### Simple variables"
   ]
  },
  {
   "cell_type": "code",
   "execution_count": 23,
   "metadata": {
    "zanadu": {
     "code_type": ""
    }
   },
   "outputs": [
    {
     "name": "stdout",
     "output_type": "stream",
     "text": [
      "<class 'int'> <class 'float'>\n",
      "0.5 0.5\n"
     ]
    }
   ],
   "source": [
    "a = 2\n",
    "b = 2.\n",
    "print(type(a), type(b))\n",
    "print(1/a, 1/b)"
   ]
  },
  {
   "cell_type": "markdown",
   "metadata": {
    "zanadu": {}
   },
   "source": [
    "#### Arrays"
   ]
  },
  {
   "cell_type": "markdown",
   "metadata": {
    "zanadu": {}
   },
   "source": [
    "A one-dimensional array is a sequence of values on which we can do mathematical operations."
   ]
  },
  {
   "cell_type": "code",
   "execution_count": 25,
   "metadata": {
    "zanadu": {
     "code_type": ""
    }
   },
   "outputs": [
    {
     "name": "stdout",
     "output_type": "stream",
     "text": [
      "aa: [0 1 2 3 4] <class 'numpy.ndarray'>\n",
      "bb: [0 1 2 3] <class 'numpy.ndarray'>\n"
     ]
    }
   ],
   "source": [
    "aa = np.array([0,1,2,3,4])\n",
    "bb = np.arange(0, 4, 1) ## the last input indicates the step size, by default equal to 1\n",
    "\n",
    "print(\"aa:\", aa, type(aa))\n",
    "print(\"bb:\", bb, type(bb))"
   ]
  },
  {
   "cell_type": "markdown",
   "metadata": {
    "zanadu": {}
   },
   "source": [
    "We shall for now only consider arrays, and keep the other types for later. \n",
    "To call elements from an array:"
   ]
  },
  {
   "cell_type": "code",
   "execution_count": 26,
   "metadata": {
    "zanadu": {
     "code_type": ""
    }
   },
   "outputs": [
    {
     "name": "stdout",
     "output_type": "stream",
     "text": [
      "Element with index 0: 0\n",
      "All elements between two indices: [0 1 2]  or  [0 1 2]\n",
      "All elements between two indices, with a step: [0 2]\n",
      "Last element, backward counting: 4\n"
     ]
    }
   ],
   "source": [
    "print(\"Element with index 0:\", aa[0])\n",
    "print(\"All elements between two indices:\", aa[0:3], \" or \", aa[:3])\n",
    "print(\"All elements between two indices, with a step:\", aa[0:3:2])\n",
    "print(\"Last element, backward counting:\", aa[-1])"
   ]
  },
  {
   "cell_type": "markdown",
   "metadata": {
    "zanadu": {}
   },
   "source": [
    "Arrays support direct mathematical operations:"
   ]
  },
  {
   "cell_type": "code",
   "execution_count": 27,
   "metadata": {
    "zanadu": {
     "code_type": ""
    }
   },
   "outputs": [
    {
     "name": "stdout",
     "output_type": "stream",
     "text": [
      "[0 1 2 3 4]\n",
      "[0. 2. 4. 6. 8.]\n",
      "[ 0  1  4  9 16]\n"
     ]
    }
   ],
   "source": [
    "print(aa)\n",
    "print(2.*aa)\n",
    "print(aa**2)"
   ]
  },
  {
   "cell_type": "markdown",
   "metadata": {
    "zanadu": {}
   },
   "source": [
    "#### List and tuples"
   ]
  },
  {
   "cell_type": "markdown",
   "metadata": {
    "zanadu": {}
   },
   "source": [
    "Next to arrays, one can define other data types to store sequences:<br>\n",
    "- list, entered between square brackets;<br>\n",
    "- tuple, entered with parentheses. <br>\n",
    "The main difference is that one can change the values in a list creation after you create them, whereas this is not possible with a tuple. \n",
    "Mathematical operations are not allowed with either lists or tuples. "
   ]
  },
  {
   "cell_type": "code",
   "execution_count": 3,
   "metadata": {
    "zanadu": {
     "code_type": ""
    }
   },
   "outputs": [
    {
     "name": "stdout",
     "output_type": "stream",
     "text": [
      "myList [1, 2, 3] <class 'list'>\n",
      "myTuple (1, 2, 3) <class 'tuple'>\n",
      "Modified list [7, 2, 3]\n"
     ]
    },
    {
     "ename": "TypeError",
     "evalue": "'tuple' object does not support item assignment",
     "output_type": "error",
     "traceback": [
      "\u001b[1;31m---------------------------------------------------------------------------\u001b[0m",
      "\u001b[1;31mTypeError\u001b[0m                                 Traceback (most recent call last)",
      "\u001b[1;32m<ipython-input-3-d6190a0e1186>\u001b[0m in \u001b[0;36m<module>\u001b[1;34m\u001b[0m\n\u001b[0;32m      5\u001b[0m \u001b[0mmyList\u001b[0m\u001b[1;33m[\u001b[0m\u001b[1;36m0\u001b[0m\u001b[1;33m]\u001b[0m \u001b[1;33m=\u001b[0m \u001b[1;36m7\u001b[0m\u001b[1;33m\u001b[0m\u001b[1;33m\u001b[0m\u001b[0m\n\u001b[0;32m      6\u001b[0m \u001b[0mprint\u001b[0m\u001b[1;33m(\u001b[0m\u001b[1;34m'Modified list'\u001b[0m\u001b[1;33m,\u001b[0m \u001b[0mmyList\u001b[0m\u001b[1;33m)\u001b[0m\u001b[1;33m\u001b[0m\u001b[1;33m\u001b[0m\u001b[0m\n\u001b[1;32m----> 7\u001b[1;33m \u001b[0mmyTuple\u001b[0m\u001b[1;33m[\u001b[0m\u001b[1;36m0\u001b[0m\u001b[1;33m]\u001b[0m \u001b[1;33m=\u001b[0m \u001b[1;36m7\u001b[0m\u001b[1;33m\u001b[0m\u001b[1;33m\u001b[0m\u001b[0m\n\u001b[0m\u001b[0;32m      8\u001b[0m \u001b[0mprint\u001b[0m\u001b[1;33m(\u001b[0m\u001b[1;34m\"Lists and tuples do not support mathematical operations:\"\u001b[0m\u001b[1;33m,\u001b[0m \u001b[1;36m2\u001b[0m\u001b[1;33m*\u001b[0m\u001b[0mmyList\u001b[0m\u001b[1;33m)\u001b[0m\u001b[1;33m\u001b[0m\u001b[1;33m\u001b[0m\u001b[0m\n",
      "\u001b[1;31mTypeError\u001b[0m: 'tuple' object does not support item assignment"
     ]
    }
   ],
   "source": [
    "myList = [1, 2, 3]\n",
    "print('myList', myList, type(myList))\n",
    "myTuple = (1, 2, 3)\n",
    "print('myTuple', myTuple, type(myTuple))\n",
    "myList[0] = 7  \n",
    "print('Modified list', myList)\n",
    "myTuple[0] = 7\n",
    "print(\"Lists and tuples do not support mathematical operations:\", 2*myList)"
   ]
  },
  {
   "cell_type": "markdown",
   "metadata": {
    "zanadu": {}
   },
   "source": [
    "Why then do we care about lists and tuples? In fact, the advantage of these two objects is their versatility, as their elements do not need to be numbers, but can be anything, such as functions, objects, other sequences, html links,..."
   ]
  },
  {
   "cell_type": "markdown",
   "metadata": {
    "zanadu": {}
   },
   "source": [
    "#### Multi-dimensional arrays and reshaping"
   ]
  },
  {
   "cell_type": "markdown",
   "metadata": {
    "zanadu": {}
   },
   "source": [
    "Arrays have arbitrary dimension (up to computer memory)"
   ]
  },
  {
   "cell_type": "code",
   "execution_count": 33,
   "metadata": {
    "zanadu": {
     "code_type": ""
    }
   },
   "outputs": [
    {
     "name": "stdout",
     "output_type": "stream",
     "text": [
      "Multidimensional arrays of ones:\n",
      "[[1. 1. 1. 1.]\n",
      " [1. 1. 1. 1.]\n",
      " [1. 1. 1. 1.]]\n",
      "Multidimensional arrays of zeros:\n",
      "[[0. 0. 0. 0. 0. 0.]\n",
      " [0. 0. 0. 0. 0. 0.]]\n"
     ]
    }
   ],
   "source": [
    "xx = np.ones((3, 4))\n",
    "print(\"Multidimensional arrays of ones:\")\n",
    "print(xx)\n",
    "xx = np.zeros((2, 6))\n",
    "print(\"Multidimensional arrays of zeros:\")\n",
    "print(xx)"
   ]
  },
  {
   "cell_type": "markdown",
   "metadata": {
    "zanadu": {}
   },
   "source": [
    "They can also be declared directly as"
   ]
  },
  {
   "cell_type": "code",
   "execution_count": 34,
   "metadata": {
    "zanadu": {
     "code_type": ""
    }
   },
   "outputs": [
    {
     "name": "stdout",
     "output_type": "stream",
     "text": [
      "[[1 7 8 2]\n",
      " [2 4 2 2]\n",
      " [9 1 5 3]]\n",
      "Initial dimension:  (3, 4)\n",
      "----------------------\n",
      "Reshaping in (2, 6):\n",
      "[[1 7 8 2 2 4]\n",
      " [2 2 9 1 5 3]]\n",
      "New dimension:  (2, 6)\n",
      "----------------------\n",
      "Reshaping in (1, 12):\n",
      "[[1 7 8 2 2 4 2 2 9 1 5 3]]\n",
      "New dimension:  (1, 12)\n"
     ]
    }
   ],
   "source": [
    "xx = np.array([[1, 7, 8, 2],\n",
    "              [2, 4, 2, 2],\n",
    "              [9, 1, 5, 3]])\n",
    "print(xx)\n",
    "print(\"Initial dimension: \", xx.shape)\n",
    "print(\"----------------------\")\n",
    "print(\"Reshaping in (2, 6):\")\n",
    "xx = np.reshape(xx, (2, 6))\n",
    "print(xx)\n",
    "print(\"New dimension: \", xx.shape)\n",
    "print(\"----------------------\")\n",
    "print(\"Reshaping in (1, 12):\")\n",
    "xx = np.reshape(xx, (1, 12))\n",
    "print(xx)\n",
    "print(\"New dimension: \", xx.shape)\n"
   ]
  },
  {
   "cell_type": "markdown",
   "metadata": {
    "zanadu": {}
   },
   "source": [
    "Multi-dimensional arrays are not matrices."
   ]
  },
  {
   "cell_type": "code",
   "execution_count": 35,
   "metadata": {
    "zanadu": {
     "code_type": ""
    }
   },
   "outputs": [
    {
     "name": "stdout",
     "output_type": "stream",
     "text": [
      "xx:  [ 4  8 12 16]\n",
      "yy:  [1 3 5 7]\n",
      "Product: [  4  24  60 112]\n",
      "Division: [4.         2.66666667 2.4        2.28571429]\n"
     ]
    }
   ],
   "source": [
    "xx = np.arange(4, 20, 4)\n",
    "yy= np.arange(1, 8, 2)\n",
    "print(\"xx: \", xx)\n",
    "print(\"yy: \", yy)\n",
    "print('Product:', xx * yy)\n",
    "print('Division:', xx / yy)"
   ]
  },
  {
   "cell_type": "markdown",
   "metadata": {
    "zanadu": {}
   },
   "source": [
    "Exercise: Consider the following array:\n",
    "$$\n",
    "x = \\text{np.array}([[2, 2, 4, 4], [6, 4, 8, 1], [9, 4, 1, 2], [7, 5, 2, 8]]).\n",
    "$$\n",
    "Write Python code to output the following:\n",
    "- the second row of xx;<br>\n",
    "- the first column of xx;<br>\n",
    "- the last two rows of xx;<br>\n",
    "- the four values in the upper left-hand corner of x;<br>\n",
    "- the four values at the center of x;<br>"
   ]
  },
  {
   "cell_type": "markdown",
   "metadata": {
    "zanadu": {}
   },
   "source": [
    "#### Visualising arrays"
   ]
  },
  {
   "cell_type": "code",
   "execution_count": 6,
   "metadata": {},
   "outputs": [],
   "source": [
    "import matplotlib.pylab as plt"
   ]
  },
  {
   "cell_type": "code",
   "execution_count": 39,
   "metadata": {
    "zanadu": {
     "code_type": ""
    }
   },
   "outputs": [
    {
     "data": {
      "image/png": "[encoded data removed]",
      "text/plain": [
       "<Figure size 384x288 with 2 Axes>"
      ]
     },
     "metadata": {
      "needs_background": "light"
     },
     "output_type": "display_data"
    }
   ],
   "source": [
    "xx = np.array([[1, 7, 8, 2],\n",
    "              [2, 4, 2, 2],\n",
    "              [9, 1, 5, 3]])\n",
    "plt.matshow(xx)\n",
    "plt.colorbar(ticks=[2, 5, 8], shrink=0.8);"
   ]
  },
  {
   "cell_type": "markdown",
   "metadata": {
    "zanadu": {}
   },
   "source": [
    "A version with a condition"
   ]
  },
  {
   "cell_type": "code",
   "execution_count": 42,
   "metadata": {
    "zanadu": {
     "code_type": ""
    }
   },
   "outputs": [
    {
     "data": {
      "image/png": "[encoded data removed]",
      "text/plain": [
       "<Figure size 384x288 with 1 Axes>"
      ]
     },
     "metadata": {
      "needs_background": "light"
     },
     "output_type": "display_data"
    }
   ],
   "source": [
    "yy = xx<4\n",
    "plt.matshow(yy);"
   ]
  },
  {
   "cell_type": "markdown",
   "metadata": {
    "zanadu": {}
   },
   "source": [
    "A more interesting array"
   ]
  },
  {
   "cell_type": "code",
   "execution_count": 9,
   "metadata": {
    "zanadu": {
     "code_type": ""
    }
   },
   "outputs": [
    {
     "name": "stdout",
     "output_type": "stream",
     "text": [
      "Dimension:  (100, 100)\n"
     ]
    },
    {
     "data": {
      "image/png": "[encoded data removed]",
      "text/plain": [
       "<Figure size 720x360 with 2 Axes>"
      ]
     },
     "metadata": {
      "needs_background": "light"
     },
     "output_type": "display_data"
    }
   ],
   "source": [
    "n = 100\n",
    "xx = np.random.normal(0., 1., (n, n))\n",
    "print(\"Dimension: \", xx.shape)\n",
    "#myTicks = np.linspace(0, 1, 11)\n",
    "myTicks = np.linspace(-10., 10., 21)\n",
    "plt.figure(figsize=(10,5))\n",
    "plt.matshow(xx, fignum=1)\n",
    "plt.colorbar(ticks=myTicks, shrink=1);"
   ]
  },
  {
   "cell_type": "code",
   "execution_count": 23,
   "metadata": {
    "zanadu": {
     "code_type": ""
    }
   },
   "outputs": [],
   "source": [
    "def isPrime(num):\n",
    "    isPrime = 0\n",
    "    if num > 1:\n",
    "       # check for factors\n",
    "       for i in range(2,num):\n",
    "           if (num % i) == 0:break\n",
    "       else:\n",
    "           isPrime = 1\n",
    "           \n",
    "    else:\n",
    "       isPrime = 0\n",
    "    return isPrime"
   ]
  },
  {
   "cell_type": "code",
   "execution_count": 24,
   "metadata": {
    "zanadu": {
     "code_type": ""
    }
   },
   "outputs": [
    {
     "data": {
      "image/png": "[encoded data removed]",
      "text/plain": [
       "<Figure size 288x288 with 1 Axes>"
      ]
     },
     "metadata": {
      "needs_background": "light"
     },
     "output_type": "display_data"
    }
   ],
   "source": [
    "n = 2\n",
    "N = 10**(2*n)+1\n",
    "Nn = 10**n\n",
    "xx = np.arange(1, N)\n",
    "yy = np.array([isPrime(x) for x in xx])\n",
    "yy = np.reshape(yy, (Nn, Nn))\n",
    "#plt.figure(figsize=(20,10))\n",
    "plt.matshow(yy, cmap='hot');\n",
    "plt.title(\"Prime number distribution\")\n",
    "plt.show()"
   ]
  },
  {
   "cell_type": "markdown",
   "metadata": {
    "zanadu": {}
   },
   "source": [
    "## Loops"
   ]
  },
  {
   "cell_type": "markdown",
   "metadata": {
    "zanadu": {}
   },
   "source": [
    "The for loop is one of the fundamental operation in programming. In the following example, the loop is over an array."
   ]
  },
  {
   "cell_type": "code",
   "execution_count": 48,
   "metadata": {
    "zanadu": {
     "code_type": ""
    }
   },
   "outputs": [
    {
     "name": "stdout",
     "output_type": "stream",
     "text": [
      "Loop number 0\n",
      "Loop number 1\n",
      "Loop number 2\n",
      "Loop number 3\n",
      "Loop number 4\n",
      "Loop number 5\n",
      "Loop number 6\n",
      "Loop number 7\n",
      "Loop number 8\n",
      "Loop number 9\n",
      "-------\n",
      "Note that it always starts at 0!!!\n"
     ]
    }
   ],
   "source": [
    "for i in range(10): \n",
    "    print(\"Loop number\", i)\n",
    "print(\"-------\")\n",
    "print(\"Note that it always starts at 0!!!\")"
   ]
  },
  {
   "cell_type": "markdown",
   "metadata": {
    "zanadu": {}
   },
   "source": [
    "But a loop can be over all (or some) elements of a list:"
   ]
  },
  {
   "cell_type": "code",
   "execution_count": 50,
   "metadata": {
    "zanadu": {
     "code_type": ""
    }
   },
   "outputs": [
    {
     "name": "stdout",
     "output_type": "stream",
     "text": [
      "<class 'list'>\n",
      "<class 'list'>\n",
      "Homer :  71.67937637808376\n",
      "Marge :  35.90232818160224\n",
      "Bart :  43.7362495146117\n",
      "Lisa :  89.804857520488\n",
      "Maggie :  97.24090699834584\n",
      "GrandPa :  44.25036767640649\n",
      "Burns :  65.71077258543792\n",
      "Ned :  62.46368940196215\n",
      "Santa :  75.29747959565552\n",
      "Waylon :  49.662402113852835\n",
      "Barney :  58.40457340813865\n",
      "Kent :  57.205418455565706\n",
      "Rodd :  75.08952260451252\n",
      "Todd :  53.98035916935881\n",
      "Apu :  92.6173968380941\n",
      "Seymour :  44.52776220602748\n",
      "Wiggum :  70.78399870791984\n",
      "Willie :  95.58846521005543\n",
      "Hans :  87.89531428644683\n",
      "Moe :  51.15682173797995\n"
     ]
    }
   ],
   "source": [
    "n = 20\n",
    "names = [\"Homer\", \"Marge\", \"Bart\", \"Lisa\", \"Maggie\", \"GrandPa\", \"Burns\", \"Ned\", \"Santa\", \"Waylon\", \"Barney\", \"Kent\", \"Rodd\", \"Todd\", \"Apu\", \"Seymour\", \"Wiggum\", \"Willie\", \"Hans\", \"Moe\"]\n",
    "studentMarks = [[names[i], 30.+70.*np.random.rand()] for i in range(n)]\n",
    "print(type(names))\n",
    "print(type(studentMarks))\n",
    "\n",
    "for s in studentMarks:\n",
    "    print(s[0], \": \", s[1])"
   ]
  },
  {
   "cell_type": "markdown",
   "metadata": {
    "zanadu": {}
   },
   "source": [
    "#### Computation time?"
   ]
  },
  {
   "cell_type": "code",
   "execution_count": 51,
   "metadata": {
    "zanadu": {
     "code_type": ""
    }
   },
   "outputs": [
    {
     "name": "stdout",
     "output_type": "stream",
     "text": [
      "269 µs ± 24.6 µs per loop (mean ± std. dev. of 7 runs, 1000 loops each)\n",
      "21.9 µs ± 2.82 µs per loop (mean ± std. dev. of 7 runs, 10000 loops each)\n",
      "2.03 ms ± 136 µs per loop (mean ± std. dev. of 7 runs, 100 loops each)\n"
     ]
    }
   ],
   "source": [
    "import time\n",
    "def f(xx):\n",
    "    res = 0\n",
    "    for x in xx:\n",
    "        res = res+x\n",
    "    return res\n",
    "\n",
    "%timeit xx = np.arange(100000)\n",
    "%timeit np.sum(xx)\n",
    "%timeit f(xx)"
   ]
  },
  {
   "cell_type": "markdown",
   "metadata": {
    "zanadu": {}
   },
   "source": [
    "## The if/else statement"
   ]
  },
  {
   "cell_type": "code",
   "execution_count": 52,
   "metadata": {
    "zanadu": {
     "code_type": ""
    }
   },
   "outputs": [
    {
     "name": "stdout",
     "output_type": "stream",
     "text": [
      "Homer :  71.67937637808376 False\n",
      "Marge :  35.90232818160224 True\n",
      "Bart :  43.7362495146117 True\n",
      "Lisa :  89.804857520488 False\n",
      "Maggie :  97.24090699834584 False\n",
      "GrandPa :  44.25036767640649 True\n",
      "Burns :  65.71077258543792 False\n",
      "Ned :  62.46368940196215 False\n",
      "Santa :  75.29747959565552 False\n",
      "Waylon :  49.662402113852835 True\n",
      "Barney :  58.40457340813865 False\n",
      "Kent :  57.205418455565706 False\n",
      "Rodd :  75.08952260451252 False\n",
      "Todd :  53.98035916935881 False\n",
      "Apu :  92.6173968380941 False\n",
      "Seymour :  44.52776220602748 True\n",
      "Wiggum :  70.78399870791984 False\n",
      "Willie :  95.58846521005543 False\n",
      "Hans :  87.89531428644683 False\n",
      "Moe :  51.15682173797995 False\n"
     ]
    }
   ],
   "source": [
    "fails = []\n",
    "for s in studentMarks:\n",
    "    if s[1]<50:\n",
    "        fails.append(1)\n",
    "    else:\n",
    "        fails.append(0)\n",
    "    print(s[0], \": \", s[1], True==fails[-1])"
   ]
  },
  {
   "cell_type": "code",
   "execution_count": 53,
   "metadata": {
    "zanadu": {
     "code_type": ""
    }
   },
   "outputs": [
    {
     "name": "stdout",
     "output_type": "stream",
     "text": [
      "-----------------------\n",
      "Number of Fails:  5\n",
      "Number of Pass:  15\n",
      "Highest mark:  97.24090699834584 achieved by Maggie\n",
      "Lowest mark:  35.90232818160224 achieved by Marge\n",
      "Average mark:  66.14990312952729\n",
      "Median mark:  64.08723099370003\n"
     ]
    }
   ],
   "source": [
    "print(\"-----------------------\")\n",
    "print(\"Number of Fails: \", np.sum(fails))\n",
    "print(\"Number of Pass: \", len(fails) - np.sum(fails))\n",
    "print(\"Highest mark: \", np.max([s[1] for s in studentMarks]), \"achieved by\", names[np.argmax([s[1] for s in studentMarks])])\n",
    "print(\"Lowest mark: \", np.min([s[1] for s in studentMarks]), \"achieved by\", names[np.argmin([s[1] for s in studentMarks])])\n",
    "print(\"Average mark: \", np.mean([s[1] for s in studentMarks]))\n",
    "print(\"Median mark: \", np.median([s[1] for s in studentMarks]))"
   ]
  },
  {
   "cell_type": "markdown",
   "metadata": {
    "zanadu": {}
   },
   "source": [
    "## Defining functions"
   ]
  },
  {
   "cell_type": "markdown",
   "metadata": {
    "zanadu": {}
   },
   "source": [
    "Let us check the following formula, valid for any integer $n$:\n",
    "$$\n",
    "\\sum_{i=1}^{n} i  = \\frac{n(n+1)}{2}\n",
    "$$"
   ]
  },
  {
   "cell_type": "code",
   "execution_count": 54,
   "metadata": {
    "zanadu": {
     "code_type": ""
    }
   },
   "outputs": [],
   "source": [
    "def sumInteg(n):\n",
    "    res = 0\n",
    "    for i in range(1, n): \n",
    "        res+=i\n",
    "    return res\n",
    "\n",
    "def sumInteg_Formula(n):\n",
    "    return n*(n+1)/2."
   ]
  },
  {
   "cell_type": "code",
   "execution_count": 56,
   "metadata": {
    "zanadu": {
     "code_type": ""
    }
   },
   "outputs": [
    {
     "name": "stdout",
     "output_type": "stream",
     "text": [
      "Sum: 45\n",
      "Theoretical: 55.0\n",
      "??????????????????\n"
     ]
    }
   ],
   "source": [
    "n = 10\n",
    "print(\"Sum:\", sumInteg(n))\n",
    "print(\"Theoretical:\", sumInteg_Formula(n))\n",
    "print(\"??????????????????\")"
   ]
  },
  {
   "cell_type": "markdown",
   "metadata": {
    "zanadu": {}
   },
   "source": [
    "A function can of course take several arguments, and can also take keyword arguments.\n",
    "While the former are compulsory, the latter do not need to be entered when calling the function."
   ]
  },
  {
   "cell_type": "code",
   "execution_count": 57,
   "metadata": {
    "zanadu": {
     "code_type": ""
    }
   },
   "outputs": [
    {
     "name": "stdout",
     "output_type": "stream",
     "text": [
      "1\n",
      "2\n",
      "3\n",
      "3\n"
     ]
    }
   ],
   "source": [
    "def myFunction(x, a=1, b=0):\n",
    "    return a*x+b\n",
    "#\n",
    "print(myFunction(1))\n",
    "print(myFunction(1, 2))\n",
    "print(myFunction(1, 1, 2))\n",
    "print(myFunction(1,b=2))"
   ]
  },
  {
   "cell_type": "markdown",
   "metadata": {
    "zanadu": {}
   },
   "source": [
    "#### A financial example"
   ]
  },
  {
   "cell_type": "markdown",
   "metadata": {
    "zanadu": {}
   },
   "source": [
    "The Black–Scholes model is one of the cornerstone of mathematical finance.\n",
    "The value of a European Call option for a non-dividend-paying stock $(S_t)_{t\\geq 0}$ in this model is given, at time $t\\in [0,T]$, by\n",
    "$$\n",
    "C(S_t, t, K, T) := \\mathrm{e}^{-r(T-t)}\\mathbb{E}\\left[\\max(S_{T} - K, 0)\\right]\n",
    " = S_t\\left(\\mathcal{N}(d_{+}) - \\mathrm{e}^{k}\\mathcal{N}(d_{-})\\right),\n",
    "$$\n",
    "where\n",
    "$$\n",
    "d_{\\pm} = \\frac{-k}{\\sigma\\sqrt{T - t}} \\pm\\frac{\\sigma\\sqrt{T-t}}{2}.\n",
    "$$\n",
    "Correspondingly, the price of a corresponding put option based on put–call parity is:\n",
    "$$\n",
    "P(S_t, t, K, T) := \\mathrm{e}^{-r(T-t)}\\mathbb{E}\\left[\\max(K-S_{T}, 0)\\right]\n",
    "          = S_t\\left(\\mathrm{e}^{k}\\mathcal{N}(-d_{-}) - \\mathcal{N}(-d_{+})\\right).\n",
    "$$\n",
    "For both, as :<br>\n",
    "$k := \\frac{K}{S_t\\mathrm{e}^{r(T - t)}}$ is called the log-forward moneyness,<br>\n",
    "$\\mathcal{N}(\\cdot)$ is the cumulative distribution function of the standard normal distribution,<br>\n",
    "$T - t$ is the time to maturity,<br>\n",
    "$S_t$ is the spot price of the underlying asset,<br>\n",
    "$K$ is the strike price,<br>\n",
    "$r$ is the risk free rate (annual rate, expressed in terms of continuous compounding),<br>\n",
    "$\\sigma$ is the volatility  of returns of the underlying asset.\n"
   ]
  },
  {
   "cell_type": "markdown",
   "metadata": {
    "zanadu": {}
   },
   "source": [
    "Exercise: By checking the payoffs at maturity, and using the fact that $\\mathbb{E}_{t}(S_T) = S_t \\mathrm{e}^{r(T-t)}$, \n",
    "show that the following Put-Call parity formula always holds:\n",
    "$$\n",
    "C(S_t,t) - P(S_t,t) = S_t -K\\mathrm{e}^{-r(T-t)}.\n",
    "$$"
   ]
  },
  {
   "cell_type": "code",
   "execution_count": 60,
   "metadata": {
    "zanadu": {
     "code_type": ""
    }
   },
   "outputs": [],
   "source": [
    "from scipy.stats import norm\n",
    "\n",
    "def BSCall(S, K, r, sigma, t, T):\n",
    "    '''\n",
    "    #Inputs:\n",
    "    S: initial stock price\n",
    "    K: strike\n",
    "    r: risk-free rate\n",
    "    sigma: instantaneous volatility\n",
    "    T: time to maturity\n",
    "    #Output:\n",
    "    Black-Scholes Call price\n",
    "    '''\n",
    "    tau = T-t\n",
    "    sigmtau = sigma*np.sqrt(T)\n",
    "    k = np.log(K/S)  - r*tau\n",
    "    dp = -k/sigmtau + 0.5*sigmtau\n",
    "    dm = dp - sigmtau\n",
    "    return S*(norm.cdf(dp) - np.exp(k)*norm.cdf(dm))\n",
    "\n",
    "def BSPut(S, K, r, sigma, t, T):\n",
    "    '''\n",
    "    #Inputs: same as black_scholes_call\n",
    "    #Output:\n",
    "    Black-Scholes Put price\n",
    "    '''\n",
    "    return BSCall(S,K,r,sigma,t,T) - S + K*np.exp(-r*(T-t))"
   ]
  },
  {
   "cell_type": "code",
   "execution_count": 61,
   "metadata": {
    "zanadu": {
     "code_type": ""
    }
   },
   "outputs": [
    {
     "name": "stdout",
     "output_type": "stream",
     "text": [
      "Black-Scholes price of the Call: 9.925053717274446\n"
     ]
    }
   ],
   "source": [
    "S, K, r, sigma, t, T = 100., 100., 0.05, 0.2, 0.2, 1.\n",
    "print(\"Black-Scholes price of the Call:\", BSCall(S,K,r,sigma,t,T))"
   ]
  },
  {
   "cell_type": "code",
   "execution_count": 62,
   "metadata": {
    "zanadu": {
     "code_type": "",
     "is_hidden": true
    }
   },
   "outputs": [
    {
     "data": {
      "image/png": "[encoded data removed]",
      "text/plain": [
       "<Figure size 864x288 with 2 Axes>"
      ]
     },
     "metadata": {
      "needs_background": "light"
     },
     "output_type": "display_data"
    }
   ],
   "source": [
    "TT = np.linspace(0.1,5,20)\n",
    "strikes = np.linspace(40., 180, 50)\n",
    "fig, axs = plt.subplots(ncols=2, figsize=(12, 4))\n",
    "plt.subplot(1,2,1)\n",
    "plt.plot(strikes,BSCall(S,strikes,r,sigma,t,T),label='Call prices')\n",
    "plt.plot(strikes,BSPut(S,strikes,r,sigma,t,T),label='Put prices')\n",
    "plt.legend(loc='upper left')\n",
    "plt.title('Black-Scholes Option prices',y=1.05,fontsize=12)\n",
    "plt.xlabel('Strike')\n",
    "plt.ylabel('Price')\n",
    "plt.subplot(1,2,2)\n",
    "plt.plot(TT,BSCall(S,K,r,sigma,t,TT)-BSPut(S,K,r,sigma,t,TT), 'x', label='Put prices')\n",
    "plt.plot(TT,S-K*np.exp(-r*(TT-t)), 'k-', label='Put prices')\n",
    "plt.legend(loc='upper left')\n",
    "plt.title('Put-Call parity consistency',y=1.05,fontsize=12)\n",
    "plt.xlabel('Maturity')\n",
    "plt.ylabel('Difference')\n",
    "plt.show()"
   ]
  },
  {
   "cell_type": "code",
   "execution_count": 63,
   "metadata": {
    "zanadu": {
     "code_type": "",
     "is_hidden": true
    }
   },
   "outputs": [
    {
     "data": {
      "image/png": "[encoded data removed]",
      "text/plain": [
       "<Figure size 864x288 with 1 Axes>"
      ]
     },
     "metadata": {
      "needs_background": "light"
     },
     "output_type": "display_data"
    }
   ],
   "source": [
    "TT = np.linspace(0.01,10.,10)\n",
    "strikes = np.linspace(40., 180, 50)\n",
    "fig, axs = plt.subplots(ncols=1,figsize=(12, 4))\n",
    "for T in TT:\n",
    "    plt.plot(strikes,BSCall(S,strikes,r,sigma,t,T),label='T = %.2f' %T)\n",
    "\n",
    "plt.legend(loc='upper center', bbox_to_anchor=(0.5, -0.05),fancybox=True, shadow=True, ncol=5)\n",
    "plt.title('Black-Scholes Call Option for different maturities',y=1.05,fontsize=12)\n",
    "plt.xlabel('Strike')\n",
    "plt.ylabel('Price')\n",
    "plt.show()"
   ]
  },
  {
   "cell_type": "markdown",
   "metadata": {
    "zanadu": {}
   },
   "source": [
    "#### Vectorisation of a function"
   ]
  },
  {
   "cell_type": "markdown",
   "metadata": {
    "zanadu": {}
   },
   "source": [
    "Let us now try to apply a function on a sequence of numbers."
   ]
  },
  {
   "cell_type": "code",
   "execution_count": 64,
   "metadata": {
    "zanadu": {
     "code_type": ""
    }
   },
   "outputs": [],
   "source": [
    "def f(x):\n",
    "    if x < 0:\n",
    "        f = np.cos(x)\n",
    "    else:\n",
    "        f = np.exp(-x)\n",
    "    return f"
   ]
  },
  {
   "cell_type": "code",
   "execution_count": 65,
   "metadata": {
    "zanadu": {
     "code_type": ""
    }
   },
   "outputs": [
    {
     "name": "stdout",
     "output_type": "stream",
     "text": [
      "[0.64032749 0.59465387 0.39337715 0.59611805 0.57628528 0.21932447\n",
      " 0.01032274 0.42083675 0.21897974 0.93745119]\n",
      "[0.80190014 0.82834246 0.92361983 0.8275213  0.83849263 0.97604465\n",
      " 0.99994672 0.91274743 0.97611959 0.59184442]\n"
     ]
    }
   ],
   "source": [
    "xx = np.random.rand(10)\n",
    "print(xx)\n",
    "print(np.cos(xx))"
   ]
  },
  {
   "cell_type": "code",
   "execution_count": 66,
   "metadata": {
    "zanadu": {
     "code_type": ""
    }
   },
   "outputs": [
    {
     "ename": "ValueError",
     "evalue": "The truth value of an array with more than one element is ambiguous. Use a.any() or a.all()",
     "output_type": "error",
     "traceback": [
      "\u001b[1;31m---------------------------------------------------------------------------\u001b[0m",
      "\u001b[1;31mValueError\u001b[0m                                Traceback (most recent call last)",
      "\u001b[1;32m<ipython-input-66-e6f20afcf22b>\u001b[0m in \u001b[0;36m<module>\u001b[1;34m\u001b[0m\n\u001b[1;32m----> 1\u001b[1;33m \u001b[0mprint\u001b[0m\u001b[1;33m(\u001b[0m\u001b[0mf\u001b[0m\u001b[1;33m(\u001b[0m\u001b[0mxx\u001b[0m\u001b[1;33m)\u001b[0m\u001b[1;33m)\u001b[0m\u001b[1;33m\u001b[0m\u001b[1;33m\u001b[0m\u001b[0m\n\u001b[0m",
      "\u001b[1;32m<ipython-input-64-95232d06df98>\u001b[0m in \u001b[0;36mf\u001b[1;34m(x)\u001b[0m\n\u001b[0;32m      1\u001b[0m \u001b[1;32mdef\u001b[0m \u001b[0mf\u001b[0m\u001b[1;33m(\u001b[0m\u001b[0mx\u001b[0m\u001b[1;33m)\u001b[0m\u001b[1;33m:\u001b[0m\u001b[1;33m\u001b[0m\u001b[1;33m\u001b[0m\u001b[0m\n\u001b[1;32m----> 2\u001b[1;33m     \u001b[1;32mif\u001b[0m \u001b[0mx\u001b[0m \u001b[1;33m<\u001b[0m \u001b[1;36m0\u001b[0m\u001b[1;33m:\u001b[0m\u001b[1;33m\u001b[0m\u001b[1;33m\u001b[0m\u001b[0m\n\u001b[0m\u001b[0;32m      3\u001b[0m         \u001b[0mf\u001b[0m \u001b[1;33m=\u001b[0m \u001b[0mnp\u001b[0m\u001b[1;33m.\u001b[0m\u001b[0mcos\u001b[0m\u001b[1;33m(\u001b[0m\u001b[0mx\u001b[0m\u001b[1;33m)\u001b[0m\u001b[1;33m\u001b[0m\u001b[1;33m\u001b[0m\u001b[0m\n\u001b[0;32m      4\u001b[0m     \u001b[1;32melse\u001b[0m\u001b[1;33m:\u001b[0m\u001b[1;33m\u001b[0m\u001b[1;33m\u001b[0m\u001b[0m\n\u001b[0;32m      5\u001b[0m         \u001b[0mf\u001b[0m \u001b[1;33m=\u001b[0m \u001b[0mnp\u001b[0m\u001b[1;33m.\u001b[0m\u001b[0mexp\u001b[0m\u001b[1;33m(\u001b[0m\u001b[1;33m-\u001b[0m\u001b[0mx\u001b[0m\u001b[1;33m)\u001b[0m\u001b[1;33m\u001b[0m\u001b[1;33m\u001b[0m\u001b[0m\n",
      "\u001b[1;31mValueError\u001b[0m: The truth value of an array with more than one element is ambiguous. Use a.any() or a.all()"
     ]
    }
   ],
   "source": [
    "print(f(xx))"
   ]
  },
  {
   "cell_type": "code",
   "execution_count": 67,
   "metadata": {
    "zanadu": {
     "code_type": ""
    }
   },
   "outputs": [
    {
     "data": {
      "image/png": "[encoded data removed]",
      "text/plain": [
       "<Figure size 432x288 with 1 Axes>"
      ]
     },
     "metadata": {
      "needs_background": "light"
     },
     "output_type": "display_data"
    }
   ],
   "source": [
    "fvec = np.vectorize(f)\n",
    "xx = np.random.rand(100)\n",
    "yy = fvec(xx)\n",
    "plt.plot(xx, yy, 'o')\n",
    "plt.plot(xx, np.cos(xx), 'o')\n",
    "plt.show()"
   ]
  },
  {
   "cell_type": "markdown",
   "metadata": {
    "zanadu": {}
   },
   "source": [
    "Vectorisation of a function works by default for Python-defined functions, but not for user-defined ones."
   ]
  },
  {
   "cell_type": "markdown",
   "metadata": {
    "zanadu": {}
   },
   "source": [
    "#### Using a function as the argument of another function"
   ]
  },
  {
   "cell_type": "code",
   "execution_count": 69,
   "metadata": {
    "zanadu": {
     "code_type": ""
    }
   },
   "outputs": [],
   "source": [
    "def newFunc(g, x):\n",
    "    return g(x) ** 2"
   ]
  },
  {
   "cell_type": "code",
   "execution_count": 70,
   "metadata": {
    "zanadu": {
     "code_type": ""
    }
   },
   "outputs": [
    {
     "name": "stdout",
     "output_type": "stream",
     "text": [
      "Calling a numpy function:  0.17317818956819406\n",
      "Calling a function defined previously:  0.018315638888734182\n"
     ]
    }
   ],
   "source": [
    "print(\"Calling a numpy function: \", newFunc(np.cos, 2))\n",
    "print(\"Calling a function defined previously: \", newFunc(f, 2))"
   ]
  },
  {
   "cell_type": "markdown",
   "metadata": {
    "zanadu": {}
   },
   "source": [
    "#### Zeros of a function"
   ]
  },
  {
   "cell_type": "code",
   "execution_count": 71,
   "metadata": {
    "zanadu": {
     "code_type": ""
    }
   },
   "outputs": [
    {
     "name": "stdout",
     "output_type": "stream",
     "text": [
      "[1.]\n"
     ]
    }
   ],
   "source": [
    "from scipy.optimize import fsolve\n",
    "def f(x):\n",
    "    return x*x-1.\n",
    "\n",
    "print(fsolve(f, 1))"
   ]
  },
  {
   "cell_type": "markdown",
   "metadata": {
    "zanadu": {}
   },
   "source": [
    "#### Integration"
   ]
  },
  {
   "cell_type": "code",
   "execution_count": 72,
   "metadata": {
    "zanadu": {
     "code_type": ""
    }
   },
   "outputs": [],
   "source": [
    "from scipy.integrate import quad"
   ]
  },
  {
   "cell_type": "code",
   "execution_count": 73,
   "metadata": {
    "zanadu": {
     "code_type": ""
    }
   },
   "outputs": [],
   "source": [
    "def f(x):\n",
    "    return np.exp(-x)\n",
    "\n",
    "def g(x):\n",
    "    return np.exp(-x) / x"
   ]
  },
  {
   "cell_type": "markdown",
   "metadata": {
    "zanadu": {}
   },
   "source": [
    "We wish to integrate both functions on the interval [1, 5].\n",
    "First Step: always plot the functions to be studied."
   ]
  },
  {
   "cell_type": "code",
   "execution_count": 74,
   "metadata": {
    "zanadu": {
     "code_type": ""
    }
   },
   "outputs": [
    {
     "data": {
      "image/png": "[encoded data removed]",
      "text/plain": [
       "<Figure size 432x288 with 1 Axes>"
      ]
     },
     "metadata": {
      "needs_background": "light"
     },
     "output_type": "display_data"
    }
   ],
   "source": [
    "xMin, xMax = 1., 5.\n",
    "xx = np.linspace(xMin, xMax, 100)\n",
    "plt.figure(figsize=(6,4))\n",
    "plt.plot(xx, [f(x) for x in xx], 'b', label='f')\n",
    "plt.plot(xx, [g(x) for x in xx], 'r', label='g')\n",
    "plt.legend(loc='best')\n",
    "plt.show()"
   ]
  },
  {
   "cell_type": "code",
   "execution_count": 75,
   "metadata": {
    "zanadu": {
     "code_type": ""
    }
   },
   "outputs": [
    {
     "name": "stdout",
     "output_type": "stream",
     "text": [
      "Numerical integration for f: (0.3611414941723568, 4.009476019776823e-15)\n",
      "Analytic integration for f: 0.36114149417235686\n",
      "numerical integration for g: (0.21823563880424607, 5.999095875237938e-09)\n",
      "wolframalpha result: for g 0.218236\n"
     ]
    }
   ],
   "source": [
    "print('Numerical integration for f:', quad(f, 1., 5.))\n",
    "print('Analytic integration for f:', -np.exp(-5.) + np.exp(-1.))\n",
    "\n",
    "print('numerical integration for g:', quad(g, 1., 5.))\n",
    "print('wolframalpha result: for g', 0.218236)"
   ]
  },
  {
   "cell_type": "markdown",
   "metadata": {
    "zanadu": {}
   },
   "source": [
    "# Plotting in Python"
   ]
  },
  {
   "cell_type": "markdown",
   "metadata": {
    "zanadu": {}
   },
   "source": [
    "Fundamentally, Python plots arrays."
   ]
  },
  {
   "cell_type": "markdown",
   "metadata": {
    "zanadu": {}
   },
   "source": [
    "Let us assume that $f\\in C(\\mathbb{R})$, such that $f:x\\mapsto x^2$. The following command shows the corresponding plot"
   ]
  },
  {
   "cell_type": "code",
   "execution_count": 78,
   "metadata": {
    "zanadu": {
     "code_type": ""
    }
   },
   "outputs": [
    {
     "data": {
      "image/png": "[encoded data removed]",
      "text/plain": [
       "<Figure size 432x288 with 1 Axes>"
      ]
     },
     "metadata": {
      "needs_background": "light"
     },
     "output_type": "display_data"
    }
   ],
   "source": [
    "import matplotlib.pyplot as plt\n",
    "a = np.arange(5)\n",
    "fig,ax = plt.subplots(ncols=1, figsize=(6, 4))\n",
    "plt.plot(a,a*a,label='My function')\n",
    "plt.legend(loc='best')\n",
    "plt.title('Plot of the function $f(x):=x^2$',y=1.02,fontsize=14)\n",
    "plt.xlabel('Maturity')\n",
    "plt.ylabel('Price')\n",
    "plt.show()\n",
    "\n",
    "#Saving results in image files\n",
    "#fig.savefig('my_graph.eps', format='eps', dpi=1000)\n",
    "#fig.savefig('my_graph.png', format='png',dpi=400)"
   ]
  },
  {
   "cell_type": "markdown",
   "metadata": {
    "zanadu": {}
   },
   "source": [
    "We shall later introduce Seaborn, a more advanced package for plotting."
   ]
  },
  {
   "cell_type": "markdown",
   "metadata": {
    "zanadu": {}
   },
   "source": [
    "# Treating Bugs"
   ]
  },
  {
   "cell_type": "markdown",
   "metadata": {
    "zanadu": {}
   },
   "source": [
    "The best way to learn how to resolve errors is to practice. There are ways to handle bugs, exceptions and errors, though, but we shall not see them here."
   ]
  },
  {
   "cell_type": "markdown",
   "metadata": {},
   "source": [
    "For more involved Python coding, see also https://www.spyder-ide.org/"
   ]
  },
  {
   "cell_type": "code",
   "execution_count": null,
   "metadata": {},
   "outputs": [],
   "source": []
  }
 ],
 "metadata": {
  "kernelspec": {
   "display_name": "Python 3",
   "language": "python",
   "name": "python3"
  },
  "language_info": {
   "codemirror_mode": {
    "name": "ipython",
    "version": 3
   },
   "file_extension": ".py",
   "mimetype": "text/x-python",
   "name": "python",
   "nbconvert_exporter": "python",
   "pygments_lexer": "ipython3",
   "version": "3.7.6"
  },
  "zanadu": {
   "authors": [
    "Antoine Jacquier"
   ],
   "bibliography_data": {},
   "category": "1",
   "clearance": "Internal",
   "group_name": "ImperialMScMathFin",
   "md5": "2121bebe96f4e62db725bd633b355c4a",
   "notebook_id": "B20B0CCC-FB14-4BC5-9BDB-82C8E4FD69DF",
   "python_name": null,
   "reviewer_id": "B81D4EC4-269D-42B3-9975-85BC42EE5712",
   "status": "Approved"
  }
 },
 "nbformat": 4,
 "nbformat_minor": 1
}
