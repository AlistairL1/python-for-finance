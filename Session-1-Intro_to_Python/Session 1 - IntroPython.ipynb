{
 "cells": [
  {
   "cell_type": "markdown",
   "metadata": {
    "zanadu": {}
   },
   "source": [
    "# **INTRODUCTION TO PYTHON**\n",
    "## **MSc in Mathematics and Finance 2024-2025**\n",
    "---\n",
    "<img src=\"Imperial_logo.png\" align = \"left\" width=250>\n",
    " <br><br><br> "
   ]
  },
  {
   "cell_type": "markdown",
   "metadata": {
    "tags": [],
    "zanadu": {}
   },
   "source": [
    "# Why Python?"
   ]
  },
  {
   "cell_type": "markdown",
   "metadata": {
    "zanadu": {}
   },
   "source": [
    "One of the most in-demand programming languages in the financial industry: https://news.efinancialcareers.com/uk-en/137065/the-six-hottest-programming-languages-to-know-in-banking-technology<br>\n",
    "See more details in the PDF file<br>\n",
    "\n",
    "Nice article on why Python became the most popular choice: https://www.welcometothejungle.com/en/articles/btc-python-popular\n"
   ]
  },
  {
   "cell_type": "markdown",
   "metadata": {},
   "source": [
    "* easy to read\r\n",
    "* open source\r\n",
    "* portable (cross-platform language)\r\n",
    "* wide range of available libraries"
   ]
  },
  {
   "cell_type": "markdown",
   "metadata": {},
   "source": [
    "# PYTHON INSTALL"
   ]
  },
  {
   "cell_type": "markdown",
   "metadata": {
    "zanadu": {}
   },
   "source": [
    "## Installing Python locally"
   ]
  },
  {
   "cell_type": "markdown",
   "metadata": {
    "zanadu": {}
   },
   "source": [
    "The easiest way to install Jupyter notebooks is through the license-free Anaconda software available\n",
    "at\n",
    "\n",
    "https://docs.anaconda.com/anaconda/install/\n",
    "\n",
    "(you will find versions for Windows, MAC and Linux).\n"
   ]
  },
  {
   "cell_type": "markdown",
   "metadata": {},
   "source": [
    "## Launching a Jupyter Notebook\n",
    "\n",
    "\n",
    "Once the package is installed you can easily access the Jupyter notebook by typing `jupyter-lab`\n",
    "either in the anaconda prompt or in the OS command line."
   ]
  },
  {
   "cell_type": "markdown",
   "metadata": {},
   "source": [
    "**Note:** other `python` IDEs (integrated development environments) are possible, in particular when managing large projects. \n",
    "The most common ones are\n",
    "- `spyder`: https://www.spyder-ide.org/\n",
    "- `pycharm`: https://www.jetbrains.com/pycharm/\n",
    "- `pydev`: https://www.pydev.org/"
   ]
  },
  {
   "cell_type": "markdown",
   "metadata": {},
   "source": [
    "## Installing Python packages "
   ]
  },
  {
   "cell_type": "markdown",
   "metadata": {},
   "source": [
    "One of the benefits of using Python is that the developer community is very active. This means that before implementing an algorithmic yourself, it is worth checking whether some library is freely available and performs the same task.\n",
    "\n",
    "*NB: note however that online libraries may not have been checked in depth....*\n",
    "\n",
    "PIP (Pip Installs Packages) is the *de facto* tool to install such libraries.\n",
    "\n",
    "For instance `yfinance` is a popular library to obtain financial data from Yahoo finance, which one can install by simply typing `pip install yfinance` in the OS command line or anaconda prompt."
   ]
  },
  {
   "attachments": {},
   "cell_type": "markdown",
   "metadata": {},
   "source": [
    "<img src=\"pipInstallPrompt.png\" align = \"left\" width=600 height=200>\n"
   ]
  },
  {
   "cell_type": "markdown",
   "metadata": {},
   "source": [
    "## Creating a Python based Jupyter Notebook"
   ]
  },
  {
   "cell_type": "markdown",
   "metadata": {},
   "source": [
    "Now that we have installed Anaconda and some libraries, let us create a `jupyter` notebook running on `python`. \n",
    "\n",
    "To do so, after executing `jupyter-lab`, your web browser will launch itself.\n",
    "To create a new notebook, click the blue \"+\" box in the top-left corner, and you should obtain the following:"
   ]
  },
  {
   "attachments": {},
   "cell_type": "markdown",
   "metadata": {},
   "source": [
    "<img src=\"jupyterLauncher.png\" align = \"left\" width=600>"
   ]
  },
  {
   "cell_type": "markdown",
   "metadata": {},
   "source": [
    "Next, click on the `Python 3` notebook"
   ]
  },
  {
   "cell_type": "markdown",
   "metadata": {
    "zanadu": {}
   },
   "source": [
    "### Installing other programming languages to run your jupyter notebooks"
   ]
  },
  {
   "cell_type": "markdown",
   "metadata": {
    "zanadu": {}
   },
   "source": [
    "A nice feature of jupyter notebooks is that these are language agnostic, meaning that they can execute any programming language. It is likely that during these academic year you might need to use other programming languages such as R. You can easily to this by running`conda install -c r r-irkernel` on your OS command line or Anaconda prompt. Once succesfully installed, you will be able to see `R` under the `New` tab when you launch the jupyter notebook."
   ]
  },
  {
   "cell_type": "markdown",
   "metadata": {
    "tags": [],
    "zanadu": {}
   },
   "source": [
    "# Introduction to IPython notebook"
   ]
  },
  {
   "cell_type": "markdown",
   "metadata": {},
   "source": [
    "### Cells"
   ]
  },
  {
   "cell_type": "markdown",
   "metadata": {},
   "source": [
    "A `Cell` is the building block of jupyter notebooks. Each notebook consists of multiple cells and you can add cells clicking on the `Insert` tab.\n",
    "\n",
    "**Tip:** You can insert a cell above typing `A` and a cell below typing `B`.\n",
    "\n",
    "Deleting  a Cell is also very easy, you just have to click the `Edit` tab and select `Delete Cells` (shortcut: `X`)."
   ]
  },
  {
   "cell_type": "markdown",
   "metadata": {
    "jp-MarkdownHeadingCollapsed": true
   },
   "source": [
    "### Types of Cells"
   ]
  },
  {
   "cell_type": "markdown",
   "metadata": {},
   "source": [
    "In Jupyter notebooks, there are fundamentally two different types of cells: `Markdown` and  `Code` (see below)\n",
    "\n",
    "`Markdown` is used to write text and mathematical formulas such as:  $$\n",
    "\\frac{1}{\\sqrt{2\\pi}}\\int_{\\mathbb{R}}\\exp\\left(-\\frac{x^2}{2}\\right)\\mathrm{d}x = \\cdots\n",
    "$$\n",
    "### **Remark:**\n",
    "\n",
    "Whenever you submit a coursework or prototype some code during your internship, it is extremely important to use  \n",
    "\n",
    "- `Markdown` cells to comprehensively describe what you are actually doing. When someone else reads the notebook it will make it much easier to understand.\n",
    "\n",
    "-  `Code` cells to execute code.\n"
   ]
  },
  {
   "cell_type": "code",
   "execution_count": null,
   "metadata": {
    "zanadu": {
     "code_type": ""
    }
   },
   "outputs": [],
   "source": [
    "print(\"Hello MSc Math Finance.\", \"This is a code cell.\")\n",
    "x = 2\n",
    "print(x**10)"
   ]
  },
  {
   "cell_type": "markdown",
   "metadata": {
    "zanadu": {}
   },
   "source": [
    "## The kernel\n",
    "\n",
    "A session, or a kernel, manages all the code, variables, names,...., within a notebook. The kernel can be restarted anytime if needed should some error occur (see below)"
   ]
  },
  {
   "cell_type": "markdown",
   "metadata": {},
   "source": [
    "## IPython Magic Commands\n",
    "\n",
    "Jupyter notebooks are built on the `IPython` kernel, giving you access to a wide range of powerful `IPython` magic commands, useful for debugging, profiling, switching programming languages, ...\n",
    "\n",
    "See the documentation at https://ipython.readthedocs.io/en/stable/interactive/magics.html\n",
    "\n",
    "**Note:** this is different from `magic` (or `dunder`) methods, essential for classes (which will be covered in the OOP session)."
   ]
  },
  {
   "cell_type": "code",
   "execution_count": null,
   "metadata": {},
   "outputs": [],
   "source": [
    "%lsmagic"
   ]
  },
  {
   "cell_type": "markdown",
   "metadata": {},
   "source": [
    "### Line magic\n",
    "Provide special functionality to a single line of code"
   ]
  },
  {
   "cell_type": "code",
   "execution_count": null,
   "metadata": {},
   "outputs": [],
   "source": [
    "## runs an external file (.py or .ipynb)\n",
    "%run helloFile.py"
   ]
  },
  {
   "cell_type": "code",
   "execution_count": null,
   "metadata": {},
   "outputs": [],
   "source": [
    "## lists all variables currently existing in the global scope\n",
    "%who"
   ]
  },
  {
   "cell_type": "code",
   "execution_count": null,
   "metadata": {
    "scrolled": true
   },
   "outputs": [],
   "source": [
    "## Delete a variable from memory\n",
    "del x"
   ]
  },
  {
   "cell_type": "code",
   "execution_count": null,
   "metadata": {},
   "outputs": [],
   "source": [
    "%who"
   ]
  },
  {
   "cell_type": "code",
   "execution_count": null,
   "metadata": {},
   "outputs": [],
   "source": [
    "%pwd ## returns the current working directory path"
   ]
  },
  {
   "cell_type": "markdown",
   "metadata": {},
   "source": [
    "### Cell magic\n",
    "\n",
    "Allow to modify the behaviour of a code cell.\n",
    "They have the prefix ‘%%’ followed by the command name."
   ]
  },
  {
   "cell_type": "code",
   "execution_count": null,
   "metadata": {},
   "outputs": [],
   "source": [
    "%%html\n",
    "<font size=10 color='blue'>This is a python course</font>"
   ]
  },
  {
   "cell_type": "code",
   "execution_count": null,
   "metadata": {},
   "outputs": [],
   "source": [
    "%%javascript\n",
    "alert(\"This is a python course\")"
   ]
  },
  {
   "cell_type": "code",
   "execution_count": null,
   "metadata": {},
   "outputs": [],
   "source": [
    "%%latex\n",
    "$\\displaystyle \\frac{1}{\\sqrt{2\\pi}}\\int_{-\\infty}^{\\infty}\\exp\\left\\{-\\frac{x^2}{2}\\right\\}\\mathrm{d}x = 1.$"
   ]
  },
  {
   "cell_type": "markdown",
   "metadata": {},
   "source": [
    "### Debugging\r\n",
    "\r\n",
    "- n (next): Execute the next line\r\n",
    "- s (step): Step into a function call\r\n",
    "- c (continue): Continue execution until the next breakpoint or exception\r\n",
    "- p (print): Print the value of an expression\r\n",
    "- q (quit): Quit the debugger"
   ]
  },
  {
   "cell_type": "code",
   "execution_count": null,
   "metadata": {},
   "outputs": [],
   "source": [
    "%pdb\n",
    "def myfunction():\n",
    "    return numpy.random.randint(0, 100)\n",
    "\n",
    "myfunction()"
   ]
  },
  {
   "cell_type": "markdown",
   "metadata": {
    "tags": [],
    "zanadu": {}
   },
   "source": [
    "# Python"
   ]
  },
  {
   "cell_type": "markdown",
   "metadata": {
    "zanadu": {}
   },
   "source": [
    "The main documentation for Python is available at \n",
    "\n",
    "https://docs.python.org/3/\n",
    "\n",
    "A fundamental thing to bear in mind is **indentation**!!!\n",
    "\n",
    "### **Remark:**\n",
    "Keep in mind that different Python versions are released every year. You can find up to Python 3.12 at the time of writting this notebook. However, usually developpers settle at an earlier version to prevent version issues in production environment. In a company it is not straightforward at all to change the version of Python in all the systems as many could break due to versioning. It is important then, to know which version of Python you are currently using. "
   ]
  },
  {
   "cell_type": "markdown",
   "metadata": {},
   "source": [
    "### Check your Python version\n",
    "To do so, you can simply run `!python --version`. **Note that the version shown in computer shows might differ from the one displayed in the notebook**"
   ]
  },
  {
   "cell_type": "code",
   "execution_count": null,
   "metadata": {},
   "outputs": [],
   "source": [
    "!python --version"
   ]
  },
  {
   "cell_type": "markdown",
   "metadata": {},
   "source": [
    "### The `!` keyword\n",
    "\n",
    "We have just used the  `!` keyword to check our Python version. `!` tells the interpreter to send the command to the OS command line or Anaconda prompt.\n",
    "This way, we can also use it to install packages typing  `!pip install yfinance` directly on a Code cell"
   ]
  },
  {
   "cell_type": "markdown",
   "metadata": {},
   "source": [
    "### Interpreted vs. Compiled programming languages\n",
    "\n",
    "**Interpreted :** In short, it means that code is executed as you write it without any internal optimisation. One of the benefits is that it is easy to and quick to implement, at the cost of slower execution time.<br>\n",
    "Examples: PHP, Ruby, Python, JavaScript\n",
    "\n",
    "**Compiled :** As the name suggests, there is a intermediary step between writting your code and actually executing it. This step called compilation. During compilation, the code is optimised for the particular hardware and processor available and substantially improves execution time compared to interpreted languages.<br>\n",
    "Examples: C, C++, Erlang, Haskell, Rust, Go"
   ]
  },
  {
   "cell_type": "markdown",
   "metadata": {},
   "source": [
    "## Basic `python` operations and Data Types"
   ]
  },
  {
   "cell_type": "code",
   "execution_count": null,
   "metadata": {
    "zanadu": {
     "code_type": ""
    }
   },
   "outputs": [],
   "source": [
    "a = 5\n",
    "b = 7\n",
    "c = 2.\n",
    "\n",
    "print(type(a))\n",
    "print(type(b))\n",
    "print(type(c))"
   ]
  },
  {
   "cell_type": "code",
   "execution_count": null,
   "metadata": {
    "zanadu": {
     "code_type": ""
    }
   },
   "outputs": [],
   "source": [
    "print(a+b)\n",
    "\n",
    "print(a**b) # Note that the double ** in the power operator\n",
    "\n",
    "print(type(a+b))\n",
    "\n",
    "print(type(a*c))"
   ]
  },
  {
   "cell_type": "markdown",
   "metadata": {},
   "source": [
    "**Note:** As opposed to `C` or `C#` (which are *statically typed* languages), `python` is a *dynamically typed* language, whereby the type of a variable is allowed to change.\n",
    "\n",
    "**Tip:** Use `#` in your Code Cells to comment your code. Comments made after `#` will not be executed"
   ]
  },
  {
   "cell_type": "markdown",
   "metadata": {
    "zanadu": {}
   },
   "source": [
    "WATCH OUT: ^ is not a power operator but the XOR operator."
   ]
  },
  {
   "cell_type": "markdown",
   "metadata": {
    "zanadu": {}
   },
   "source": [
    "Naming variables:<br>\n",
    "- Start with lowercase letter or underscore<br>\n",
    "- CamelCase<br>\n",
    "- variables written in upper case are usually constants<br>\n",
    "- one cannot use a keyword (reserved word) as a variable name (print, for, end, while,...)."
   ]
  },
  {
   "cell_type": "markdown",
   "metadata": {},
   "source": [
    "## None type\n",
    "None is sometimes used as the result of a function that has failed, this holds its own type"
   ]
  },
  {
   "cell_type": "code",
   "execution_count": null,
   "metadata": {},
   "outputs": [],
   "source": [
    "a = None\n",
    "\n",
    "print(type(a))"
   ]
  },
  {
   "cell_type": "markdown",
   "metadata": {},
   "source": [
    "## Boolean type\n",
    "\n",
    "A boolean variable is a binary one, that can either be `True` or `False`. \n",
    "It is so named after the self-taught English mathematician, philosopher, and logician <a href=\"https://en.wikipedia.org/wiki/George_Boole\">George Boole</a>."
   ]
  },
  {
   "cell_type": "code",
   "execution_count": null,
   "metadata": {},
   "outputs": [],
   "source": [
    "my_statement = True\n",
    "type(my_statement)"
   ]
  },
  {
   "cell_type": "code",
   "execution_count": null,
   "metadata": {},
   "outputs": [],
   "source": [
    "x = 10\n",
    "y = x < 5\n",
    "print(y, type(y))"
   ]
  },
  {
   "cell_type": "code",
   "execution_count": null,
   "metadata": {},
   "outputs": [],
   "source": [
    "all([x > 1, 5 <= x, 5 > 2, 6 != 1])"
   ]
  },
  {
   "cell_type": "code",
   "execution_count": null,
   "metadata": {},
   "outputs": [],
   "source": [
    "any([x > 1, 5 <= x, x == 5, 5 > 3, 7 != 1])"
   ]
  },
  {
   "cell_type": "markdown",
   "metadata": {},
   "source": [
    "## Checking types\n",
    "We can use the `is` keyword to check types"
   ]
  },
  {
   "cell_type": "code",
   "execution_count": null,
   "metadata": {},
   "outputs": [],
   "source": [
    "a = 5\n",
    "b = 7\n",
    "c = 2.\n",
    "\n",
    "type(a) is type(b)"
   ]
  },
  {
   "cell_type": "code",
   "execution_count": null,
   "metadata": {},
   "outputs": [],
   "source": [
    "type(a) is type(c)"
   ]
  },
  {
   "cell_type": "markdown",
   "metadata": {
    "tags": []
   },
   "source": [
    "# Conditional Expressions (IF/ELSE statements)\n",
    "As the name indicates, conditional expressions are used to check if a given variable satisfies a condition. Typical conditions are `>`,`<` ,`==` or `!=` greater, smaller, equal and not equal respectively."
   ]
  },
  {
   "cell_type": "code",
   "execution_count": null,
   "metadata": {},
   "outputs": [],
   "source": [
    "a = 10\n",
    "if a > 5:\n",
    "    print(\"The variable a is greater than 5\")\n",
    "else:\n",
    "    print(\"The variable a is smaller or equal than 5\")"
   ]
  },
  {
   "cell_type": "code",
   "execution_count": null,
   "metadata": {},
   "outputs": [],
   "source": [
    "b = 5\n",
    "if b > 5:\n",
    "    print(\"The variable b is greater than 5\")\n",
    "else:\n",
    "    print(\"The variable b is smaller or equal than 5\")"
   ]
  },
  {
   "cell_type": "markdown",
   "metadata": {},
   "source": [
    "**Tip:** If/Else statements can be written in a single line with the syntax `x = true_value if condition else false_value`:"
   ]
  },
  {
   "cell_type": "code",
   "execution_count": null,
   "metadata": {},
   "outputs": [],
   "source": [
    "a = 10\n",
    "\n",
    "x = a/10 if a > 5 else a\n",
    "\n",
    "print(x)"
   ]
  },
  {
   "cell_type": "code",
   "execution_count": null,
   "metadata": {},
   "outputs": [],
   "source": [
    "b = 5\n",
    "x = b/10 if b > 5 else b\n",
    "print(x)"
   ]
  },
  {
   "cell_type": "markdown",
   "metadata": {
    "tags": []
   },
   "source": [
    "# Lists, Tuples and indexing\n",
    "Although single variables are useful, it is often the case where we need to store multiple variables as arrays (think of time series). A `list` and a `tuple` allow to do so.\n",
    "They are defined using `[]` and `()`, as follows:"
   ]
  },
  {
   "cell_type": "code",
   "execution_count": null,
   "metadata": {},
   "outputs": [],
   "source": [
    "my_list = [1, 2, 3, 4, 5]\n",
    "my_tuple = (1, 2, 3, 4, 5)\n",
    "# We can access list or tuple elements using their index\n",
    "\n",
    "print(\"First element of my list is\", my_list[0])\n",
    "print(\"Second element of my list is\", my_list[1])\n",
    "\n",
    "print(\"Last element of my tuple is\", my_tuple[-1])\n",
    "print(\"Second last element of my tuple is\", my_tuple[-2])"
   ]
  },
  {
   "cell_type": "markdown",
   "metadata": {},
   "source": [
    "We can also select a range of elements rather than just one using  `first_index:last_index+1` or `first_index:last_index+1:step_size`  syntax and it will return a sub-list."
   ]
  },
  {
   "cell_type": "code",
   "execution_count": null,
   "metadata": {},
   "outputs": [],
   "source": [
    "print(\"First two elements of my list are\", my_list[0:2])\n",
    "print(\"First two elements of my list are\", my_list[:2])\n",
    "print(\"Last two elements of my list are\", my_list[-2:])\n",
    "print(\"All elements between two indices, with a step:\",  my_list[0:3:2])"
   ]
  },
  {
   "cell_type": "markdown",
   "metadata": {},
   "source": [
    "You can list all the elements with a specific step:"
   ]
  },
  {
   "cell_type": "code",
   "execution_count": null,
   "metadata": {},
   "outputs": [],
   "source": [
    "my_list[::2]"
   ]
  },
  {
   "cell_type": "markdown",
   "metadata": {},
   "source": [
    "You can also reverse a list with a similar logic:"
   ]
  },
  {
   "cell_type": "code",
   "execution_count": null,
   "metadata": {},
   "outputs": [],
   "source": [
    "my_list[::-1]"
   ]
  },
  {
   "cell_type": "markdown",
   "metadata": {},
   "source": [
    "You can also sort a list:"
   ]
  },
  {
   "cell_type": "code",
   "execution_count": null,
   "metadata": {},
   "outputs": [],
   "source": [
    "import random\n",
    "list_rand = [random.randint(0,10) for _ in range(5)]\n",
    "print(\"Random list of numbers: \", list_rand)\n",
    "print(sorted(list_rand, reverse=True))"
   ]
  },
  {
   "cell_type": "markdown",
   "metadata": {},
   "source": [
    "Note that the original list has not been sorted in place though:"
   ]
  },
  {
   "cell_type": "code",
   "execution_count": null,
   "metadata": {},
   "outputs": [],
   "source": [
    "print(\"List of numbers: \", list_rand)"
   ]
  },
  {
   "cell_type": "code",
   "execution_count": null,
   "metadata": {},
   "outputs": [],
   "source": [
    "list_rand.sort(reverse=True)"
   ]
  },
  {
   "cell_type": "code",
   "execution_count": null,
   "metadata": {},
   "outputs": [],
   "source": [
    "print(\"List of numbers: \", list_rand)"
   ]
  },
  {
   "cell_type": "markdown",
   "metadata": {},
   "source": [
    "### List and Tuple types\n",
    "The beauty of lists and tuples is that they can hold different types, making them very flexible"
   ]
  },
  {
   "cell_type": "code",
   "execution_count": null,
   "metadata": {},
   "outputs": [],
   "source": [
    "my_list_different_types=[100, True, 75.4, \"hello\"]\n",
    "\n",
    "print(\"First  elements type is \", type(my_list_different_types[0]))\n",
    "print(\"Second  elements type is \", type(my_list_different_types[1]))\n",
    "print(\"Third  elements type is \", type(my_list_different_types[2]))"
   ]
  },
  {
   "cell_type": "markdown",
   "metadata": {},
   "source": [
    "### Difference between `list` (mutable) and `tuple` (inmutable)\n",
    "\n",
    "A `list` is a mutable object, which can be modified after its creation.\n",
    "\n",
    "A `tuple` is an immutable object, that cannot be modified after its creation."
   ]
  },
  {
   "cell_type": "markdown",
   "metadata": {},
   "source": [
    "### Adding elements to an existing `list`\n",
    "As a `list` is mutable, it is possible to modify its size using several commands as `append`, `insert` or `delete`. There are many functions available for `list`."
   ]
  },
  {
   "cell_type": "code",
   "execution_count": null,
   "metadata": {},
   "outputs": [],
   "source": [
    "my_list = [1, 2, 3]\n",
    "\n",
    "my_list.append(5)\n",
    "\n",
    "print(my_list)\n",
    "\n",
    "my_list.insert(0,10) # First argument is the index to insert and the second argument is the value to be added\n",
    "\n",
    "print(my_list)\n",
    "\n",
    "my_list.remove(1) # ELement we wish to remove\n",
    "\n",
    "print(my_list)"
   ]
  },
  {
   "cell_type": "code",
   "execution_count": null,
   "metadata": {},
   "outputs": [],
   "source": [
    "my_tuple = (1, 2, 3)\n",
    "\n",
    "my_tuple.append(5)"
   ]
  },
  {
   "cell_type": "markdown",
   "metadata": {},
   "source": [
    "**Question:** Give an example of when a `list` or a `tuple` would be useful."
   ]
  },
  {
   "cell_type": "markdown",
   "metadata": {
    "tags": []
   },
   "source": [
    "# Careful making copies of `list`!!!!\n",
    "Since a `list` is passed by reference, if you make a assign copy and modify it, the original `list` will also change."
   ]
  },
  {
   "cell_type": "code",
   "execution_count": null,
   "metadata": {},
   "outputs": [],
   "source": [
    "my_list = [1, 2, 3]\n",
    "\n",
    "my_copy = my_list\n",
    "\n",
    "my_copy[0] = 10\n",
    "\n",
    "print(my_copy)\n",
    "\n",
    "print(my_list)"
   ]
  },
  {
   "cell_type": "markdown",
   "metadata": {},
   "source": [
    "To avoid this issue we need to make a `deepcopy` using the copy module:"
   ]
  },
  {
   "cell_type": "code",
   "execution_count": null,
   "metadata": {},
   "outputs": [],
   "source": [
    "import copy\n",
    "\n",
    "my_list = [1, 2, 3]\n",
    "\n",
    "my_copy=copy.deepcopy(my_list)\n",
    "\n",
    "my_copy[0] = 10\n",
    "\n",
    "print(my_copy)\n",
    "\n",
    "print(my_list)"
   ]
  },
  {
   "cell_type": "markdown",
   "metadata": {},
   "source": [
    "## Sets\n",
    "\n",
    "A `set` looks similar to a `list` or a `tuple`, but repeated elements count as one."
   ]
  },
  {
   "cell_type": "code",
   "execution_count": null,
   "metadata": {},
   "outputs": [],
   "source": [
    "my_set = {'red', 'green', 'blue', 'red', 'red', 'green', 'blue'}\n",
    "my_set_2 = set(['red', 'green', 'blue', 'red', 'red', 'green', 'blue'])\n",
    "my_set_2 == my_set"
   ]
  },
  {
   "cell_type": "code",
   "execution_count": null,
   "metadata": {},
   "outputs": [],
   "source": [
    "my_set"
   ]
  },
  {
   "cell_type": "markdown",
   "metadata": {},
   "source": [
    "Set are mutable:"
   ]
  },
  {
   "cell_type": "code",
   "execution_count": null,
   "metadata": {},
   "outputs": [],
   "source": [
    "my_set.add('cyan')"
   ]
  },
  {
   "cell_type": "markdown",
   "metadata": {},
   "source": [
    "### Union, intersection and difference"
   ]
  },
  {
   "cell_type": "code",
   "execution_count": null,
   "metadata": {},
   "outputs": [],
   "source": [
    "a = {'red', 'green', 'blue', 'red', 'red', 'green', 'blue'}.union({'purple', 'green', 'yellow'})\n",
    "\n",
    "b = {'red', 'green', 'blue', 'red', 'red', 'green', 'blue'}.intersection({'purple', 'green', 'yellow'})\n",
    "\n",
    "c = {'red', 'green', 'blue', 'red', 'red', 'green', 'blue'}.difference({'purple', 'green', 'yellow'})\n",
    "\n",
    "print(a)\n",
    "print(b)\n",
    "print(c)"
   ]
  },
  {
   "cell_type": "markdown",
   "metadata": {},
   "source": [
    "## Loops\n",
    "The `for` loop is one of the fundamental operation in programming and runs over any collection of objects (lists, tuples, sets, ....). \n",
    "In the following example, the loop is over an array.\n",
    "Note that the code running inside the loop has an extra indentation level."
   ]
  },
  {
   "cell_type": "code",
   "execution_count": null,
   "metadata": {
    "zanadu": {
     "code_type": ""
    }
   },
   "outputs": [],
   "source": [
    "for i in range(10): \n",
    "    print(\"Loop number\", i)\n",
    "\n",
    "print(\"-------\")\n",
    "print(\"Note that it always starts at 0!!!\")"
   ]
  },
  {
   "cell_type": "markdown",
   "metadata": {},
   "source": [
    "**!!Warning!!**: The value of `i` (or whichever variable name you choose to loop) does not go out of scope and it will kepp its last value"
   ]
  },
  {
   "cell_type": "code",
   "execution_count": null,
   "metadata": {},
   "outputs": [],
   "source": [
    "i"
   ]
  },
  {
   "cell_type": "markdown",
   "metadata": {},
   "source": [
    "## **Tip**:  \n",
    "You can also loop a `list` or use `enumerate` to loop over it and its index simultaneously:"
   ]
  },
  {
   "cell_type": "code",
   "execution_count": null,
   "metadata": {},
   "outputs": [],
   "source": [
    "for element in ['hello', 1, True, 1000]: \n",
    "    print(element)\n",
    "\n",
    "print(\"-------\")\n",
    "\n",
    "for (index,element) in enumerate(['hello', 1, True, 1000]): \n",
    "    print(\"Element\", index, \"in list is:\", element)\n",
    "\n",
    "print(\"-------\")"
   ]
  },
  {
   "cell_type": "markdown",
   "metadata": {},
   "source": [
    "## The `while` loop"
   ]
  },
  {
   "cell_type": "code",
   "execution_count": null,
   "metadata": {},
   "outputs": [],
   "source": [
    "i = 0\n",
    "while i < 6:\n",
    "  print(i)\n",
    "  i += 1"
   ]
  },
  {
   "cell_type": "code",
   "execution_count": null,
   "metadata": {},
   "outputs": [],
   "source": [
    "print(\"Now, the value of i is\", i)"
   ]
  },
  {
   "cell_type": "markdown",
   "metadata": {},
   "source": [
    "One can also add a `break` clause in case one needs to stop the loop in some cases:"
   ]
  },
  {
   "cell_type": "code",
   "execution_count": null,
   "metadata": {},
   "outputs": [],
   "source": [
    "i = 0\n",
    "while i < 6:\n",
    "  print(i)\n",
    "  if i == 3:\n",
    "    break\n",
    "  i += 1"
   ]
  },
  {
   "cell_type": "code",
   "execution_count": null,
   "metadata": {},
   "outputs": [],
   "source": [
    "print(\"Now, the value of i is\", i)"
   ]
  },
  {
   "cell_type": "markdown",
   "metadata": {
    "tags": []
   },
   "source": [
    "# `list` comprehension \n",
    "A `list` allows to run a `for` loop in a single line and output the result into a `list`."
   ]
  },
  {
   "cell_type": "code",
   "execution_count": null,
   "metadata": {},
   "outputs": [],
   "source": [
    "my_list = [1, 2, 3, 4, 5]\n",
    "\n",
    "my_list_squared = [element**2 for element in my_list]\n",
    "\n",
    "print(my_list_squared)"
   ]
  },
  {
   "cell_type": "markdown",
   "metadata": {},
   "source": [
    "The same result is obtained using the (longer) piece of code"
   ]
  },
  {
   "cell_type": "code",
   "execution_count": null,
   "metadata": {},
   "outputs": [],
   "source": [
    "my_list = [1, 2, 3, 4, 5]\n",
    "my_list_squared = [] # initialise empty list\n",
    "\n",
    "for element in my_list: \n",
    "    my_list_squared.append(element**2)\n",
    "    \n",
    "print(my_list_squared)"
   ]
  },
  {
   "cell_type": "markdown",
   "metadata": {},
   "source": [
    "Are `list` comprehensions faster than loops?\n",
    "And what about readability?"
   ]
  },
  {
   "cell_type": "code",
   "execution_count": 41,
   "metadata": {},
   "outputs": [],
   "source": [
    "import time\n",
    "import random\n",
    "N = 10000000\n",
    "\n",
    "my_list = [random.randint(1, 10) for _ in range(N)]"
   ]
  },
  {
   "cell_type": "code",
   "execution_count": 42,
   "metadata": {},
   "outputs": [
    {
     "name": "stdout",
     "output_type": "stream",
     "text": [
      "Computation time for the list comprehension:  0.6935968399047852\n"
     ]
    }
   ],
   "source": [
    "t0 = time.time()\n",
    "my_list_squared = [element**2 for element in my_list]\n",
    "t_list = time.time() - t0\n",
    "\n",
    "print(\"Computation time for the list comprehension: \", t_list)"
   ]
  },
  {
   "cell_type": "code",
   "execution_count": 44,
   "metadata": {},
   "outputs": [
    {
     "name": "stdout",
     "output_type": "stream",
     "text": [
      "Computation time for the list comprehension:  1.4777147769927979\n"
     ]
    }
   ],
   "source": [
    "t0 = time.time()\n",
    "\n",
    "my_list_squared = []\n",
    "for element in my_list: \n",
    "    my_list_squared.append(element**2)\n",
    "    \n",
    "t_loop = time.time() - t0\n",
    "print(\"Computation time for the list comprehension: \", t_loop)"
   ]
  },
  {
   "cell_type": "markdown",
   "metadata": {},
   "source": [
    "The `list` comprehension is about twice as fast as a `for` loop."
   ]
  },
  {
   "cell_type": "markdown",
   "metadata": {},
   "source": [
    "Now, what about the readability of the following example?"
   ]
  },
  {
   "cell_type": "code",
   "execution_count": 79,
   "metadata": {},
   "outputs": [
    {
     "name": "stdout",
     "output_type": "stream",
     "text": [
      "[(1, 46.18, 'F'), (2, 69.93, 'M'), (3, 61.65, 'F'), (4, 54.95, 'M'), (5, 56.29, 'F'), (6, 91.61, 'M'), (7, 84.9, 'F'), (8, 48.87, 'M'), (9, 50.78, 'F'), (10, 40.4, 'M'), (11, 62.28, 'F'), (12, 52.2, 'M'), (13, 98.12, 'F'), (14, 69.63, 'M'), (15, 51.52, 'F'), (16, 55.99, 'M'), (17, 40.88, 'F'), (18, 78.57, 'M'), (19, 49.75, 'F'), (20, 57.62, 'M'), (21, 93.15, 'F'), (22, 89.37, 'M'), (23, 66.51, 'F'), (24, 74.68, 'M'), (25, 74.62, 'F'), (26, 88.77, 'M'), (27, 43.1, 'F'), (28, 59.71, 'M'), (29, 65.66, 'F'), (30, 86.94, 'M'), (31, 78.14, 'F'), (32, 92.89, 'M'), (33, 80.9, 'F'), (34, 56.78, 'M'), (35, 82.53, 'F'), (36, 81.68, 'M'), (37, 86.9, 'F'), (38, 90.98, 'M'), (39, 84.41, 'F'), (40, 87.4, 'M'), (41, 84.7, 'F'), (42, 99.89, 'M'), (43, 75.91, 'F'), (44, 88.43, 'M'), (45, 69.19, 'F'), (46, 52.24, 'M'), (47, 75.98, 'F'), (48, 72.06, 'M'), (49, 93.92, 'F'), (50, 98.88, 'M'), (51, 56.9, 'F'), (52, 64.21, 'M'), (53, 88.93, 'F'), (54, 78.37, 'M')]\n"
     ]
    }
   ],
   "source": [
    "N = 55\n",
    "list_id = range(1, N)\n",
    "list_genders = [\"M\" if i%2 == 0 else \"F\" for i in list_id]\n",
    "list_grades = [round(40.+random.random()*60,2) for _ in list_id]\n",
    "list_students = [(id, ge, gr) for (id, ge, gr) in zip(list_id, list_grades, list_genders)]\n",
    "\n",
    "print(list_students)"
   ]
  },
  {
   "cell_type": "code",
   "execution_count": 80,
   "metadata": {},
   "outputs": [
    {
     "name": "stdout",
     "output_type": "stream",
     "text": [
      "[(7, 84.9), (13, 98.12), (21, 93.15), (25, 74.62), (31, 78.14), (33, 80.9), (35, 82.53), (37, 86.9), (39, 84.41), (41, 84.7), (43, 75.91), (47, 75.98), (49, 93.92), (53, 88.93)]\n"
     ]
    }
   ],
   "source": [
    "print([(student[0], student[1]) for student in list_students if (student[2]==\"F\") and (student[1]>70)])"
   ]
  },
  {
   "cell_type": "markdown",
   "metadata": {
    "tags": []
   },
   "source": [
    "# Dictionaries\n",
    "A `dictionary` gives an extra layer of flexibility to lists and tuples. It introduces the concept of a `key` which allows to acces specific fields."
   ]
  },
  {
   "cell_type": "code",
   "execution_count": 85,
   "metadata": {},
   "outputs": [],
   "source": [
    "my_stock_dictionary = {'AAPL': \n",
    "                     {\"open\": 100.1, \"high\": 102.5, \"low\": 99.5, \"close\": 101.0}, \n",
    "                     'MSFT':\n",
    "                     {\"open\": 55.5, \"high\": 65.5, \"low\": 50.0, \"close\": 52.0}}"
   ]
  },
  {
   "cell_type": "code",
   "execution_count": 86,
   "metadata": {},
   "outputs": [
    {
     "name": "stdout",
     "output_type": "stream",
     "text": [
      "{'open': 100.1, 'high': 102.5, 'low': 99.5, 'close': 101.0}\n",
      "AAPL open is : 100.1\n",
      "symbols in my dictionary are: dict_keys(['AAPL', 'MSFT'])\n",
      "AAPL high of the day is  102.5\n",
      "MSFT high of the day is  65.5\n"
     ]
    }
   ],
   "source": [
    "print(my_stock_dictionary['AAPL'])\n",
    "\n",
    "print(\"AAPL open is :\", my_stock_dictionary['AAPL'][\"open\"])\n",
    "\n",
    "print(\"symbols in my dictionary are:\", my_stock_dictionary.keys())\n",
    "\n",
    "for symbol in my_stock_dictionary.keys():\n",
    "    print(symbol, \"high of the day is \", my_stock_dictionary[symbol][\"high\"])"
   ]
  },
  {
   "cell_type": "markdown",
   "metadata": {},
   "source": [
    "Dictionaries can hold complex data structures, yet have an intuitive acess route through `keys`."
   ]
  },
  {
   "cell_type": "code",
   "execution_count": 87,
   "metadata": {},
   "outputs": [],
   "source": [
    "my_stock_dictionary={'AAPL': \n",
    "                     {\"underlying\":\n",
    "                     {\"open\": 100.1, \"high\": 102.5 , \"low\": 99.5, \"close\": 101.0},\n",
    "                     \"options\":\n",
    "                     {\"strike\": 100, \"option_type\": \"call\", \"price\": 1.5}}, \n",
    "                     'MSFT':\n",
    "                     {\"underlying\":\n",
    "                     {\"open\": 55.5, \"high\": 65.5, \"low\": 50.0, \"close\": 52.0},\n",
    "                     \"options\":\n",
    "                     {\"strike\": 50, \"option_type\": \"put\", \"price\": 2.5}}} "
   ]
  },
  {
   "cell_type": "code",
   "execution_count": 88,
   "metadata": {},
   "outputs": [
    {
     "name": "stdout",
     "output_type": "stream",
     "text": [
      "AAPL call option with strike 100 has price 1.5\n",
      "MSFT put option with strike 50 has price 2.5\n"
     ]
    }
   ],
   "source": [
    "for symbol in my_stock_dictionary.keys():\n",
    "    print(symbol, my_stock_dictionary[symbol][\"options\"][\"option_type\"],  \"option with strike\", \n",
    "          my_stock_dictionary[symbol][\"options\"][\"strike\"],\"has price\",\n",
    "          my_stock_dictionary[symbol][\"options\"][\"price\"])"
   ]
  },
  {
   "cell_type": "markdown",
   "metadata": {},
   "source": [
    "**Note:** \n",
    "Dictionaries are closely related to the JSON format that is  frequently used data format. Python makes very easy to ingest JSON as Dictionaries have a 1 to 1 mapping. See the link below for more information.\n",
    "https://en.wikipedia.org/wiki/JSON"
   ]
  },
  {
   "cell_type": "markdown",
   "metadata": {
    "tags": []
   },
   "source": [
    "# Functions\n",
    "\n",
    "Python allows to define functions, which take one or several input variables, perform a task and return some output variables."
   ]
  },
  {
   "cell_type": "code",
   "execution_count": 89,
   "metadata": {},
   "outputs": [],
   "source": [
    "def function_sum_two_numbers(x, y):\n",
    "    \"\"\"This function outputs the sum of two arguments\n",
    "    x: first argument\n",
    "    y: second argument\n",
    "    \n",
    "    output: sum of x an y\n",
    "    \"\"\"\n",
    "    return x + y"
   ]
  },
  {
   "cell_type": "markdown",
   "metadata": {},
   "source": [
    "Once the function is defined (as we did with `function_sum_two_numbers`) we can use it any time.\n",
    "\n",
    "**Note:** When defining a function,\n",
    "- use an appropriate and helpful name\n",
    "- Explain the inputs / outputs and anything that can help the reader"
   ]
  },
  {
   "cell_type": "code",
   "execution_count": 90,
   "metadata": {},
   "outputs": [
    {
     "data": {
      "text/plain": [
       "12"
      ]
     },
     "execution_count": 90,
     "metadata": {},
     "output_type": "execute_result"
    }
   ],
   "source": [
    "function_sum_two_numbers(10,2)"
   ]
  },
  {
   "cell_type": "markdown",
   "metadata": {},
   "source": [
    "Let us check the following formula, valid for any integer $n$:\n",
    "$$\n",
    "\\sum_{i=1}^{n} i  = \\frac{n(n+1)}{2}\n",
    "$$"
   ]
  },
  {
   "cell_type": "code",
   "execution_count": 91,
   "metadata": {},
   "outputs": [],
   "source": [
    "def sumInteg(n):\n",
    "    res = 0\n",
    "    for i in range(1, n+1): \n",
    "        res += i\n",
    "    return res\n",
    "\n",
    "###Using List comprehension we can write the above function in a single line\n",
    "def sumInteg_list_comprehension(n):\n",
    "    return sum([i for i in range(1, n+1)])\n",
    "\n",
    "#Here goes the theoretical formula\n",
    "def sumInteg_Formula(n):\n",
    "    return n*(n+1) / 2"
   ]
  },
  {
   "cell_type": "code",
   "execution_count": 97,
   "metadata": {},
   "outputs": [
    {
     "name": "stdout",
     "output_type": "stream",
     "text": [
      "Sum: 500500\n",
      "Sum2: 500500\n",
      "Theoretical: 500500.0\n"
     ]
    }
   ],
   "source": [
    "n = 1000\n",
    "print(\"Sum:\", sumInteg(n))\n",
    "print(\"Sum2:\", sumInteg_list_comprehension(n))\n",
    "print(\"Theoretical:\", sumInteg_Formula(n))"
   ]
  },
  {
   "cell_type": "markdown",
   "metadata": {},
   "source": [
    "### Functions with several arguments (potential optional or with default values)"
   ]
  },
  {
   "cell_type": "markdown",
   "metadata": {},
   "source": [
    "A function can also take several arguments and can also take keyword arguments.\n",
    "\n",
    "While the former are compulsory, the latter do not need to be entered when calling the function."
   ]
  },
  {
   "cell_type": "code",
   "execution_count": 98,
   "metadata": {},
   "outputs": [
    {
     "name": "stdout",
     "output_type": "stream",
     "text": [
      "1\n",
      "2\n",
      "3\n",
      "3\n"
     ]
    }
   ],
   "source": [
    "def myFunction(x, a = 1, b = 0):\n",
    "    return a*x+b\n",
    "\n",
    "print(myFunction(1))\n",
    "print(myFunction(1, 2))\n",
    "print(myFunction(1, 1, 2))\n",
    "print(myFunction(1,b=2))"
   ]
  },
  {
   "cell_type": "markdown",
   "metadata": {},
   "source": [
    "#### args and kwargs"
   ]
  },
  {
   "cell_type": "markdown",
   "metadata": {},
   "source": [
    "If one potentially (but not necessarily) requires additional optional arguments, we can use the  args and kwargs keywords for this matter.\n",
    "\n",
    "Note first the particular keywork `*`, which unpacks elements of a list, as the following example shows:"
   ]
  },
  {
   "cell_type": "code",
   "execution_count": 119,
   "metadata": {},
   "outputs": [],
   "source": [
    "list_tickers = [\"AMZN\", \"GOOG\", \"SPX\", \"NVDA\", \"MSFT\", \"META\", \"BRK-B\", \"LLY\", \"AVGO\"]"
   ]
  },
  {
   "cell_type": "code",
   "execution_count": 120,
   "metadata": {},
   "outputs": [
    {
     "name": "stdout",
     "output_type": "stream",
     "text": [
      "['AMZN', 'GOOG', 'SPX', 'NVDA', 'MSFT', 'META', 'BRK-B', 'LLY', 'AVGO']\n",
      "AMZN GOOG SPX NVDA MSFT META BRK-B LLY AVGO\n"
     ]
    }
   ],
   "source": [
    "print(list_tickers)\n",
    "print(*list_tickers)"
   ]
  },
  {
   "cell_type": "code",
   "execution_count": 135,
   "metadata": {},
   "outputs": [],
   "source": [
    "def add_tickers(list_tickers, *item_names):\n",
    "    for item_name in item_names:\n",
    "        list_tickers.append(item_name)\n",
    "    return list_tickers"
   ]
  },
  {
   "cell_type": "code",
   "execution_count": 136,
   "metadata": {},
   "outputs": [
    {
     "name": "stdout",
     "output_type": "stream",
     "text": [
      "['AMZN', 'GOOG', 'SPX', 'NVDA', 'MSFT', 'META', 'BRK-B', 'LLY', 'AVGO', 'JPM', 'TSLA', 'JPM']\n"
     ]
    }
   ],
   "source": [
    "new_list_tickers = add_tickers(list_tickers)\n",
    "print(new_list_tickers)"
   ]
  },
  {
   "cell_type": "code",
   "execution_count": 137,
   "metadata": {},
   "outputs": [
    {
     "name": "stdout",
     "output_type": "stream",
     "text": [
      "['AMZN', 'GOOG', 'SPX', 'NVDA', 'MSFT', 'META', 'BRK-B', 'LLY', 'AVGO', 'JPM', 'TSLA', 'JPM', 'JPM']\n"
     ]
    }
   ],
   "source": [
    "new_list_tickers = add_tickers(list_tickers, \"JPM\")\n",
    "print(new_list_tickers)"
   ]
  },
  {
   "cell_type": "code",
   "execution_count": 138,
   "metadata": {},
   "outputs": [
    {
     "name": "stdout",
     "output_type": "stream",
     "text": [
      "['AMZN', 'GOOG', 'SPX', 'NVDA', 'MSFT', 'META', 'BRK-B', 'LLY', 'AVGO', 'JPM', 'TSLA', 'JPM', 'JPM', 'JPM', 'TSLA']\n"
     ]
    }
   ],
   "source": [
    "new_list_tickers = add_tickers(list_tickers, \"JPM\", \"TSLA\")\n",
    "print(new_list_tickers)"
   ]
  },
  {
   "cell_type": "markdown",
   "metadata": {},
   "source": [
    "**Exercise:** in the function `add_tickers`, we may want to avoid adding an already exisiting ticker. How should we modify the function accordingly?\n",
    "\n",
    "**Question:** in the function `add_tickers` above, what is the type of 'item_names'?"
   ]
  },
  {
   "cell_type": "markdown",
   "metadata": {},
   "source": [
    "A second type of extra optional argument can be introduced via **kwargs.\n",
    "The double asterisk ** allows to pass through *keyword arguments*, \n",
    "which are defined as variables with a name that are passed into a function.\n",
    "*Best to think of kwargs as dictionaries.*"
   ]
  },
  {
   "cell_type": "code",
   "execution_count": 164,
   "metadata": {},
   "outputs": [
    {
     "name": "stdout",
     "output_type": "stream",
     "text": [
      "Key:  option_type  || Value:  Call\n",
      "Key:  moneyness  || Value:  1.02\n",
      "Key:  underlying  || Value:  SPX\n"
     ]
    }
   ],
   "source": [
    "def func_with_kwargs(**kwargs):\n",
    "    for key, val in kwargs.items():\n",
    "        print(\"Key: \", key, \" || Value: \", val)\n",
    "\n",
    "func_with_kwargs(option_type='Call', moneyness=1.02, underlying='SPX')"
   ]
  },
  {
   "cell_type": "markdown",
   "metadata": {},
   "source": [
    "## `lambda` functions for simple computations\n",
    "\n",
    "If a function is simple (i.e. fits on one line), for example as a argument or just for one computation, `lambda` functions do just the job."
   ]
  },
  {
   "cell_type": "code",
   "execution_count": 166,
   "metadata": {},
   "outputs": [
    {
     "data": {
      "text/plain": [
       "8"
      ]
     },
     "execution_count": 166,
     "metadata": {},
     "output_type": "execute_result"
    }
   ],
   "source": [
    "f = lambda x, y: x+y\n",
    "f(2, 6)"
   ]
  },
  {
   "cell_type": "markdown",
   "metadata": {},
   "source": [
    "The advantage of `lambda` functions is that they can easily be used as arguments within more complicated structures:"
   ]
  },
  {
   "cell_type": "code",
   "execution_count": 169,
   "metadata": {},
   "outputs": [
    {
     "data": {
      "text/plain": [
       "0.25"
      ]
     },
     "execution_count": 169,
     "metadata": {},
     "output_type": "execute_result"
    }
   ],
   "source": [
    "def compose_func(f1, f2, x):\n",
    "    ## Compose two given functions\n",
    "    return f1(f2(x))\n",
    "\n",
    "compose_func(lambda x: x**2, lambda x: 1./x, 2.)"
   ]
  },
  {
   "cell_type": "markdown",
   "metadata": {
    "tags": []
   },
   "source": [
    "# Checking the execution time\n",
    "While a code has to work and be written clearly, it also has to run fast.\n",
    "We may therefore need to compute the execution time of a function or of a series of operations that can be written in multiple manners.\n",
    "The `magic` command`%timeit` provides this functionality."
   ]
  },
  {
   "cell_type": "code",
   "execution_count": 170,
   "metadata": {},
   "outputs": [
    {
     "name": "stdout",
     "output_type": "stream",
     "text": [
      "13.1 µs ± 212 ns per loop (mean ± std. dev. of 7 runs, 100,000 loops each)\n"
     ]
    }
   ],
   "source": [
    "%timeit sum(range(1000))"
   ]
  },
  {
   "cell_type": "markdown",
   "metadata": {},
   "source": [
    "Since this operation is very fast, `%timeit` automatically does a large number of repetitions. For slower commands, it may adjust the number of repetitions:"
   ]
  },
  {
   "cell_type": "code",
   "execution_count": 171,
   "metadata": {},
   "outputs": [
    {
     "name": "stdout",
     "output_type": "stream",
     "text": [
      "2.5 ms ± 95.6 µs per loop (mean ± std. dev. of 7 runs, 100 loops each)\n"
     ]
    }
   ],
   "source": [
    "%timeit sum(range(100000))"
   ]
  },
  {
   "cell_type": "markdown",
   "metadata": {},
   "source": [
    "The `%time` magic command can be equivalently useful to avoid many repetitions of the same computation."
   ]
  },
  {
   "cell_type": "code",
   "execution_count": 172,
   "metadata": {},
   "outputs": [
    {
     "name": "stdout",
     "output_type": "stream",
     "text": [
      "CPU times: total: 0 ns\n",
      "Wall time: 2 ms\n"
     ]
    },
    {
     "data": {
      "text/plain": [
       "4999950000"
      ]
     },
     "execution_count": 172,
     "metadata": {},
     "output_type": "execute_result"
    }
   ],
   "source": [
    "%time sum(range(100000))"
   ]
  },
  {
   "cell_type": "markdown",
   "metadata": {},
   "source": [
    "'Wall time' corresponds to the total amount of time from start to finish of the computation.\n",
    "\n",
    "'CPU time' is a measure of parallel efficiency of the algorithm.\n",
    "It ranges same as 'Wall time' (in the case of serial processing) to  larger than the latter."
   ]
  },
  {
   "cell_type": "markdown",
   "metadata": {},
   "source": [
    "### Exercise\n",
    "\n",
    "Explain why the second cell below is much faster than the second one."
   ]
  },
  {
   "cell_type": "code",
   "execution_count": 181,
   "metadata": {},
   "outputs": [
    {
     "name": "stdout",
     "output_type": "stream",
     "text": [
      "CPU times: total: 31.2 ms\n",
      "Wall time: 23.4 ms\n"
     ]
    }
   ],
   "source": [
    "import random\n",
    "L = [random.random() for i in range(100000)]\n",
    "\n",
    "%time L.sort()"
   ]
  },
  {
   "cell_type": "code",
   "execution_count": 182,
   "metadata": {},
   "outputs": [
    {
     "name": "stdout",
     "output_type": "stream",
     "text": [
      "CPU times: total: 0 ns\n",
      "Wall time: 2.11 ms\n"
     ]
    }
   ],
   "source": [
    "%time L.sort()"
   ]
  },
  {
   "cell_type": "markdown",
   "metadata": {},
   "source": [
    "### Back to the `sumInteg` function"
   ]
  },
  {
   "cell_type": "code",
   "execution_count": 183,
   "metadata": {},
   "outputs": [
    {
     "name": "stdout",
     "output_type": "stream",
     "text": [
      "4.07 µs ± 124 ns per loop (mean ± std. dev. of 7 runs, 100,000 loops each)\n",
      "52.2 µs ± 3.22 µs per loop (mean ± std. dev. of 7 runs, 10,000 loops each)\n"
     ]
    }
   ],
   "source": [
    "%timeit sumInteg(100)\n",
    "%timeit sumInteg(1000)"
   ]
  },
  {
   "cell_type": "code",
   "execution_count": 184,
   "metadata": {},
   "outputs": [
    {
     "name": "stdout",
     "output_type": "stream",
     "text": [
      "4.07 µs ± 164 ns per loop (mean ± std. dev. of 7 runs, 100,000 loops each)\n",
      "34.3 µs ± 5.65 µs per loop (mean ± std. dev. of 7 runs, 10,000 loops each)\n"
     ]
    }
   ],
   "source": [
    "%timeit sumInteg_list_comprehension(100)\n",
    "%timeit sumInteg_list_comprehension(1000)"
   ]
  },
  {
   "cell_type": "markdown",
   "metadata": {},
   "source": [
    "We can see that the list_comprehension approach is about 30% faster. \n",
    "\n",
    "One can also measure execution time using the `time` module (useful for more complicated operations)."
   ]
  },
  {
   "cell_type": "code",
   "execution_count": 185,
   "metadata": {},
   "outputs": [
    {
     "name": "stdout",
     "output_type": "stream",
     "text": [
      "Execution took 0.0 seconds\n"
     ]
    }
   ],
   "source": [
    "import time\n",
    "\n",
    "t_start = time.time()\n",
    "sumInteg(1000)\n",
    "t_end = time.time()\n",
    "\n",
    "print(\"Execution took\", t_end - t_start, \"seconds\")"
   ]
  },
  {
   "cell_type": "markdown",
   "metadata": {},
   "source": [
    "As the example shows, to really see the execution time, we need to run the algorithm with a lot more steps."
   ]
  },
  {
   "cell_type": "code",
   "execution_count": 186,
   "metadata": {},
   "outputs": [
    {
     "name": "stdout",
     "output_type": "stream",
     "text": [
      "Execution took 0.628185510635376 seconds\n"
     ]
    }
   ],
   "source": [
    "t_start = time.time()\n",
    "sumInteg(int(1E7))\n",
    "t_end = time.time()\n",
    "\n",
    "print(\"Execution took\", t_end - t_start, \"seconds\")"
   ]
  },
  {
   "cell_type": "markdown",
   "metadata": {
    "tags": []
   },
   "source": [
    "# Exceptions an errors (Try/Except)\n",
    "When running a complex piece code it is likely that sometimes our code may fall into an error. For instance"
   ]
  },
  {
   "cell_type": "code",
   "execution_count": 187,
   "metadata": {},
   "outputs": [
    {
     "ename": "ZeroDivisionError",
     "evalue": "division by zero",
     "output_type": "error",
     "traceback": [
      "\u001b[1;31m---------------------------------------------------------------------------\u001b[0m",
      "\u001b[1;31mZeroDivisionError\u001b[0m                         Traceback (most recent call last)",
      "Cell \u001b[1;32mIn[187], line 1\u001b[0m\n\u001b[1;32m----> 1\u001b[0m \u001b[38;5;241m1\u001b[39m\u001b[38;5;241m/\u001b[39m\u001b[38;5;241m0\u001b[39m\n",
      "\u001b[1;31mZeroDivisionError\u001b[0m: division by zero"
     ]
    }
   ],
   "source": [
    "1/0"
   ]
  },
  {
   "cell_type": "markdown",
   "metadata": {},
   "source": [
    "The nature of the error is useful, but sometimes we do not want the programm to stop and would rather just skip this kind of error. \n",
    "\n",
    "This is the use for `try/except`"
   ]
  },
  {
   "cell_type": "code",
   "execution_count": 188,
   "metadata": {},
   "outputs": [
    {
     "name": "stdout",
     "output_type": "stream",
     "text": [
      "Error detected and index 0 : float division by zero | execution continues\n",
      "1.0\n",
      "0.5\n",
      "0.3333333333333333\n",
      "0.25\n",
      "0.2\n",
      "0.16666666666666666\n",
      "0.14285714285714285\n",
      "0.125\n",
      "0.1111111111111111\n"
     ]
    }
   ],
   "source": [
    "for i in range(10):\n",
    "    try:\n",
    "        print(1.0/i)\n",
    "    except Exception as E:\n",
    "        print(\"Error detected and index\", i,\":\",E,\"| execution continues\")\n",
    "        pass"
   ]
  },
  {
   "cell_type": "markdown",
   "metadata": {},
   "source": [
    "This is very useful as one can record the error message but the code will keep running."
   ]
  },
  {
   "cell_type": "markdown",
   "metadata": {},
   "source": [
    "# Other standard `python` libraries"
   ]
  },
  {
   "cell_type": "code",
   "execution_count": 189,
   "metadata": {},
   "outputs": [
    {
     "ename": "NameError",
     "evalue": "name 'pi' is not defined",
     "output_type": "error",
     "traceback": [
      "\u001b[1;31m---------------------------------------------------------------------------\u001b[0m",
      "\u001b[1;31mNameError\u001b[0m                                 Traceback (most recent call last)",
      "Cell \u001b[1;32mIn[189], line 1\u001b[0m\n\u001b[1;32m----> 1\u001b[0m pi\n",
      "\u001b[1;31mNameError\u001b[0m: name 'pi' is not defined"
     ]
    }
   ],
   "source": [
    "pi"
   ]
  },
  {
   "cell_type": "code",
   "execution_count": 190,
   "metadata": {},
   "outputs": [
    {
     "data": {
      "text/plain": [
       "(3.141592653589793, 1.4142135623730951)"
      ]
     },
     "execution_count": 190,
     "metadata": {},
     "output_type": "execute_result"
    }
   ],
   "source": [
    "import math\n",
    "\n",
    "math.pi, math.sqrt(2.)"
   ]
  },
  {
   "cell_type": "code",
   "execution_count": 191,
   "metadata": {
    "scrolled": true
   },
   "outputs": [
    {
     "data": {
      "text/plain": [
       "['__doc__',\n",
       " '__loader__',\n",
       " '__name__',\n",
       " '__package__',\n",
       " '__spec__',\n",
       " 'acos',\n",
       " 'acosh',\n",
       " 'asin',\n",
       " 'asinh',\n",
       " 'atan',\n",
       " 'atan2',\n",
       " 'atanh',\n",
       " 'cbrt',\n",
       " 'ceil',\n",
       " 'comb',\n",
       " 'copysign',\n",
       " 'cos',\n",
       " 'cosh',\n",
       " 'degrees',\n",
       " 'dist',\n",
       " 'e',\n",
       " 'erf',\n",
       " 'erfc',\n",
       " 'exp',\n",
       " 'exp2',\n",
       " 'expm1',\n",
       " 'fabs',\n",
       " 'factorial',\n",
       " 'floor',\n",
       " 'fmod',\n",
       " 'frexp',\n",
       " 'fsum',\n",
       " 'gamma',\n",
       " 'gcd',\n",
       " 'hypot',\n",
       " 'inf',\n",
       " 'isclose',\n",
       " 'isfinite',\n",
       " 'isinf',\n",
       " 'isnan',\n",
       " 'isqrt',\n",
       " 'lcm',\n",
       " 'ldexp',\n",
       " 'lgamma',\n",
       " 'log',\n",
       " 'log10',\n",
       " 'log1p',\n",
       " 'log2',\n",
       " 'modf',\n",
       " 'nan',\n",
       " 'nextafter',\n",
       " 'perm',\n",
       " 'pi',\n",
       " 'pow',\n",
       " 'prod',\n",
       " 'radians',\n",
       " 'remainder',\n",
       " 'sin',\n",
       " 'sinh',\n",
       " 'sqrt',\n",
       " 'tan',\n",
       " 'tanh',\n",
       " 'tau',\n",
       " 'trunc',\n",
       " 'ulp']"
      ]
     },
     "execution_count": 191,
     "metadata": {},
     "output_type": "execute_result"
    }
   ],
   "source": [
    "dir(math)"
   ]
  },
  {
   "cell_type": "markdown",
   "metadata": {},
   "source": [
    "# Date and time"
   ]
  },
  {
   "cell_type": "code",
   "execution_count": 192,
   "metadata": {},
   "outputs": [
    {
     "data": {
      "text/plain": [
       "datetime.date(2019, 8, 7)"
      ]
     },
     "execution_count": 192,
     "metadata": {},
     "output_type": "execute_result"
    }
   ],
   "source": [
    "import datetime as dt\n",
    "\n",
    "my_date = dt.date(2019, 8, 7)\n",
    "my_date"
   ]
  },
  {
   "cell_type": "code",
   "execution_count": 193,
   "metadata": {},
   "outputs": [
    {
     "data": {
      "text/plain": [
       "datetime.time(14, 3, 8, 357123)"
      ]
     },
     "execution_count": 193,
     "metadata": {},
     "output_type": "execute_result"
    }
   ],
   "source": [
    "my_time = dt.time(14, 3, 8, 357123)\n",
    "my_time"
   ]
  },
  {
   "cell_type": "code",
   "execution_count": 194,
   "metadata": {},
   "outputs": [
    {
     "data": {
      "text/plain": [
       "datetime.timedelta(seconds=5)"
      ]
     },
     "execution_count": 194,
     "metadata": {},
     "output_type": "execute_result"
    }
   ],
   "source": [
    "my_timedelta = dt.timedelta(seconds=5)\n",
    "my_timedelta"
   ]
  },
  {
   "cell_type": "code",
   "execution_count": 195,
   "metadata": {},
   "outputs": [
    {
     "data": {
      "text/plain": [
       "(2019, 8, 7)"
      ]
     },
     "execution_count": 195,
     "metadata": {},
     "output_type": "execute_result"
    }
   ],
   "source": [
    "my_date.year, my_date.month, my_date.day"
   ]
  },
  {
   "cell_type": "code",
   "execution_count": 196,
   "metadata": {},
   "outputs": [
    {
     "data": {
      "text/plain": [
       "datetime.datetime(2024, 10, 7, 17, 40, 4, 399408)"
      ]
     },
     "execution_count": 196,
     "metadata": {},
     "output_type": "execute_result"
    }
   ],
   "source": [
    "dt.datetime.now()"
   ]
  },
  {
   "cell_type": "markdown",
   "metadata": {},
   "source": [
    "### Parsing and formatting temporal data\n",
    "\n",
    "Temporal data often occurs as strings. One of the most common tasks is parsing — the conversion of that textual data to an appropriate, in this case temporal, data type.\n",
    "\n",
    "Temporal data can be parsed using strptime:"
   ]
  },
  {
   "cell_type": "code",
   "execution_count": 197,
   "metadata": {},
   "outputs": [
    {
     "data": {
      "text/plain": [
       "datetime.date(2019, 9, 1)"
      ]
     },
     "execution_count": 197,
     "metadata": {},
     "output_type": "execute_result"
    }
   ],
   "source": [
    "dt.datetime.strptime('2019.09.01', '%Y.%m.%d').date()"
   ]
  },
  {
   "cell_type": "code",
   "execution_count": 198,
   "metadata": {},
   "outputs": [
    {
     "data": {
      "text/plain": [
       "datetime.date(2019, 9, 1)"
      ]
     },
     "execution_count": 198,
     "metadata": {},
     "output_type": "execute_result"
    }
   ],
   "source": [
    "dt.datetime.strptime('01-09-2019', '%d-%m-%Y').date()"
   ]
  },
  {
   "cell_type": "markdown",
   "metadata": {},
   "source": [
    "# Building libraries\n",
    "\n",
    "Jupyter notebooks are fantastic tools to write, debug and present code. However, this is usually only the very first step of the life of a programme. Ideally, you would like the latter to be used again, maybe in a wider context and/or as a building block for more advanced tools.\n",
    "On its own, a Jupyter notebook is prone to <a href=\"https://en.wikipedia.org/wiki/Software_rot\">*software rot*</a> (\"slow deterioration of software quality over time\"):\n",
    "\n",
    "\n",
    "Refactoring Jupyter notebook into useful libraries is key to extending the life of the code.\n",
    "Two important principles:\n",
    "- <a href=\"https://en.wikipedia.org/wiki/KISS_principle\"> KISS principle </a> (\"Keep It Simple, Stupid\", U.S. Navy, 1960).\n",
    "- <a href=\"https://en.wikipedia.org/wiki/Don%27t_repeat_yourself#:~:text=%22Don't%20repeat%20yourself%22,redundancy%20in%20the%20first%20place.\"> DRY principle </a> (\"Don't Repeat Yourself\") principle: a piece of knowledge must have a single, unambiguous, authoritative representation within a system."
   ]
  },
  {
   "cell_type": "markdown",
   "metadata": {},
   "source": [
    "A library lives in *.py files, which can be imported into a Jupyter notebook whenever needed.ath."
   ]
  }
 ],
 "metadata": {
  "kernelspec": {
   "display_name": "Python 3 (ipykernel)",
   "language": "python",
   "name": "python3"
  },
  "language_info": {
   "codemirror_mode": {
    "name": "ipython",
    "version": 3
   },
   "file_extension": ".py",
   "mimetype": "text/x-python",
   "name": "python",
   "nbconvert_exporter": "python",
   "pygments_lexer": "ipython3",
   "version": "3.11.10"
  },
  "zanadu": {
   "authors": [
    "Antoine Jacquier"
   ],
   "bibliography_data": {},
   "category": "1",
   "clearance": "Internal",
   "group_name": "ImperialMScMathFin",
   "md5": "2121bebe96f4e62db725bd633b355c4a",
   "notebook_id": "B20B0CCC-FB14-4BC5-9BDB-82C8E4FD69DF",
   "python_name": null,
   "reviewer_id": "B81D4EC4-269D-42B3-9975-85BC42EE5712",
   "status": "Approved"
  }
 },
 "nbformat": 4,
 "nbformat_minor": 4
}
