{
 "cells": [
  {
   "cell_type": "markdown",
   "metadata": {},
   "source": [
    "# **INTRODUCTION TO PYTHON -- Exercises**\n",
    "## **MSc in Mathematics and Finance 2024-2025**\n",
    "---\n",
    "<img src=\"Imperial_logo.png\" align = \"left\" width=250>\n",
    " <br><br><br> "
   ]
  },
  {
   "cell_type": "markdown",
   "metadata": {},
   "source": [
    "# 1. Exercise:\n",
    "\n",
    "Consider the `input_list` = [1, 4, 9, 16, 25, 36, 49, 64, 81, 100].\n",
    "\n",
    "Write a `python` function that takes `input_list` as input and outputs a new list containing only the even elements of `input_list`."
   ]
  },
  {
   "cell_type": "code",
   "execution_count": 195,
   "metadata": {},
   "outputs": [],
   "source": [
    "def even_only(input_list):\n",
    "    \"\"\"\n",
    "    input: list of integers\n",
    "    output: list of even integers\n",
    "    \"\"\"\n",
    "    \n",
    "    ### Your code goes here\n",
    "    return even_list"
   ]
  },
  {
   "cell_type": "markdown",
   "metadata": {},
   "source": [
    "### Solution"
   ]
  },
  {
   "cell_type": "code",
   "execution_count": 201,
   "metadata": {},
   "outputs": [],
   "source": [
    "def even_only_solution_loop(input_list):\n",
    "    \"\"\"\n",
    "    input: list of integers\n",
    "    output: list of even integers\n",
    "    \"\"\"\n",
    "    \n",
    "    even_list = []\n",
    "    for l in input_list:\n",
    "        if l%2 == 1:\n",
    "            even_list.append(l)\n",
    "            \n",
    "    return even_list"
   ]
  },
  {
   "cell_type": "code",
   "execution_count": 202,
   "metadata": {},
   "outputs": [],
   "source": [
    "def even_only_solution_noloop(input_list):\n",
    "    \"\"\"\n",
    "    input: list of integers\n",
    "    output: list of even integers\n",
    "    \"\"\"\n",
    "    \n",
    "    even_list = [l for l in input_list if l%2 == 1]\n",
    "    return even_list"
   ]
  },
  {
   "cell_type": "code",
   "execution_count": 203,
   "metadata": {},
   "outputs": [],
   "source": [
    "import numpy as np\n",
    "def even_only_solution_filter(input_list):\n",
    "    \"\"\"\n",
    "    input: list of integers\n",
    "    output: list of even integers\n",
    "    \"\"\"\n",
    "    \n",
    "    even_list = filter(lambda l: l%2==1, input_list)\n",
    "            \n",
    "    return list(even_list)"
   ]
  },
  {
   "cell_type": "code",
   "execution_count": 204,
   "metadata": {},
   "outputs": [
    {
     "name": "stdout",
     "output_type": "stream",
     "text": [
      "[1, 3, 5, 7, 9]\n",
      "[1, 3, 5, 7, 9]\n",
      "[1, 3, 5, 7, 9]\n"
     ]
    }
   ],
   "source": [
    "input_list = range(10)\n",
    "print(even_only_solution_loop(input_list))\n",
    "print(even_only_solution_noloop(input_list))\n",
    "print(even_only_solution_filter(input_list))"
   ]
  },
  {
   "cell_type": "markdown",
   "metadata": {},
   "source": [
    "Checking computation time....."
   ]
  },
  {
   "cell_type": "code",
   "execution_count": 205,
   "metadata": {},
   "outputs": [
    {
     "name": "stdout",
     "output_type": "stream",
     "text": [
      "loop:\n",
      "10.2 ms ± 424 µs per loop (mean ± std. dev. of 7 runs, 100 loops each)\n",
      "**************\n",
      "comprehension:\n",
      "9.05 ms ± 820 µs per loop (mean ± std. dev. of 7 runs, 100 loops each)\n",
      "**************\n",
      "filter:\n",
      "13.8 ms ± 431 µs per loop (mean ± std. dev. of 7 runs, 100 loops each)\n"
     ]
    }
   ],
   "source": [
    "input_list = range(100000)\n",
    "print(\"loop:\")\n",
    "%timeit even_only_solution_loop(input_list)\n",
    "print(\"**************\")\n",
    "print(\"comprehension:\")\n",
    "%timeit even_only_solution_noloop(input_list)\n",
    "print(\"**************\")\n",
    "print(\"filter:\")\n",
    "%timeit even_only_solution_filter(input_list)\n"
   ]
  },
  {
   "cell_type": "markdown",
   "metadata": {},
   "source": [
    "# 2. Exercise\n",
    "\n",
    "Create a function that finds all the integer divisors of an input integer."
   ]
  },
  {
   "cell_type": "code",
   "execution_count": 207,
   "metadata": {},
   "outputs": [],
   "source": [
    "def find_divisors(input_integer):\n",
    "    \"\"\"\n",
    "    input: input integer    \n",
    "    output: list of divisors\n",
    "    \"\"\"\n",
    "    \n",
    "    ### Your code goes here\n",
    "    return even_list"
   ]
  },
  {
   "cell_type": "markdown",
   "metadata": {},
   "source": [
    "### Solution"
   ]
  },
  {
   "cell_type": "code",
   "execution_count": 208,
   "metadata": {},
   "outputs": [],
   "source": [
    "def find_divisors_loop(input_integer): ## with a loop\n",
    "    \"\"\"\n",
    "    input: input integer\n",
    "    output: list of divisors\n",
    "    \"\"\"\n",
    "    \n",
    "    list_divisors = []\n",
    "    for i in range(1, int(input_integer / 2) + 1):\n",
    "            if input_integer % i == 0:\n",
    "                list_divisors.append(i)\n",
    "    list_divisors.append(input_integer)\n",
    "    \n",
    "    return list_divisors"
   ]
  },
  {
   "cell_type": "code",
   "execution_count": 211,
   "metadata": {},
   "outputs": [],
   "source": [
    "def find_divisors_noloop(input_integer): ## as a comprehension list\n",
    "    \"\"\"\n",
    "    input: input integer\n",
    "    output: list of divisors\n",
    "    \"\"\"\n",
    "    list_divisors = [i for i in range(1, int(input_integer / 2) + 1) if input_integer % i == 0]\n",
    "    list_divisors.append(input_integer)\n",
    "    \n",
    "    return list_divisors"
   ]
  },
  {
   "cell_type": "code",
   "execution_count": 219,
   "metadata": {},
   "outputs": [
    {
     "name": "stdout",
     "output_type": "stream",
     "text": [
      "   loop: [1, 3, 19, 57]\n",
      "no loop: [1, 3, 19, 57]\n"
     ]
    }
   ],
   "source": [
    "input_integer = 57\n",
    "print(\"   loop:\", find_divisors_loop(input_integer))\n",
    "print(\"no loop:\", find_divisors_noloop(input_integer))"
   ]
  },
  {
   "cell_type": "markdown",
   "metadata": {},
   "source": [
    "# 3. Exercise\n",
    "Create a function to determine whether a number is prime or not. \n",
    "You should use your answer to Exercise 2 to help you. "
   ]
  },
  {
   "cell_type": "code",
   "execution_count": 220,
   "metadata": {},
   "outputs": [],
   "source": [
    "def check_prime(input_integer):\n",
    "    \"\"\"\n",
    "    input: input integer\n",
    "    \n",
    "    output: boolean true or false\n",
    "    \n",
    "    \"\"\"\n",
    "    \n",
    "    ### Your code goes here\n",
    "    return is_prime"
   ]
  },
  {
   "cell_type": "markdown",
   "metadata": {},
   "source": [
    "### Solution"
   ]
  },
  {
   "cell_type": "code",
   "execution_count": 228,
   "metadata": {},
   "outputs": [],
   "source": [
    "def check_prime(input_integer):\n",
    "    \"\"\"\n",
    "    input: input integer\n",
    "    output: boolean True or False\n",
    "    \"\"\"\n",
    "    \n",
    "    list_divisors = find_divisors_loop(input_integer)\n",
    "    \n",
    "    if (len(list_divisors) == 2) and ((list_divisors[0] + list_divisors[1]) == (input_integer+1)):\n",
    "        is_prime = True\n",
    "    else:\n",
    "        is_prime = False\n",
    "        \n",
    "    return is_prime"
   ]
  },
  {
   "cell_type": "code",
   "execution_count": 232,
   "metadata": {},
   "outputs": [
    {
     "data": {
      "text/plain": [
       "True"
      ]
     },
     "execution_count": 232,
     "metadata": {},
     "output_type": "execute_result"
    }
   ],
   "source": [
    "check_prime(47)"
   ]
  },
  {
   "cell_type": "markdown",
   "metadata": {},
   "source": [
    "# 4. Exercise\n",
    "Take two lists, say for example these two:\n",
    "\n",
    "  list_a = [1, 1, 2, 3, 5, 8, 13, 21, 34, 55, 89]\n",
    "  \n",
    "  list_b = [1, 2, 3, 4, 5, 6, 7, 8, 9, 10, 11, 12, 13]\n",
    "  \n",
    "and write a program that returns a list that contains only the elements that are common between the lists (without duplicates). Make sure your program works on two lists of different sizes.\n",
    "\n"
   ]
  },
  {
   "cell_type": "code",
   "execution_count": 233,
   "metadata": {},
   "outputs": [],
   "source": [
    "def intersection(list_a, list_b):\n",
    "    \"\"\"\n",
    "    input: two integer lists\n",
    "    output: intersection of lists\n",
    "    \"\"\"\n",
    "    \n",
    "    return set(list_a).intersection(set(list_b))"
   ]
  },
  {
   "cell_type": "code",
   "execution_count": 236,
   "metadata": {},
   "outputs": [
    {
     "data": {
      "text/plain": [
       "{3, 5, 8, 10}"
      ]
     },
     "execution_count": 236,
     "metadata": {},
     "output_type": "execute_result"
    }
   ],
   "source": [
    "list_a = [1, 3, 5, 3, 7, 8, 8, 9, 10]\n",
    "list_b = [2, 4, 5, 3, 6, 8, 8, 8, 10]\n",
    "\n",
    "intersection(list_a, list_b)"
   ]
  },
  {
   "cell_type": "markdown",
   "metadata": {},
   "source": [
    "# 5. Exercise\n",
    "\n",
    "Given the list of currency pairs"
   ]
  },
  {
   "cell_type": "code",
   "execution_count": 237,
   "metadata": {},
   "outputs": [],
   "source": [
    "ccy_pairs = [\n",
    "    'GBP/USD', 'EUR/USD', 'USD/JPY',\n",
    "    'EUR/GBP', 'USD/CAD', 'GBP/JPY',\n",
    "    'AUD/USD']"
   ]
  },
  {
   "cell_type": "markdown",
   "metadata": {},
   "source": [
    "Write a list comprehension to obtain the list of currencies quoted against the pound sterling."
   ]
  },
  {
   "cell_type": "code",
   "execution_count": 240,
   "metadata": {},
   "outputs": [],
   "source": [
    "def find_gbp(ccy_pairs):\n",
    "    \"\"\"\n",
    "    input: two integer lists\n",
    "    output: intersection of lists\n",
    "    \"\"\"\n",
    "    list_pairs_against_gbp = []\n",
    "    \n",
    "    for pair in ccy_pairs:\n",
    "        if \"GBP\" in pair: ## Check if \"GBP\" is in this pair\n",
    "            index_slash = pair.find(\"/\")\n",
    "            \n",
    "            if pair[:index_slash] == \"GBP\":\n",
    "                list_pairs_against_gbp.append(pair[index_slash+1:])\n",
    "            else:\n",
    "                list_pairs_against_gbp.append(pair[:index_slash])\n",
    "        \n",
    "    return list_pairs_against_gbp"
   ]
  },
  {
   "cell_type": "code",
   "execution_count": 241,
   "metadata": {},
   "outputs": [
    {
     "data": {
      "text/plain": [
       "['USD', 'EUR', 'JPY']"
      ]
     },
     "execution_count": 241,
     "metadata": {},
     "output_type": "execute_result"
    }
   ],
   "source": [
    "find_gbp(ccy_pairs)"
   ]
  },
  {
   "cell_type": "markdown",
   "metadata": {},
   "source": [
    "# 6. Exercise"
   ]
  },
  {
   "cell_type": "markdown",
   "metadata": {},
   "source": [
    "In this exercise, we construct an artificial list of trades.\n",
    "Each trade is represented by a `tuple` with the following characteristics:\n",
    "- Ticker being trader\n",
    "- Time of the trade\n",
    "- size (in GBP) of the trade\n",
    "- Buy \"B\" or Sell \"S\" order"
   ]
  },
  {
   "cell_type": "code",
   "execution_count": 242,
   "metadata": {},
   "outputs": [],
   "source": [
    "import datetime as dt\n",
    "import random"
   ]
  },
  {
   "cell_type": "code",
   "execution_count": 243,
   "metadata": {},
   "outputs": [],
   "source": [
    "current_time = dt.datetime.now()\n",
    "tickers = [\"PFE\", \"BTC\", \"AAPL\", \"AMZN\", \"GOOG\", \"VIX\", \"SPX\"]\n",
    "list_trades = []\n",
    "order_time = current_time\n",
    "\n",
    "nb_trades = random.randint(100, 200)*20\n",
    "for _ in range(nb_trades):\n",
    "    order_ticker = tickers[random.randint(0,len(tickers)-1)]\n",
    "    order_time = order_time + dt.timedelta(seconds=random.randint(2, 10))\n",
    "    order_size = 100*random.random() + 10*random.random()\n",
    "    order_type = \"B\" if random.random()>0.5 else \"S\"\n",
    "    \n",
    "    list_trades.append((order_ticker, order_time, order_size, order_type))"
   ]
  },
  {
   "cell_type": "markdown",
   "metadata": {},
   "source": [
    "Assuming you only have access to the datafile `list_trades` (and not to `nb_trades` nor `tickers`) , you are asked to write `python` scripts returning the answers to the following questions:\n",
    "\n",
    "- What is the type of `list_trades`?\n",
    "- What is the type of each element of `list_trades`?\n",
    "- How many trades are there in our example dataset?\n",
    "- Convert `list_trades` into a list of dictionaries, where the keys are 'ticker', 'time', 'value', 'direction'. The output should be stored in an object called `data_dict`.\n",
    "- Determine the value of the very first and the very last trades in this time interval for each ticker.\n",
    "- How many times each ticker was traded during the period?\n",
    "- Return the average value of all trades for each ticker during the period."
   ]
  },
  {
   "cell_type": "markdown",
   "metadata": {},
   "source": [
    "What is the type of list_trades?"
   ]
  },
  {
   "cell_type": "code",
   "execution_count": 244,
   "metadata": {},
   "outputs": [
    {
     "data": {
      "text/plain": [
       "list"
      ]
     },
     "execution_count": 244,
     "metadata": {},
     "output_type": "execute_result"
    }
   ],
   "source": [
    "type(list_trades)"
   ]
  },
  {
   "cell_type": "markdown",
   "metadata": {},
   "source": [
    "What is the type of each element of list_trades?"
   ]
  },
  {
   "cell_type": "code",
   "execution_count": 245,
   "metadata": {},
   "outputs": [
    {
     "data": {
      "text/plain": [
       "{tuple}"
      ]
     },
     "execution_count": 245,
     "metadata": {},
     "output_type": "execute_result"
    }
   ],
   "source": [
    "set(type(list_trade) for list_trade in list_trades)"
   ]
  },
  {
   "cell_type": "markdown",
   "metadata": {},
   "source": [
    "How many trades are there in our example dataset?"
   ]
  },
  {
   "cell_type": "code",
   "execution_count": 246,
   "metadata": {},
   "outputs": [
    {
     "data": {
      "text/plain": [
       "3280"
      ]
     },
     "execution_count": 246,
     "metadata": {},
     "output_type": "execute_result"
    }
   ],
   "source": [
    "len(list_trades)"
   ]
  },
  {
   "cell_type": "code",
   "execution_count": 247,
   "metadata": {},
   "outputs": [
    {
     "data": {
      "text/plain": [
       "('AMZN',\n",
       " datetime.datetime(2024, 10, 20, 12, 22, 50, 89525),\n",
       " 74.9886278757037,\n",
       " 'S')"
      ]
     },
     "execution_count": 247,
     "metadata": {},
     "output_type": "execute_result"
    }
   ],
   "source": [
    "list_trades[0]"
   ]
  },
  {
   "cell_type": "markdown",
   "metadata": {},
   "source": [
    "Convert list_trades into a list of dictionaries, where the keys are 'ticker', 'time', 'value', 'direction'. The output should be stored in an object called data_dict.\n",
    "Determine the value of the very first and the very last trades in this time interval for each ticker."
   ]
  },
  {
   "cell_type": "code",
   "execution_count": 248,
   "metadata": {},
   "outputs": [],
   "source": [
    "mydict = {'ticker':None, 'time':None, 'value':None, 'direction':None}\n",
    "mydict = {}"
   ]
  },
  {
   "cell_type": "code",
   "execution_count": 249,
   "metadata": {},
   "outputs": [],
   "source": [
    "for (i,l) in enumerate(list_trades):\n",
    "    mydict_temp = {'ticker':l[0], 'time':l[1], 'value':l[2], 'direction':l[3]}\n",
    "    mydict[i] = mydict_temp"
   ]
  },
  {
   "cell_type": "markdown",
   "metadata": {},
   "source": [
    "How many times each ticker was traded during the period?"
   ]
  },
  {
   "cell_type": "code",
   "execution_count": 250,
   "metadata": {},
   "outputs": [
    {
     "name": "stdout",
     "output_type": "stream",
     "text": [
      "Number of trades of GOOG : 442\n",
      "Number of trades of AMZN : 474\n",
      "Number of trades of PFE : 491\n",
      "Number of trades of BTC : 470\n",
      "Number of trades of SPX : 474\n",
      "Number of trades of VIX : 468\n",
      "Number of trades of AAPL : 461\n"
     ]
    }
   ],
   "source": [
    "list_tickers = set([l[0] for l in list_trades]) ## list of tickers (without duplicates)\n",
    "\n",
    "for ticker in list_tickers:\n",
    "    nbtrades = sum([1 for trade in list_trades if trade[0] == ticker])\n",
    "    print(\"Number of trades of\", ticker, \":\", nbtrades)"
   ]
  },
  {
   "cell_type": "markdown",
   "metadata": {},
   "source": [
    "Return the average value of all trades for each ticker during the period."
   ]
  },
  {
   "cell_type": "code",
   "execution_count": 251,
   "metadata": {},
   "outputs": [
    {
     "name": "stdout",
     "output_type": "stream",
     "text": [
      "Average trade value for GOOG : 53.3972\n",
      "Average trade value for AMZN : 54.2998\n",
      "Average trade value for PFE : 53.2092\n",
      "Average trade value for BTC : 56.7521\n",
      "Average trade value for SPX : 56.5676\n",
      "Average trade value for VIX : 55.5205\n",
      "Average trade value for AAPL : 53.8307\n"
     ]
    }
   ],
   "source": [
    "list_tickers = set([l[0] for l in list_trades]) ## list of tickers (without duplicates)\n",
    "for ticker in list_tickers:\n",
    "    trades_ticker = [trade[2] for trade in list_trades if trade[0] == ticker]\n",
    "    avgtrade = sum(trades_ticker) / len(trades_ticker)\n",
    "    print(\"Average trade value for\", ticker, \":\", np.round(avgtrade, 4))"
   ]
  }
 ],
 "metadata": {
  "kernelspec": {
   "display_name": "Python 3 (ipykernel)",
   "language": "python",
   "name": "python3"
  },
  "language_info": {
   "codemirror_mode": {
    "name": "ipython",
    "version": 3
   },
   "file_extension": ".py",
   "mimetype": "text/x-python",
   "name": "python",
   "nbconvert_exporter": "python",
   "pygments_lexer": "ipython3",
   "version": "3.11.7"
  }
 },
 "nbformat": 4,
 "nbformat_minor": 4
}
