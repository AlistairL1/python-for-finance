{
 "cells": [
  {
   "cell_type": "markdown",
   "metadata": {},
   "source": [
    "# **INTRODUCTION TO PYTHON -- Exercises**\n",
    "## **MSc in Mathematics and Finance 2024-2025**\n",
    "---\n",
    "<img src=\"Imperial_logo.png\" align = \"left\" width=250>\n",
    " <br><br><br> "
   ]
  },
  {
   "cell_type": "markdown",
   "metadata": {},
   "source": [
    "# 1. Exercise:\n",
    "\n",
    "Consider the `input_list` = [1, 4, 9, 16, 25, 36, 49, 64, 81, 100].\n",
    "\n",
    "Write a `python` function that takes `input_list` as input and outputsa new list containing only the even elements of `input_list`."
   ]
  },
  {
   "cell_type": "code",
   "execution_count": 55,
   "metadata": {},
   "outputs": [],
   "source": [
    "def even_only(input_list):\n",
    "    \"\"\"\n",
    "    input: list of integers\n",
    "    \n",
    "    \n",
    "    output: list of even ibntegers\n",
    "    \n",
    "    \"\"\"\n",
    "    \n",
    "    ### Your code goes here\n",
    "    return even_list"
   ]
  },
  {
   "cell_type": "markdown",
   "metadata": {},
   "source": [
    "# 2. Exercise\n",
    "\n",
    "Create a function that finds all the integer divisors of an input integer."
   ]
  },
  {
   "cell_type": "code",
   "execution_count": null,
   "metadata": {},
   "outputs": [],
   "source": [
    "def find_divisors(input_integer):\n",
    "    \"\"\"\n",
    "    input: input integer\n",
    "    \n",
    "    \n",
    "    output: list of divisors\n",
    "    \n",
    "    \"\"\"\n",
    "    \n",
    "    ### Your code goes here\n",
    "    return even_list"
   ]
  },
  {
   "cell_type": "markdown",
   "metadata": {},
   "source": [
    "# 3. Exercise\n",
    "Create a function to determine whether a number is prime or not. \n",
    "You should use your answer to Exercise 2 to help you. "
   ]
  },
  {
   "cell_type": "code",
   "execution_count": null,
   "metadata": {},
   "outputs": [],
   "source": [
    "def check_prime(input_integer):\n",
    "    \"\"\"\n",
    "    input: input integer\n",
    "    \n",
    "    \n",
    "    output: boolean true or false\n",
    "    \n",
    "    \"\"\"\n",
    "    \n",
    "    ### Your code goes here\n",
    "    return is_prime"
   ]
  },
  {
   "cell_type": "markdown",
   "metadata": {},
   "source": [
    "# 4. Exercise\n",
    "Take two lists, say for example these two:\n",
    "\n",
    "  list_a = [1, 1, 2, 3, 5, 8, 13, 21, 34, 55, 89]\n",
    "  \n",
    "  list_b = [1, 2, 3, 4, 5, 6, 7, 8, 9, 10, 11, 12, 13]\n",
    "  \n",
    "and write a program that returns a list that contains only the elements that are common between the lists (without duplicates). Make sure your program works on two lists of different sizes.\n",
    "\n"
   ]
  },
  {
   "cell_type": "code",
   "execution_count": null,
   "metadata": {},
   "outputs": [],
   "source": [
    "def intersection(list_a,list_b):\n",
    "    \"\"\"\n",
    "    input: two integer lists\n",
    "    \n",
    "    \n",
    "    output: intersection of lists\n",
    "    \n",
    "    \"\"\"\n",
    "    \n",
    "    ### Your code goes here\n",
    "    return intersec_list"
   ]
  },
  {
   "cell_type": "markdown",
   "metadata": {},
   "source": [
    "# 5. Exercise\n",
    "\n",
    "Given the list of currency pairs"
   ]
  },
  {
   "cell_type": "code",
   "execution_count": 56,
   "metadata": {},
   "outputs": [],
   "source": [
    "ccy_pairs = [\n",
    "    'GBP/USD', 'EUR/USD', 'USD/JPY',\n",
    "    'EUR/GBP', 'USD/CAD', 'GBP/JPY',\n",
    "    'AUD/USD']"
   ]
  },
  {
   "cell_type": "markdown",
   "metadata": {},
   "source": [
    "Write a list comprehension to obtain the list of currencies quoted against the pound sterling."
   ]
  },
  {
   "cell_type": "markdown",
   "metadata": {},
   "source": [
    "# 6. Exercise"
   ]
  },
  {
   "cell_type": "markdown",
   "metadata": {},
   "source": [
    "In this exercise, we construct an artificial list of trades.\n",
    "Each trade is represented by a `tuple` with the following characteristics:\n",
    "- Ticker being trader\n",
    "- Time of the trade\n",
    "- size (in GBP) of the trade\n",
    "- Buy \"B\" or Sell \"S\" order"
   ]
  },
  {
   "cell_type": "code",
   "execution_count": 47,
   "metadata": {},
   "outputs": [],
   "source": [
    "import datetime as dt\n",
    "import random"
   ]
  },
  {
   "cell_type": "code",
   "execution_count": 53,
   "metadata": {},
   "outputs": [],
   "source": [
    "current_time = dt.datetime.now()\n",
    "tickers = [\"PFE\", \"BTC\", \"AAPL\", \"AMZN\", \"GOOG\", \"VIX\", \"SPX\"]\n",
    "list_trades = []\n",
    "order_time = current_time\n",
    "\n",
    "nb_trades = random.randint(100, 200)*20\n",
    "for _ in range(nb_trades):\n",
    "    order_ticker = tickers[random.randint(0,len(tickers)-1)]\n",
    "    order_time = order_time + dt.timedelta(seconds=random.randint(2, 10))\n",
    "    order_size = 100*random.random() + 10*random.random()\n",
    "    order_type = \"B\" if random.random()>0.5 else \"S\"\n",
    "    \n",
    "    list_trades.append((order_ticker, order_time, order_size, order_type))"
   ]
  },
  {
   "cell_type": "markdown",
   "metadata": {},
   "source": [
    "Assuming you only have access to the datafile `list_trades` (and not to `nb_trades` nor `tickers`) , you are asked to write `python` scripts returning the answers to the following questions:\n",
    "\n",
    "- What is the type of `list_trades`?\n",
    "- What is the type of each element of `list_trades`?\n",
    "- How many trades are there in our example dataset?\n",
    "- Convert `list_trades` into a list of dictionaries, where the keys are 'ticker', 'time', 'value', 'direction'. The output should be stored in an object called `data_dict`.\n",
    "- Determine the value of the very first and the very last trades in this time interval for each ticker.\n",
    "- How many times each ticker was traded during the period?\n",
    "- Return the average value of all trades for each ticker during the period."
   ]
  },
  {
   "cell_type": "markdown",
   "metadata": {},
   "source": [
    " out quickly and fluently."
   ]
  }
 ],
 "metadata": {
  "kernelspec": {
   "display_name": "Python 3 (ipykernel)",
   "language": "python",
   "name": "python3"
  },
  "language_info": {
   "codemirror_mode": {
    "name": "ipython",
    "version": 3
   },
   "file_extension": ".py",
   "mimetype": "text/x-python",
   "name": "python",
   "nbconvert_exporter": "python",
   "pygments_lexer": "ipython3",
   "version": "3.11.7"
  }
 },
 "nbformat": 4,
 "nbformat_minor": 4
}
