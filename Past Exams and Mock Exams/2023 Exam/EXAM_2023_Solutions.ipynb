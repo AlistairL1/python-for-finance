{
 "cells": [
  {
   "cell_type": "markdown",
   "id": "57a92fec-5b12-4da6-833f-a02680858cdb",
   "metadata": {},
   "source": [
    "Python for Finance --- Final Exam\n",
    "----\n",
    "\n",
    "**MSc in Mathematics and Finance, Imperial College London**\n",
    "\n",
    "Autumn Term 2023-2024\n",
    "\n",
    "Monday 11 December 2023\n",
    "***\n"
   ]
  },
  {
   "cell_type": "markdown",
   "id": "6e85bae0-d299-4fb8-9c9e-791ac67f378c",
   "metadata": {},
   "source": [
    "## GENERAL INSTRUCTIONS\n",
    "\n",
    "\n",
    "- For each question, you are asked to create a function with specific inputs and outputs.\n",
    "\n",
    "- You should copy / paste all your functions, one after the others, in a single file named `CID.py`\n",
    "\n",
    "- You may only use the libraries below\n",
    "\n",
    "- Grading details:\n",
    "    + Clarity of the code (name of temporary variables, comments)\n",
    "    + Efficiency of the code (speed)\n",
    "    \n",
    "- At the end of the examination, you should update your CID.py file into the Shared Drive folder\n",
    "xxxx\n"
   ]
  },
  {
   "cell_type": "markdown",
   "id": "dd41fd9d-d211-4f66-b127-9db377bb93a3",
   "metadata": {},
   "source": [
    "---"
   ]
  },
  {
   "cell_type": "code",
   "execution_count": 1,
   "id": "40f81878",
   "metadata": {
    "ExecuteTime": {
     "end_time": "2024-11-25T10:08:24.121680Z",
     "start_time": "2024-11-25T10:08:24.106182Z"
    }
   },
   "outputs": [
    {
     "name": "stdout",
     "output_type": "stream",
     "text": [
      "Current Python Version 3.10.15\n"
     ]
    }
   ],
   "source": [
    "import platform\n",
    "print(\"Current Python Version\",platform.python_version())\n",
    "if platform.python_version()<\"3.10\":\n",
    "    print(\"ERROR: you are using a Python version lower than 3.10\")"
   ]
  },
  {
   "cell_type": "markdown",
   "id": "e6d810ab-caf9-4f91-9fc2-415ffaa13c72",
   "metadata": {},
   "source": [
    "### Allowed libraries ONLY"
   ]
  },
  {
   "cell_type": "code",
   "execution_count": 2,
   "id": "5c2dc786-84d8-477a-8b95-978b40156e1e",
   "metadata": {},
   "outputs": [],
   "source": [
    "import numpy as np\n",
    "from abc import ABC,abstractmethod\n",
    "import time as time\n",
    "import pandas as pd"
   ]
  },
  {
   "cell_type": "markdown",
   "id": "5261bf3a-4a68-4147-a3aa-b89b0a2acf7f",
   "metadata": {
    "tags": []
   },
   "source": [
    "# PROBLEM I : OOP and Bonds (Q1 10 POINTS | Q2 10 POINTS | Q3 10 POINTS)\n",
    "---"
   ]
  },
  {
   "cell_type": "markdown",
   "id": "bceb7cd8-8889-4f54-9fee-e4ae69e41dff",
   "metadata": {},
   "source": [
    "Consider the following two dynamic models for the short rate, for $t\\geq 0$,:\n",
    "\n",
    "\\begin{align} r_t &=r_0,\\quad &\\text{(Model 1: Constant)} \\\\\n",
    "r_t &= r_0 e^{-a t} +  b\\left(1- e^{-a t}\\right) + \\sigma e^{-a t}\\int_0^t e^{a s}\\,dW_s,\\quad &\\text{(Model 2: Vasicek)}\\end{align}\n",
    "\n",
    "where $(W_t)_{t\\geq 0}$ is a standard Brownian motion.\n",
    "\n",
    "For a given maturity, the price of a Zero Coupon Bond (ZCP) is given by:\n",
    "\n",
    "**(Model 1: Constant)**\n",
    "\\begin{align}\n",
    "  ZCB^{BM}(T) &= e^{-r_0 T}.\n",
    "\\end{align}\n",
    "\n",
    "**(Model 2: Bachelier)**\n",
    "\\begin{align}\n",
    "  ZCB^{Vasicek}(T) &=  e^{A(T) - B(T)r_0}, \\text{where} \\\\\n",
    "B(T) &:= \\frac{1 - e^{-aT}}{a}\\\\\n",
    "A(T) &= \\left(b - \\frac{\\sigma^2}{2a^2}\\right)\\left[B(T) - T)\\right] - \\frac{\\sigma^2}{4a}B^2(T)\n",
    "\\end{align}\n"
   ]
  },
  {
   "cell_type": "markdown",
   "id": "8c816518",
   "metadata": {},
   "source": [
    "We will implement a InterestRateEngine base class that computes sensitivities of ZCB to the time to maturity parameter.\n",
    "The base class will derive in two subclassess 1) C0nstant and 2) Vasicek."
   ]
  },
  {
   "cell_type": "markdown",
   "id": "303c48ab",
   "metadata": {},
   "source": [
    "## Question 1:\n",
    "\n",
    "Implement a `price_zero_coupon_bond(self,T:float)` method for each model following the equations described above for $ZCB(T)$ and the class template given below\n",
    "\n",
    "Input:\n",
    "- T: float time to maturity\n",
    "\n",
    "\n",
    "Output:\n",
    "- float zero coupon bond price\n"
   ]
  },
  {
   "cell_type": "code",
   "execution_count": 3,
   "id": "eab51299",
   "metadata": {},
   "outputs": [],
   "source": [
    "class InterestRateEngine(ABC):\n",
    "    def __init__(self, r0):\n",
    "        self.r0=r0\n",
    "    \n",
    "    def theta_zero_coupon_bond(self,T:float,epsilon:float)->float:\n",
    "        '''\n",
    "        #Inputs:\n",
    "        T: time to maturity\n",
    "        epsilon: finite difference bump parameter\n",
    "        #Outputs:\n",
    "        finite difference theta value\n",
    "        '''\n",
    "        T_plus=T+epsilon\n",
    "        T_minus=T-epsilon\n",
    "        epsilon_plus_price = self.price_zero_coupon_bond(T_plus)\n",
    "        epsilon_minus_price=self.price_zero_coupon_bond(T_minus)\n",
    "    \n",
    "        theta = (epsilon_plus_price - epsilon_minus_price) / 2.0/epsilon\n",
    "\n",
    "        return theta\n",
    "    \n",
    "        \n",
    "    @abstractmethod\n",
    "    def price_zero_coupon_bond(self,T:float)->float:\n",
    "        '''\n",
    "        #Inputs:\n",
    "        T: time to maturity\n",
    "        #Outputs:\n",
    "        zero coupon bond price\n",
    "        '''\n",
    "        \n",
    "        pass\n",
    "\n",
    "    def compute_term_structure(self,T_array:np.array)->np.array:\n",
    "        return np.array([self.price_zero_coupon_bond(T) for T in T_array])\n",
    "    \n",
    "class Constant(InterestRateEngine): \n",
    "    def __init__(self, r0):\n",
    "        super().__init__(r0)\n",
    "        \n",
    "    def price_zero_coupon_bond(self,T:float)->float:\n",
    "        \"\"\"\n",
    "        # Inputs:\n",
    "        T: time to maturity\n",
    "        #Output: \n",
    "        float zero coupon bond price in constant interest rate\n",
    "        \"\"\"\n",
    "        \n",
    "        return np.exp(-self.r0*T)\n",
    "    \n",
    "\n",
    "class Vasicek(InterestRateEngine):\n",
    "    def __init__(self, r0,sigma,a,b):\n",
    "        \"\"\"\n",
    "         # Constructor Inputs:\n",
    "         r_0,sigma,a,b need to be initiated!!!\n",
    "        \"\"\"\n",
    "        super().__init__(r0)\n",
    "        self.sigma=sigma\n",
    "        self.a=a\n",
    "        self.b=b\n",
    "        pass\n",
    "        \n",
    "    def price_zero_coupon_bond(self,T:float)->float:\n",
    "        \"\"\"\n",
    "        # Inputs:\n",
    "        T: time to maturity\n",
    "        # Outputs:\n",
    "        zero coupon bond price calculated by Vasicek\n",
    "        \"\"\"\n",
    "        # calculate auxiliary variables\n",
    "        B=(1-np.exp(-self.a*T))/self.a\n",
    "        sigma_squared=self.sigma**2\n",
    "        A=(self.b-sigma_squared/2/(self.a**2))*(B-T)-sigma_squared/4/self.a*(B**2)\n",
    "        \n",
    "        # calculate ZCB price\n",
    "        \n",
    "        return np.exp(A-B*self.r0)\n",
    "    "
   ]
  },
  {
   "cell_type": "markdown",
   "id": "91aa66ed",
   "metadata": {},
   "source": [
    "#### You may also use the following script to verify your results:"
   ]
  },
  {
   "cell_type": "code",
   "execution_count": 4,
   "id": "6e7c4a38",
   "metadata": {},
   "outputs": [],
   "source": [
    "def test_function_problem1_Constant(r0:float,T:float):\n",
    "    engine=Constant(r0)\n",
    "    return engine.price_zero_coupon_bond(T)"
   ]
  },
  {
   "cell_type": "code",
   "execution_count": 5,
   "id": "fb27f167",
   "metadata": {},
   "outputs": [],
   "source": [
    "def test_function_problem1_Vasicek(r0:float,sigma:float,a:float,b:float,T:float):\n",
    "    engine=Vasicek(r0,sigma,a,b)\n",
    "    return engine.price_zero_coupon_bond(T)"
   ]
  },
  {
   "cell_type": "markdown",
   "id": "f6adffff",
   "metadata": {},
   "source": [
    "`test_function_problem1_Constant(0.05,2)` should return `0.9048374180359595`"
   ]
  },
  {
   "cell_type": "markdown",
   "id": "70054c97",
   "metadata": {},
   "source": [
    "`test_function_problem1_Vasicek(0.05,1,0.5,1,2)` should return `0.8810807717724546`\n",
    "\n",
    "`test_function_problem1_Vasicek(0.01,1,0.5,1,1)` should return `0.900824962165929`"
   ]
  },
  {
   "cell_type": "code",
   "execution_count": 6,
   "id": "b6bdc26c",
   "metadata": {
    "scrolled": true
   },
   "outputs": [
    {
     "data": {
      "text/plain": [
       "0.9048374180359595"
      ]
     },
     "execution_count": 6,
     "metadata": {},
     "output_type": "execute_result"
    }
   ],
   "source": [
    "test_function_problem1_Constant(0.05,2)"
   ]
  },
  {
   "cell_type": "code",
   "execution_count": 7,
   "id": "e71bacba-c3e3-4499-9df7-961dbaf2beae",
   "metadata": {},
   "outputs": [
    {
     "data": {
      "text/plain": [
       "0.8810807717724546"
      ]
     },
     "execution_count": 7,
     "metadata": {},
     "output_type": "execute_result"
    }
   ],
   "source": [
    "test_function_problem1_Vasicek(0.05,1,0.5,1,2)"
   ]
  },
  {
   "cell_type": "code",
   "execution_count": 8,
   "id": "282d6780-aff0-4f9c-915e-78211ed179ac",
   "metadata": {},
   "outputs": [
    {
     "data": {
      "text/plain": [
       "0.900824962165929"
      ]
     },
     "execution_count": 8,
     "metadata": {},
     "output_type": "execute_result"
    }
   ],
   "source": [
    "test_function_problem1_Vasicek(0.01,1,0.5,1,1)"
   ]
  },
  {
   "cell_type": "markdown",
   "id": "8a41e87c-e090-4f08-868f-6d8de2c99ad2",
   "metadata": {},
   "source": [
    "## Question 2:\n",
    "\n",
    "Write a `theta_zero_coupon_bond(self,T:float,epsilon:float)` base class method with the folowing specifications:\n",
    "\n",
    "Input:\n",
    "- T: float time to maturity\n",
    "- epsilon: float finite difference parameter\n",
    "\n",
    "Output:\n",
    "- Finite-difference teta computed using the following formula:\n",
    "\n",
    "$$\n",
    "\\Theta(T,\\epsilon)=\\frac{ZCB(T+\\epsilon)-ZCB(T-\\epsilon)}{2\\epsilon}, \\quad \\text{for }\\epsilon>0.\n",
    "$$\n"
   ]
  },
  {
   "cell_type": "markdown",
   "id": "0a128ae0-ff51-435a-955f-8e0d6a7f3e6d",
   "metadata": {},
   "source": [
    "#### You may also use the following script to check your results:"
   ]
  },
  {
   "cell_type": "code",
   "execution_count": 9,
   "id": "4add5e3b-4c24-4d15-a399-77db93736b50",
   "metadata": {},
   "outputs": [],
   "source": [
    "def test_function_problem2_Constant(r0:float,T:float,epsilon:float):\n",
    "    engine=Constant(r0)\n",
    "    return engine.theta_zero_coupon_bond(T,epsilon)"
   ]
  },
  {
   "cell_type": "code",
   "execution_count": 10,
   "id": "731f7ae6",
   "metadata": {},
   "outputs": [],
   "source": [
    "def test_function_problem2_Vasicek(r0:float,sigma:float,a:float,b:float,T:float,epsilon:float):\n",
    "    engine=Vasicek(r0,sigma,a,b)\n",
    "    return engine.theta_zero_coupon_bond(T,epsilon)"
   ]
  },
  {
   "cell_type": "markdown",
   "id": "850a281a",
   "metadata": {},
   "source": [
    "`test_function_problem2_Constant(0.05,2,0.001)` should return `-0.04524187092069809`"
   ]
  },
  {
   "cell_type": "markdown",
   "id": "1e4692ea",
   "metadata": {},
   "source": [
    "`test_function_problem2_Vasicek(0.01,1,0.5,1,1,0.001)` should return `-0.08098269117329249`\n",
    "\n",
    "`test_function_problem2_Vasicek(0.05,1,0.5,1,2,0.001)` should return `0.1309623404895377`"
   ]
  },
  {
   "cell_type": "code",
   "execution_count": 11,
   "id": "2694bd48",
   "metadata": {},
   "outputs": [
    {
     "data": {
      "text/plain": [
       "-0.04524187092069809"
      ]
     },
     "execution_count": 11,
     "metadata": {},
     "output_type": "execute_result"
    }
   ],
   "source": [
    "test_function_problem2_Constant(0.05,2,0.001)"
   ]
  },
  {
   "cell_type": "code",
   "execution_count": 12,
   "id": "8975dce2",
   "metadata": {},
   "outputs": [
    {
     "data": {
      "text/plain": [
       "-0.08098269117329249"
      ]
     },
     "execution_count": 12,
     "metadata": {},
     "output_type": "execute_result"
    }
   ],
   "source": [
    "test_function_problem2_Vasicek(0.01,1,0.5,1,1,0.001)"
   ]
  },
  {
   "cell_type": "code",
   "execution_count": 13,
   "id": "b0c7d2bd-234d-4c87-b960-1a786c0c48e1",
   "metadata": {},
   "outputs": [
    {
     "data": {
      "text/plain": [
       "0.1309623404895377"
      ]
     },
     "execution_count": 13,
     "metadata": {},
     "output_type": "execute_result"
    }
   ],
   "source": [
    "test_function_problem2_Vasicek(0.05,1,0.5,1,2,0.001)"
   ]
  },
  {
   "cell_type": "markdown",
   "id": "35935570-6901-4400-a537-9e22392a939f",
   "metadata": {},
   "source": [
    "## Question 3:\n",
    "\n",
    "Write a `compute_term_structure(self,T_array:np.array)->np.array` base class method with the folowing specifications:\n",
    "\n",
    "Input:\n",
    "- T_array: np.float time to maturity np.array\n",
    "\n",
    "Output:\n",
    "- Array of zero coupon bond prices for different maturities given by T_array e.g. $\\{ZCB_{T_i}\\}_{i=1,...n}$ where T_array$:=[T_1,...,T_n]$\n",
    "\n"
   ]
  },
  {
   "cell_type": "markdown",
   "id": "75582992-ff25-42f9-8a29-69fa8f221fa2",
   "metadata": {},
   "source": [
    "#### You may also use the following script to check your results:"
   ]
  },
  {
   "cell_type": "code",
   "execution_count": 14,
   "id": "adf8167d-27ef-45cb-80d3-74c313299d3f",
   "metadata": {},
   "outputs": [],
   "source": [
    "def test_function_problem3_Constant(r0:float,T_array:np.array)->np.array:\n",
    "    engine=Constant(r0)\n",
    "    return engine.compute_term_structure(T_array)"
   ]
  },
  {
   "cell_type": "code",
   "execution_count": 15,
   "id": "3483a5d3-7ca0-4268-983c-550ff4ab2932",
   "metadata": {},
   "outputs": [],
   "source": [
    "def test_function_problem3_Vasicek(r0:float,sigma:float,a:float,b:float,T_array:np.array)->np.array:\n",
    "    engine=Vasicek(r0,sigma,a,b)\n",
    "    return engine.compute_term_structure(T_array)"
   ]
  },
  {
   "cell_type": "code",
   "execution_count": 16,
   "id": "65857832-8fba-4fff-b7a9-17930a128345",
   "metadata": {},
   "outputs": [
    {
     "data": {
      "text/plain": [
       "array([0.99501248, 0.97530991, 0.95122942])"
      ]
     },
     "execution_count": 16,
     "metadata": {},
     "output_type": "execute_result"
    }
   ],
   "source": [
    "test_function_problem3_Constant(0.05,np.array([0.1,0.5,1.0]))"
   ]
  },
  {
   "cell_type": "code",
   "execution_count": 17,
   "id": "526dfe51-1f10-4f16-ac83-beb083ea51e8",
   "metadata": {},
   "outputs": [
    {
     "data": {
      "text/plain": [
       "array([0.99673165, 0.95630287, 0.90082496])"
      ]
     },
     "execution_count": 17,
     "metadata": {},
     "output_type": "execute_result"
    }
   ],
   "source": [
    "test_function_problem3_Vasicek(0.01,1,0.5,1,np.array([0.1,0.5,1.0]))"
   ]
  },
  {
   "cell_type": "code",
   "execution_count": 18,
   "id": "288e8619-e7c2-4c87-a1a2-af581002afd9",
   "metadata": {},
   "outputs": [
    {
     "data": {
      "text/plain": [
       "array([0.99285033, 0.93952905, 0.87291084])"
      ]
     },
     "execution_count": 18,
     "metadata": {},
     "output_type": "execute_result"
    }
   ],
   "source": [
    "test_function_problem3_Vasicek(0.05,1,0.5,1,np.array([0.1,0.5,1.0]))"
   ]
  },
  {
   "cell_type": "markdown",
   "id": "f9be61a1-e925-479c-a329-ef24a934768a",
   "metadata": {},
   "source": [
    "`test_function_problem3_Constant(0.05,np.array([0.1,0.5,1.0]))` should return `array([0.99501248, 0.97530991, 0.95122942])`\n",
    "\n",
    "`test_function_problem3_Vasicek(0.01,1,0.5,1,np.array([0.1,0.5,1.0]))` should return `array([0.99673165, 0.95630287, 0.90082496])`\n",
    "\n",
    "`test_function_problem3_Vasicek(0.05,1,0.5,1,np.array([0.1,0.5,1.0]))` should return `array([0.99285033, 0.93952905, 0.87291084])`"
   ]
  },
  {
   "cell_type": "markdown",
   "id": "982dd467-fdef-473d-91f5-49cb9ee5f320",
   "metadata": {},
   "source": [
    "---\n",
    "---"
   ]
  },
  {
   "cell_type": "markdown",
   "id": "fb6df674-0b9e-4a22-8424-1f81bc4542f6",
   "metadata": {
    "tags": []
   },
   "source": [
    "# PROBLEM II: Numpy (Q1 10 POINTS | Q2 15 POINTS | Q3 15 POINTS)\n",
    "--- "
   ]
  },
  {
   "cell_type": "markdown",
   "id": "cfa8e5e0-b795-45b5-a482-e64f33adfbd7",
   "metadata": {},
   "source": [
    "### We wish to compute the expected value of $\\mathbb{E}\\left[\\Phi(\\mu,\\sigma)\\right]$, where \n",
    "### $$ \\Phi(\\mu,\\sigma) := f\\left(\\mu+\\sigma X\\right),\\quad  where X\\sim\\mathcal{N}(0,1),$$\n"
   ]
  },
  {
   "cell_type": "markdown",
   "id": "35f1eddb-3ac7-46a7-8d00-7c10d84239d9",
   "metadata": {},
   "source": [
    "## Question 1: Implement a Gaussian pdf function `gaussian_pdf(mu:float,sigma:float,x:np.array)->np.array` \n",
    "\n",
    "### where you implement the map: $$\\phi(\\mu,\\sigma,x)=\\frac{1}{\\sigma\\sqrt{2\\pi}} e^{-\\frac{1}{2}\\left(\\frac{x - \\mu}{\\sigma}\\right)^2}$$\n",
    "\n",
    "### Input:\n",
    "- mu: mean of the Gaussian distribution\n",
    "- sigma: std of the gaussian distribution\n",
    "- x; np.array of elements at which we want to evaluate the gaussian distribution\n",
    "\n",
    "### Output:\n",
    "- np.array of phi(x)\n",
    "\n"
   ]
  },
  {
   "cell_type": "code",
   "execution_count": 19,
   "id": "d9ba9136-7b32-407d-9711-1a53c68674ed",
   "metadata": {},
   "outputs": [],
   "source": [
    "def gaussian_pdf(mu:float,sigma:float,x:np.array)->np.array:\n",
    "    return 1.0/sigma/np.sqrt(2*np.pi)*np.exp(-0.5*np.power((x-mu)/sigma,2))\n",
    "    "
   ]
  },
  {
   "cell_type": "markdown",
   "id": "c1794c58-0309-42d3-94a0-3ed8055f278b",
   "metadata": {},
   "source": [
    "## Question 2: Perform the numerical integration \n",
    "\n",
    "### $$\\mathbb{E}\\left[\\Phi(\\mu,\\sigma)\\right]=\\int_{-\\infty}^{\\infty} f\\left(\\mu+\\sigma x\\right) \\phi(x) d x=\\sum_{i=1}^N f\\left(\\mu+\\sigma x_i\\right) \\phi(x_i) \\Delta x$$\n",
    "\n",
    "### where $\\Delta x:=\\frac{20}{N-1}$ and  $x_i=-10+(i-1)\\times\\Delta x$ \n",
    "\n",
    "### such that $x_1=-10$ and $x_{N-1}=10$ and $\\{x_i\\}_{i=1,...,N}$ is an equidistant grid with exactly N elements\n",
    "\n",
    "\n",
    "###  Implement a Gaussian integration function `gaussian_integration(mu:float,sigma:float,N:int,f)->float`\n",
    "\n",
    "### where you implement the numerical integration presented above\n",
    "\n",
    "### Input:\n",
    "- mu: mean of the Gaussian distribution\n",
    "- sigma: std of the gaussian distribution\n",
    "- N; integer representing the points in the numerical integration\n",
    "- f: function we wanto to apply to the standrad gaussian\n",
    "\n",
    "### Output:\n",
    "- float value of the integral\n",
    "\n",
    "### **Remark:** Note that $\\Delta x:=\\frac{20}{N-1}$\n"
   ]
  },
  {
   "cell_type": "code",
   "execution_count": 20,
   "id": "270a097d-c81f-40ae-a00f-3d39759d2a0a",
   "metadata": {},
   "outputs": [],
   "source": [
    "def gaussian_integration(mu:float,sigma:float,N:int,f)->float:\n",
    "    x=np.linspace(-10,10,N)\n",
    "    delta_x=20.0/(N-1)\n",
    "    return np.sum(f(x)*gaussian_pdf(mu,sigma,x))*delta_x"
   ]
  },
  {
   "cell_type": "markdown",
   "id": "a6fda4e7-4a10-45c5-8a5a-1f2dbfe9e259",
   "metadata": {},
   "source": [
    "\n",
    "`gaussian_integration(0,1,1000,lambda x:x**4)` should return `2.999999999999999`\n",
    "\n",
    "`gaussian_integration(2,2,20,lambda x:x**2)` should return `7.998992690548414`\n"
   ]
  },
  {
   "cell_type": "code",
   "execution_count": 21,
   "id": "018cb104-cb9b-4fa1-9d09-38a7cc373e48",
   "metadata": {},
   "outputs": [
    {
     "data": {
      "text/plain": [
       "2.999999999999999"
      ]
     },
     "execution_count": 21,
     "metadata": {},
     "output_type": "execute_result"
    }
   ],
   "source": [
    "gaussian_integration(0,1,1000,lambda x:x**4)"
   ]
  },
  {
   "cell_type": "code",
   "execution_count": 22,
   "id": "36b53fda-58a0-456e-8d55-fe7eca0db175",
   "metadata": {},
   "outputs": [
    {
     "data": {
      "text/plain": [
       "7.998992690548414"
      ]
     },
     "execution_count": 22,
     "metadata": {},
     "output_type": "execute_result"
    }
   ],
   "source": [
    "gaussian_integration(2,2,20,lambda x:x**2)"
   ]
  },
  {
   "cell_type": "markdown",
   "id": "58121793-8c8a-4a61-a755-fc81379cfca0",
   "metadata": {},
   "source": [
    "## Question 3: Perform the expected value by simulation\n",
    "### $$\\mathbb{E}\\left[\\Phi(\\mu,\\sigma)\\right]\\approx \\frac{1}{N} \\sum_{i=1}^N f\\left(\\mu+\\sigma X_i\\right) $$ where $X_i\\sim\\mathcal{N}(0,1)$ are iid samples \n",
    "\n",
    "###  Implement a Gaussian simulation function `gaussian_simulation(mu:float,sigma:float,random_array:np.array,f)->float`\n",
    "\n",
    "### Input:\n",
    "- mu: mean of the Gaussian distribution\n",
    "- sigma: std of the gaussian distribution\n",
    "- random_array: 1D np.array with standard normal e.g. N(0,1) variables\n",
    "- f: function we wanto to apply to the standrad gaussian\n",
    "\n",
    "### Output:\n",
    "- float value of the integral"
   ]
  },
  {
   "cell_type": "code",
   "execution_count": 23,
   "id": "e572fbc3-0699-47d2-bc76-04df376fbe0a",
   "metadata": {},
   "outputs": [],
   "source": [
    "def gaussian_integration(mu:float,sigma:float,random_array:np.array,f)->float:\n",
    "    \n",
    "    return np.mean(f(mu+sigma*random_array))"
   ]
  },
  {
   "cell_type": "code",
   "execution_count": 24,
   "id": "ee7f8eaf-c269-4a41-92a0-e82b3f6a2a66",
   "metadata": {},
   "outputs": [],
   "source": [
    "np.random.seed(0)\n",
    "random_array=np.random.normal(0,1,1000)"
   ]
  },
  {
   "cell_type": "markdown",
   "id": "9bf260c5-9615-4539-ba15-e31fb18ed776",
   "metadata": {},
   "source": [
    "### With the above random variables \n",
    "`gaussian_integration(0,1,random_array,lambda x:x**4)` should return `2.809093434133051`\n",
    "`gaussian_integration(2,2,random_array,lambda x:x**2)` should return `7.543076843618466`"
   ]
  },
  {
   "cell_type": "code",
   "execution_count": 25,
   "id": "b07b32e6-a570-4929-be9a-ca0e0d2bf98b",
   "metadata": {},
   "outputs": [
    {
     "data": {
      "text/plain": [
       "2.809093434133051"
      ]
     },
     "execution_count": 25,
     "metadata": {},
     "output_type": "execute_result"
    }
   ],
   "source": [
    "gaussian_integration(0,1,random_array,lambda x:x**4)"
   ]
  },
  {
   "cell_type": "code",
   "execution_count": 26,
   "id": "45e7e558-539f-4a77-9652-607a623ea109",
   "metadata": {},
   "outputs": [
    {
     "data": {
      "text/plain": [
       "7.543076843618466"
      ]
     },
     "execution_count": 26,
     "metadata": {},
     "output_type": "execute_result"
    }
   ],
   "source": [
    "gaussian_integration(2,2,random_array,lambda x:x**2)"
   ]
  },
  {
   "cell_type": "markdown",
   "id": "a662681e-6b83-4db8-ae3b-cb8214d99195",
   "metadata": {},
   "source": [
    "---\n",
    "---"
   ]
  },
  {
   "cell_type": "markdown",
   "id": "b8057d52-69f3-4ca9-be20-50516e131fd7",
   "metadata": {
    "tags": []
   },
   "source": [
    "# PROBLEM III: Pandas and Data (Q1 15 POINTS | Q2 15 POINTS)\n",
    "---"
   ]
  },
  {
   "cell_type": "markdown",
   "id": "556c7dd6-eb3a-468f-b8de-16dea17447a7",
   "metadata": {},
   "source": [
    "The file `stock_data.csv`contains financial data of stock prices for different symbols\n",
    "\n",
    "The columns of the csv file represent different stocks or indices:\n",
    "\"SP500\" is the S&P 500 index\n",
    "\"TSLA\",\"V\",\"AMD\",\"COST\" are single stocks\n",
    "\n",
    "you can read the file to pandas using the code below"
   ]
  },
  {
   "cell_type": "code",
   "execution_count": 27,
   "id": "1cc61bcc-be9c-421b-b423-1ba29778fbfd",
   "metadata": {},
   "outputs": [
    {
     "data": {
      "text/html": [
       "<div>\n",
       "<style scoped>\n",
       "    .dataframe tbody tr th:only-of-type {\n",
       "        vertical-align: middle;\n",
       "    }\n",
       "\n",
       "    .dataframe tbody tr th {\n",
       "        vertical-align: top;\n",
       "    }\n",
       "\n",
       "    .dataframe thead th {\n",
       "        text-align: right;\n",
       "    }\n",
       "</style>\n",
       "<table border=\"1\" class=\"dataframe\">\n",
       "  <thead>\n",
       "    <tr style=\"text-align: right;\">\n",
       "      <th></th>\n",
       "      <th>SP500</th>\n",
       "      <th>TSLA</th>\n",
       "      <th>V</th>\n",
       "      <th>AMD</th>\n",
       "      <th>COST</th>\n",
       "    </tr>\n",
       "    <tr>\n",
       "      <th>Date</th>\n",
       "      <th></th>\n",
       "      <th></th>\n",
       "      <th></th>\n",
       "      <th></th>\n",
       "      <th></th>\n",
       "    </tr>\n",
       "  </thead>\n",
       "  <tbody>\n",
       "    <tr>\n",
       "      <th>2010-06-29</th>\n",
       "      <td>1041.239990</td>\n",
       "      <td>1.592667</td>\n",
       "      <td>17.862499</td>\n",
       "      <td>7.48</td>\n",
       "      <td>55.630001</td>\n",
       "    </tr>\n",
       "    <tr>\n",
       "      <th>2010-06-30</th>\n",
       "      <td>1030.709961</td>\n",
       "      <td>1.588667</td>\n",
       "      <td>17.687500</td>\n",
       "      <td>7.32</td>\n",
       "      <td>54.830002</td>\n",
       "    </tr>\n",
       "    <tr>\n",
       "      <th>2010-07-01</th>\n",
       "      <td>1027.369995</td>\n",
       "      <td>1.464000</td>\n",
       "      <td>18.215000</td>\n",
       "      <td>7.39</td>\n",
       "      <td>54.900002</td>\n",
       "    </tr>\n",
       "    <tr>\n",
       "      <th>2010-07-02</th>\n",
       "      <td>1022.580017</td>\n",
       "      <td>1.280000</td>\n",
       "      <td>18.295000</td>\n",
       "      <td>7.17</td>\n",
       "      <td>54.230000</td>\n",
       "    </tr>\n",
       "    <tr>\n",
       "      <th>2010-07-06</th>\n",
       "      <td>1028.060059</td>\n",
       "      <td>1.074000</td>\n",
       "      <td>18.067499</td>\n",
       "      <td>7.04</td>\n",
       "      <td>54.000000</td>\n",
       "    </tr>\n",
       "  </tbody>\n",
       "</table>\n",
       "</div>"
      ],
      "text/plain": [
       "                  SP500      TSLA          V   AMD       COST\n",
       "Date                                                         \n",
       "2010-06-29  1041.239990  1.592667  17.862499  7.48  55.630001\n",
       "2010-06-30  1030.709961  1.588667  17.687500  7.32  54.830002\n",
       "2010-07-01  1027.369995  1.464000  18.215000  7.39  54.900002\n",
       "2010-07-02  1022.580017  1.280000  18.295000  7.17  54.230000\n",
       "2010-07-06  1028.060059  1.074000  18.067499  7.04  54.000000"
      ]
     },
     "execution_count": 27,
     "metadata": {},
     "output_type": "execute_result"
    }
   ],
   "source": [
    "df=pd.read_csv(\"stock_data.csv\",index_col=0)\n",
    "df.head()"
   ]
  },
  {
   "cell_type": "markdown",
   "id": "e3ada799-0968-4e7d-b23e-4f55b32d7ef0",
   "metadata": {
    "tags": []
   },
   "source": [
    "## Question 1: CAPM\n",
    "\n",
    "### The CAPM model is given by $$r^{stock}_{i}=\\beta r^{SP500}_i+\\alpha,\\quad for\\quad i=1,...,n$$\n",
    "\n",
    "### where $r_i=(S_i-S_{i-1})/S_{i-1}$ are stock returns either for the SP500 or a single stock. Therefore, the CAPM is a simple linear regression of a stock against the SP500"
   ]
  },
  {
   "cell_type": "markdown",
   "id": "9afe0de8-2dc0-4337-a850-dcbe1c42f889",
   "metadata": {},
   "source": [
    "---\n",
    "### Implement a function `compute_CAPM_coefficients(df:pd.DataFrame,:list_of_symbols)->pd.DataFrame` with the following specifications:\n",
    "\n",
    "### Inputs:\n",
    "  - df:pd.DataFrame input dataframe (same as the one provided above)\n",
    " - list_of_symbols:list of strings representign symbols e.g. [\"TSLA\",\"AMD\"]\n",
    "\n",
    "### Outputs:\n",
    " - Pandas Dataframe with the same columns as the input list_of_symbols and 2 rows first one being the slope and the second one being the intercept of a CAPM regression against the SP500 column\n",
    "\n",
    "---\n",
    "\n",
    "### **Note:** to perform the linear regression use `p=np.polyfit(x, y, 1)` where `p[0]` is the slope and `p[1]` the intercept\n",
    "\n",
    "### **Remark:** beware that the CAPM regression is performed on the returns and not the stock values. You will need to transform stock prices into returns first and get rid of any NaN arising from that operation (if you end up with any NaN `np.polyfit` will also return NaN)\n",
    "`"
   ]
  },
  {
   "cell_type": "code",
   "execution_count": 28,
   "id": "6fa438fa",
   "metadata": {},
   "outputs": [],
   "source": [
    "def compute_CAPM_coefficients(df:pd.DataFrame,list_of_symbols:list)->pd.DataFrame:\n",
    "    \"\"\"\n",
    "    following specification\n",
    "    Input:\n",
    "    - df:pd.DataFrame input dataframe (same as the one provided above)\n",
    "    - list_of_symbols:list of strings representign symbols e.g. [\"TSLA\",\"AMD\"]\n",
    "\n",
    "    Output:\n",
    "    - Pandas Dataframe with the same columns as the input list_of_symbols \n",
    "    and 2 rows first one being the intercept and the second one being the slope of a CAPM regression\n",
    "    \"\"\"\n",
    "\n",
    "    df_returns=df.pct_change().dropna()\n",
    "    output_df=pd.DataFrame(index=[\"slope\",\"intercept\"],columns=list_of_symbols)\n",
    "    \n",
    "    for symbol in list_of_symbols:\n",
    "        p=np.polyfit(df_returns[symbol],df_returns[\"SP500\"],1)\n",
    "        output_df[symbol]=p\n",
    "    return output_df"
   ]
  },
  {
   "cell_type": "code",
   "execution_count": 29,
   "id": "9059537b-a9bb-46f8-8aaf-240db6e166ff",
   "metadata": {},
   "outputs": [
    {
     "data": {
      "text/html": [
       "<div>\n",
       "<style scoped>\n",
       "    .dataframe tbody tr th:only-of-type {\n",
       "        vertical-align: middle;\n",
       "    }\n",
       "\n",
       "    .dataframe tbody tr th {\n",
       "        vertical-align: top;\n",
       "    }\n",
       "\n",
       "    .dataframe thead th {\n",
       "        text-align: right;\n",
       "    }\n",
       "</style>\n",
       "<table border=\"1\" class=\"dataframe\">\n",
       "  <thead>\n",
       "    <tr style=\"text-align: right;\">\n",
       "      <th></th>\n",
       "      <th>SP500</th>\n",
       "    </tr>\n",
       "  </thead>\n",
       "  <tbody>\n",
       "    <tr>\n",
       "      <th>slope</th>\n",
       "      <td>1.000000e+00</td>\n",
       "    </tr>\n",
       "    <tr>\n",
       "      <th>intercept</th>\n",
       "      <td>2.529669e-18</td>\n",
       "    </tr>\n",
       "  </tbody>\n",
       "</table>\n",
       "</div>"
      ],
      "text/plain": [
       "                  SP500\n",
       "slope      1.000000e+00\n",
       "intercept  2.529669e-18"
      ]
     },
     "execution_count": 29,
     "metadata": {},
     "output_type": "execute_result"
    }
   ],
   "source": [
    "compute_CAPM_coefficients(df,[\"SP500\"])"
   ]
  },
  {
   "cell_type": "code",
   "execution_count": 30,
   "id": "cb067930-42f9-49dc-8b3c-bfe1d2e1bd4d",
   "metadata": {},
   "outputs": [
    {
     "data": {
      "text/html": [
       "<div>\n",
       "<style scoped>\n",
       "    .dataframe tbody tr th:only-of-type {\n",
       "        vertical-align: middle;\n",
       "    }\n",
       "\n",
       "    .dataframe tbody tr th {\n",
       "        vertical-align: top;\n",
       "    }\n",
       "\n",
       "    .dataframe thead th {\n",
       "        text-align: right;\n",
       "    }\n",
       "</style>\n",
       "<table border=\"1\" class=\"dataframe\">\n",
       "  <thead>\n",
       "    <tr style=\"text-align: right;\">\n",
       "      <th></th>\n",
       "      <th>AMD</th>\n",
       "      <th>TSLA</th>\n",
       "    </tr>\n",
       "  </thead>\n",
       "  <tbody>\n",
       "    <tr>\n",
       "      <th>slope</th>\n",
       "      <td>0.153239</td>\n",
       "      <td>0.131481</td>\n",
       "    </tr>\n",
       "    <tr>\n",
       "      <th>intercept</th>\n",
       "      <td>0.000268</td>\n",
       "      <td>0.000210</td>\n",
       "    </tr>\n",
       "  </tbody>\n",
       "</table>\n",
       "</div>"
      ],
      "text/plain": [
       "                AMD      TSLA\n",
       "slope      0.153239  0.131481\n",
       "intercept  0.000268  0.000210"
      ]
     },
     "execution_count": 30,
     "metadata": {},
     "output_type": "execute_result"
    }
   ],
   "source": [
    "compute_CAPM_coefficients(df,[\"AMD\",\"TSLA\"])"
   ]
  },
  {
   "cell_type": "markdown",
   "id": "24e89402-95bd-4dc3-b406-022de0575337",
   "metadata": {},
   "source": [
    "### You may also use the following example to verify your results:"
   ]
  },
  {
   "cell_type": "markdown",
   "id": "dae181b6-9a2f-482a-8f5f-5b7ec0deda1e",
   "metadata": {},
   "source": [
    "`compute_CAPM_coefficients(df,[\"AMD\",\"TSLA\"])` should return \n",
    "\n",
    "|    | AMD   | TSLA   |  \n",
    "|---:|:-------------|:-------------|\n",
    "|  slope\t | 0.153239   | 0.131481         |\n",
    "|  intercept | 0.000268  | 0.000210        | "
   ]
  },
  {
   "cell_type": "markdown",
   "id": "2c1b68a1-f84f-4eae-8cca-e3535990ee45",
   "metadata": {},
   "source": [
    "`compute_CAPM_coefficients(df,[\"SP500\"])` should return \n",
    "\n",
    "|    | SP500   | \n",
    "|---:|:-------------|\n",
    "|  slope\t | 1.000000e+00   |\n",
    "|  intercept | 2.529669e-18  | "
   ]
  },
  {
   "cell_type": "markdown",
   "id": "d44bf53b-d353-44ce-9c70-20d21f78d543",
   "metadata": {},
   "source": [
    "## Question 2:"
   ]
  },
  {
   "cell_type": "markdown",
   "id": "30b9e5c9-87a5-47ab-ae86-0e1dc41e512a",
   "metadata": {},
   "source": [
    "### Write a function `find_max_price_per_month(df:pd.DataFrame,list_of_symbols:list)->pd.DataFrame:` with the following specifications:\n",
    "\n",
    "### Inputs:\n",
    "-df:pd.DataFrame input dataframe\n",
    "\n",
    "-list_of_symbols:list of strings representign symbols e.g. [\"TSLA\",\"AMD\"]\n",
    " \n",
    "### Outputs:\n",
    "\n",
    "- Pandas Dataframe with the same columns as the input list_of_symbols \n",
    "    and rows with an index in the form YYYY-MM e.g. 2022-01. The values returned should represent the maximum stock value per month\n",
    "\n",
    "### **Hint** As a first step it might be usefull to create an additional column named \"YYYY-MM\" where you transform the date index into that format"
   ]
  },
  {
   "cell_type": "code",
   "execution_count": 31,
   "id": "4e14541b",
   "metadata": {},
   "outputs": [],
   "source": [
    "def  find_max_price_per_month(df:pd.DataFrame,list_of_symbols:list)->pd.DataFrame:\n",
    "    \"\"\"\n",
    "    Input:\n",
    "         - df:pd.DataFrame input dataframe\n",
    "         - list_of_symbols:list of strings representign symbols e.g. [\"TSLA\",\"AMD\"]\n",
    " \n",
    "    Output:\n",
    "\n",
    "        - Pandas Dataframe with the same columns as the input list_of_symbols \n",
    "        and rows with an index in the form YYYY-MM e.g. 2022-01. The values returned shoul drepresent the maximum stock value per month\n",
    "    \"\"\"\n",
    "    output_df=df.copy()\n",
    "    output_df[\"YYYY_MM\"]=[ date[:7] for date in df.index]\n",
    "    \n",
    "    return output_df.groupby([\"YYYY_MM\"]).max()[list_of_symbols]"
   ]
  },
  {
   "cell_type": "markdown",
   "id": "0c45f12c-7ca5-4ade-9115-1b4c93414bdf",
   "metadata": {},
   "source": [
    "### You may also use the following example to verify your results:"
   ]
  },
  {
   "cell_type": "code",
   "execution_count": 32,
   "id": "115bef68-6dd7-4f70-8b89-b5d99760fa7c",
   "metadata": {},
   "outputs": [
    {
     "data": {
      "text/html": [
       "<div>\n",
       "<style scoped>\n",
       "    .dataframe tbody tr th:only-of-type {\n",
       "        vertical-align: middle;\n",
       "    }\n",
       "\n",
       "    .dataframe tbody tr th {\n",
       "        vertical-align: top;\n",
       "    }\n",
       "\n",
       "    .dataframe thead th {\n",
       "        text-align: right;\n",
       "    }\n",
       "</style>\n",
       "<table border=\"1\" class=\"dataframe\">\n",
       "  <thead>\n",
       "    <tr style=\"text-align: right;\">\n",
       "      <th></th>\n",
       "      <th>TSLA</th>\n",
       "      <th>V</th>\n",
       "    </tr>\n",
       "    <tr>\n",
       "      <th>YYYY_MM</th>\n",
       "      <th></th>\n",
       "      <th></th>\n",
       "    </tr>\n",
       "  </thead>\n",
       "  <tbody>\n",
       "    <tr>\n",
       "      <th>2010-06</th>\n",
       "      <td>1.592667</td>\n",
       "      <td>17.862499</td>\n",
       "    </tr>\n",
       "    <tr>\n",
       "      <th>2010-07</th>\n",
       "      <td>1.464000</td>\n",
       "      <td>19.344999</td>\n",
       "    </tr>\n",
       "    <tr>\n",
       "      <th>2010-08</th>\n",
       "      <td>1.463333</td>\n",
       "      <td>18.817499</td>\n",
       "    </tr>\n",
       "    <tr>\n",
       "      <th>2010-09</th>\n",
       "      <td>1.465333</td>\n",
       "      <td>18.602501</td>\n",
       "    </tr>\n",
       "    <tr>\n",
       "      <th>2010-10</th>\n",
       "      <td>1.456000</td>\n",
       "      <td>20.157499</td>\n",
       "    </tr>\n",
       "    <tr>\n",
       "      <th>...</th>\n",
       "      <td>...</td>\n",
       "      <td>...</td>\n",
       "    </tr>\n",
       "    <tr>\n",
       "      <th>2023-07</th>\n",
       "      <td>293.339996</td>\n",
       "      <td>243.990005</td>\n",
       "    </tr>\n",
       "    <tr>\n",
       "      <th>2023-08</th>\n",
       "      <td>261.070007</td>\n",
       "      <td>246.229996</td>\n",
       "    </tr>\n",
       "    <tr>\n",
       "      <th>2023-09</th>\n",
       "      <td>276.040009</td>\n",
       "      <td>248.110001</td>\n",
       "    </tr>\n",
       "    <tr>\n",
       "      <th>2023-10</th>\n",
       "      <td>263.619995</td>\n",
       "      <td>241.199997</td>\n",
       "    </tr>\n",
       "    <tr>\n",
       "      <th>2023-11</th>\n",
       "      <td>219.960007</td>\n",
       "      <td>243.600006</td>\n",
       "    </tr>\n",
       "  </tbody>\n",
       "</table>\n",
       "<p>162 rows × 2 columns</p>\n",
       "</div>"
      ],
      "text/plain": [
       "               TSLA           V\n",
       "YYYY_MM                        \n",
       "2010-06    1.592667   17.862499\n",
       "2010-07    1.464000   19.344999\n",
       "2010-08    1.463333   18.817499\n",
       "2010-09    1.465333   18.602501\n",
       "2010-10    1.456000   20.157499\n",
       "...             ...         ...\n",
       "2023-07  293.339996  243.990005\n",
       "2023-08  261.070007  246.229996\n",
       "2023-09  276.040009  248.110001\n",
       "2023-10  263.619995  241.199997\n",
       "2023-11  219.960007  243.600006\n",
       "\n",
       "[162 rows x 2 columns]"
      ]
     },
     "execution_count": 32,
     "metadata": {},
     "output_type": "execute_result"
    }
   ],
   "source": [
    "find_max_price_per_month(df,[\"TSLA\",\"V\"])"
   ]
  },
  {
   "cell_type": "code",
   "execution_count": 33,
   "id": "ed676b35-01bb-4413-b9e4-65a298a6e538",
   "metadata": {},
   "outputs": [
    {
     "data": {
      "text/html": [
       "<div>\n",
       "<style scoped>\n",
       "    .dataframe tbody tr th:only-of-type {\n",
       "        vertical-align: middle;\n",
       "    }\n",
       "\n",
       "    .dataframe tbody tr th {\n",
       "        vertical-align: top;\n",
       "    }\n",
       "\n",
       "    .dataframe thead th {\n",
       "        text-align: right;\n",
       "    }\n",
       "</style>\n",
       "<table border=\"1\" class=\"dataframe\">\n",
       "  <thead>\n",
       "    <tr style=\"text-align: right;\">\n",
       "      <th></th>\n",
       "      <th>SP500</th>\n",
       "    </tr>\n",
       "    <tr>\n",
       "      <th>YYYY_MM</th>\n",
       "      <th></th>\n",
       "    </tr>\n",
       "  </thead>\n",
       "  <tbody>\n",
       "    <tr>\n",
       "      <th>2010-06</th>\n",
       "      <td>1041.239990</td>\n",
       "    </tr>\n",
       "    <tr>\n",
       "      <th>2010-07</th>\n",
       "      <td>1115.010010</td>\n",
       "    </tr>\n",
       "    <tr>\n",
       "      <th>2010-08</th>\n",
       "      <td>1127.790039</td>\n",
       "    </tr>\n",
       "    <tr>\n",
       "      <th>2010-09</th>\n",
       "      <td>1148.670044</td>\n",
       "    </tr>\n",
       "    <tr>\n",
       "      <th>2010-10</th>\n",
       "      <td>1185.640015</td>\n",
       "    </tr>\n",
       "    <tr>\n",
       "      <th>...</th>\n",
       "      <td>...</td>\n",
       "    </tr>\n",
       "    <tr>\n",
       "      <th>2023-07</th>\n",
       "      <td>4588.959961</td>\n",
       "    </tr>\n",
       "    <tr>\n",
       "      <th>2023-08</th>\n",
       "      <td>4576.729980</td>\n",
       "    </tr>\n",
       "    <tr>\n",
       "      <th>2023-09</th>\n",
       "      <td>4515.770020</td>\n",
       "    </tr>\n",
       "    <tr>\n",
       "      <th>2023-10</th>\n",
       "      <td>4376.950195</td>\n",
       "    </tr>\n",
       "    <tr>\n",
       "      <th>2023-11</th>\n",
       "      <td>4365.979980</td>\n",
       "    </tr>\n",
       "  </tbody>\n",
       "</table>\n",
       "<p>162 rows × 1 columns</p>\n",
       "</div>"
      ],
      "text/plain": [
       "               SP500\n",
       "YYYY_MM             \n",
       "2010-06  1041.239990\n",
       "2010-07  1115.010010\n",
       "2010-08  1127.790039\n",
       "2010-09  1148.670044\n",
       "2010-10  1185.640015\n",
       "...              ...\n",
       "2023-07  4588.959961\n",
       "2023-08  4576.729980\n",
       "2023-09  4515.770020\n",
       "2023-10  4376.950195\n",
       "2023-11  4365.979980\n",
       "\n",
       "[162 rows x 1 columns]"
      ]
     },
     "execution_count": 33,
     "metadata": {},
     "output_type": "execute_result"
    }
   ],
   "source": [
    "find_max_price_per_month(df,[\"SP500\"])"
   ]
  },
  {
   "cell_type": "markdown",
   "id": "a3027c13-ba2c-4e48-a062-4ee1e7d9475d",
   "metadata": {},
   "source": [
    "`find_max_price_per_month(df,[\"TSLA\",\"V\"])` should return \n",
    "\n",
    "| YYYY_MM   |      TSLA |        V |\n",
    "|:----------|----------:|---------:|\n",
    "| 2010-06   |   1.59267 |  17.8625 |\n",
    "| 2010-07   |   1.464   |  19.345  |\n",
    "| 2010-08   |    1.46333 |  18.8175 |\n",
    "| 2010-09   |   1.46533 |  18.6025 |\n",
    "| 2010-10   |    1.456   |  20.1575 |\n",
    "| ...   |   ... |  ... |\n",
    "| 2023-07   | 293.34    | 243.99   | \n",
    "| 2023-08   |  261.07    | 246.23   |\n",
    "| 2023-09   |  276.04    | 248.11   |\n",
    "| 2023-10   |  263.62    | 241.2    |\n",
    "| 2023-11   |  219.96    | 243.6    |\n",
    "\n",
    "162 rows × 2 columns"
   ]
  },
  {
   "cell_type": "markdown",
   "id": "6722e3d7-6925-4a24-801d-1347c5295678",
   "metadata": {},
   "source": [
    "`find_max_price_per_month(df,[\"SP500])` should return \n",
    "\n",
    "| YYYY_MM   |   SP500 |  \n",
    "|:----------|--------:|\n",
    "| 2010-06   | 1041.24 |\n",
    "| 2010-07   | 1115.01 |\n",
    "| 2010-08   | 1127.79 |\n",
    "| 2010-09   | 1148.67 |\n",
    "| 2010-10   | 1185.64 |\n",
    "| ...   | ... |   ... | \n",
    "| 2023-07   | 4588.96 |\n",
    "| 2023-08   | 4576.73 | \n",
    "| 2023-09   | 4515.77 |\n",
    "| 2023-10   | 4376.95 |\n",
    "| 2023-11   | 4365.98 |\n",
    "\n",
    "\n",
    "162 rows × 1 columns"
   ]
  }
 ],
 "metadata": {
  "kernelspec": {
   "display_name": "Python 3 (ipykernel)",
   "language": "python",
   "name": "python3"
  },
  "language_info": {
   "codemirror_mode": {
    "name": "ipython",
    "version": 3
   },
   "file_extension": ".py",
   "mimetype": "text/x-python",
   "name": "python",
   "nbconvert_exporter": "python",
   "pygments_lexer": "ipython3",
   "version": "3.10.15"
  }
 },
 "nbformat": 4,
 "nbformat_minor": 5
}
