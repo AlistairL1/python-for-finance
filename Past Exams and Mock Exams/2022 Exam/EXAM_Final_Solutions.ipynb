{
 "cells": [
  {
   "cell_type": "markdown",
   "id": "57a92fec-5b12-4da6-833f-a02680858cdb",
   "metadata": {},
   "source": [
    "Python for Finance --- Final Exam\n",
    "----\n",
    "\n",
    "**MSc in Mathematics and Finance, Imperial College London**\n",
    "\n",
    "Autumn Term 2022-2023\n",
    "\n",
    "Thursday 15 December 2022\n",
    "***\n"
   ]
  },
  {
   "cell_type": "markdown",
   "id": "6e85bae0-d299-4fb8-9c9e-791ac67f378c",
   "metadata": {},
   "source": [
    "## GENERAL INSTRUCTIONS\n",
    "\n",
    "\n",
    "- For each question, you are asked to create a function with specific inputs and outputs.\n",
    "\n",
    "- You should copy / paste all your functions, one after the others, in a single file named `CID.py`\n",
    "\n",
    "- You may only use the libraries below\n",
    "\n",
    "- Grading details:\n",
    "    + Clarity of the code (name of temporary variables, comments)\n",
    "    + Efficiency of the code (speed)\n",
    "    \n",
    "- At the end of the examination, you should update your CID.py file into the Shared Drive folder\n",
    "xxxx\n"
   ]
  },
  {
   "cell_type": "markdown",
   "id": "dd41fd9d-d211-4f66-b127-9db377bb93a3",
   "metadata": {},
   "source": [
    "---"
   ]
  },
  {
   "cell_type": "code",
   "execution_count": 1,
   "id": "40f81878",
   "metadata": {},
   "outputs": [
    {
     "name": "stdout",
     "output_type": "stream",
     "text": [
      "Current Python Version 3.10.13\n"
     ]
    }
   ],
   "source": [
    "import platform\n",
    "print(\"Current Python Version\",platform.python_version())\n",
    "if platform.python_version()<\"3.10\":\n",
    "    print(\"ERROR: you are using a Python version lower than 3.10\")"
   ]
  },
  {
   "cell_type": "markdown",
   "id": "e6d810ab-caf9-4f91-9fc2-415ffaa13c72",
   "metadata": {},
   "source": [
    "### Allowed libraries ONLY"
   ]
  },
  {
   "cell_type": "code",
   "execution_count": 2,
   "id": "5c2dc786-84d8-477a-8b95-978b40156e1e",
   "metadata": {},
   "outputs": [],
   "source": [
    "import numpy as np\n",
    "from abc import ABC,abstractmethod\n",
    "from scipy.stats import norm\n",
    "import time as time\n",
    "import pandas as pd"
   ]
  },
  {
   "cell_type": "markdown",
   "id": "5261bf3a-4a68-4147-a3aa-b89b0a2acf7f",
   "metadata": {
    "tags": []
   },
   "source": [
    "# PROBLEM I : OOP and Greeks\n",
    "---"
   ]
  },
  {
   "cell_type": "markdown",
   "id": "bceb7cd8-8889-4f54-9fee-e4ae69e41dff",
   "metadata": {},
   "source": [
    "Consider the following two dynamic models, for $t\\geq 0$,:\n",
    "\n",
    "\\begin{align} S_t &=S_0\\exp\\left\\{-\\frac{1}{2}\\sigma^2 t +\\sigma W_t\\right\\},\\quad &\\text{(Model 1: Black-Scholes)} \\\\\n",
    "S_t &=S_0 + \\sigma W_t,\\quad &\\text{(Model 2: Bachelier)}\\end{align}\n",
    "\n",
    "where $(W_t)_{t\\geq 0}$ is a standard Brownian motion. We further assume that interest rates are null.\n",
    "\n",
    "For a given strike $K>0$ and a fixed maturity $T>0$, \n",
    "the price of a European Call in each model is given by:\n",
    "\n",
    "**(Model 1: Black-Scholes)**\n",
    "\\begin{align}\n",
    "  C^{BS}(S_0, \\sigma,K,T) &= \\Phi(d_1)S_0 - \\Phi(d_2)K, \\\\\n",
    "     d_1 &= \\frac{1}{\\sigma\\sqrt{T}}\\left[\\ln\\left(\\frac{S_0}{K}\\right) + \\frac{\\sigma^2 T}{2}\\right], \\\\\n",
    "     d_2 &= d_1 - \\sigma\\sqrt{T}.\n",
    "\\end{align}\n",
    "\n",
    "**(Model 2: Bachelier)**\n",
    "\\begin{align}\n",
    "  C^{Bachelier}(S_0, \\sigma,K,T) &= (S_0 - K) \\Phi(b_1)+\\sigma\\sqrt{T} \\phi(b_1), \\\\\n",
    "     b_1 &= \\frac{S_0-K}{\\sigma\\sqrt{T}},\n",
    "\\end{align}\n",
    "\n",
    "where $\\Phi(\\cdot)$ is the Gaussian cdf implemented in `scipy.stats.norm.cdf` and  $\\phi(\\cdot)$ is the Gaussian pdf implemented in `scipy.stats.norm.pdf`"
   ]
  },
  {
   "cell_type": "markdown",
   "id": "8c816518",
   "metadata": {},
   "source": [
    "We will implement a GreekEngine base class that computes the Greeks of the prices of European Call options using closed-form expressions and finite differences. \n",
    "The base class will derive in two subclassess 1) Black-Scholes and 2) Bachelier."
   ]
  },
  {
   "cell_type": "markdown",
   "id": "303c48ab",
   "metadata": {},
   "source": [
    "## Question 1:\n",
    "\n",
    "Implement a `price_european_call_option(self,K:float,T:float)` method for each model following the equations described above for $C(S_0,K)$ and the class template given below\n",
    "\n",
    "Input:\n",
    "- T: float time to maturity\n",
    "- K: float strike\n",
    "\n",
    "\n",
    "Output:\n",
    "- float european Call option price\n"
   ]
  },
  {
   "cell_type": "code",
   "execution_count": 3,
   "id": "eab51299",
   "metadata": {},
   "outputs": [],
   "source": [
    "class GreekEngine(ABC):\n",
    "    def __init__(self, S0,sigma):\n",
    "        self.S0=S0\n",
    "        self.sigma=sigma\n",
    "    \n",
    "    def delta_european_call_option(self, K: float, T: float, epsilon: float) -> float:\n",
    "        '''\n",
    "        #Inputs:\n",
    "        K: strike\n",
    "        T: time to maturity\n",
    "        epsilon: finite difference bump parameter\n",
    "        #Outputs:\n",
    "        finite difference delta value\n",
    "        '''\n",
    "        # calculate call_price for 𝐶(𝑆0 + epsilon, sigma)\n",
    "        original_S0=self.S0\n",
    "        self.S0 = original_S0 + epsilon\n",
    "        epsilon_plus_price = self.price_european_call_option(K, T)\n",
    "\n",
    "        # calculate call_price for 𝐶(𝑆0, sigma)\n",
    "        self.S0 = original_S0\n",
    "        no_epsilon_price = self.price_european_call_option(K, T)\n",
    "\n",
    "        delta = (epsilon_plus_price - no_epsilon_price) / epsilon\n",
    "\n",
    "        return delta\n",
    "    \n",
    "    def vega_european_call_option(self,K:float,T:float,epsilon:float)->float:\n",
    "        '''\n",
    "        #Inputs:\n",
    "        K: strike\n",
    "        T: time to maturity\n",
    "        epsilon: finite difference bump parameter\n",
    "        #Outputs:\n",
    "        finite difference vega value \n",
    "        '''\n",
    "        # calculate call_price for 𝐶(𝑆0, sigma+epsilon)\n",
    "        sigma_original=self.sigma\n",
    "        self.sigma = sigma_original + epsilon\n",
    "        epsilon_plus_price = self.price_european_call_option(K, T)\n",
    "        \n",
    "        # calculate call_price for 𝐶(𝑆0, sigma-epsilon)\n",
    "        self.sigma = sigma_original - epsilon\n",
    "        epsilon_minus_price = self.price_european_call_option(K, T)\n",
    "        \n",
    "        vega = (epsilon_plus_price - epsilon_minus_price) / (2*epsilon)\n",
    "\n",
    "        self.sigma=sigma_original\n",
    "        \n",
    "        return vega\n",
    "    \n",
    "        \n",
    "    @abstractmethod\n",
    "    def price_european_call_option(self,K:float,T:float,epsilon:float)->float:\n",
    "        '''\n",
    "        #Inputs:\n",
    "        T: time to maturity\n",
    "        K: strike\n",
    "        #Outputs:\n",
    "        european option price\n",
    "        '''\n",
    "        \n",
    "        pass\n",
    "    \n",
    "class Black_Scholes(GreekEngine): \n",
    "    def __init__(self, S0,sigma):\n",
    "        super().__init__(S0,sigma)\n",
    "        \n",
    "    def price_european_call_option(self,K:float,T:float)->float:\n",
    "        \"\"\"\n",
    "        # Inputs:\n",
    "        K: Stike price\n",
    "        T: time to maturity\n",
    "        #Output: \n",
    "        float european call price calculated by Black_Scholes\n",
    "        \"\"\"\n",
    "        # calculate d1 and d2\n",
    "        d_1 = 1 / self.sigma * np.sqrt(T)  * (np.log(self.S0 / K) + self.sigma**2 * T / 2)\n",
    "        d_2 = d_1 - self.sigma * np.sqrt(T)\n",
    "        \n",
    "        # calculate call price \n",
    "        BS_call = norm.cdf(d_1) * self.S0 - norm.cdf(d_2) * K\n",
    "        \n",
    "        return BS_call\n",
    "    \n",
    "\n",
    "class Bachelier(GreekEngine):\n",
    "    def __init__(self, S0,sigma):\n",
    "        super().__init__(S0,sigma)\n",
    "        \n",
    "    def price_european_call_option(self,K:float,T:float)->float:\n",
    "        \"\"\"\n",
    "        # Inputs:\n",
    "        K: Stike price\n",
    "        T: time to maturity\n",
    "        # Outputs:\n",
    "        float european call price calculated by Bachelier\n",
    "        \"\"\"\n",
    "        # calculate b1\n",
    "        b1 = (self.S0 - K) / (self.sigma * np.sqrt(T))\n",
    "        \n",
    "        # calculate call price\n",
    "        Ba_call = (self.S0 - K) * norm.cdf(b1) + self.sigma * np.sqrt(T) * norm.pdf(b1)\n",
    "        \n",
    "        return Ba_call\n",
    "    "
   ]
  },
  {
   "cell_type": "markdown",
   "id": "91aa66ed",
   "metadata": {},
   "source": [
    "#### You may also use the following script to verify your results:"
   ]
  },
  {
   "cell_type": "code",
   "execution_count": 4,
   "id": "6e7c4a38",
   "metadata": {},
   "outputs": [],
   "source": [
    "def test_function_problem1_Bachelier(S0:float,sigma:float,T:float,K:float):\n",
    "    engine=Bachelier(S0,sigma)\n",
    "    return engine.price_european_call_option(K,T)"
   ]
  },
  {
   "cell_type": "code",
   "execution_count": 5,
   "id": "fb27f167",
   "metadata": {},
   "outputs": [],
   "source": [
    "def test_function_problem1_Black_Scholes(S0:float,sigma:float,T:float,K:float):\n",
    "    engine=Black_Scholes(S0,sigma)\n",
    "    return engine.price_european_call_option(K,T)"
   ]
  },
  {
   "cell_type": "markdown",
   "id": "f6adffff",
   "metadata": {},
   "source": [
    "`test_function_problem1_Bachelier(1,0.2,1,1)` should return `0.07978845608028655`"
   ]
  },
  {
   "cell_type": "markdown",
   "id": "70054c97",
   "metadata": {},
   "source": [
    "`test_function_problem1_Black_Scholes(1,0.2,1,1)` should return `0.07965567455405798`"
   ]
  },
  {
   "cell_type": "code",
   "execution_count": 6,
   "id": "b6bdc26c",
   "metadata": {
    "scrolled": true
   },
   "outputs": [
    {
     "data": {
      "text/plain": [
       "0.07978845608028655"
      ]
     },
     "execution_count": 6,
     "metadata": {},
     "output_type": "execute_result"
    }
   ],
   "source": [
    "test_function_problem1_Bachelier(1,0.2,1,1)"
   ]
  },
  {
   "cell_type": "code",
   "execution_count": 7,
   "id": "c9ac2e50",
   "metadata": {},
   "outputs": [
    {
     "data": {
      "text/plain": [
       "0.07965567455405798"
      ]
     },
     "execution_count": 7,
     "metadata": {},
     "output_type": "execute_result"
    }
   ],
   "source": [
    "test_function_problem1_Black_Scholes(1,0.2,1,1)"
   ]
  },
  {
   "cell_type": "markdown",
   "id": "8a41e87c-e090-4f08-868f-6d8de2c99ad2",
   "metadata": {},
   "source": [
    "## Question 2:\n",
    "\n",
    "Write a `delta_european_call_option(self,K:float,T:float,epsilon:float)` base class method with the folowing specifications:\n",
    "\n",
    "Input:\n",
    "- K: float strike\n",
    "- T: float time to maturity\n",
    "- epsilon: float finite difference parameter\n",
    "\n",
    "Output:\n",
    "- Finite-difference delta computed using the following formula:\n",
    "\n",
    "$$\n",
    "\\Delta(S_0,\\sigma)=\\frac{C(S_0+\\epsilon,\\sigma)-C(S_0,\\sigma)}{\\epsilon}, \\quad \\text{for }\\epsilon>0.\n",
    "$$\n",
    "\n",
    "\n",
    "**Warning:** Be aware that $S_0$ and $\\sigma$ are base class attributes. You will need to modify their values to be able to compute the \"bumped\" prices. Remember before exiting the function to set them to their initial value."
   ]
  },
  {
   "cell_type": "markdown",
   "id": "0a128ae0-ff51-435a-955f-8e0d6a7f3e6d",
   "metadata": {},
   "source": [
    "#### You may also use the following script to check your results:"
   ]
  },
  {
   "cell_type": "code",
   "execution_count": 8,
   "id": "4add5e3b-4c24-4d15-a399-77db93736b50",
   "metadata": {},
   "outputs": [],
   "source": [
    "def test_function_problem2_Bachelier(S0:float,sigma:float,T:float,K:float,epsilon:float):\n",
    "    engine=Bachelier(S0,sigma)\n",
    "    return engine.delta_european_call_option(K,T,epsilon)"
   ]
  },
  {
   "cell_type": "code",
   "execution_count": 9,
   "id": "731f7ae6",
   "metadata": {},
   "outputs": [],
   "source": [
    "def test_function_problem2_Black_Scholes(S0:float,sigma:float,T:float,K:float,epsilon:float):\n",
    "\n",
    "    engine=Black_Scholes(S0,sigma)\n",
    "    return engine.delta_european_call_option(K,T,epsilon)"
   ]
  },
  {
   "cell_type": "markdown",
   "id": "850a281a",
   "metadata": {},
   "source": [
    "`test_function_problem2_Bachelier(1,0.2,1,1,0.1)` should return `0.5977085539997474`"
   ]
  },
  {
   "cell_type": "markdown",
   "id": "1e4692ea",
   "metadata": {},
   "source": [
    "`test_function_problem2_Black_Scholes(1,0.2,1,1,0.1)` should return `0.6326443486004096`"
   ]
  },
  {
   "cell_type": "code",
   "execution_count": 10,
   "id": "2694bd48",
   "metadata": {},
   "outputs": [
    {
     "data": {
      "text/plain": [
       "0.5977085539997474"
      ]
     },
     "execution_count": 10,
     "metadata": {},
     "output_type": "execute_result"
    }
   ],
   "source": [
    "test_function_problem2_Bachelier(1,0.2,1,1,0.1)"
   ]
  },
  {
   "cell_type": "code",
   "execution_count": 11,
   "id": "8975dce2",
   "metadata": {},
   "outputs": [
    {
     "data": {
      "text/plain": [
       "0.6326443486004096"
      ]
     },
     "execution_count": 11,
     "metadata": {},
     "output_type": "execute_result"
    }
   ],
   "source": [
    "test_function_problem2_Black_Scholes(1,0.2,1,1,0.1)"
   ]
  },
  {
   "cell_type": "markdown",
   "id": "6f61a339",
   "metadata": {},
   "source": [
    "## Question 3:\n",
    "\n",
    "\n",
    "Write a `vega_european_call_option(self,K:float,T:float,epsilon:float)` base class method with the folowing specifications:\n",
    "\n",
    "Input:\n",
    "- K: float strike\n",
    "- T: float time to maturity\n",
    "- epsilon: float finite difference parameter\n",
    "\n",
    "Output:\n",
    "- Central finite-difference vega computed using the following formula:\n",
    "\n",
    "$$\\Delta(S_0,\\sigma)=\\frac{C(S_0,\\sigma+\\epsilon)-C(S_0,\\sigma-\\epsilon)}{2\\epsilon}, \\quad \\text{for }\\epsilon>0$$\n",
    "\n",
    "\n",
    "**Warning:** Be aware that $S_0$ and $\\sigma$ are base class attributes. You will need to modify their values to be able to compute the \"bumped\" prices. Remember before exiting the function to set them to their initial value."
   ]
  },
  {
   "cell_type": "markdown",
   "id": "451a95b4-6122-48e1-89dc-c6c7768478a3",
   "metadata": {},
   "source": [
    "#### You may also use the following script to check your results:"
   ]
  },
  {
   "cell_type": "code",
   "execution_count": 12,
   "id": "aab86a24",
   "metadata": {},
   "outputs": [],
   "source": [
    "def test_function_problem3_Bachelier(S0:float,sigma:float,T:float,K:float,epsilon:float):\n",
    "    engine=Bachelier(S0,sigma)\n",
    "    return engine.vega_european_call_option(K,T,epsilon)"
   ]
  },
  {
   "cell_type": "code",
   "execution_count": 13,
   "id": "9bf4e3aa",
   "metadata": {},
   "outputs": [],
   "source": [
    "def test_function_problem3_Black_Scholes(S0:float,sigma:float,T:float,K:float,epsilon:float):\n",
    "    engine=Black_Scholes(S0,sigma)\n",
    "    return engine.vega_european_call_option(K,T,epsilon)"
   ]
  },
  {
   "cell_type": "markdown",
   "id": "f56314ce",
   "metadata": {},
   "source": [
    "`test_function_problem3_Bachelier(1,0.2,1,1,0.1)` should return `0.3989422804014328`"
   ]
  },
  {
   "cell_type": "markdown",
   "id": "8672dc68",
   "metadata": {},
   "source": [
    "`test_function_problem3_Black_Scholes(1,0.2,1,1,0.1)` should return `0.39678886531870017`"
   ]
  },
  {
   "cell_type": "code",
   "execution_count": 14,
   "id": "301abbd8",
   "metadata": {},
   "outputs": [
    {
     "data": {
      "text/plain": [
       "0.3989422804014328"
      ]
     },
     "execution_count": 14,
     "metadata": {},
     "output_type": "execute_result"
    }
   ],
   "source": [
    "test_function_problem3_Bachelier(1,0.2,1,1,0.1)"
   ]
  },
  {
   "cell_type": "code",
   "execution_count": 15,
   "id": "b268a6fb",
   "metadata": {},
   "outputs": [
    {
     "data": {
      "text/plain": [
       "0.39678886531870017"
      ]
     },
     "execution_count": 15,
     "metadata": {},
     "output_type": "execute_result"
    }
   ],
   "source": [
    "test_function_problem3_Black_Scholes(1,0.2,1,1,0.1)"
   ]
  },
  {
   "cell_type": "markdown",
   "id": "982dd467-fdef-473d-91f5-49cb9ee5f320",
   "metadata": {},
   "source": [
    "---\n",
    "---"
   ]
  },
  {
   "cell_type": "markdown",
   "id": "fb6df674-0b9e-4a22-8424-1f81bc4542f6",
   "metadata": {
    "tags": []
   },
   "source": [
    "# PROBLEM II: Vectorisation\n",
    "---"
   ]
  },
  {
   "cell_type": "markdown",
   "id": "cfa8e5e0-b795-45b5-a482-e64f33adfbd7",
   "metadata": {},
   "source": [
    "We wish to compute the variance $\\mathbb{V}\\left[\\Phi\\right]$, where \n",
    "$$\n",
    "\\Phi := \\int_{0}^{T}f(W_t) \\mathrm{d}t,\n",
    "$$\n",
    "where $W$ is a standard Brownian motion starting from $W_0=0$.\n",
    "\n",
    "Consider an equidistant time grid $\\{t_i = \\frac{i}{m}\\}_{i=0,\\ldots, m}$ and denote $\\delta:=\\frac{1}{m}$, for some strictly positive integer $m$.\n",
    "\n",
    "We can then write, for any $i=0, \\ldots, m$ (with the convention that empty sums are null),\n",
    "$$\n",
    "W_{t_i} = \\sum_{k=0}^{i-1} (W_{t_{k+1}} - W_{t_{k}})\n",
    "= \\sum_{k=0}^{i-1} \\widetilde{n}_k \\sqrt{t_{k+1} - t_{k}}\n",
    "= \\sqrt{\\delta}\\sum_{k=0}^{i-1} \\widetilde{n}_k,\n",
    "$$\n",
    "in distribution, where $\\left\\{\\widetilde{n}_k\\right\\}_{k=0,\\ldots, m-2}$ forms an iid sequence of centered Gaussian random variables with unit variance.\n",
    "We therefore obtain\n",
    "$$\n",
    "\\int_{0}^{T}f(W_t)\\mathrm{d}t\n",
    " = \\sum_{i=1}^{m-1}f(W_{t_i})(t_{i+1} - t_i)\n",
    " = \\sum_{i=1}^{m-1}f\\left(\\sqrt{\\delta}\\sum_{k=0}^{i-1} \\widetilde{n}_k\\right)(t_{i+1} - t_i)\n",
    " = \\delta\\sum_{i=1}^{m-1}f\\left(\\sqrt{\\delta}\\sum_{k=0}^{i-1} \\widetilde{n}_k\\right).\n",
    " $$\n",
    " \n",
    "In order to compute the variance $\\mathbb{V}[\\Phi]$, we now generate $n$ samples \n",
    "$(\\Phi^{(1)}, \\ldots, \\Phi^{(n)})$ of $\\Phi$ and build the unbiased variance estimator\n",
    "$$\n",
    "\\widehat{\\sigma}_{n}^2 := \n",
    "\\frac{1}{n-1}\\sum_{j=1}^{n}\n",
    "\\left(\\Phi^{(j)} - \\frac{1}{n}\\sum_{l=1}^{n}\\Phi^{(l)}\\right)^2.\n",
    "$$"
   ]
  },
  {
   "cell_type": "markdown",
   "id": "63cd5f8c-e7f8-4359-bbd0-6d83c2922d58",
   "metadata": {},
   "source": [
    "## Question: \n",
    "\n",
    "\n",
    "- Write two pure `python` (i.e. not with `cython`) functions that compute this estimator.\n",
    "    + `variance_intBM_loop(nsteps, nsimul, gaussian_vector)` using for loop structure e.g.\\\n",
    "      `for n in range(nsimul):`\n",
    "      \n",
    "     `      for j in range(n_steps-1):`\n",
    "\n",
    "  to compute $\\phi^n$\n",
    "              \n",
    "    + `variance_intBM(nsteps, nsimul, gaussian_vector)` avoiding for loops \\\n",
    "  **Optional Hint:** Constructing the f(W_t) matrix for each nsimul and nstep might be helpful (without using a for loop of course). Then you can apply vectorized operations on it \n",
    "    \n",
    "\n",
    "Notes:\n",
    "- You may want to use `np.var` (https://numpy.org/doc/stable/reference/generated/numpy.std.html) to compute the *unbiased* variance; *watch out for degrees of freedom.....*\n",
    "- the function `variance_intBM_loop` should have loops\n",
    "- loops are not allowed in the function `variance_intBM`\n",
    "- The result of both functions should match exactly (up to some tolerance with rounding)"
   ]
  },
  {
   "cell_type": "markdown",
   "id": "8a287983-a568-44a9-80b4-8b283c0c5408",
   "metadata": {},
   "source": [
    "## Note: For the vectorized version there are a few ways to do it, we shall present a couple"
   ]
  },
  {
   "cell_type": "code",
   "execution_count": 16,
   "id": "b70202de-e21a-42e0-9bb7-cf2a2c39a9d9",
   "metadata": {},
   "outputs": [],
   "source": [
    "def variance_intBM_loop(nsteps:int, nsimul:int, gaussian_vector:np.array, delta:float, f)->float:\n",
    "    \"\"\"\n",
    "        #Inputs:\n",
    "        nsteps (int): number of time steps (m)\n",
    "        nsimul (int): number of simulations (n)\n",
    "        gaussian_vector (np.array): Gaussian random samples of size (nsteps-1, nsimul)\n",
    "        delta (float): time increment\n",
    "        f: function f()\n",
    "        #Outputs:\n",
    "        variance estimator (float)\n",
    "    \"\"\"\n",
    "    function_variable = f(np.sqrt(delta) * np.cumsum(gaussian_vector[:-1], axis = 0)) \n",
    "    #function_variable represents a nxm matrix with element j,i representing f^j(W_{t_i})\n",
    "    phi = np.zeros(nsimul)\n",
    "    for n in range(nsimul):\n",
    "        wt=0;\n",
    "        for j in range(nsteps-1):\n",
    "            f_wt=f(wt)\n",
    "            #print(n,j,f_wt)\n",
    "            phi[n]+=delta*f_wt\n",
    "            wt+=gaussian_vector[j,n]*np.sqrt(delta)\n",
    "    variance1 = 1.0 / (nsimul - 1) * np.sum(np.power(phi - 1.0 / nsimul * np.sum(phi),2))\n",
    "    \n",
    "    return variance1\n",
    "\n",
    "def variance_intBM(nsteps:int, nsimul:int, gaussian_vector:np.array, delta:float, f)->float:\n",
    "    \"\"\"\n",
    "        #Inputs:\n",
    "        nsteps (int): number of time steps (m)\n",
    "        nsimul (int): number of simulations (n)\n",
    "        gaussian_vector (np.array): Gaussian random samples of size (nsteps-1, nsimul)\n",
    "        delta (float): time increment\n",
    "        f: function f()\n",
    "        #Outputs:\n",
    "        variance estimator (float)\n",
    "    \"\"\"\n",
    "    f_wt=np.zeros((nsteps-1, nsimul)) #alocate f_wt matrix \n",
    "    f_wt[0,:]= f(0) #start at zero as w_0=0\n",
    "    f_wt[1:,:] = f(np.sqrt(delta) * np.cumsum(gaussian_vector[:-1,:], axis = 0)) #cumulative sum over rows (axis=0) since nsimul is the column axis\n",
    "    phi = delta * np.sum(f_wt,axis=0) # sum over columns (axis=0) since nsimul is the column axis\n",
    "    variance2 =1.0 / (nsimul - 1) * np.sum(np.power(phi - 1 / nsimul * np.sum(phi),2))\n",
    "    \n",
    "    return 1.0 / (nsimul - 1) * np.sum(np.power(phi - 1.0 / nsimul * np.sum(phi),2))\n",
    "\n",
    "def variance_intBM_compact(nsteps:int, nsimul:int, gaussian_vector:np.array, delta:float, f)->float:\n",
    "    \"\"\"\n",
    "        #Inputs:\n",
    "        nsteps (int): number of time steps (m)\n",
    "        nsimul (int): number of simulations (n)\n",
    "        gaussian_vector (np.array): Gaussian random samples of size (nsteps-1, nsimul)\n",
    "        delta (float): time increment\n",
    "        f: function f()\n",
    "        #Outputs:\n",
    "        variance estimator (float)\n",
    "    \"\"\"\n",
    "    phi = delta * (f(0)+np.sum(f(np.sqrt(delta) * np.cumsum(gaussian_vector[:-1,:], axis = 0)),axis=0)) # sum over columns (axis=0) since nsimul is the column axis\n",
    "       \n",
    "    return np.var(phi,ddof=1)\n",
    "\n"
   ]
  },
  {
   "cell_type": "markdown",
   "id": "e52e0834-e211-4a76-945e-5a68a75c2456",
   "metadata": {},
   "source": [
    "### Example\n",
    "\n",
    "As a consistency check, you may want to check numerically the formula\n",
    "$$\n",
    "\\mathbb{V}\\left[\\int_{0}^{T} (W_t)^2 \\mathrm{d}t\\right] = \\frac{T^3}{3}.\n",
    "$$"
   ]
  },
  {
   "cell_type": "code",
   "execution_count": 17,
   "id": "92dde349-cbcb-405d-8d18-171b3f1c3381",
   "metadata": {},
   "outputs": [],
   "source": [
    "nsteps, nsimul = 1000, 10000\n",
    "np.random.seed(0)\n",
    "gaussian_vector = np.random.normal(0., 1., (nsteps-1, nsimul))\n",
    "T = 1.\n",
    "delta = T / nsteps\n",
    "f = lambda x: x**2"
   ]
  },
  {
   "cell_type": "code",
   "execution_count": 18,
   "id": "96226ee7-0b13-48b7-9bf0-ea34b05851a4",
   "metadata": {},
   "outputs": [
    {
     "name": "stdout",
     "output_type": "stream",
     "text": [
      "Variance:  0.3448967  --- Total computation time:  9.74  seconds\n",
      "Variance:  0.3448967  --- Total computation time:  0.11  seconds\n",
      "Variance:  0.3448967  --- Total computation time:  0.07  seconds\n"
     ]
    }
   ],
   "source": [
    "t0 = time.time()\n",
    "myvar_loop = variance_intBM_loop(nsteps, nsimul, gaussian_vector, delta, f)\n",
    "dt_loop = time.time() - t0\n",
    "\n",
    "t0 = time.time()\n",
    "myvar_vec = variance_intBM(nsteps, nsimul, gaussian_vector, delta, f)\n",
    "dt_vec = time.time() - t0\n",
    "\n",
    "t0 = time.time()\n",
    "myvar_vec_compact = variance_intBM_compact(nsteps, nsimul, gaussian_vector, delta, f)\n",
    "dt_vec_compact = time.time() - t0\n",
    "\n",
    "print(\"Variance: \", np.round(myvar_loop, 8), \" --- Total computation time: \", np.round(dt_loop, 2), \" seconds\")\n",
    "print(\"Variance: \", np.round(myvar_vec, 8), \" --- Total computation time: \", np.round(dt_vec, 2), \" seconds\")\n",
    "print(\"Variance: \", np.round(myvar_vec_compact, 8), \" --- Total computation time: \", np.round(dt_vec_compact, 2), \" seconds\")"
   ]
  },
  {
   "cell_type": "markdown",
   "id": "9ff5f3d7-2e5c-4279-81b0-9c66a4d9f7e6",
   "metadata": {},
   "source": [
    "*Note: with (nsteps, nsimul) = (1000, 10000), you should expect a speed ratio of magnitude 20~30 at least.*"
   ]
  },
  {
   "cell_type": "markdown",
   "id": "a662681e-6b83-4db8-ae3b-cb8214d99195",
   "metadata": {},
   "source": [
    "---\n",
    "---"
   ]
  },
  {
   "cell_type": "markdown",
   "id": "b8057d52-69f3-4ca9-be20-50516e131fd7",
   "metadata": {
    "tags": []
   },
   "source": [
    "# PROBLEM III: Pandas and option data\n",
    "---"
   ]
  },
  {
   "cell_type": "markdown",
   "id": "556c7dd6-eb3a-468f-b8de-16dea17447a7",
   "metadata": {},
   "source": [
    "The file `AAPL_options.csv`contains financial data for the option chains in AAPL.\n",
    "\n",
    "The columns of the csv file are defined below:\n",
    "\n",
    "- contractSymbol: unique indetifier of the option contract\n",
    "\n",
    "- optionType: call or put\n",
    "\n",
    "- expiration: contract expiration date in YYYY-mm-dd format\n",
    "\n",
    "- lastTradeDate:contract last traded date in  YYYY-mm-dd format\n",
    "\n",
    "- strike: strike price of the options contract\n",
    "\n",
    "- lastPrice: last quoted price of the option contract\n",
    "\n",
    "- bid: last bid price of the option contract\n",
    "\n",
    "- ask:  last ask price of the option contract\n",
    "\n",
    "- change: price change since last update\n",
    "\n",
    "- percentChange: percentage price change since last update\n",
    "\n",
    "- volume: traded volume\n",
    "\n",
    "- openInterest: open interest\n",
    "\n",
    "- impliedVolatility: option implied vol\n",
    "\n",
    "- inTheMoney: True for option in the Money, False otherwise\n",
    "\n",
    "- contractSize: always REGULAR\n",
    "\n",
    "- currency: contract currency (always USD)\n",
    "\n",
    "you can read the file to pandas using the code below"
   ]
  },
  {
   "cell_type": "code",
   "execution_count": 19,
   "id": "1cc61bcc-be9c-421b-b423-1ba29778fbfd",
   "metadata": {},
   "outputs": [
    {
     "data": {
      "text/html": [
       "<div>\n",
       "<style scoped>\n",
       "    .dataframe tbody tr th:only-of-type {\n",
       "        vertical-align: middle;\n",
       "    }\n",
       "\n",
       "    .dataframe tbody tr th {\n",
       "        vertical-align: top;\n",
       "    }\n",
       "\n",
       "    .dataframe thead th {\n",
       "        text-align: right;\n",
       "    }\n",
       "</style>\n",
       "<table border=\"1\" class=\"dataframe\">\n",
       "  <thead>\n",
       "    <tr style=\"text-align: right;\">\n",
       "      <th></th>\n",
       "      <th>contractSymbol</th>\n",
       "      <th>optionType</th>\n",
       "      <th>expiration</th>\n",
       "      <th>lastTradeDate</th>\n",
       "      <th>strike</th>\n",
       "      <th>lastPrice</th>\n",
       "      <th>bid</th>\n",
       "      <th>ask</th>\n",
       "      <th>change</th>\n",
       "      <th>percentChange</th>\n",
       "      <th>volume</th>\n",
       "      <th>openInterest</th>\n",
       "      <th>impliedVolatility</th>\n",
       "      <th>inTheMoney</th>\n",
       "      <th>contractSize</th>\n",
       "      <th>currency</th>\n",
       "    </tr>\n",
       "  </thead>\n",
       "  <tbody>\n",
       "    <tr>\n",
       "      <th>0</th>\n",
       "      <td>AAPL221216C00030000</td>\n",
       "      <td>call</td>\n",
       "      <td>2022-12-16</td>\n",
       "      <td>2022-11-29 16:39:22</td>\n",
       "      <td>30.0</td>\n",
       "      <td>112.00</td>\n",
       "      <td>111.85</td>\n",
       "      <td>112.55</td>\n",
       "      <td>0.000000</td>\n",
       "      <td>0.000000</td>\n",
       "      <td>1.0</td>\n",
       "      <td>2</td>\n",
       "      <td>4.500004</td>\n",
       "      <td>True</td>\n",
       "      <td>REGULAR</td>\n",
       "      <td>USD</td>\n",
       "    </tr>\n",
       "    <tr>\n",
       "      <th>1</th>\n",
       "      <td>AAPL221216C00035000</td>\n",
       "      <td>call</td>\n",
       "      <td>2022-12-16</td>\n",
       "      <td>2022-11-11 15:15:22</td>\n",
       "      <td>35.0</td>\n",
       "      <td>112.30</td>\n",
       "      <td>106.85</td>\n",
       "      <td>107.60</td>\n",
       "      <td>0.000000</td>\n",
       "      <td>0.000000</td>\n",
       "      <td>4.0</td>\n",
       "      <td>22</td>\n",
       "      <td>4.296880</td>\n",
       "      <td>True</td>\n",
       "      <td>REGULAR</td>\n",
       "      <td>USD</td>\n",
       "    </tr>\n",
       "    <tr>\n",
       "      <th>2</th>\n",
       "      <td>AAPL221216C00040000</td>\n",
       "      <td>call</td>\n",
       "      <td>2022-12-16</td>\n",
       "      <td>2022-12-08 16:00:14</td>\n",
       "      <td>40.0</td>\n",
       "      <td>103.05</td>\n",
       "      <td>101.90</td>\n",
       "      <td>102.55</td>\n",
       "      <td>0.000000</td>\n",
       "      <td>0.000000</td>\n",
       "      <td>3.0</td>\n",
       "      <td>410</td>\n",
       "      <td>3.890625</td>\n",
       "      <td>True</td>\n",
       "      <td>REGULAR</td>\n",
       "      <td>USD</td>\n",
       "    </tr>\n",
       "    <tr>\n",
       "      <th>3</th>\n",
       "      <td>AAPL221216C00045000</td>\n",
       "      <td>call</td>\n",
       "      <td>2022-12-16</td>\n",
       "      <td>2022-12-09 15:52:43</td>\n",
       "      <td>45.0</td>\n",
       "      <td>98.24</td>\n",
       "      <td>96.90</td>\n",
       "      <td>97.55</td>\n",
       "      <td>1.239998</td>\n",
       "      <td>1.278348</td>\n",
       "      <td>4.0</td>\n",
       "      <td>484</td>\n",
       "      <td>3.546876</td>\n",
       "      <td>True</td>\n",
       "      <td>REGULAR</td>\n",
       "      <td>USD</td>\n",
       "    </tr>\n",
       "    <tr>\n",
       "      <th>4</th>\n",
       "      <td>AAPL221216C00050000</td>\n",
       "      <td>call</td>\n",
       "      <td>2022-12-16</td>\n",
       "      <td>2022-11-18 20:46:59</td>\n",
       "      <td>50.0</td>\n",
       "      <td>101.73</td>\n",
       "      <td>91.90</td>\n",
       "      <td>92.55</td>\n",
       "      <td>0.000000</td>\n",
       "      <td>0.000000</td>\n",
       "      <td>2.0</td>\n",
       "      <td>331</td>\n",
       "      <td>3.234377</td>\n",
       "      <td>True</td>\n",
       "      <td>REGULAR</td>\n",
       "      <td>USD</td>\n",
       "    </tr>\n",
       "  </tbody>\n",
       "</table>\n",
       "</div>"
      ],
      "text/plain": [
       "        contractSymbol optionType  expiration        lastTradeDate  strike  \\\n",
       "0  AAPL221216C00030000       call  2022-12-16  2022-11-29 16:39:22    30.0   \n",
       "1  AAPL221216C00035000       call  2022-12-16  2022-11-11 15:15:22    35.0   \n",
       "2  AAPL221216C00040000       call  2022-12-16  2022-12-08 16:00:14    40.0   \n",
       "3  AAPL221216C00045000       call  2022-12-16  2022-12-09 15:52:43    45.0   \n",
       "4  AAPL221216C00050000       call  2022-12-16  2022-11-18 20:46:59    50.0   \n",
       "\n",
       "   lastPrice     bid     ask    change  percentChange  volume  openInterest  \\\n",
       "0     112.00  111.85  112.55  0.000000       0.000000     1.0             2   \n",
       "1     112.30  106.85  107.60  0.000000       0.000000     4.0            22   \n",
       "2     103.05  101.90  102.55  0.000000       0.000000     3.0           410   \n",
       "3      98.24   96.90   97.55  1.239998       1.278348     4.0           484   \n",
       "4     101.73   91.90   92.55  0.000000       0.000000     2.0           331   \n",
       "\n",
       "   impliedVolatility  inTheMoney contractSize currency  \n",
       "0           4.500004        True      REGULAR      USD  \n",
       "1           4.296880        True      REGULAR      USD  \n",
       "2           3.890625        True      REGULAR      USD  \n",
       "3           3.546876        True      REGULAR      USD  \n",
       "4           3.234377        True      REGULAR      USD  "
      ]
     },
     "execution_count": 19,
     "metadata": {},
     "output_type": "execute_result"
    }
   ],
   "source": [
    "df=pd.read_csv(\"AAPL_options.csv\")\n",
    "df.head()"
   ]
  },
  {
   "cell_type": "markdown",
   "id": "e3ada799-0968-4e7d-b23e-4f55b32d7ef0",
   "metadata": {
    "tags": []
   },
   "source": [
    "## Question 1:"
   ]
  },
  {
   "cell_type": "markdown",
   "id": "9afe0de8-2dc0-4337-a850-dcbe1c42f889",
   "metadata": {},
   "source": [
    "Implement a function `find_number_options_with_volume_threshold(df:pd.DataFrame,expiration:str,min_vol_threshold:int)->int` with the following specifications:\n",
    "\n",
    "Inputs:\n",
    "- df:pd.DataFrame input dataframe\n",
    "- expiration:str expiration date\n",
    "- min_vol_threshold:int minimum volume\n",
    "\n",
    "Outputs:\n",
    "- Number of options (both Calls and Puts) available with expiration equal to the input `expiration` and volume larger than or equal `min_vol_threshold`\n",
    "\n"
   ]
  },
  {
   "cell_type": "code",
   "execution_count": 20,
   "id": "6fa438fa",
   "metadata": {},
   "outputs": [],
   "source": [
    "def find_number_options_with_volume_threshold(df:pd.DataFrame,expiration:str,min_vol_threshold:int)->int:\n",
    "    \"\"\"\n",
    "    following specification\n",
    "    Input:\n",
    "    - df:pd.DataFrame input dataframe\n",
    "    - expiration:str expiration date\n",
    "    - min_vol_threshold:int minimum volume\n",
    "\n",
    "    Output:\n",
    "    - Number of options (both Calls and Puts) available with expiration equal to the input `expiration` and volume larger than or equal `min_vol_threshold`\n",
    "\n",
    "    \"\"\"\n",
    "    return len(df.loc[(df.expiration==expiration) & (df.volume>=min_vol_threshold)])"
   ]
  },
  {
   "cell_type": "markdown",
   "id": "24e89402-95bd-4dc3-b406-022de0575337",
   "metadata": {},
   "source": [
    "### You may also use the following example to verify your results:"
   ]
  },
  {
   "cell_type": "markdown",
   "id": "dae181b6-9a2f-482a-8f5f-5b7ec0deda1e",
   "metadata": {},
   "source": [
    "`find_number_options_with_volume_threshold(df,\"2022-12-16\",0)` should return `142`"
   ]
  },
  {
   "cell_type": "markdown",
   "id": "37e1b0c0-21f6-446a-885f-d2b4bfde62fd",
   "metadata": {},
   "source": [
    "`find_number_options_with_volume_threshold(df,\"2025-01-17\",100)` should return `6`"
   ]
  },
  {
   "cell_type": "code",
   "execution_count": 21,
   "id": "078387d0",
   "metadata": {},
   "outputs": [
    {
     "data": {
      "text/plain": [
       "142"
      ]
     },
     "execution_count": 21,
     "metadata": {},
     "output_type": "execute_result"
    }
   ],
   "source": [
    "find_number_options_with_volume_threshold(df,\"2022-12-16\",0)"
   ]
  },
  {
   "cell_type": "code",
   "execution_count": 22,
   "id": "89fa1fe4",
   "metadata": {},
   "outputs": [
    {
     "data": {
      "text/plain": [
       "6"
      ]
     },
     "execution_count": 22,
     "metadata": {},
     "output_type": "execute_result"
    }
   ],
   "source": [
    "find_number_options_with_volume_threshold(df,\"2025-01-17\",100)"
   ]
  },
  {
   "cell_type": "markdown",
   "id": "d44bf53b-d353-44ce-9c70-20d21f78d543",
   "metadata": {},
   "source": [
    "## Question 2:"
   ]
  },
  {
   "cell_type": "markdown",
   "id": "30b9e5c9-87a5-47ab-ae86-0e1dc41e512a",
   "metadata": {},
   "source": [
    "Write a function `find_mean_volume_per_expiration_per_option_type(df:pd.DataFrame,min_expiration:str)->pd.DataFrame` with the following specifications:\n",
    "\n",
    "Inputs:\n",
    " - df:pd.DataFrame input dataframe\n",
    " - min_expiration:str minimum expiration date\n",
    " \n",
    "Outputs:\n",
    "\n",
    "- pandas dataframe with columns [\"expiration\",\"optionType\",\"averageVolume\"] for expirations larger than or equal `min_expiration`\n",
    "- expiration: is the expiration in YYYY-mm-dd format\n",
    "- optionType: is call or put\n",
    "- averageVolume: is the average traded volume per expiration and option type e.g. for each expiration we want to compute the average volume for Calls and Puts separately\n",
    "\n",
    "**Note** The row order of the output is not relevant, but please make sure that the format is correct"
   ]
  },
  {
   "cell_type": "code",
   "execution_count": 23,
   "id": "4e14541b",
   "metadata": {},
   "outputs": [],
   "source": [
    "def find_mean_volume_per_expiration_per_option_type(df:pd.DataFrame,min_expiration:str)->pd.DataFrame:\n",
    "    \"\"\"\n",
    "    Input:\n",
    "         - df:pd.DataFrame input dataframe\n",
    "         - min_expiration:str minimum expiration date\n",
    " \n",
    "    Output:\n",
    "\n",
    "        - pandas dataframe with columns [\"expiration\",\"optionType\",\"averageVolume\"] for expirations larger than or equal `min_expiration`\n",
    "        - expiration: is the expiration in YYYY-mm-dd format\n",
    "        - optionType: is all or Put\n",
    "        - averageVolume: is the average traded volume per expiration and option type e.g. for each expiration we want to compute the average volume for Calls and Puts separately\n",
    "    \"\"\"\n",
    "    return df.loc[df.expiration>=min_expiration,[\"expiration\",\"optionType\",\"volume\"]].groupby([\"expiration\",\"optionType\"]).mean().reset_index().rename(columns = {'expiration':'expiration', 'optionType':'optionType','volume':'averageVolume'})\n",
    "    "
   ]
  },
  {
   "cell_type": "markdown",
   "id": "0c45f12c-7ca5-4ade-9115-1b4c93414bdf",
   "metadata": {},
   "source": [
    "### You may also use the following example to verify your results:"
   ]
  },
  {
   "cell_type": "markdown",
   "id": "a3027c13-ba2c-4e48-a062-4ee1e7d9475d",
   "metadata": {},
   "source": [
    "`find_mean_volume_per_expiration_per_option_type(df,\"2025-01-17\")` should return \n",
    "\n",
    "|    | expiration   | optionType   |   averageVolume |\n",
    "|---:|:-------------|:-------------|----------------:|\n",
    "|  0 | 2025-01-17   | call         |         34.3333 |\n",
    "|  1 | 2025-01-17   | put          |         34.3333 |"
   ]
  },
  {
   "cell_type": "markdown",
   "id": "6722e3d7-6925-4a24-801d-1347c5295678",
   "metadata": {},
   "source": [
    "`find_mean_volume_per_expiration_per_option_type(df,\"2024-06-21\")` should return \n",
    "\n",
    "|    | expiration   | optionType   |   averageVolume |\n",
    "|---:|:-------------|:-------------|----------------:|\n",
    "|  0 | 2024-06-21   | call         |         27.2308 |\n",
    "|  1 | 2024-06-21   | put          |         27.2308 |\n",
    "|  2 | 2025-01-17   | call         |         34.3333 |\n",
    "|  3 | 2025-01-17   | put          |         34.3333 |"
   ]
  },
  {
   "cell_type": "code",
   "execution_count": 24,
   "id": "326dd972-2b6d-400b-890b-eac2b480e66e",
   "metadata": {},
   "outputs": [
    {
     "data": {
      "text/html": [
       "<div>\n",
       "<style scoped>\n",
       "    .dataframe tbody tr th:only-of-type {\n",
       "        vertical-align: middle;\n",
       "    }\n",
       "\n",
       "    .dataframe tbody tr th {\n",
       "        vertical-align: top;\n",
       "    }\n",
       "\n",
       "    .dataframe thead th {\n",
       "        text-align: right;\n",
       "    }\n",
       "</style>\n",
       "<table border=\"1\" class=\"dataframe\">\n",
       "  <thead>\n",
       "    <tr style=\"text-align: right;\">\n",
       "      <th></th>\n",
       "      <th>expiration</th>\n",
       "      <th>optionType</th>\n",
       "      <th>averageVolume</th>\n",
       "    </tr>\n",
       "  </thead>\n",
       "  <tbody>\n",
       "    <tr>\n",
       "      <th>0</th>\n",
       "      <td>2025-01-17</td>\n",
       "      <td>call</td>\n",
       "      <td>34.333333</td>\n",
       "    </tr>\n",
       "    <tr>\n",
       "      <th>1</th>\n",
       "      <td>2025-01-17</td>\n",
       "      <td>put</td>\n",
       "      <td>34.333333</td>\n",
       "    </tr>\n",
       "  </tbody>\n",
       "</table>\n",
       "</div>"
      ],
      "text/plain": [
       "   expiration optionType  averageVolume\n",
       "0  2025-01-17       call      34.333333\n",
       "1  2025-01-17        put      34.333333"
      ]
     },
     "execution_count": 24,
     "metadata": {},
     "output_type": "execute_result"
    }
   ],
   "source": [
    "find_mean_volume_per_expiration_per_option_type(df,\"2025-01-17\")"
   ]
  },
  {
   "cell_type": "code",
   "execution_count": 25,
   "id": "0e2d96a3-182c-495d-bc75-12303666b149",
   "metadata": {},
   "outputs": [
    {
     "data": {
      "text/html": [
       "<div>\n",
       "<style scoped>\n",
       "    .dataframe tbody tr th:only-of-type {\n",
       "        vertical-align: middle;\n",
       "    }\n",
       "\n",
       "    .dataframe tbody tr th {\n",
       "        vertical-align: top;\n",
       "    }\n",
       "\n",
       "    .dataframe thead th {\n",
       "        text-align: right;\n",
       "    }\n",
       "</style>\n",
       "<table border=\"1\" class=\"dataframe\">\n",
       "  <thead>\n",
       "    <tr style=\"text-align: right;\">\n",
       "      <th></th>\n",
       "      <th>expiration</th>\n",
       "      <th>optionType</th>\n",
       "      <th>averageVolume</th>\n",
       "    </tr>\n",
       "  </thead>\n",
       "  <tbody>\n",
       "    <tr>\n",
       "      <th>0</th>\n",
       "      <td>2024-06-21</td>\n",
       "      <td>call</td>\n",
       "      <td>27.230769</td>\n",
       "    </tr>\n",
       "    <tr>\n",
       "      <th>1</th>\n",
       "      <td>2024-06-21</td>\n",
       "      <td>put</td>\n",
       "      <td>27.230769</td>\n",
       "    </tr>\n",
       "    <tr>\n",
       "      <th>2</th>\n",
       "      <td>2025-01-17</td>\n",
       "      <td>call</td>\n",
       "      <td>34.333333</td>\n",
       "    </tr>\n",
       "    <tr>\n",
       "      <th>3</th>\n",
       "      <td>2025-01-17</td>\n",
       "      <td>put</td>\n",
       "      <td>34.333333</td>\n",
       "    </tr>\n",
       "  </tbody>\n",
       "</table>\n",
       "</div>"
      ],
      "text/plain": [
       "   expiration optionType  averageVolume\n",
       "0  2024-06-21       call      27.230769\n",
       "1  2024-06-21        put      27.230769\n",
       "2  2025-01-17       call      34.333333\n",
       "3  2025-01-17        put      34.333333"
      ]
     },
     "execution_count": 25,
     "metadata": {},
     "output_type": "execute_result"
    }
   ],
   "source": [
    "find_mean_volume_per_expiration_per_option_type(df,\"2024-06-21\")"
   ]
  },
  {
   "cell_type": "code",
   "execution_count": null,
   "id": "e73281a8-8d42-406b-a817-eb4c5e583da6",
   "metadata": {},
   "outputs": [],
   "source": []
  }
 ],
 "metadata": {
  "kernelspec": {
   "display_name": "Python 3 (ipykernel)",
   "language": "python",
   "name": "python3"
  },
  "language_info": {
   "codemirror_mode": {
    "name": "ipython",
    "version": 3
   },
   "file_extension": ".py",
   "mimetype": "text/x-python",
   "name": "python",
   "nbconvert_exporter": "python",
   "pygments_lexer": "ipython3",
   "version": "3.10.13"
  }
 },
 "nbformat": 4,
 "nbformat_minor": 5
}
