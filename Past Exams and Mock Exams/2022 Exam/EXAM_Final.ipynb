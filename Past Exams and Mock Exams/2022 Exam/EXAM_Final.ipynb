{
 "cells": [
  {
   "cell_type": "markdown",
   "id": "57a92fec-5b12-4da6-833f-a02680858cdb",
   "metadata": {},
   "source": [
    "Python for Finance --- Final Exam\n",
    "----\n",
    "\n",
    "**MSc in Mathematics and Finance, Imperial College London**\n",
    "\n",
    "Autumn Term 2022-2023\n",
    "\n",
    "Thursday 15 December 2022\n",
    "***\n"
   ]
  },
  {
   "cell_type": "markdown",
   "id": "6e85bae0-d299-4fb8-9c9e-791ac67f378c",
   "metadata": {},
   "source": [
    "## GENERAL INSTRUCTIONS\n",
    "\n",
    "\n",
    "- For each question, you are asked to create a function with specific inputs and outputs.\n",
    "\n",
    "- You should copy / paste all your functions, one after the others, in a single file named `CID.py`\n",
    "\n",
    "- You may only use the libraries below\n",
    "\n",
    "- Grading details:\n",
    "    + Clarity of the code (name of temporary variables, comments)\n",
    "    + Efficiency of the code (speed)\n",
    "    \n",
    "- At the end of the examination, you should update your CID.py file into the Shared Drive folder\n",
    "xxxx\n"
   ]
  },
  {
   "cell_type": "markdown",
   "id": "dd41fd9d-d211-4f66-b127-9db377bb93a3",
   "metadata": {},
   "source": [
    "---"
   ]
  },
  {
   "cell_type": "code",
   "execution_count": 1,
   "id": "40f81878",
   "metadata": {},
   "outputs": [
    {
     "name": "stdout",
     "output_type": "stream",
     "text": [
      "3.10.13\n"
     ]
    }
   ],
   "source": [
    "import platform\n",
    "print(platform.python_version())"
   ]
  },
  {
   "cell_type": "code",
   "execution_count": 2,
   "id": "8ebacfcb-88f2-4703-9971-468f85a1fc38",
   "metadata": {},
   "outputs": [
    {
     "name": "stdout",
     "output_type": "stream",
     "text": [
      "Current Python Version 3.10.13\n"
     ]
    }
   ],
   "source": [
    "import platform\n",
    "print(\"Current Python Version\",platform.python_version())\n",
    "if platform.python_version()<\"3.10\":\n",
    "    print(\"ERROR: you are using a Python version lower than 3.10\")"
   ]
  },
  {
   "cell_type": "markdown",
   "id": "e6d810ab-caf9-4f91-9fc2-415ffaa13c72",
   "metadata": {},
   "source": [
    "### Allowed libraries ONLY"
   ]
  },
  {
   "cell_type": "code",
   "execution_count": 3,
   "id": "5c2dc786-84d8-477a-8b95-978b40156e1e",
   "metadata": {},
   "outputs": [],
   "source": [
    "import numpy as np\n",
    "from abc import ABC,abstractmethod\n",
    "from scipy.stats import norm\n",
    "import time as time\n",
    "import pandas as pd"
   ]
  },
  {
   "cell_type": "markdown",
   "id": "5261bf3a-4a68-4147-a3aa-b89b0a2acf7f",
   "metadata": {
    "tags": []
   },
   "source": [
    "# PROBLEM I : OOP and Greeks \n",
    "## (30 points Total: Q1-10 points | Q2-10 points | Q3-10 points)\n",
    "---"
   ]
  },
  {
   "cell_type": "markdown",
   "id": "bceb7cd8-8889-4f54-9fee-e4ae69e41dff",
   "metadata": {},
   "source": [
    "Consider the following two dynamic models, for $t\\geq 0$,:\n",
    "\n",
    "\\begin{align} S_t &=S_0\\exp\\left\\{-\\frac{1}{2}\\sigma^2 t +\\sigma W_t\\right\\},\\quad &\\text{(Model 1: Black-Scholes)} \\\\\n",
    "S_t &=S_0 + \\sigma W_t,\\quad &\\text{(Model 2: Bachelier)}\\end{align}\n",
    "\n",
    "where $(W_t)_{t\\geq 0}$ is a standard Brownian motion. We further assume that interest rates are null.\n",
    "\n",
    "For a given strike $K>0$ and a fixed maturity $T>0$, \n",
    "the price of a European Call in each model is given by:\n",
    "\n",
    "**(Model 1: Black-Scholes)**\n",
    "\\begin{align}\n",
    "  C^{BS}(S_0, \\sigma,K,T) &= \\Phi(d_1)S_0 - \\Phi(d_2)K, \\\\\n",
    "     d_1 &= \\frac{1}{\\sigma\\sqrt{T}}\\left[\\ln\\left(\\frac{S_0}{K}\\right) + \\frac{\\sigma^2 T}{2}\\right], \\\\\n",
    "     d_2 &= d_1 - \\sigma\\sqrt{T}.\n",
    "\\end{align}\n",
    "\n",
    "**(Model 2: Bachelier)**\n",
    "\\begin{align}\n",
    "  C^{Bachelier}(S_0, \\sigma,K,T) &= (S_0 - K) \\Phi(b_1)+\\sigma\\sqrt{T} \\phi(b_1), \\\\\n",
    "     b_1 &= \\frac{S_0-K}{\\sigma\\sqrt{T}},\n",
    "\\end{align}\n",
    "\n",
    "where $\\Phi(\\cdot)$ is the Gaussian cdf implemented in `scipy.stats.norm.cdf` and  $\\phi(\\cdot)$ is the Gaussian pdf implemented in `scipy.stats.norm.pdf`"
   ]
  },
  {
   "cell_type": "markdown",
   "id": "8c816518",
   "metadata": {},
   "source": [
    "We will implement a GreekEngine base class that computes the Greeks of the prices of European Call options using closed-form expressions and finite differences. \n",
    "The base class will derive in two subclassess 1) Black-Scholes and 2) Bachelier."
   ]
  },
  {
   "cell_type": "markdown",
   "id": "303c48ab",
   "metadata": {},
   "source": [
    "## Question 1: \n",
    "\n",
    "Implement a `price_european_call_option(self,K:float,T:float)` method for each model following the equations described above for $C(S_0,K)$ and the class template given below\n",
    "\n",
    "Input:\n",
    "- T: float time to maturity\n",
    "- K: float strike\n",
    "\n",
    "\n",
    "Output:\n",
    "- float european Call option price\n"
   ]
  },
  {
   "cell_type": "code",
   "execution_count": 4,
   "id": "eab51299",
   "metadata": {},
   "outputs": [],
   "source": [
    "class GreekEngine(ABC):\n",
    "    def __init__(self, S0,sigma):\n",
    "        self.S0=S0\n",
    "        self.sigma=sigma\n",
    "    \n",
    "    def delta_european_call_option(self,K:float,T:float,epsilon:float)->float:\n",
    "        '''\n",
    "        #Inputs:\n",
    "        K: strike\n",
    "        T: time to maturity\n",
    "        epsilon: finite difference bump parameter\n",
    "        #Outputs:\n",
    "        finite difference delta value \n",
    "        '''\n",
    "        return\n",
    "    \n",
    "    def vega_european_call_option(self,K:float,T:float,epsilon:float)->float:\n",
    "        '''\n",
    "        #Inputs:\n",
    "        K: strike\n",
    "        T: time to maturity\n",
    "        epsilon: finite difference bump parameter\n",
    "        #Outputs:\n",
    "        finite difference vega value \n",
    "        '''\n",
    "        return\n",
    "        \n",
    "    @abstractmethod\n",
    "    def price_european_call_option(self,K:float,T:float,epsilon:float)->float:\n",
    "        '''\n",
    "        #Inputs:\n",
    "        T: time to maturity\n",
    "        K: strike\n",
    "        #Outputs:\n",
    "        european option price\n",
    "        '''\n",
    "        \n",
    "        return\n",
    "    \n",
    "class Black_Scholes(GreekEngine): \n",
    "    def __init__(self, S0,sigma):\n",
    "        super().__init__(S0,sigma)\n",
    "    def price_european_call_option(self,K:float,T:float)->float:\n",
    "        return\n",
    "    \n",
    "\n",
    "class Bachelier(GreekEngine):\n",
    "    def __init__(self, S0,sigma):\n",
    "        super().__init__(S0,sigma)\n",
    "    def price_european_call_option(self,K:float,T:float)->float:\n",
    "        return\n",
    "    "
   ]
  },
  {
   "cell_type": "markdown",
   "id": "91aa66ed",
   "metadata": {},
   "source": [
    "#### You may also use the following script to verify your results:"
   ]
  },
  {
   "cell_type": "code",
   "execution_count": 5,
   "id": "6e7c4a38",
   "metadata": {},
   "outputs": [],
   "source": [
    "def test_function_problem1_Bachelier(S0:float,sigma:float,T:float,K:float):\n",
    "    engine=Bachelier(S0,sigma)\n",
    "    return engine.price_european_call_option(K,T)"
   ]
  },
  {
   "cell_type": "code",
   "execution_count": 6,
   "id": "fb27f167",
   "metadata": {},
   "outputs": [],
   "source": [
    "def test_function_problem1_Black_Scholes(S0:float,sigma:float,T:float,K:float):\n",
    "    engine=Black_Scholes(S0,sigma)\n",
    "    return engine.price_european_call_option(K,T)"
   ]
  },
  {
   "cell_type": "markdown",
   "id": "f6adffff",
   "metadata": {},
   "source": [
    "`test_function_problem1_Bachelier(1,0.2,1,1)` should return `0.07978845608028655`"
   ]
  },
  {
   "cell_type": "markdown",
   "id": "70054c97",
   "metadata": {},
   "source": [
    "`test_function_problem1_Black_Scholes(1,0.2,1,1)` should return `0.07965567455405798`"
   ]
  },
  {
   "cell_type": "code",
   "execution_count": 7,
   "id": "b6bdc26c",
   "metadata": {
    "scrolled": true
   },
   "outputs": [],
   "source": [
    "test_function_problem1_Bachelier(1,0.2,1,1)"
   ]
  },
  {
   "cell_type": "code",
   "execution_count": 8,
   "id": "c9ac2e50",
   "metadata": {},
   "outputs": [],
   "source": [
    "test_function_problem1_Black_Scholes(1,0.2,1,1)"
   ]
  },
  {
   "cell_type": "markdown",
   "id": "8a41e87c-e090-4f08-868f-6d8de2c99ad2",
   "metadata": {},
   "source": [
    "## Question 2:\n",
    "\n",
    "Write a `delta_european_call_option(self,K:float,T:float,epsilon:float)` base class method with the folowing specifications:\n",
    "\n",
    "Input:\n",
    "- K: float strike\n",
    "- T: float time to maturity\n",
    "- epsilon: float finite difference parameter\n",
    "\n",
    "Output:\n",
    "- Finite-difference delta computed using the following formula:\n",
    "\n",
    "$$\n",
    "\\Delta(S_0,\\sigma)=\\frac{C(S_0+\\epsilon,\\sigma)-C(S_0,\\sigma)}{\\epsilon}, \\quad \\text{for }\\epsilon>0.\n",
    "$$\n",
    "\n",
    "\n",
    "**Warning:** Be aware that $S_0$ and $\\sigma$ are base class attributes. You will need to modify their values to be able to compute the \"bumped\" prices. Remember before exiting the function to set them to their initial value."
   ]
  },
  {
   "cell_type": "markdown",
   "id": "0a128ae0-ff51-435a-955f-8e0d6a7f3e6d",
   "metadata": {},
   "source": [
    "#### You may also use the following script to check your results:"
   ]
  },
  {
   "cell_type": "code",
   "execution_count": 9,
   "id": "4add5e3b-4c24-4d15-a399-77db93736b50",
   "metadata": {},
   "outputs": [],
   "source": [
    "def test_function_problem2_Bachelier(S0:float,sigma:float,T:float,K:float,epsilon:float):\n",
    "    engine=Bachelier(S0,sigma)\n",
    "    return engine.delta_european_call_option(K,T,epsilon)"
   ]
  },
  {
   "cell_type": "code",
   "execution_count": 10,
   "id": "731f7ae6",
   "metadata": {},
   "outputs": [],
   "source": [
    "def test_function_problem2_Black_Scholes(S0:float,sigma:float,T:float,K:float,epsilon:float):\n",
    "\n",
    "    engine=Black_Scholes(S0,sigma)\n",
    "    return engine.delta_european_call_option(K,T,epsilon)"
   ]
  },
  {
   "cell_type": "markdown",
   "id": "850a281a",
   "metadata": {},
   "source": [
    "`test_function_problem2_Bachelier(1,0.2,1,1,0.1)` should return `0.5977085539997474`"
   ]
  },
  {
   "cell_type": "markdown",
   "id": "1e4692ea",
   "metadata": {},
   "source": [
    "`test_function_problem2_Black_Scholes(1,0.2,1,1,0.1)` should return `0.6326443486004096`"
   ]
  },
  {
   "cell_type": "code",
   "execution_count": 11,
   "id": "2694bd48",
   "metadata": {},
   "outputs": [],
   "source": [
    "test_function_problem2_Bachelier(1,0.2,1,1,0.1)"
   ]
  },
  {
   "cell_type": "code",
   "execution_count": 12,
   "id": "8975dce2",
   "metadata": {},
   "outputs": [],
   "source": [
    "test_function_problem2_Black_Scholes(1,0.2,1,1,0.1)"
   ]
  },
  {
   "cell_type": "markdown",
   "id": "6f61a339",
   "metadata": {},
   "source": [
    "## Question 3:\n",
    "\n",
    "\n",
    "Write a `vega_european_call_option(self,K:float,T:float,epsilon:float)` base class method with the folowing specifications:\n",
    "\n",
    "Input:\n",
    "- K: float strike\n",
    "- T: float time to maturity\n",
    "- epsilon: float finite difference parameter\n",
    "\n",
    "Output:\n",
    "- Central finite-difference vega computed using the following formula:\n",
    "\n",
    "$$\\mathcal{V}(S_0,\\sigma)=\\frac{C(S_0,\\sigma+\\epsilon)-C(S_0,\\sigma-\\epsilon)}{2\\epsilon}, \\quad \\text{for }\\epsilon>0$$\n",
    "\n",
    "\n",
    "**Warning:** Be aware that $S_0$ and $\\sigma$ are base class attributes. You will need to modify their values to be able to compute the \"bumped\" prices. Remember before exiting the function to set them to their initial value."
   ]
  },
  {
   "cell_type": "markdown",
   "id": "451a95b4-6122-48e1-89dc-c6c7768478a3",
   "metadata": {},
   "source": [
    "#### You may also use the following script to check your results:"
   ]
  },
  {
   "cell_type": "code",
   "execution_count": 13,
   "id": "aab86a24",
   "metadata": {},
   "outputs": [],
   "source": [
    "def test_function_problem3_Bachelier(S0:float,sigma:float,T:float,K:float,epsilon:float):\n",
    "    engine=Bachelier(S0,sigma)\n",
    "    return engine.vega_european_call_option(K,T,epsilon)"
   ]
  },
  {
   "cell_type": "code",
   "execution_count": 14,
   "id": "9bf4e3aa",
   "metadata": {},
   "outputs": [],
   "source": [
    "def test_function_problem3_Black_Scholes(S0:float,sigma:float,T:float,K:float,epsilon:float):\n",
    "    engine=Black_Scholes(S0,sigma)\n",
    "    return engine.vega_european_call_option(K,T,epsilon)"
   ]
  },
  {
   "cell_type": "markdown",
   "id": "f56314ce",
   "metadata": {},
   "source": [
    "`test_function_problem3_Bachelier(1,0.2,1,1,0.1)` should return `0.3989422804014328`"
   ]
  },
  {
   "cell_type": "markdown",
   "id": "8672dc68",
   "metadata": {},
   "source": [
    "`test_function_problem3_Black_Scholes(1,0.2,1,1,0.1)` should return `0.39678886531870017`"
   ]
  },
  {
   "cell_type": "code",
   "execution_count": 15,
   "id": "301abbd8",
   "metadata": {},
   "outputs": [],
   "source": [
    "test_function_problem3_Bachelier(1,0.2,1,1,0.1)"
   ]
  },
  {
   "cell_type": "code",
   "execution_count": 16,
   "id": "b268a6fb",
   "metadata": {},
   "outputs": [],
   "source": [
    "test_function_problem3_Black_Scholes(1,0.2,1,1,0.1)"
   ]
  },
  {
   "cell_type": "markdown",
   "id": "982dd467-fdef-473d-91f5-49cb9ee5f320",
   "metadata": {},
   "source": [
    "---\n",
    "---"
   ]
  },
  {
   "cell_type": "markdown",
   "id": "fb6df674-0b9e-4a22-8424-1f81bc4542f6",
   "metadata": {
    "tags": []
   },
   "source": [
    "# PROBLEM II: Vectorisation\n",
    "## (40 points Total: Function1-20 points | Function2-20 points)\n",
    "---"
   ]
  },
  {
   "cell_type": "markdown",
   "id": "cfa8e5e0-b795-45b5-a482-e64f33adfbd7",
   "metadata": {},
   "source": [
    "We wish to compute the variance $\\mathbb{V}\\left[\\Phi\\right]$, where \n",
    "$$\n",
    "\\Phi := \\int_{0}^{T}f(W_t) \\mathrm{d}t,\n",
    "$$\n",
    "where $W$ is a standard Brownian motion starting from $W_0=0$.\n",
    "\n",
    "Consider an equidistant time grid $\\{t_i = \\frac{i}{m}\\}_{i=0,\\ldots, m}$ and denote $\\delta:=\\frac{1}{m}$, for some strictly positive integer $m$.\n",
    "\n",
    "We can then write, for any $i=0, \\ldots, m$ (with the convention that empty sums are null),\n",
    "$$\n",
    "W_{t_i} = \\sum_{k=0}^{i-1} (W_{t_{k+1}} - W_{t_{k}})\n",
    "= \\sum_{k=0}^{i-1} \\widetilde{n}_k \\sqrt{t_{k+1} - t_{k}}\n",
    "= \\sqrt{\\delta}\\sum_{k=0}^{i-1} \\widetilde{n}_k,\n",
    "$$\n",
    "in distribution, where $\\left\\{\\widetilde{n}_k\\right\\}_{k=0,\\ldots, m-2}$ forms an iid sequence of centered Gaussian random variables with unit variance.\n",
    "We therefore obtain\n",
    "$$\n",
    "\\int_{0}^{T}f(W_t)\\mathrm{d}t\n",
    " = \\sum_{i=1}^{m-1}f(W_{t_i})(t_{i+1} - t_i)\n",
    " = \\sum_{i=1}^{m-1}f\\left(\\sqrt{\\delta}\\sum_{k=0}^{i-1} \\widetilde{n}_k\\right)(t_{i+1} - t_i)\n",
    " = \\delta\\sum_{i=1}^{m-1}f\\left(\\sqrt{\\delta}\\sum_{k=0}^{i-1} \\widetilde{n}_k\\right).\n",
    " $$\n",
    " \n",
    "In order to compute the variance $\\mathbb{V}[\\Phi]$, we now generate $n$ samples \n",
    "$(\\Phi^{(1)}, \\ldots, \\Phi^{(n)})$ of $\\Phi$ and build the unbiased variance estimator\n",
    "$$\n",
    "\\widehat{\\sigma}_{n}^2 := \n",
    "\\frac{1}{n-1}\\sum_{j=1}^{n}\n",
    "\\left(\\Phi^{(j)} - \\frac{1}{n}\\sum_{l=1}^{n}\\Phi^{(l)}\\right)^2.\n",
    "$$"
   ]
  },
  {
   "cell_type": "markdown",
   "id": "63cd5f8c-e7f8-4359-bbd0-6d83c2922d58",
   "metadata": {},
   "source": [
    "## Question: \n",
    "\n",
    "\n",
    "- Write two pure `python` (i.e. not with `cython`) functions that compute this estimator.\n",
    "    + `variance_intBM_loop(nsteps, nsimul, gaussian_vector)` using for loop structure e.g.\\\n",
    "      `for n in range(nsimul):`\n",
    "      \n",
    "     `      for j in range(n_steps-1):`\n",
    "\n",
    "  to compute $\\phi^n$\n",
    "              \n",
    "    + `variance_intBM(nsteps, nsimul, gaussian_vector)` avoiding for loops \\\n",
    "  **Optional Hint:** Constructing the f(W_t) matrix for each nsimul and nstep might be helpful (without using a for loop of course). Then you can apply vectorized operations on it \n",
    "    \n",
    "\n",
    "Notes:\n",
    "- You may want to use `np.var` (https://numpy.org/doc/stable/reference/generated/numpy.std.html) to compute the *unbiased* variance; *watch out for degrees of freedom.....*\n",
    "- the function `variance_intBM_loop` should have loops\n",
    "- loops are not allowed in the function `variance_intBM`\n",
    "- The result of both functions should match exactly (up to some tolerance with rounding)"
   ]
  },
  {
   "cell_type": "code",
   "execution_count": 17,
   "id": "b70202de-e21a-42e0-9bb7-cf2a2c39a9d9",
   "metadata": {},
   "outputs": [],
   "source": [
    "def variance_intBM_loop(nsteps:int, nsimul:int, gaussian_vector:np.array, delta:float, f)->float:\n",
    "    \"\"\"\n",
    "        #Inputs:\n",
    "        nsteps (int): number of time steps (m)\n",
    "        nsimul (int): number of simulations (n)\n",
    "        gaussian_vector (np.array): Gaussian random samples of size (nsteps-1, nsimul)\n",
    "        delta (float): time increment\n",
    "        f: function f()\n",
    "        #Outputs:\n",
    "        variance estimator (float)\n",
    "    \"\"\"\n",
    "    \n",
    "    return\n",
    "\n",
    "def variance_intBM(nsteps:int, nsimul:int, gaussian_vector:np.array, delta:float, f)->float:\n",
    "    \"\"\"\n",
    "        #Inputs:\n",
    "        nsteps (int): number of time steps (m)\n",
    "        nsimul (int): number of simulations (n)\n",
    "        gaussian_vector (np.array): Gaussian random samples of size (nsteps-1, nsimul)\n",
    "        delta (float): time increment\n",
    "        f: function f()\n",
    "        #Outputs:\n",
    "        variance estimator (float)\n",
    "    \"\"\"\n",
    "    \n",
    "    return"
   ]
  },
  {
   "cell_type": "markdown",
   "id": "e52e0834-e211-4a76-945e-5a68a75c2456",
   "metadata": {},
   "source": [
    "### Example\n",
    "\n",
    "As a consistency check, you may want to check numerically the formula\n",
    "$$\n",
    "\\mathbb{V}\\left[\\int_{0}^{T} (W_t)^2 \\mathrm{d}t\\right] = \\frac{T^3}{3}.\n",
    "$$"
   ]
  },
  {
   "cell_type": "code",
   "execution_count": 18,
   "id": "92dde349-cbcb-405d-8d18-171b3f1c3381",
   "metadata": {},
   "outputs": [],
   "source": [
    "nsteps, nsimul = 1000, 10000\n",
    "np.random.seed(0)\n",
    "gaussian_vector = np.random.normal(0., 1., (nsteps-1, nsimul))\n",
    "T = 1.\n",
    "delta = T / nsteps\n",
    "f = lambda x: x**2"
   ]
  },
  {
   "cell_type": "code",
   "execution_count": 19,
   "id": "96226ee7-0b13-48b7-9bf0-ea34b05851a4",
   "metadata": {},
   "outputs": [
    {
     "ename": "NameError",
     "evalue": "name 'variance_intBM_loops' is not defined",
     "output_type": "error",
     "traceback": [
      "\u001b[0;31m---------------------------------------------------------------------------\u001b[0m",
      "\u001b[0;31mNameError\u001b[0m                                 Traceback (most recent call last)",
      "Cell \u001b[0;32mIn[19], line 2\u001b[0m\n\u001b[1;32m      1\u001b[0m t0 \u001b[38;5;241m=\u001b[39m time\u001b[38;5;241m.\u001b[39mtime()\n\u001b[0;32m----> 2\u001b[0m myvar_loop \u001b[38;5;241m=\u001b[39m \u001b[43mvariance_intBM_loops\u001b[49m(nsteps, nsimul, gaussian_vector, delta, f)\n\u001b[1;32m      3\u001b[0m dt_loop \u001b[38;5;241m=\u001b[39m time\u001b[38;5;241m.\u001b[39mtime() \u001b[38;5;241m-\u001b[39m t0\n\u001b[1;32m      5\u001b[0m t0 \u001b[38;5;241m=\u001b[39m time\u001b[38;5;241m.\u001b[39mtime()\n",
      "\u001b[0;31mNameError\u001b[0m: name 'variance_intBM_loops' is not defined"
     ]
    }
   ],
   "source": [
    "t0 = time.time()\n",
    "myvar_loop = variance_intBM_loops(nsteps, nsimul, gaussian_vector, delta, f)\n",
    "dt_loop = time.time() - t0\n",
    "\n",
    "t0 = time.time()\n",
    "myvar_loop = variance_intBM(nsteps, nsimul, gaussian_vector, delta, f)\n",
    "dt_loop = time.time() - t0\n",
    "\n",
    "print(\"Variance: \", np.round(myvar_loop, 8), \" --- Total computation time: \", np.round(dt_loop, 2), \" seconds\")\n",
    "print(\"Variance: \", np.round(myvar_vec, 8), \" --- Total computation time: \", np.round(dt_vec, 2), \" seconds\")"
   ]
  },
  {
   "cell_type": "markdown",
   "id": "9ff5f3d7-2e5c-4279-81b0-9c66a4d9f7e6",
   "metadata": {},
   "source": [
    "*Note: with (nsteps, nsimul) = (1000, 10000), you should expect a speed ratio of magnitude 20~30 at least.*"
   ]
  },
  {
   "cell_type": "markdown",
   "id": "a662681e-6b83-4db8-ae3b-cb8214d99195",
   "metadata": {},
   "source": [
    "---\n",
    "---"
   ]
  },
  {
   "cell_type": "markdown",
   "id": "b8057d52-69f3-4ca9-be20-50516e131fd7",
   "metadata": {
    "tags": []
   },
   "source": [
    "# PROBLEM III: Pandas and option data\n",
    "## (30 points Total: Q1-15 points | Q2-15 points)\n",
    "---"
   ]
  },
  {
   "cell_type": "markdown",
   "id": "556c7dd6-eb3a-468f-b8de-16dea17447a7",
   "metadata": {},
   "source": [
    "The file `AAPL_options.csv`contains financial data for the option chains in AAPL.\n",
    "\n",
    "The columns of the csv file are defined below:\n",
    "\n",
    "- contractSymbol: unique indetifier of the option contract\n",
    "\n",
    "- optionType: call or put\n",
    "\n",
    "- expiration: contract expiration date in YYYY-mm-dd format\n",
    "\n",
    "- lastTradeDate:contract last traded date in  YYYY-mm-dd format\n",
    "\n",
    "- strike: strike price of the options contract\n",
    "\n",
    "- lastPrice: last quoted price of the option contract\n",
    "\n",
    "- bid: last bid price of the option contract\n",
    "\n",
    "- ask:  last ask price of the option contract\n",
    "\n",
    "- change: price change since last update\n",
    "\n",
    "- percentChange: percentage price change since last update\n",
    "\n",
    "- volume: traded volume\n",
    "\n",
    "- openInterest: open interest\n",
    "\n",
    "- impliedVolatility: option implied vol\n",
    "\n",
    "- inTheMoney: True for option in the Money, False otherwise\n",
    "\n",
    "- contractSize: always REGULAR\n",
    "\n",
    "- currency: contract currency (always USD)\n",
    "\n",
    "you can read the file to pandas using the code below"
   ]
  },
  {
   "cell_type": "code",
   "execution_count": null,
   "id": "1cc61bcc-be9c-421b-b423-1ba29778fbfd",
   "metadata": {},
   "outputs": [],
   "source": [
    "df=pd.read_csv(\"AAPL_options.csv\")\n",
    "df.head()"
   ]
  },
  {
   "cell_type": "markdown",
   "id": "e3ada799-0968-4e7d-b23e-4f55b32d7ef0",
   "metadata": {
    "tags": []
   },
   "source": [
    "## Question 1:"
   ]
  },
  {
   "cell_type": "markdown",
   "id": "9afe0de8-2dc0-4337-a850-dcbe1c42f889",
   "metadata": {},
   "source": [
    "Implement a function `find_number_options_with_volume_threshold(df:pd.DataFrame,expiration:str,min_vol_threshold:int)->int` with the following specifications:\n",
    "\n",
    "Inputs:\n",
    "- df:pd.DataFrame input dataframe\n",
    "- expiration:str expiration date\n",
    "- min_vol_threshold:int minimum volume\n",
    "\n",
    "Outputs:\n",
    "- Number of options (both Calls and Puts) available with expiration equal to the input `expiration` and volume larger than or equal `min_vol_threshold`\n",
    "\n"
   ]
  },
  {
   "cell_type": "code",
   "execution_count": null,
   "id": "6fa438fa",
   "metadata": {},
   "outputs": [],
   "source": [
    "def find_number_options_with_volume_threshold(df:pd.DataFrame,expiration:str,min_vol_threshold:int)->int:\n",
    "    \"\"\"\n",
    "    following specification\n",
    "    Input:\n",
    "    - df:pd.DataFrame input dataframe\n",
    "    - expiration:str expiration date\n",
    "    - min_vol_threshold:int minimum volume\n",
    "\n",
    "    Output:\n",
    "    - Number of options (both Calls and Puts) available with expiration equal to the input `expiration` and volume larger than or equal `min_vol_threshold`\n",
    "\n",
    "    \"\"\"\n",
    "    return"
   ]
  },
  {
   "cell_type": "markdown",
   "id": "24e89402-95bd-4dc3-b406-022de0575337",
   "metadata": {},
   "source": [
    "### You may also use the following example to verify your results:"
   ]
  },
  {
   "cell_type": "markdown",
   "id": "dae181b6-9a2f-482a-8f5f-5b7ec0deda1e",
   "metadata": {},
   "source": [
    "`find_number_options_with_volume_threshold(df,\"2022-12-16\",0)` should return `142`"
   ]
  },
  {
   "cell_type": "markdown",
   "id": "37e1b0c0-21f6-446a-885f-d2b4bfde62fd",
   "metadata": {},
   "source": [
    "`find_number_options_with_volume_threshold(df,\"2025-01-17\",100)` should return `6`"
   ]
  },
  {
   "cell_type": "code",
   "execution_count": null,
   "id": "078387d0",
   "metadata": {},
   "outputs": [],
   "source": [
    "find_number_options_with_volume_threshold(df,\"2022-12-16\",0)"
   ]
  },
  {
   "cell_type": "code",
   "execution_count": null,
   "id": "89fa1fe4",
   "metadata": {},
   "outputs": [],
   "source": [
    "find_number_options_with_volume_threshold(df,\"2025-01-17\",100)"
   ]
  },
  {
   "cell_type": "markdown",
   "id": "d44bf53b-d353-44ce-9c70-20d21f78d543",
   "metadata": {},
   "source": [
    "## Question 2:"
   ]
  },
  {
   "cell_type": "markdown",
   "id": "30b9e5c9-87a5-47ab-ae86-0e1dc41e512a",
   "metadata": {},
   "source": [
    "Write a function `find_mean_volume_per_expiration_per_option_type(df:pd.DataFrame,min_expiration:str)->pd.DataFrame` with the following specifications:\n",
    "\n",
    "Inputs:\n",
    " - df:pd.DataFrame input dataframe\n",
    " - min_expiration:str minimum expiration date\n",
    " \n",
    "Outputs:\n",
    "\n",
    "- pandas dataframe with columns [\"expiration\",\"optionType\",\"averageVolume\"] for expirations larger than or equal `min_expiration`\n",
    "- expiration: is the expiration in YYYY-mm-dd format\n",
    "- optionType: is call or put\n",
    "- averageVolume: is the average traded volume per expiration and option type e.g. for each expiration we want to compute the average volume for Calls and Puts separately"
   ]
  },
  {
   "cell_type": "code",
   "execution_count": null,
   "id": "4e14541b",
   "metadata": {},
   "outputs": [],
   "source": [
    "def find_mean_volume_per_expiration_per_option_type(df:pd.DataFrame,min_expiration:str)->pd.DataFrame:\n",
    "    \"\"\"\n",
    "    Input:\n",
    "         - df:pd.DataFrame input dataframe\n",
    "         - min_expiration:str minimum expiration date\n",
    " \n",
    "    Output:\n",
    "\n",
    "        - pandas dataframe with columns [\"expiration\",\"optionType\",\"averageVolume\"] for expirations larger than or equal `min_expiration`\n",
    "        - expiration: is the expiration in YYYY-mm-dd format\n",
    "        - optionType: is all or Put\n",
    "        - averageVolume: is the average traded volume per expiration and option type e.g. for each expiration we want to compute the average volume for Calls and Puts separately\n",
    "    \"\"\"\n",
    "    return"
   ]
  },
  {
   "cell_type": "markdown",
   "id": "0c45f12c-7ca5-4ade-9115-1b4c93414bdf",
   "metadata": {},
   "source": [
    "### You may also use the following example to verify your results:"
   ]
  },
  {
   "cell_type": "markdown",
   "id": "a3027c13-ba2c-4e48-a062-4ee1e7d9475d",
   "metadata": {},
   "source": [
    "`find_mean_volume_per_expiration_per_option_type(df,\"2025-01-17\")` should return \n",
    "\n",
    "|    | expiration   | optionType   |   averageVolume |\n",
    "|---:|:-------------|:-------------|----------------:|\n",
    "|  0 | 2025-01-17   | call         |         34.3333 |\n",
    "|  1 | 2025-01-17   | put          |         34.3333 |"
   ]
  },
  {
   "cell_type": "markdown",
   "id": "6722e3d7-6925-4a24-801d-1347c5295678",
   "metadata": {},
   "source": [
    "`find_mean_volume_per_expiration_per_option_type(df,\"2024-06-21\")` should return \n",
    "\n",
    "|    | expiration   | optionType   |   averageVolume |\n",
    "|---:|:-------------|:-------------|----------------:|\n",
    "|  0 | 2024-06-21   | call         |         27.2308 |\n",
    "|  1 | 2024-06-21   | put          |         27.2308 |\n",
    "|  2 | 2025-01-17   | call         |         34.3333 |\n",
    "|  3 | 2025-01-17   | put          |         34.3333 |"
   ]
  },
  {
   "cell_type": "code",
   "execution_count": null,
   "id": "449083ee-af69-4e85-9a45-c4203173176e",
   "metadata": {},
   "outputs": [],
   "source": []
  }
 ],
 "metadata": {
  "kernelspec": {
   "display_name": "Python 3 (ipykernel)",
   "language": "python",
   "name": "python3"
  },
  "language_info": {
   "codemirror_mode": {
    "name": "ipython",
    "version": 3
   },
   "file_extension": ".py",
   "mimetype": "text/x-python",
   "name": "python",
   "nbconvert_exporter": "python",
   "pygments_lexer": "ipython3",
   "version": "3.10.13"
  }
 },
 "nbformat": 4,
 "nbformat_minor": 5
}
