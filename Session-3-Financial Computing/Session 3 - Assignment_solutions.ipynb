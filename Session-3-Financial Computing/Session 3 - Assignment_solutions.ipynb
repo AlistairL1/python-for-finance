{
 "cells": [
  {
   "cell_type": "markdown",
   "metadata": {},
   "source": [
    "# **Python for Finance -- Session 2 -- Assignment**\n",
    "---\n",
    "<img src=\"http://www.doc.ic.ac.uk/~afd/images/logo_imperial_college_london.png\" align = \"left\" width=200>\n",
    " <br><br><br><br>\n",
    " \n",
    "- Copyright (c) Jack Jacquier, 2022. All rights reserved\n",
    "\n",
    "- Author: Antoine Jacquier <a.jacquier@imperial.ac.uk>\n",
    "\n",
    "- Platform: Tested on Windows 10 with Python 3.9"
   ]
  },
  {
   "cell_type": "code",
   "execution_count": 16,
   "metadata": {},
   "outputs": [],
   "source": [
    "from scipy.stats import norm\n",
    "import numpy as np\n",
    "import matplotlib.pylab as plt"
   ]
  },
  {
   "cell_type": "markdown",
   "metadata": {},
   "source": [
    "### Let's first compute the reference price"
   ]
  },
  {
   "cell_type": "code",
   "execution_count": 20,
   "metadata": {},
   "outputs": [],
   "source": [
    "def BSCall(S0, K, sigma, T):\n",
    "    '''\n",
    "    #Inputs:\n",
    "    S0: initial stock price\n",
    "    K: strike\n",
    "    sigma: instantaneous volatility\n",
    "    T: time to maturity\n",
    "    #Output:\n",
    "    Black-Scholes Call price\n",
    "    '''\n",
    "    sigT = sigma*np.sqrt(T)\n",
    "    k = np.log(K/S0)\n",
    "    dp = -k / sigT + 0.5*sigT\n",
    "    dm = dp - sigT\n",
    "    return S0*(norm.cdf(dp) - np.exp(k)*norm.cdf(dm))"
   ]
  },
  {
   "cell_type": "code",
   "execution_count": 21,
   "metadata": {},
   "outputs": [
    {
     "name": "stdout",
     "output_type": "stream",
     "text": [
      "Reference Price:  7.965567455405798\n"
     ]
    }
   ],
   "source": [
    "S0, K, sigma, T = 100., 100., 0.2, 1.\n",
    "print(\"Reference Price: \", BSCall(S0, K, sigma, T))"
   ]
  },
  {
   "cell_type": "markdown",
   "metadata": {},
   "source": [
    "## Pricing a Call option in Black-Scholes\n",
    "\n",
    "We will consider the following values for the parameters:\n",
    "$$\n",
    "(S_0, K, \\sigma, t, T) = (100, 100, 20\\%, 0, 1 \\text{ year}).\n",
    "$$\n",
    "\n",
    "\n",
    "Recall that under the Black-Scholes model, the stock price satisfies at maturity $T$,\n",
    "\\begin{equation*}\n",
    "S_T\n",
    " = S_0\\exp\\left\\{-\\frac{\\sigma^2 T}{2} + \\sigma\\widetilde{n}\\sqrt{T}\\right\\},\n",
    "\\end{equation*}\n",
    "where $\\widetilde{n}$ is a Gaussian random variable. Therefore, for any function $f:\\mathbb{R}_+\\to\\mathbb{R}$, we can write\n",
    "\\begin{equation*}\n",
    "\\mathbb{E}\\left[f(S_T)\\right] = \n",
    "\\mathbb{E}\\left[f\\left(S_0\\exp\\left\\{-\\frac{\\sigma^2 T}{2} + \\sigma\\widetilde{n}\\sqrt{T}\\right\\}\\right)\\right] =\n",
    "\\int_{\\mathbb{R}}f\\left(S_0\\exp\\left\\{-\\frac{\\sigma^2 T}{2} + \\sigma x\\sqrt{T}\\right\\}\\right)\\phi(x) \\mathrm{d} x,\n",
    "\\end{equation*}\n",
    "where\n",
    "\\begin{equation*}\n",
    "\\phi(x) := \\frac{1}{\\sqrt{2\\pi}}\\exp\\left\\{-\\frac{x^2}{2}\\right\\}\n",
    "\\end{equation*}\n",
    "is the Gaussian density.\n"
   ]
  },
  {
   "cell_type": "markdown",
   "metadata": {},
   "source": [
    "Write a Python function pricing a Call option in the Black-Scholes model by integration. \n",
    "Check that with the parameters above you obtain a Call option price equal to $7.965567455405798$."
   ]
  },
  {
   "cell_type": "code",
   "execution_count": 22,
   "metadata": {},
   "outputs": [],
   "source": [
    "from scipy.integrate import quad, simps\n",
    "def integrand(x, S0, K, sigma, T):\n",
    "    gaussianDensity = np.exp(-.5*x*x) / np.sqrt(2.*np.pi)\n",
    "    payoffFunction = np.maximum(S0*np.exp((-.5*sigma*sigma*T + sigma*np.sqrt(T)*x))-K, 0.)\n",
    "    return payoffFunction*gaussianDensity"
   ]
  },
  {
   "cell_type": "code",
   "execution_count": 23,
   "metadata": {},
   "outputs": [
    {
     "name": "stdout",
     "output_type": "stream",
     "text": [
      "Black-Scholes Call price by integration:\n",
      "Quadrature:  (7.9655167877012145, 7.187613810377482e-08)\n",
      "Simpson:  7.965548568013442\n",
      "***************************\n"
     ]
    }
   ],
   "source": [
    "print('Black-Scholes Call price by integration:')\n",
    "xMin, xMax = -5., 5.\n",
    "qf = quad(integrand, xMin, xMax, args=(S0, K, sigma, T,))\n",
    "xx = np.linspace(xMin, xMax, 1000)\n",
    "qs = simps([integrand(x, S0, K, sigma, T) for x in xx], xx)\n",
    "print(\"Quadrature: \", qf)\n",
    "print(\"Simpson: \", qs)\n",
    "print(\"***************************\")"
   ]
  },
  {
   "cell_type": "markdown",
   "metadata": {},
   "source": [
    "### Pricing by simulation"
   ]
  },
  {
   "cell_type": "markdown",
   "metadata": {},
   "source": [
    "Using the representation\n",
    "\\begin{equation*}\n",
    "S_T\n",
    " = S_0\\exp\\left\\{-\\frac{\\sigma^2 T}{2} + \\sigma W_T\\right\\}\n",
    " = S_0\\exp\\left\\{-\\frac{\\sigma^2 T}{2} + \\sigma\\widetilde{n}\\sqrt{T}\\right\\} \\text{ (in distribution)},\n",
    "\\end{equation*}\n",
    "and the approximation\n",
    "$$\n",
    "\\mathbb{E}[f(S_T)] \\approx \\frac{1}{N}\\sum_{i=1}^{N}f\\left(S_T^{(i)}\\right),\n",
    "$$\n",
    "for any continuous function $f$, where $(S_T^{(i)})_{i=1,\\ldots,N}$ are independent random copies of $S_T$, write a Python function for a Call option price. With the same parameters as in 2.1, plot the convergence of the Call price as a function of $N$."
   ]
  },
  {
   "cell_type": "markdown",
   "metadata": {},
   "source": [
    "**Remark:** Note that here, you do not in fact need to simulate trajectories of the Brownian motion since the option is *European*, i.e. only depends on the value of the underlying stock price at maturity. For path-dependent options, however, simulations of the paths are required."
   ]
  },
  {
   "cell_type": "code",
   "execution_count": 24,
   "metadata": {},
   "outputs": [],
   "source": [
    "def bsSimulation(S0, K, T, sigma, n):\n",
    "    nn = np.random.normal(0., 1., (n))\n",
    "    S = S0*np.exp((-.5*sigma*sigma*T + sigma*np.sqrt(T)*nn))\n",
    "    f = np.maximum(S-K, 0.)\n",
    "    return np.mean(f)"
   ]
  },
  {
   "cell_type": "code",
   "execution_count": 25,
   "metadata": {},
   "outputs": [],
   "source": [
    "nn = np.arange(500, 100000, 1000)"
   ]
  },
  {
   "cell_type": "code",
   "execution_count": 26,
   "metadata": {},
   "outputs": [
    {
     "data": {
      "image/png": "[encoded data removed]",
      "text/plain": [
       "<Figure size 640x480 with 1 Axes>"
      ]
     },
     "metadata": {},
     "output_type": "display_data"
    }
   ],
   "source": [
    "bb = [bsSimulation(S0, K, T, sigma, n) for n in nn]\n",
    "trueBS = [BSCall(S0, K, sigma, T)]*len(nn)\n",
    "plt.plot(nn, bb, 'b')\n",
    "plt.plot(nn, trueBS, 'k')\n",
    "plt.title(\"Convergence of the Black-Scholes Call price\")\n",
    "plt.xlabel(\"Number of paths\")\n",
    "plt.show()"
   ]
  },
  {
   "cell_type": "markdown",
   "metadata": {},
   "source": [
    "## Implied volatility"
   ]
  },
  {
   "cell_type": "markdown",
   "metadata": {},
   "source": [
    "Recall that in the Black-Scholes model (without interest rates), the value of a European Call option on $(S_t)_{t\\geq 0}$ is given at inception by\n",
    "$$\n",
    "C^{\\mathrm{BS}}(S_0, K, T;\\sigma) = S_0\\left(\\mathcal{N}(d_{+}) - \\mathrm{e}^{k}\\mathcal{N}(d_{-})\\right),\n",
    "$$\n",
    "where\n",
    "$$\n",
    "d_{\\pm} = \\frac{-k}{\\sigma\\sqrt{T}} \\pm\\frac{\\sigma\\sqrt{T}}{2}\n",
    "\\quad \\text{ and } \\quad k := \\log\\left(\\frac{K}{S_0}\\right),\n",
    "$$\n",
    "and where $\\mathcal{N}$ denotes the Gaussian cumulative distribution function.\n"
   ]
  },
  {
   "cell_type": "markdown",
   "metadata": {},
   "source": [
    "- For any fixed $k\\in\\mathbb{R}$, $T, S_0>0$, show that the map $\\sigma\\mapsto C^{\\mathrm{BS}}(S_0, K, T;\\sigma)$ is bijective;\n",
    "- Compute \n",
    "$$\n",
    "\\lim_{\\sigma\\downarrow 0}C^{\\mathrm{BS}}(S_0, K, T;\\sigma)\n",
    "$$\n",
    "and \n",
    "$$\n",
    "\\lim_{\\sigma\\uparrow\\infty}C^{\\mathrm{BS}}(S_0, K, T;\\sigma).\n",
    "$$"
   ]
  },
  {
   "cell_type": "markdown",
   "metadata": {},
   "source": [
    "### Solution: Since by arbitrage conditions we have $$(S_0-K)^+\\leq C^{BS}(S_0, K, T;\\sigma) \\leq S_0 $$\n",
    "\n",
    "### This gives an upper and lower bound for the options price. Moreover we know that $$\\frac{\\partial C^{BS}(S_0, K, T;\\sigma)}{d \\sigma}>0$$ meaning that $C^{BS}$ is monotonically increasing in $\\sigma\\in\\mathbb{R}^+$.\n",
    "\n",
    "### Therefore, we must have $$ \\lim_{\\sigma\\downarrow 0}C^{\\mathrm{BS}}(S_0, K, T;\\sigma) =(S_0-K)^+$$ and $$\\lim_{\\sigma\\uparrow\\infty}C^{\\mathrm{BS}}(S_0, K, T;\\sigma)=S_0 $$\n",
    "\n",
    "e.g. the limits hit the arbitrage-free bounds on both ends"
   ]
  },
  {
   "cell_type": "markdown",
   "metadata": {},
   "source": [
    "- Write a Python function with inputs $S_0, K, T, C$ that returns the implied volatility, solution to the equation $C^{\\mathrm{BS}}(S_0, K, T;\\sigma) = C$.\n",
    "*Hint: You can either use a root-finding method using the bijective property, or try to minimise the squared difference*.\n",
    "- Verify that the implied volatility corresponding to $(S_0, K, T, C) = (100., 100., 1., 7.9655674)$ is equal to $20\\%$."
   ]
  },
  {
   "cell_type": "code",
   "execution_count": 43,
   "metadata": {},
   "outputs": [
    {
     "name": "stdout",
     "output_type": "stream",
     "text": [
      "Verification error:  -9.325873406851315e-15\n",
      "Verification error:  [-9.32587341e-15]\n",
      "Verification error:  [9.38911911e-07]\n"
     ]
    }
   ],
   "source": [
    "from scipy.optimize import fsolve, root, minimize\n",
    "\n",
    "def f(sigma, *args):\n",
    "    S0, K, T, optionPrice = args ## optional arguments, where optionPrice is the Call option price to match\n",
    "    return (BSCall(S0, K, sigma, T)-optionPrice) ## define the objective equation to solve \n",
    "\n",
    "def f_squared(sigma, *args):\n",
    "    S0, K, T, optionPrice = args ## optional arguments, where optionPrice is the Call option price to match\n",
    "    return (BSCall(S0, K, sigma, T)-optionPrice)**2\n",
    "optionPrice = 3.9\n",
    "\n",
    "#Option 1) fsolve\n",
    "impliedVol = fsolve(f, x0=0.3, args=((S0, K, T, optionPrice, )))[0]\n",
    "\n",
    "\n",
    "### Verification that Black-Scholes(implied volatility) = optionPrice\n",
    "print(\"Verification error: \", optionPrice - BSCall(S0, K, impliedVol, T))\n",
    "\n",
    "#Option 2) root\n",
    "impliedVol = root(f, x0=0.3, args=((S0, K, T, optionPrice, ))).x\n",
    "\n",
    "\n",
    "### Verification that Black-Scholes(implied volatility) = optionPrice\n",
    "print(\"Verification error: \", optionPrice - BSCall(S0, K, impliedVol, T))\n",
    "\n",
    "#Option 3) minimize\n",
    "impliedVol = minimize(f_squared, x0=0.3, args=((S0, K, T, optionPrice, ))).x \n",
    "###Since minimize, looks for the minimum value, we need to squre the different to prevent\n",
    "### otherwise the algorithm won't work\n",
    "\n",
    "\n",
    "### Verification that Black-Scholes(implied volatility) = optionPrice\n",
    "print(\"Verification error: \", optionPrice - BSCall(S0, K, impliedVol, T))"
   ]
  },
  {
   "cell_type": "markdown",
   "metadata": {},
   "source": [
    "## Discrete versus continuous compounding¶"
   ]
  },
  {
   "cell_type": "markdown",
   "metadata": {},
   "source": [
    "Suppose that you invest $\\Pi$ GBP today in a risk-free bank account.\n",
    "Considering compound interest rate yields the amount if one is earning  is\n",
    "\\begin{equation*}\n",
    "\\Pi\\left(1+\\frac{r}{n}\\right)^{nT}.\n",
    "\\end{equation*}\n",
    "over the period $[0,T]$, where $r$ is the annual nominal interest rate and $n$ the number of times the interest is compounded per year.\n",
    "For example, if $n=1$, this is a yearly rate, for $n=2$, this is a 6-month rate, and $n=252$ corresponds to a daily rate."
   ]
  },
  {
   "cell_type": "markdown",
   "metadata": {},
   "source": [
    "**Question:** \n",
    "- Write a program computing  how much money will be compounded as a function of $\\Pi, r, n, T$.\n",
    "- As $n$ becomes large, compute the limit of Equation (1), and illustrate it numerically.\n",
    "\n",
    "Available data:\n",
    "- Annual rates provided by the Bank of England are available here: https://www.bankofengland.co.uk/boeapps/database/Bank-Rate.asp\n",
    "\n",
    "- Annual rates by Bank of China can be found here: https://www.global-rates.com/en/interest-rates/central-banks/central-bank-china/pbc-interest-rate.aspx"
   ]
  },
  {
   "cell_type": "code",
   "execution_count": 28,
   "metadata": {},
   "outputs": [],
   "source": [
    "def returns(P, r, T, n):\n",
    "    return P*(1.+r/n)**(n*T)"
   ]
  },
  {
   "cell_type": "code",
   "execution_count": 29,
   "metadata": {},
   "outputs": [
    {
     "data": {
      "image/png": "[encoded data removed]",
      "text/plain": [
       "<Figure size 640x480 with 1 Axes>"
      ]
     },
     "metadata": {},
     "output_type": "display_data"
    }
   ],
   "source": [
    "P0, r, T = 1, .03, 10.\n",
    "nn = range(1, 5)\n",
    "\n",
    "for n in nn:\n",
    "    step = 1./float(n)\n",
    "    t = 0.\n",
    "    tt, pp = [], []\n",
    "    for i in range(1, 1+int(n*T)):\n",
    "        t = i*step\n",
    "        tminus = t-step\n",
    "        pminus = P0*(1.+r/n)**(n*(tminus))\n",
    "        P = returns(P0, r, t, n)\n",
    "        tt.extend((tminus, t, t))\n",
    "        pp.extend((pminus, pminus, P))\n",
    "    plt.plot(tt, pp, label='n= %d' %n)\n",
    "plt.plot(tt, [P0*np.exp(r*t) for t in tt], label='exp(rt)')\n",
    "plt.xlabel(\"time\")\n",
    "plt.legend(loc=\"best\")\n",
    "plt.show()"
   ]
  }
 ],
 "metadata": {
  "kernelspec": {
   "display_name": "Python 3 (ipykernel)",
   "language": "python",
   "name": "python3"
  },
  "language_info": {
   "codemirror_mode": {
    "name": "ipython",
    "version": 3
   },
   "file_extension": ".py",
   "mimetype": "text/x-python",
   "name": "python",
   "nbconvert_exporter": "python",
   "pygments_lexer": "ipython3",
   "version": "3.10.13"
  },
  "latex_envs": {
   "LaTeX_envs_menu_present": true,
   "autoclose": false,
   "autocomplete": true,
   "bibliofile": "biblio.bib",
   "cite_by": "apalike",
   "current_citInitial": 1,
   "eqLabelWithNumbers": true,
   "eqNumInitial": 1,
   "hotkeys": {
    "equation": "Ctrl-E",
    "itemize": "Ctrl-I"
   },
   "labels_anchors": false,
   "latex_user_defs": false,
   "report_style_numbering": false,
   "user_envs_cfg": false
  },
  "toc": {
   "base_numbering": 1,
   "nav_menu": {},
   "number_sections": true,
   "sideBar": true,
   "skip_h1_title": true,
   "title_cell": "Table of Contents",
   "title_sidebar": "Contents",
   "toc_cell": false,
   "toc_position": {},
   "toc_section_display": true,
   "toc_window_display": true
  }
 },
 "nbformat": 4,
 "nbformat_minor": 4
}
