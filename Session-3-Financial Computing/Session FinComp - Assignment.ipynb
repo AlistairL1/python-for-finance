{
 "cells": [
  {
   "cell_type": "markdown",
   "metadata": {},
   "source": [
    "# **NUMERICAL TOOLS FOR QUANTITATIVE FINANCE -- Assignment**\n",
    "---\n",
    "<img src=\"../Imperial_logo.png\" align = \"left\" width=200>\n",
    "<br><br>\n",
    " \n",
    "- Copyright (c) Antoine Jacquier, 2024. All rights reserved\n",
    "\n",
    "- Author: Jack Jacquier <a.jacquier@imperial.ac.uk>\n",
    "\n",
    "- Platform: Tested on Windows 10 with Python 3.9"
   ]
  },
  {
   "cell_type": "code",
   "execution_count": 1,
   "metadata": {},
   "outputs": [],
   "source": [
    "import numpy as np\n",
    "import matplotlib.pyplot as plt"
   ]
  },
  {
   "cell_type": "markdown",
   "metadata": {},
   "source": [
    "# Finite differences"
   ]
  },
  {
   "cell_type": "markdown",
   "metadata": {},
   "source": [
    "We consider a function $f:A\\subset\\mathbb{R}\\to\\mathbb{R}$, which we assume smooth enough.\n",
    "A (local) Taylor expansion around a point $x\\in\\mathbb{R}$ reads\n",
    "$$\n",
    "f(x+\\varepsilon) = f(x) + \\varepsilon f'(x) + \\mathcal{O}(\\varepsilon^2),\n",
    "$$\n",
    "as $\\varepsilon$ tends to zero.\n",
    "Therefore\n",
    "$$\n",
    "f'(x) = \\frac{f(x+\\varepsilon) - f(x)}{\\varepsilon}  + \\mathcal{O}(\\varepsilon),\n",
    "$$\n",
    "which means that we can approximate the derivative $f'(x)$ using a one-sided difference, with an error of order $\\varepsilon$."
   ]
  },
  {
   "cell_type": "markdown",
   "metadata": {},
   "source": [
    "**Question 1:** show that the following (central difference) approximation yields an error of order $\\varepsilon^2$:\n",
    "$$\n",
    "f'(x) \\approx \\frac{f(x+\\varepsilon) - f(x-\\varepsilon)}{2\\varepsilon}.\n",
    "$$\n"
   ]
  },
  {
   "cell_type": "markdown",
   "metadata": {},
   "source": [
    "**Question 2:** finish the code in the following cell:"
   ]
  },
  {
   "cell_type": "code",
   "execution_count": 3,
   "metadata": {},
   "outputs": [],
   "source": [
    "def derivative_f(f, x, epsilon):\n",
    "    \"\"\"\n",
    "    returns the derivative of the function f() at the point x using the central difference scheme with tolerance epsilon\n",
    "    f: function to differentiate\n",
    "    x: value at which to compute the derivative\n",
    "    epsilon: tolerance\n",
    "    \n",
    "    output: f'(x)\n",
    "    \"\"\"\n",
    "\n",
    "    return None"
   ]
  },
  {
   "cell_type": "markdown",
   "metadata": {},
   "source": [
    "Consider the function $f(x) = x\\exp(x)$ on the whole real line, so that $f'(x) = (1+x)\\exp(x)$ for all $x\\in\\mathbb{R}$, and in particular $f'(-1)=0$. Verify it numerically bia running the following:"
   ]
  },
  {
   "cell_type": "code",
   "execution_count": 5,
   "metadata": {},
   "outputs": [],
   "source": [
    "derivative_f(lambda x: x*np.exp(x), -1., 1E-3)"
   ]
  },
  {
   "cell_type": "markdown",
   "metadata": {},
   "source": [
    "# Newton-Raphson\n",
    "Given a function $f:A\\subset\\mathbb{R}\\to\\mathbb{R}$, we wish to find the solution to the equation $f(x)=0$ on a domain $A\\subset\\mathbb{R}$ using the Newton-Raphson method\n",
    "(Isaac Newton (1642 – 1726, English) and Joseph Raphson (1668 – 1715, English)).\n",
    "Recall that the latter constructs a sequence $(x_{n})_{n\\geq 0}$ as follows:\n",
    "\\begin{align*}\n",
    "x_0 & = x_0 \\in A,\\\\\n",
    "x_{n+1} & = x_{n} - \\frac{f(x_n)}{f'(x_n)}\n",
    "\\end{align*}\n",
    "for $n\\geq 1$, where the starting point $x_0$ is chosen by the user.\n",
    "The stopping criterion is such that\n",
    "$$\n",
    "|f(x_n)| \\leq \\varepsilon,\n",
    "$$\n",
    "for some fixed tolerance level $\\varepsilon$."
   ]
  },
  {
   "cell_type": "markdown",
   "metadata": {},
   "source": [
    "**Exercise:** Implement a `newton_raphson` function implementing the above, as follows.\n",
    "*PS (Food for thought):* what happens when/if at some level $n$, $x_n\\notin A$?"
   ]
  },
  {
   "cell_type": "code",
   "execution_count": 2,
   "metadata": {},
   "outputs": [],
   "source": [
    "def newton_raphson(f, x0, epsilon):\n",
    "    \"\"\"\n",
    "    Implements Newton Raphson\n",
    "    f: function to solve for\n",
    "    x0: starting point\n",
    "    epsilon: tolerance\n",
    "    \n",
    "    output: x, f(x), n, where x is the solution, f(x) its value, n the total number of iterations\n",
    "    \"\"\"\n",
    "\n",
    "    return None"
   ]
  },
  {
   "cell_type": "markdown",
   "metadata": {},
   "source": [
    "With the function $f(x) = x\\exp(x)$ above, verify that the solution to $f(x)=0$ is indeed $x=0$ by running the code below. You may try for different values of the initial seed $x_0$."
   ]
  },
  {
   "cell_type": "code",
   "execution_count": 3,
   "metadata": {},
   "outputs": [],
   "source": [
    "f = lambda x: x*np.exp(x)\n",
    "epsilon = 1E-6\n",
    "x0 = 1.\n",
    "newton_raphson(f, x0, epsilon)"
   ]
  },
  {
   "cell_type": "markdown",
   "metadata": {},
   "source": [
    "**Note:** in fact, Newton's theorem can be stated as follows:\n",
    "\n",
    "If $f \\in \\mathcal{C}^2((a,b))$ for some $a<b$ and that there exists $x^* \\in (a,b)$ such that $f(x^*)= 0$ and $f'(x^*)\\ne 0$, then the Newton-Raphson algorithm above converges quadratically for any $x_0 \\in (a,b)$ close enough to $x^*$."
   ]
  },
  {
   "cell_type": "markdown",
   "metadata": {},
   "source": [
    "# Pricing a Call option in the Black-Scholes model\n",
    "\n",
    "In the following, we shall assume that interest rates are null."
   ]
  },
  {
   "cell_type": "markdown",
   "metadata": {},
   "source": [
    "## Pricing by integration"
   ]
  },
  {
   "cell_type": "markdown",
   "metadata": {},
   "source": [
    "The goal is to write a `python` function to evaluate the price of a European Call option in the Black-Scholes model by integration.\n",
    "Using the `jupyter` notebook from the class, fill in the following function:"
   ]
  },
  {
   "cell_type": "code",
   "execution_count": 28,
   "metadata": {},
   "outputs": [],
   "source": [
    "def black_scholes_call_price_integ(S0, K, T, sigma):\n",
    "    \"\"\"\n",
    "    Computes the price of a European Call option in the Black-Scholes model by integration\n",
    "    S0: initial value of the stock price\n",
    "    K: strike\n",
    "    T: time to expiry\n",
    "    sigma: instantaneous volatility\n",
    "\n",
    "    output: European Call option price\n",
    "\n",
    "    \"\"\"\n",
    "    return None"
   ]
  },
  {
   "cell_type": "markdown",
   "metadata": {},
   "source": [
    "Check that you obtain (as in the notebook) the value of 7.965567455405798 when considering the following parameters:"
   ]
  },
  {
   "cell_type": "code",
   "execution_count": 29,
   "metadata": {},
   "outputs": [],
   "source": [
    "S0, K, sigma, T = 100., 100., 0.2, 1."
   ]
  },
  {
   "cell_type": "code",
   "execution_count": 30,
   "metadata": {},
   "outputs": [],
   "source": [
    "black_scholes_call_price_integ(S0, K, T, sigma)"
   ]
  },
  {
   "cell_type": "markdown",
   "metadata": {},
   "source": [
    "## Pricing by simulation"
   ]
  },
  {
   "cell_type": "markdown",
   "metadata": {},
   "source": [
    "Using the representation\n",
    "\\begin{equation*}\n",
    "S_T\n",
    " = S_0\\exp\\left\\{-\\frac{\\sigma^2 T}{2} + \\sigma\\widetilde{N}\\sqrt{T}\\right\\} \\text{ (in distribution)},\n",
    "\\end{equation*}\n",
    "where $\\widetilde{N}\\sim\\mathcal{N}(0,1)$ and the approximation\n",
    "$$\n",
    "\\mathbb{E}[f(S_T)] \\approx \\frac{1}{n}\\sum_{i=1}^{n}f\\left(S_T^{(i)}\\right),\n",
    "$$\n",
    "for any function $f$ such that the expectation exists, where $(S_T^{(i)})_{i=1,\\ldots,N}$ are independent random copies of $S_T$, write a `python` function for a European Call option price."
   ]
  },
  {
   "cell_type": "code",
   "execution_count": 35,
   "metadata": {},
   "outputs": [],
   "source": [
    "def black_scholes_call_price_simul(S0, K, T, sigma, n):\n",
    "    \"\"\"\n",
    "    Computes the price of a European Call option in the Black-Scholes model by simulation\n",
    "    S0: initial value of the stock price\n",
    "    K: strike\n",
    "    T: time to expiry\n",
    "    sigma: instantaneous volatility\n",
    "    n: number of samples (corresponding to the parameter N above)\n",
    "\n",
    "    output: European Call option price\n",
    "\n",
    "    \"\"\"\n",
    "    return None"
   ]
  },
  {
   "cell_type": "markdown",
   "metadata": {},
   "source": [
    "Verify again that indeed you obtain (as in the notebook) the value of 7.965567455405798 when considering the following parameters:"
   ]
  },
  {
   "cell_type": "code",
   "execution_count": 36,
   "metadata": {},
   "outputs": [],
   "source": [
    "S0, K, sigma, T, n = 100., 100., 0.2, 1., 100000"
   ]
  },
  {
   "cell_type": "code",
   "execution_count": 37,
   "metadata": {},
   "outputs": [],
   "source": [
    "black_scholes_call_price_simul(S0, K, T, sigma, n)"
   ]
  },
  {
   "cell_type": "markdown",
   "metadata": {},
   "source": [
    "Plot the value of the European Call option as a function of $n$. \n",
    "\n",
    "What kind of convergence do you observe?\n",
    "\n",
    "What if $K=90$ and if $K=110$?"
   ]
  },
  {
   "cell_type": "markdown",
   "metadata": {},
   "source": [
    "**Remark:** Note that here, you do not in fact need to simulate trajectories of the Brownian motion since the option is *European*, i.e. only depends on the value of the underlying stock price at maturity. For path-dependent options, however, simulations of the paths are required. This will be studied more in detail in the *Simulation methods* module next term."
   ]
  },
  {
   "cell_type": "markdown",
   "metadata": {},
   "source": [
    "## Implied volatility"
   ]
  },
  {
   "cell_type": "markdown",
   "metadata": {},
   "source": [
    "Recall that in the Black-Scholes model (without interest rates), the value of a European Call option on $(S_t)_{t\\geq 0}$ is given at inception by\n",
    "$$\n",
    "C^{\\mathrm{BS}}(S_0, K, T;\\sigma) = S_0\\left(\\mathcal{N}(d_{+}) - \\mathrm{e}^{k}\\mathcal{N}(d_{-})\\right),\n",
    "$$\n",
    "where\n",
    "$$\n",
    "d_{\\pm} = \\frac{-k}{\\sigma\\sqrt{T}} \\pm\\frac{\\sigma\\sqrt{T}}{2}\n",
    "\\quad \\text{ and } \\quad k := \\log\\left(\\frac{K}{S_0}\\right),\n",
    "$$\n",
    "and where $\\mathcal{N}$ denotes the Gaussian cumulative distribution function.\n"
   ]
  },
  {
   "cell_type": "markdown",
   "metadata": {},
   "source": [
    "- For any fixed $k\\in\\mathbb{R}$, $T, S_0>0$, show that the map $\\sigma\\mapsto C^{\\mathrm{BS}}(S_0, K, T;\\sigma)$ is bijective;\n",
    "- Compute \n",
    "$$\n",
    "\\lim_{\\sigma\\downarrow 0}C^{\\mathrm{BS}}(S_0, K, T;\\sigma)\n",
    "$$\n",
    "and \n",
    "$$\n",
    "\\lim_{\\sigma\\uparrow\\infty}C^{\\mathrm{BS}}(S_0, K, T;\\sigma).\n",
    "$$\n",
    "- Write a `python` function with inputs $S_0, K, T, C$ that returns the implied volatility, solution to the equation $C^{\\mathrm{BS}}(S_0, K, T;\\sigma) = C$.\n",
    "- You are asked to use the `derivative_f` and the `newton_raphson` functions introduced above.\n",
    "- Verify that the implied volatility corresponding to $(S_0, K, T, C) = (100., 100., 1., 7.9655674)$ is equal to $20\\%$."
   ]
  },
  {
   "cell_type": "markdown",
   "metadata": {},
   "source": [
    "**Note:** You may want to check (analytically and / or numerically) that the derivative function you computed above corresponds to\n",
    "$$\n",
    "\\frac{\\partial C(S_0,K,T;\\sigma)}{\\partial\\sigma} = S_0 \\varphi(d_{+})\\sqrt{T},\n",
    "$$\n",
    "where $\\varphi(\\cdot)$ is the Gaussian density function."
   ]
  },
  {
   "cell_type": "markdown",
   "metadata": {},
   "source": [
    "# Discrete versus continuous compounding¶"
   ]
  },
  {
   "cell_type": "markdown",
   "metadata": {},
   "source": [
    "Suppose that you invest $\\Pi$ GBP today in a risk-free bank account.\n",
    "Considering compound interest rate yields the amount if one is earning  is\n",
    "\\begin{equation*}\n",
    "\\Pi\\left(1+\\frac{r}{n}\\right)^{nT}.\n",
    "\\end{equation*}\n",
    "over the period $[0,T]$, where $r$ is the annual nominal interest rate and $n$ the number of times the interest is compounded per year.\n",
    "For example, if $n=1$, this is a yearly rate, for $n=2$, this is a 6-month rate, and $n=252$ corresponds to a daily rate."
   ]
  },
  {
   "cell_type": "markdown",
   "metadata": {},
   "source": [
    "**Question:** \n",
    "- Write a program computing  how much money will be compounded as a function of $\\Pi, r, n, T$.\n",
    "- As $n$ becomes large, compute the limit of Equation (1), and illustrate it numerically.\n",
    "\n",
    "Available data:\n",
    "- Annual rates provided by the Bank of England are available here: https://www.bankofengland.co.uk/boeapps/database/Bank-Rate.asp\n",
    "\n",
    "- Annual rates by Bank of China can be found here: https://www.global-rates.com/en/interest-rates/central-banks/central-bank-china/pbc-interest-rate.aspx"
   ]
  }
 ],
 "metadata": {
  "kernelspec": {
   "display_name": "Python 3 (ipykernel)",
   "language": "python",
   "name": "python3"
  },
  "language_info": {
   "codemirror_mode": {
    "name": "ipython",
    "version": 3
   },
   "file_extension": ".py",
   "mimetype": "text/x-python",
   "name": "python",
   "nbconvert_exporter": "python",
   "pygments_lexer": "ipython3",
   "version": "3.11.7"
  },
  "latex_envs": {
   "LaTeX_envs_menu_present": true,
   "autoclose": false,
   "autocomplete": true,
   "bibliofile": "biblio.bib",
   "cite_by": "apalike",
   "current_citInitial": 1,
   "eqLabelWithNumbers": true,
   "eqNumInitial": 1,
   "hotkeys": {
    "equation": "Ctrl-E",
    "itemize": "Ctrl-I"
   },
   "labels_anchors": false,
   "latex_user_defs": false,
   "report_style_numbering": false,
   "user_envs_cfg": false
  },
  "toc": {
   "base_numbering": 1,
   "nav_menu": {},
   "number_sections": true,
   "sideBar": true,
   "skip_h1_title": true,
   "title_cell": "Table of Contents",
   "title_sidebar": "Contents",
   "toc_cell": false,
   "toc_position": {},
   "toc_section_display": true,
   "toc_window_display": true
  }
 },
 "nbformat": 4,
 "nbformat_minor": 4
}
