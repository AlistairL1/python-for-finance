{
 "cells": [
  {
   "cell_type": "markdown",
   "id": "6732165f-37c7-4a3f-b8f0-856d813dddf3",
   "metadata": {},
   "source": [
    "# **NUMERICAL TOOLS FOR QUANTITATIVE FINANCE**\n",
    "# -----Additional topics-----\n",
    "---\n",
    "<img src=\"../Imperial_logo.png\" align = \"left\" width=200>\n",
    "<br><br>\n",
    " \n",
    "- Copyright (c) Antoine Jacquier, 2024. All rights reserved\n",
    "\n",
    "- Author: Jack Jacquier <a.jacquier@imperial.ac.uk>\n",
    "\n",
    "- Platform: Tested on Windows 10 with Python 3.9"
   ]
  },
  {
   "cell_type": "code",
   "execution_count": 11,
   "id": "317b6bd0-6ef5-451f-ac93-14a225f680d6",
   "metadata": {},
   "outputs": [],
   "source": [
    "import numpy as np"
   ]
  },
  {
   "cell_type": "markdown",
   "id": "edca4014-a30b-4454-803c-51dbbf15b2df",
   "metadata": {},
   "source": [
    "# Matrix algebra"
   ]
  },
  {
   "cell_type": "markdown",
   "id": "b0a9f99d-cfa1-4d3e-b799-8e8ac8e0914d",
   "metadata": {},
   "source": [
    "We consider vectors $u,v \\in \\mathbb{R}^n$ and matrices $A \\in \\mathcal{M}_{m,n}(\\mathbb{R})$\n",
    "and $B \\in \\mathcal{M}_{n,p}(\\mathbb{R})$.\n",
    "\n",
    "These can be created directly as `numpy.array` and standard linear algebra computations apply."
   ]
  },
  {
   "cell_type": "markdown",
   "id": "04b58856-9472-4299-8882-954cb10a551a",
   "metadata": {},
   "source": [
    "### Vectors as `numpy.array`"
   ]
  },
  {
   "cell_type": "code",
   "execution_count": 35,
   "id": "8d152fa5-18f6-4f33-9f5f-3ef44b85477d",
   "metadata": {},
   "outputs": [
    {
     "name": "stdout",
     "output_type": "stream",
     "text": [
      "Vector u: [1 2 3]\n",
      "Length of the vector u: 3\n",
      "Shape of the vector u: (3,)\n"
     ]
    }
   ],
   "source": [
    "uu = np.array([1,2,3])\n",
    "\n",
    "print(\"Vector u:\", uu)\n",
    "print(\"Length of the vector u:\", len(uu))\n",
    "print(\"Shape of the vector u:\", uu.shape)"
   ]
  },
  {
   "cell_type": "code",
   "execution_count": 94,
   "id": "ba56b8df-ba75-45d1-bae1-8881a201f31e",
   "metadata": {},
   "outputs": [
    {
     "name": "stdout",
     "output_type": "stream",
     "text": [
      "[2. 4. 6.]\n",
      "[1 2 3]\n",
      "[-1 -4 -9]\n"
     ]
    }
   ],
   "source": [
    "uu = np.array([1, 2, 3])\n",
    "vv = np.array([-1, -2, -3])\n",
    "\n",
    "print(2.*uu)\n",
    "print(uu.T)\n",
    "print(uu*vv)"
   ]
  },
  {
   "cell_type": "markdown",
   "id": "bc81a157-eb67-455f-b8bf-d8cea1d3487d",
   "metadata": {},
   "source": [
    "Is it really what you expect from linear algebra?"
   ]
  },
  {
   "cell_type": "markdown",
   "id": "8124b29e-89b9-47b1-8d7f-8f54683c77f3",
   "metadata": {},
   "source": [
    "## Vectors as `numpy.matrix`"
   ]
  },
  {
   "cell_type": "code",
   "execution_count": 46,
   "id": "af533c74-9699-4fb4-b908-48de136e8c89",
   "metadata": {},
   "outputs": [
    {
     "name": "stdout",
     "output_type": "stream",
     "text": [
      "Vector u: [[1 2 3]]\n",
      "Length of the vector u: 1\n",
      "Shape of the vector u: (1, 3)\n"
     ]
    }
   ],
   "source": [
    "uu = np.matrix([1,2,3])\n",
    "\n",
    "print(\"Vector u:\", uu)\n",
    "print(\"Length of the vector u:\", len(uu))\n",
    "print(\"Shape of the vector u:\", uu.shape)"
   ]
  },
  {
   "cell_type": "code",
   "execution_count": 69,
   "id": "3e63df14-4b8d-458d-a94a-ff6294117cbb",
   "metadata": {},
   "outputs": [
    {
     "name": "stdout",
     "output_type": "stream",
     "text": [
      "[[2. 4. 6.]]\n",
      "[[1]\n",
      " [2]\n",
      " [3]]\n"
     ]
    }
   ],
   "source": [
    "uu = np.matrix([1, 2, 3])\n",
    "vv = np.matrix([-1, -2, -3])\n",
    "\n",
    "print(2.*uu)\n",
    "print(uu.T)"
   ]
  },
  {
   "cell_type": "markdown",
   "id": "809b41df-e131-4486-90e4-d25a441f2aea",
   "metadata": {},
   "source": [
    "Here, vectors were defined as matrices in one dimension.\n",
    "\n",
    "We can of course define (classical) matrices in two dimensions:"
   ]
  },
  {
   "cell_type": "code",
   "execution_count": 51,
   "id": "bcccae95-3612-42d3-b3f5-8b2dc315048e",
   "metadata": {},
   "outputs": [
    {
     "name": "stdout",
     "output_type": "stream",
     "text": [
      "Matrix A: \n",
      " [[ 1  2  3]\n",
      " [ 4  5  6]\n",
      " [ 7  8  9]\n",
      " [10 11 12]]\n",
      "Shape of A: (4, 3)\n",
      "Number of rows in A: 4\n",
      "Number of columns in A: 3\n"
     ]
    }
   ],
   "source": [
    "A = np.matrix([[1,2,3],[4,5,6],[7,8,9], [10, 11, 12]])\n",
    "\n",
    "print(\"Matrix A: \\n\", A)\n",
    "print(\"Shape of A:\",A.shape)\n",
    "print(\"Number of rows in A:\",A.shape[0])\n",
    "print(\"Number of columns in A:\",A.shape[1])"
   ]
  },
  {
   "cell_type": "code",
   "execution_count": 72,
   "id": "29db0f3d-ceab-4afb-bd17-c82bfe32ded7",
   "metadata": {},
   "outputs": [
    {
     "name": "stdout",
     "output_type": "stream",
     "text": [
      "Shape of A: (2, 1)\n",
      "Shape of u: (1, 3)\n",
      "Transpose of A: [[0.87217231 0.85225066]]\n",
      "***********\n",
      "Product A*u.T [[0.87217231 1.74434461 2.61651692]\n",
      " [0.85225066 1.70450131 2.55675197]]\n"
     ]
    }
   ],
   "source": [
    "uu = np.matrix([1, 2, 3])\n",
    "print(\"Shape of A:\",A.shape)\n",
    "print(\"Shape of u:\",uu.shape)\n",
    "\n",
    "print(\"Transpose of A:\", A.T)\n",
    "print(\"***********\")\n",
    "print(\"Product A*u.T\", A*uu)"
   ]
  },
  {
   "cell_type": "markdown",
   "id": "5a512dd9-cfef-41db-98b4-a975c9b183d8",
   "metadata": {},
   "source": [
    "From now on, we consider randomly generated vectors and matrices.\n",
    "\n",
    "**WARNING:** operations have different meanings between `numpy.array` and `numpy.matrix`."
   ]
  },
  {
   "cell_type": "code",
   "execution_count": 89,
   "id": "dbcfdf4a-9d88-4475-82db-67196f758b88",
   "metadata": {},
   "outputs": [
    {
     "name": "stdout",
     "output_type": "stream",
     "text": [
      "[[0.64761549]\n",
      " [0.42299899]] (2, 1)\n",
      "***********\n",
      "[[0.81265201 0.87118869]] (1, 2)\n",
      "***********\n",
      "[[0.52628603 0.56419529]\n",
      " [0.34375098 0.36851193]] (2, 2)\n"
     ]
    }
   ],
   "source": [
    "A = np.random.random((2, 1))\n",
    "B = np.random.random((1, 2))\n",
    "print(A, A.shape)\n",
    "print(\"***********\")\n",
    "print(B, B.shape)\n",
    "print(\"***********\")\n",
    "print(A*B, (A*B).shape)"
   ]
  },
  {
   "cell_type": "code",
   "execution_count": 90,
   "id": "00691883-cf95-4379-9e93-de7b6b662e14",
   "metadata": {},
   "outputs": [
    {
     "name": "stdout",
     "output_type": "stream",
     "text": [
      "[[0.81265201 0.87118869]] (1, 2)\n",
      "***********\n",
      "[[0.52628603 0.56419529]\n",
      " [0.34375098 0.36851193]] (2, 2)\n"
     ]
    }
   ],
   "source": [
    "B = np.matrix(B)\n",
    "print(B, B.shape)\n",
    "print(\"***********\")\n",
    "print(A*B, (A*B).shape)"
   ]
  },
  {
   "cell_type": "markdown",
   "id": "faf0792b-faac-47a1-895e-7b1bac791603",
   "metadata": {},
   "source": [
    "The operation * above is not a matrix multiplication but a broadcastin operation."
   ]
  },
  {
   "cell_type": "code",
   "execution_count": 91,
   "id": "e1dab56f-4445-4ce9-a2e8-e088b1894474",
   "metadata": {},
   "outputs": [
    {
     "name": "stdout",
     "output_type": "stream",
     "text": [
      "[[0.00538291]\n",
      " [0.36879491]] (2, 1)\n",
      "***********\n",
      "[[0.78158779]\n",
      " [0.14785099]] (2, 1)\n",
      "***********\n",
      "[[0.00420721]\n",
      " [0.05452669]] (2, 1)\n"
     ]
    }
   ],
   "source": [
    "A = np.random.random((2, 1))\n",
    "B = np.random.random((2, 1))\n",
    "print(A, A.shape)\n",
    "print(\"***********\")\n",
    "print(B, B.shape)\n",
    "print(\"***********\")\n",
    "print(A*B, (A*B).shape)"
   ]
  },
  {
   "cell_type": "code",
   "execution_count": 92,
   "id": "a169fd72-dcdc-4791-970c-fee25a23745b",
   "metadata": {},
   "outputs": [
    {
     "name": "stdout",
     "output_type": "stream",
     "text": [
      "[[0.78158779]\n",
      " [0.14785099]] (2, 1)\n",
      "***********\n"
     ]
    },
    {
     "ename": "ValueError",
     "evalue": "shapes (2,1) and (2,1) not aligned: 1 (dim 1) != 2 (dim 0)",
     "output_type": "error",
     "traceback": [
      "\u001b[1;31m---------------------------------------------------------------------------\u001b[0m",
      "\u001b[1;31mValueError\u001b[0m                                Traceback (most recent call last)",
      "Cell \u001b[1;32mIn[92], line 4\u001b[0m\n\u001b[0;32m      2\u001b[0m \u001b[38;5;28mprint\u001b[39m(B, B\u001b[38;5;241m.\u001b[39mshape)\n\u001b[0;32m      3\u001b[0m \u001b[38;5;28mprint\u001b[39m(\u001b[38;5;124m\"\u001b[39m\u001b[38;5;124m***********\u001b[39m\u001b[38;5;124m\"\u001b[39m)\n\u001b[1;32m----> 4\u001b[0m \u001b[38;5;28mprint\u001b[39m(A\u001b[38;5;241m*\u001b[39mB, (A\u001b[38;5;241m*\u001b[39mB)\u001b[38;5;241m.\u001b[39mshape)\n",
      "File \u001b[1;32m~\\AppData\\Local\\anaconda3\\Lib\\site-packages\\numpy\\matrixlib\\defmatrix.py:225\u001b[0m, in \u001b[0;36mmatrix.__rmul__\u001b[1;34m(self, other)\u001b[0m\n\u001b[0;32m    224\u001b[0m \u001b[38;5;28;01mdef\u001b[39;00m \u001b[38;5;21m__rmul__\u001b[39m(\u001b[38;5;28mself\u001b[39m, other):\n\u001b[1;32m--> 225\u001b[0m     \u001b[38;5;28;01mreturn\u001b[39;00m N\u001b[38;5;241m.\u001b[39mdot(other, \u001b[38;5;28mself\u001b[39m)\n",
      "\u001b[1;31mValueError\u001b[0m: shapes (2,1) and (2,1) not aligned: 1 (dim 1) != 2 (dim 0)"
     ]
    }
   ],
   "source": [
    "B = np.matrix(B)\n",
    "print(B, B.shape)\n",
    "print(\"***********\")\n",
    "print(A*B, (A*B).shape)"
   ]
  },
  {
   "cell_type": "markdown",
   "id": "1cf87a60-7c9b-4969-8a17-d24c90fdee12",
   "metadata": {},
   "source": [
    "## The `numpy.dot` product"
   ]
  },
  {
   "cell_type": "code",
   "execution_count": 102,
   "id": "69c32eb4-824b-4d94-a1fb-97a227b76b55",
   "metadata": {},
   "outputs": [
    {
     "name": "stdout",
     "output_type": "stream",
     "text": [
      "u: [0.17491084 0.1107286 ]\n",
      "v: [0.71824685 0.30478171]\n",
      "u*v: [0.12562916 0.03374805]\n",
      "dot(u,v) 0.1593772138161033\n"
     ]
    }
   ],
   "source": [
    "uu = np.random.random(2)\n",
    "vv = np.random.random(2)\n",
    "print(\"u:\", uu)\n",
    "print(\"v:\", vv)\n",
    "print(\"u*v:\", uu*vv)\n",
    "print(\"dot(u,v)\", np.dot(uu, vv))"
   ]
  },
  {
   "cell_type": "markdown",
   "id": "c83f34aa-24b5-45d3-b03f-c5068b095c0b",
   "metadata": {},
   "source": [
    "## The `numpy.multiply` product"
   ]
  },
  {
   "cell_type": "code",
   "execution_count": 107,
   "id": "ea167b57-f195-4a99-a534-964adda7411d",
   "metadata": {},
   "outputs": [
    {
     "name": "stdout",
     "output_type": "stream",
     "text": [
      "[[0.13450164]\n",
      " [0.35805181]] (2, 1)\n",
      "***********\n",
      "[[0.29248908 0.79429099]] (1, 2)\n",
      "***********\n",
      "[[0.03934026 0.10683344]\n",
      " [0.10472625 0.28439733]] (2, 2)\n",
      "***********\n",
      "[[0.03934026 0.10683344]\n",
      " [0.10472625 0.28439733]]\n"
     ]
    }
   ],
   "source": [
    "A = np.random.random((2, 1))\n",
    "B = np.random.random((1, 2))\n",
    "print(A, A.shape)\n",
    "print(\"***********\")\n",
    "print(B, B.shape)\n",
    "print(\"***********\")\n",
    "print(A*B, (A*B).shape)\n",
    "print(\"***********\")\n",
    "print(np.multiply(A,B))"
   ]
  },
  {
   "cell_type": "markdown",
   "id": "63ef7a3a-4050-46b7-93d1-fc45c0d91b41",
   "metadata": {},
   "source": [
    "# Linear regression"
   ]
  },
  {
   "cell_type": "markdown",
   "id": "9cd43a10-5e7c-415d-b509-7a9baeca8cac",
   "metadata": {},
   "source": [
    "Given a set of data points $(\\boldsymbol{\\mathrm{x}}_i,y_i)_{i=1,\\ldots,n}$, \n",
    "for $y_i\\in\\mathbb{R}$ and $\\boldsymbol{\\mathrm{x}}_i\\in \\mathbb{R}^p$ for each $i=1,\\ldots,n$, \n",
    "we want to determine the best linear regression model of the form\n",
    "$$\n",
    "y_i = \\beta_1 x_{i,1} + \\ldots + \\beta_p x_{i,p} + \\varepsilon_i\n",
    " = \\sum_{j=1}^{p}\\beta_{j} x_{i,j} + \\varepsilon_i, \n",
    "\\qquad\\text{for }i=1,\\ldots, n,\n",
    "$$\n",
    "for some $\\boldsymbol{\\beta}^\\top = (\\beta_1,\\ldots,\\beta_p)\\in\\mathbb{R}^{p}$, where the sequence $\\boldsymbol{\\varepsilon}^\\top = (\\varepsilon_1,\\ldots,\\varepsilon_n)$ forms an iid sequence of centered random noises with variance $\\sigma^2>0$.\n",
    "We can rewrite this in vector form as\n",
    "$$\n",
    "y_i = \\boldsymbol{\\mathrm{x}}_i^\\top \\boldsymbol{\\beta} + \\varepsilon_i,\n",
    "$$\n",
    "for each $i=1,\\ldots,n$, or in matrix form\n",
    "$$\n",
    "\\boldsymbol{\\mathrm{y}} = \\boldsymbol{\\mathrm{x}}^\\top \\boldsymbol{\\beta} + \\boldsymbol{\\varepsilon},\n",
    "$$\n",
    "\n",
    "The goal of the least square methods is to minimise the noise (or the error), namely to solve the minimisation problem\n",
    "$$\n",
    "\\min_{\\boldsymbol{\\beta}}\\left\\|\\boldsymbol{\\mathrm{y}} - \\boldsymbol{\\mathrm{x}}^\\top \\boldsymbol{\\mathrm{\\beta}}\\right\\|_2^2\n",
    "= \\min_{\\boldsymbol{\\beta}}\\sum_{i=1}^{n}\\left(y_i - \\boldsymbol{\\mathrm{x}}_i^\\top \\boldsymbol{\\beta}\\right)^2.\n",
    "$$\n",
    "Standard linear regression theory yields the optimal coefficient\n",
    "$$\n",
    "\\boldsymbol{\\beta}^* = \\left(\\boldsymbol{\\mathrm{x}}^\\top\\boldsymbol{\\mathrm{x}}\\right)^{-1}\\boldsymbol{\\mathrm{x}}^\\top\\boldsymbol{\\mathrm{y}}.\n",
    "$$"
   ]
  },
  {
   "cell_type": "markdown",
   "id": "1317050b-450b-417e-8a41-3e5f9e4eabaa",
   "metadata": {},
   "source": [
    "### Numerical example"
   ]
  },
  {
   "cell_type": "markdown",
   "id": "f49f90bf-2bcc-4d83-9a54-8da640401b13",
   "metadata": {},
   "source": [
    "We import data from Yahoo Finance via the `yahoo_fin` module. We will come back later on this."
   ]
  },
  {
   "cell_type": "code",
   "execution_count": 8,
   "id": "8375ea72-a4ff-4550-b75f-6cc7d79d01a5",
   "metadata": {},
   "outputs": [],
   "source": [
    "import yahoo_fin.stock_info as si\n",
    "import matplotlib.pylab as plt\n",
    "import numpy as np"
   ]
  },
  {
   "cell_type": "code",
   "execution_count": 9,
   "id": "c97f6049-3b35-46f8-b14d-d46cfb6769a2",
   "metadata": {},
   "outputs": [],
   "source": [
    "ticker = \"BTC-USD\""
   ]
  },
  {
   "cell_type": "code",
   "execution_count": 10,
   "id": "ff2a9480-af8d-458a-8225-dbf932baebc8",
   "metadata": {},
   "outputs": [
    {
     "data": {
      "text/html": [
       "<div>\n",
       "<style scoped>\n",
       "    .dataframe tbody tr th:only-of-type {\n",
       "        vertical-align: middle;\n",
       "    }\n",
       "\n",
       "    .dataframe tbody tr th {\n",
       "        vertical-align: top;\n",
       "    }\n",
       "\n",
       "    .dataframe thead th {\n",
       "        text-align: right;\n",
       "    }\n",
       "</style>\n",
       "<table border=\"1\" class=\"dataframe\">\n",
       "  <thead>\n",
       "    <tr style=\"text-align: right;\">\n",
       "      <th></th>\n",
       "      <th>open</th>\n",
       "      <th>high</th>\n",
       "      <th>low</th>\n",
       "      <th>close</th>\n",
       "      <th>adjclose</th>\n",
       "      <th>volume</th>\n",
       "      <th>ticker</th>\n",
       "    </tr>\n",
       "  </thead>\n",
       "  <tbody>\n",
       "    <tr>\n",
       "      <th>2014-09-17</th>\n",
       "      <td>465.864014</td>\n",
       "      <td>468.174011</td>\n",
       "      <td>452.421997</td>\n",
       "      <td>457.334015</td>\n",
       "      <td>457.334015</td>\n",
       "      <td>21056800</td>\n",
       "      <td>BTC-USD</td>\n",
       "    </tr>\n",
       "    <tr>\n",
       "      <th>2014-09-18</th>\n",
       "      <td>456.859985</td>\n",
       "      <td>456.859985</td>\n",
       "      <td>413.104004</td>\n",
       "      <td>424.440002</td>\n",
       "      <td>424.440002</td>\n",
       "      <td>34483200</td>\n",
       "      <td>BTC-USD</td>\n",
       "    </tr>\n",
       "    <tr>\n",
       "      <th>2014-09-19</th>\n",
       "      <td>424.102997</td>\n",
       "      <td>427.834991</td>\n",
       "      <td>384.532013</td>\n",
       "      <td>394.795990</td>\n",
       "      <td>394.795990</td>\n",
       "      <td>37919700</td>\n",
       "      <td>BTC-USD</td>\n",
       "    </tr>\n",
       "    <tr>\n",
       "      <th>2014-09-20</th>\n",
       "      <td>394.673004</td>\n",
       "      <td>423.295990</td>\n",
       "      <td>389.882996</td>\n",
       "      <td>408.903992</td>\n",
       "      <td>408.903992</td>\n",
       "      <td>36863600</td>\n",
       "      <td>BTC-USD</td>\n",
       "    </tr>\n",
       "    <tr>\n",
       "      <th>2014-09-21</th>\n",
       "      <td>408.084991</td>\n",
       "      <td>412.425995</td>\n",
       "      <td>393.181000</td>\n",
       "      <td>398.821014</td>\n",
       "      <td>398.821014</td>\n",
       "      <td>26580100</td>\n",
       "      <td>BTC-USD</td>\n",
       "    </tr>\n",
       "  </tbody>\n",
       "</table>\n",
       "</div>"
      ],
      "text/plain": [
       "                  open        high         low       close    adjclose  \\\n",
       "2014-09-17  465.864014  468.174011  452.421997  457.334015  457.334015   \n",
       "2014-09-18  456.859985  456.859985  413.104004  424.440002  424.440002   \n",
       "2014-09-19  424.102997  427.834991  384.532013  394.795990  394.795990   \n",
       "2014-09-20  394.673004  423.295990  389.882996  408.903992  408.903992   \n",
       "2014-09-21  408.084991  412.425995  393.181000  398.821014  398.821014   \n",
       "\n",
       "              volume   ticker  \n",
       "2014-09-17  21056800  BTC-USD  \n",
       "2014-09-18  34483200  BTC-USD  \n",
       "2014-09-19  37919700  BTC-USD  \n",
       "2014-09-20  36863600  BTC-USD  \n",
       "2014-09-21  26580100  BTC-USD  "
      ]
     },
     "execution_count": 10,
     "metadata": {},
     "output_type": "execute_result"
    }
   ],
   "source": [
    "data = si.get_data(ticker)\n",
    "data.head()"
   ]
  },
  {
   "cell_type": "code",
   "execution_count": 18,
   "id": "92a888fb-b099-4222-a9bd-7ff66af7a631",
   "metadata": {},
   "outputs": [],
   "source": [
    "xlabel = \"low\"\n",
    "ylabel = \"high\""
   ]
  },
  {
   "cell_type": "code",
   "execution_count": 19,
   "id": "1ad5a20e-191b-4dd7-ae9e-6d1829f35249",
   "metadata": {},
   "outputs": [
    {
     "data": {
      "image/png": "[encoded data removed]",
      "text/plain": [
       "<Figure size 800x300 with 1 Axes>"
      ]
     },
     "metadata": {},
     "output_type": "display_data"
    }
   ],
   "source": [
    "xx = np.array(data[xlabel])\n",
    "yy = np.array(data[ylabel])\n",
    "plt.figure(figsize=(8,3))\n",
    "plt.plot(xx, yy, 'b.')\n",
    "plt.title(\"Data for %s\" %ticker)\n",
    "plt.xlabel(xlabel)\n",
    "plt.ylabel(ylabel)\n",
    "plt.show()"
   ]
  },
  {
   "cell_type": "code",
   "execution_count": 29,
   "id": "c5da1cc9-31db-4f0d-b2f3-b1be317b6773",
   "metadata": {},
   "outputs": [
    {
     "data": {
      "image/png": "[encoded data removed]",
      "text/plain": [
       "<Figure size 800x300 with 1 Axes>"
      ]
     },
     "metadata": {},
     "output_type": "display_data"
    }
   ],
   "source": [
    "A = np.vstack([xx, np.ones(len(xx))]).T\n",
    "yy2 = yy[:, np.newaxis]\n",
    "\n",
    "# Direct least square regression\n",
    "beta = np.dot((np.dot(np.linalg.inv(np.dot(A.T,A)),A.T)),yy2)\n",
    "\n",
    "plt.figure(figsize = (8,3))\n",
    "plt.plot(xx, yy2, 'b.')\n",
    "plt.plot(xx, beta[0]*xx + beta[1], 'k')\n",
    "plt.xlabel(xlabel)\n",
    "plt.ylabel(ylabel)\n",
    "plt.title(\"Ordinary least squares for %s\" %ticker)\n",
    "plt.show()"
   ]
  },
  {
   "cell_type": "code",
   "execution_count": 22,
   "id": "427d5f66-8cfc-4099-9a56-cec5eb22c7ee",
   "metadata": {},
   "outputs": [
    {
     "data": {
      "text/plain": [
       "array([[ 1.04613012],\n",
       "       [27.05613299]])"
      ]
     },
     "execution_count": 22,
     "metadata": {},
     "output_type": "execute_result"
    }
   ],
   "source": [
    "beta"
   ]
  },
  {
   "cell_type": "markdown",
   "id": "15ac8ddd-6173-45f3-aeaf-ac134209cd50",
   "metadata": {},
   "source": [
    "## Test on simulated data"
   ]
  },
  {
   "cell_type": "code",
   "execution_count": 30,
   "id": "b69c65b4-7a4e-46d8-b80d-3b7928ea964e",
   "metadata": {},
   "outputs": [
    {
     "data": {
      "image/png": "[encoded data removed]",
      "text/plain": [
       "<Figure size 800x300 with 1 Axes>"
      ]
     },
     "metadata": {},
     "output_type": "display_data"
    }
   ],
   "source": [
    "import numpy as np\n",
    "from scipy import optimize\n",
    "import matplotlib.pyplot as plt\n",
    "\n",
    "xx = np.linspace(0, 1, 1001)\n",
    "\n",
    "yy = 1 + xx + .1*np.random.normal(0., 1., len(xx))*np.sqrt(xx)\n",
    "\n",
    "A = np.vstack([xx, np.ones(len(xx))]).T\n",
    "yy2 = yy[:, np.newaxis]\n",
    "\n",
    "# Direct least square regression\n",
    "beta = np.dot((np.dot(np.linalg.inv(np.dot(A.T,A)),A.T)),yy2)\n",
    "\n",
    "plt.figure(figsize = (8,3))\n",
    "plt.plot(xx, yy2, 'b.')\n",
    "plt.plot(xx, beta[0]*xx + beta[1], 'k')\n",
    "plt.xlabel(\"x\")\n",
    "plt.ylabel(\"y\")\n",
    "plt.title(\"Ordinary least squares\")\n",
    "plt.show()"
   ]
  },
  {
   "cell_type": "markdown",
   "id": "878f3f5c-b9b4-4f31-ab76-cd7cb1a5db11",
   "metadata": {},
   "source": [
    "# Other numerical topics not covered"
   ]
  },
  {
   "cell_type": "markdown",
   "id": "dc67de38-912c-4582-ab2e-ebdfd1b09926",
   "metadata": {},
   "source": [
    "- linear and non-linear interpolation: https://docs.scipy.org/doc/scipy/tutorial/interpolate.html\n",
    "- matrix inversion: https://numpy.org/doc/stable/reference/generated/numpy.linalg.inv.html\n",
    "- spectral decomposition: https://docs.scipy.org/doc/scipy/reference/generated/scipy.linalg.eig.html"
   ]
  }
 ],
 "metadata": {
  "kernelspec": {
   "display_name": "Python 3 (ipykernel)",
   "language": "python",
   "name": "python3"
  },
  "language_info": {
   "codemirror_mode": {
    "name": "ipython",
    "version": 3
   },
   "file_extension": ".py",
   "mimetype": "text/x-python",
   "name": "python",
   "nbconvert_exporter": "python",
   "pygments_lexer": "ipython3",
   "version": "3.11.7"
  }
 },
 "nbformat": 4,
 "nbformat_minor": 5
}
