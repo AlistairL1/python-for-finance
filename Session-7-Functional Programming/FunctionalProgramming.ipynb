{
 "cells": [
  {
   "cell_type": "markdown",
   "metadata": {},
   "source": [
    "# **Functional Programming in Python**\n",
    "---\n",
    "<img src=\"Imperial_logo.png\" align = \"left\" width=300>\n",
    " <br><br>\n",
    " \n",
    "- Copyright (c) Antoine Jacquier, 2024. All rights reserved\n",
    "\n",
    "- Author: Antoine Jacquier <a.jacquier@imperial.ac.uk>\n",
    "\n",
    "- Platform: Tested on Windows 10 with Python 3.9"
   ]
  },
  {
   "cell_type": "code",
   "execution_count": 20,
   "metadata": {},
   "outputs": [],
   "source": [
    "import numpy as np\n",
    "import matplotlib.pylab as plt\n",
    "from PIL import Image\n",
    "import requests\n",
    "from io import BytesIO\n",
    "\n",
    "import pandas as pd\n",
    "import time\n",
    "from IPython.display import display, HTML"
   ]
  },
  {
   "cell_type": "markdown",
   "metadata": {},
   "source": [
    "**Imperative Programming** is \"traditional programming\", that is the style of programming used in C, C++, Java, C#...\n",
    "There, the programmer tells the computer what to do, and the structure is dictated by control statements, looping constructs and assignments. \n",
    "\n",
    "**Functional Programming** however, aims to describe the solution of the program, rather than the way it should be done.\n",
    "\n",
    "FP is also easier to debug, as each function can be thought as an independent debug unit."
   ]
  },
  {
   "cell_type": "markdown",
   "metadata": {},
   "source": [
    "<img src=\"Programming_paradigms.svg\" align = \"left\" width=1000>\n",
    "\n",
    "\n",
    "*Source:* https://en.wikipedia.org/wiki/Programming_paradigm"
   ]
  },
  {
   "cell_type": "markdown",
   "metadata": {},
   "source": [
    "## Introduction: Characterisation of Python functions"
   ]
  },
  {
   "cell_type": "markdown",
   "metadata": {},
   "source": [
    "### Referentially Transparency"
   ]
  },
  {
   "cell_type": "markdown",
   "metadata": {},
   "source": [
    "An operation is said to be **Referentially Transparent** (RT) if it can be replaced with its\n",
    "corresponding value, without changing the program's behaviour, for a given set of\n",
    "parameters. \n",
    "\n",
    "The function `incrementRT` below is RT as it always returns the same values for the same input:"
   ]
  },
  {
   "cell_type": "code",
   "execution_count": 21,
   "metadata": {},
   "outputs": [
    {
     "name": "stdout",
     "output_type": "stream",
     "text": [
      "Output:  6\n",
      "Output:  6\n"
     ]
    }
   ],
   "source": [
    "def incrementRT(num):\n",
    "    return num + 1\n",
    "\n",
    "print(\"Output: \", incrementRT(5))\n",
    "print(\"Output: \", incrementRT(5))"
   ]
  },
  {
   "cell_type": "markdown",
   "metadata": {},
   "source": [
    "The following function, `incrementNotRT`, however, is not, as the output changes because of the global variable:"
   ]
  },
  {
   "cell_type": "code",
   "execution_count": 22,
   "metadata": {},
   "outputs": [
    {
     "name": "stdout",
     "output_type": "stream",
     "text": [
      "Output:  6\n",
      "Output:  7\n"
     ]
    }
   ],
   "source": [
    "amount = 1\n",
    "def incrementNotRT(num):\n",
    "    return num + amount\n",
    "\n",
    "print(\"Output: \", incrementNotRT(5))\n",
    "\n",
    "amount = 2\n",
    "print(\"Output: \", incrementNotRT(5))"
   ]
  },
  {
   "cell_type": "markdown",
   "metadata": {},
   "source": [
    "**Examples:**\n",
    "- A function that returns the current time is clearly not RT.\n",
    "- A function that returns a sample from a distribution  is clearly not RT."
   ]
  },
  {
   "cell_type": "markdown",
   "metadata": {},
   "source": [
    "### Side effects"
   ]
  },
  {
   "cell_type": "markdown",
   "metadata": {},
   "source": [
    "A function should not have any side effects, i.e. should  base its operations purely on the values it receives and its only impact should be the result returned. Any hidden side effects make software harder to maintain. Many functions, however, do have side effects, for example when it updates a database.\n",
    "We call a function **PURE** if it does not have side effects."
   ]
  },
  {
   "cell_type": "markdown",
   "metadata": {},
   "source": [
    "#### Immutability"
   ]
  },
  {
   "cell_type": "markdown",
   "metadata": {},
   "source": [
    "Python offers immutable data types, in particular `tuple`, to be contrasted with standard lists."
   ]
  },
  {
   "cell_type": "code",
   "execution_count": 23,
   "metadata": {},
   "outputs": [
    {
     "name": "stdout",
     "output_type": "stream",
     "text": [
      "mutable is of type  <class 'list'> [4, 5]\n",
      "immutable is of type  <class 'tuple'> [4, 5]\n"
     ]
    }
   ],
   "source": [
    "mutable = ['Jack', 10, [4, 5]]\n",
    "immutable = ('Jack', 10, [4, 5])\n",
    "\n",
    "# Reading from data types are essentially the same:\n",
    "print(\"mutable is of type \", type(mutable), mutable[2])    # [4, 5]\n",
    "print(\"immutable is of type \", type(immutable), immutable[2])  # [4, 5]"
   ]
  },
  {
   "cell_type": "code",
   "execution_count": 24,
   "metadata": {},
   "outputs": [
    {
     "ename": "TypeError",
     "evalue": "'tuple' object does not support item assignment",
     "output_type": "error",
     "traceback": [
      "\u001b[1;31m---------------------------------------------------------------------------\u001b[0m",
      "\u001b[1;31mTypeError\u001b[0m                                 Traceback (most recent call last)",
      "Cell \u001b[1;32mIn[24], line 3\u001b[0m\n\u001b[0;32m      1\u001b[0m \u001b[38;5;66;03m# Tuple items cannot be modified\u001b[39;00m\n\u001b[0;32m      2\u001b[0m mutable[\u001b[38;5;241m1\u001b[39m] \u001b[38;5;241m=\u001b[39m \u001b[38;5;241m15\u001b[39m\n\u001b[1;32m----> 3\u001b[0m immutable[\u001b[38;5;241m1\u001b[39m] \u001b[38;5;241m=\u001b[39m \u001b[38;5;241m15\u001b[39m\n",
      "\u001b[1;31mTypeError\u001b[0m: 'tuple' object does not support item assignment"
     ]
    }
   ],
   "source": [
    "# Tuple items cannot be modified\n",
    "mutable[1] = 15\n",
    "immutable[1] = 15 ## Generates an error"
   ]
  },
  {
   "cell_type": "code",
   "execution_count": null,
   "metadata": {},
   "outputs": [],
   "source": [
    "mutable[2] = [4, 5, 3]\n",
    "mutable"
   ]
  },
  {
   "cell_type": "markdown",
   "metadata": {},
   "source": [
    "**Exercise**\n",
    "\n",
    "At HSBC,  you need to construct a database for all clients' accounts.\n",
    "\n",
    "How would you write (as a list or a tuple) it, given that an account has the following attributes (for each attribute, indicate its type):\n",
    "\n",
    "- Bank account number\n",
    "- Bank account holder's name\n",
    "- Transactions (with the corresponding date)\n"
   ]
  },
  {
   "cell_type": "markdown",
   "metadata": {},
   "source": [
    "## Higher-order functions"
   ]
  },
  {
   "cell_type": "markdown",
   "metadata": {},
   "source": [
    "A higher-order function is a function that takes other functions (or actions) as arguments. One may think of it as a convolution function."
   ]
  },
  {
   "cell_type": "code",
   "execution_count": 25,
   "metadata": {},
   "outputs": [
    {
     "name": "stdout",
     "output_type": "stream",
     "text": [
      "Hello\n",
      "Hello\n",
      "Hello\n"
     ]
    }
   ],
   "source": [
    "def hof_write_repeat(message, n, action):\n",
    "    for i in range(n):\n",
    "        action(message)\n",
    "\n",
    "hof_write_repeat('Hello', 3, print)"
   ]
  },
  {
   "cell_type": "code",
   "execution_count": 26,
   "metadata": {},
   "outputs": [
    {
     "name": "stderr",
     "output_type": "stream",
     "text": [
      "ERROR:root:There is an error here\n"
     ]
    }
   ],
   "source": [
    "import logging\n",
    "## Logging allows you to track events occurring when something is running\n",
    "# Log the output as an error instead\n",
    "hof_write_repeat('There is an error here', 1, logging.error)"
   ]
  },
  {
   "cell_type": "code",
   "execution_count": 27,
   "metadata": {},
   "outputs": [
    {
     "data": {
      "text/plain": [
       "<function logging.error(msg, *args, **kwargs)>"
      ]
     },
     "execution_count": 27,
     "metadata": {},
     "output_type": "execute_result"
    }
   ],
   "source": [
    "logging.error"
   ]
  },
  {
   "cell_type": "code",
   "execution_count": 28,
   "metadata": {},
   "outputs": [
    {
     "name": "stdout",
     "output_type": "stream",
     "text": [
      "add5 has type  <class 'function'>\n",
      "[28, 93]\n",
      "[33, 98]\n"
     ]
    }
   ],
   "source": [
    "def hof_add(increment):\n",
    "    # Create a function that loops and adds the increment\n",
    "    def add_increment(listOfNumbers):\n",
    "        return [l + increment for l in listOfNumbers]\n",
    "    return add_increment\n",
    "\n",
    "add5 = hof_add(5)\n",
    "\n",
    "print(\"add5 has type \", type(add5))\n",
    "print(add5([23, 88]))\n",
    "\n",
    "add10 = hof_add(10)\n",
    "print(add10([23, 88]))"
   ]
  },
  {
   "cell_type": "markdown",
   "metadata": {},
   "source": [
    "## lambda functions "
   ]
  },
  {
   "cell_type": "markdown",
   "metadata": {},
   "source": [
    "A `lambda` function is an anonymous function. \n",
    "They act like standard functions, but are created withouth the `def` keyword and without a name.\n",
    "Their key attributes are \n",
    "\n",
    "- they can take any number of arguments;\n",
    "- they can return function objects;\n",
    "- they only contain one single expression.\n"
   ]
  },
  {
   "cell_type": "code",
   "execution_count": 29,
   "metadata": {},
   "outputs": [],
   "source": [
    "def prod(x,y):\n",
    "    return x*y"
   ]
  },
  {
   "cell_type": "code",
   "execution_count": 30,
   "metadata": {},
   "outputs": [
    {
     "data": {
      "text/plain": [
       "6"
      ]
     },
     "execution_count": 30,
     "metadata": {},
     "output_type": "execute_result"
    }
   ],
   "source": [
    "product = lambda x, y : x * y\n",
    "product(2, 3)"
   ]
  },
  {
   "cell_type": "markdown",
   "metadata": {},
   "source": [
    "We can write a multiplication table, similarly to above, using `lambda` functions:"
   ]
  },
  {
   "cell_type": "code",
   "execution_count": 31,
   "metadata": {},
   "outputs": [
    {
     "name": "stdout",
     "output_type": "stream",
     "text": [
      "[0, 3, 6, 9, 12, 15, 18, 21, 24, 27]\n"
     ]
    }
   ],
   "source": [
    "def hof_product(multiplier):\n",
    "    return lambda x: x * multiplier\n",
    "\n",
    "multTable = hof_product(3)\n",
    "print([multTable(i) for i in range(10)])"
   ]
  },
  {
   "cell_type": "markdown",
   "metadata": {},
   "source": [
    "**WARNING: READABILITY, CLARITY, SIMPLICITY**"
   ]
  },
  {
   "cell_type": "markdown",
   "metadata": {},
   "source": [
    "**Exercise:**\n",
    "Rewrite the higher-order function `hof_add` above using `lambda` functions."
   ]
  },
  {
   "cell_type": "markdown",
   "metadata": {},
   "source": [
    "## Built-in higher-order functions"
   ]
  },
  {
   "cell_type": "markdown",
   "metadata": {},
   "source": [
    "Python has several higher-order functions already built in. Note that they always return an iterator."
   ]
  },
  {
   "cell_type": "markdown",
   "metadata": {},
   "source": [
    "### The `map` function"
   ]
  },
  {
   "cell_type": "markdown",
   "metadata": {},
   "source": [
    "It allows us to apply a function to every element in an iterable object."
   ]
  },
  {
   "cell_type": "code",
   "execution_count": 32,
   "metadata": {},
   "outputs": [
    {
     "name": "stdout",
     "output_type": "stream",
     "text": [
      "['Hello Jingtong', 'Hello Dominic', 'Hello Pablo', 'Hello Zhenyi', 'Hello Lana', 'Hello Camille']\n"
     ]
    }
   ],
   "source": [
    "names = ['Jingtong', 'Dominic', 'Pablo', 'Zhenyi', 'Lana', 'Camille']\n",
    "\n",
    "greetingPhrase = \"Hello\"\n",
    "\n",
    "messages = [greetingPhrase + \" \"  + n for n in names]\n",
    "\n",
    "print(messages)"
   ]
  },
  {
   "cell_type": "code",
   "execution_count": 33,
   "metadata": {},
   "outputs": [
    {
     "name": "stdout",
     "output_type": "stream",
     "text": [
      "<map object at 0x000001E83DE8BA30> <class 'map'>\n"
     ]
    }
   ],
   "source": [
    "greeted_names = map(lambda x: greetingPhrase + \" \" + x, names)\n",
    "\n",
    "print(greeted_names, type(greeted_names))"
   ]
  },
  {
   "cell_type": "code",
   "execution_count": 34,
   "metadata": {},
   "outputs": [
    {
     "data": {
      "text/plain": [
       "['Hello Jingtong',\n",
       " 'Hello Dominic',\n",
       " 'Hello Pablo',\n",
       " 'Hello Zhenyi',\n",
       " 'Hello Lana',\n",
       " 'Hello Camille']"
      ]
     },
     "execution_count": 34,
     "metadata": {},
     "output_type": "execute_result"
    }
   ],
   "source": [
    "list(greeted_names)"
   ]
  },
  {
   "cell_type": "code",
   "execution_count": 35,
   "metadata": {},
   "outputs": [],
   "source": [
    "for name in list(greeted_names):\n",
    "    print(name)"
   ]
  },
  {
   "cell_type": "markdown",
   "metadata": {},
   "source": [
    "???? STRANGE ????\n",
    "`map` is an iterator [later...]"
   ]
  },
  {
   "cell_type": "markdown",
   "metadata": {},
   "source": [
    "##### Computation time?\n",
    "\n",
    "Consider evaluating $\\mathrm{e}^{-x}$ for many values of $x$."
   ]
  },
  {
   "cell_type": "code",
   "execution_count": 36,
   "metadata": {},
   "outputs": [],
   "source": [
    "xx = np.linspace(-.2, .2, 1000000)"
   ]
  },
  {
   "cell_type": "code",
   "execution_count": 37,
   "metadata": {},
   "outputs": [
    {
     "name": "stdout",
     "output_type": "stream",
     "text": [
      "177 ns ± 7.3 ns per loop (mean ± std. dev. of 7 runs, 10,000,000 loops each)\n"
     ]
    }
   ],
   "source": [
    "%timeit yy = map(lambda x: np.exp(-x), xx)"
   ]
  },
  {
   "cell_type": "code",
   "execution_count": 38,
   "metadata": {},
   "outputs": [
    {
     "name": "stdout",
     "output_type": "stream",
     "text": [
      "The slowest run took 27.67 times longer than the fastest. This could mean that an intermediate result is being cached.\n",
      "1.83 µs ± 2.67 µs per loop (mean ± std. dev. of 7 runs, 1 loop each)\n"
     ]
    }
   ],
   "source": [
    "yy = map(lambda x: np.exp(-x), xx)\n",
    "\n",
    "%timeit lyy = list(yy)"
   ]
  },
  {
   "cell_type": "code",
   "execution_count": 39,
   "metadata": {},
   "outputs": [
    {
     "name": "stdout",
     "output_type": "stream",
     "text": [
      "11.6 ms ± 1.2 ms per loop (mean ± std. dev. of 7 runs, 100 loops each)\n"
     ]
    }
   ],
   "source": [
    "%timeit yy2 = np.exp(-xx)"
   ]
  },
  {
   "cell_type": "markdown",
   "metadata": {},
   "source": [
    "**Remark:**\n",
    "*A `tuple` is also iterable, so `map` can be applied to it as well.*"
   ]
  },
  {
   "cell_type": "markdown",
   "metadata": {},
   "source": [
    "**Exercise:**\n",
    "*Rewrite the multiplication table above using `map` and `lambda` functions.*"
   ]
  },
  {
   "cell_type": "code",
   "execution_count": 40,
   "metadata": {},
   "outputs": [
    {
     "data": {
      "text/plain": [
       "[6.0, 9.0, 15.0]"
      ]
     },
     "execution_count": 40,
     "metadata": {},
     "output_type": "execute_result"
    }
   ],
   "source": [
    "c = 3.\n",
    "xx = np.array([2, 3, 5])\n",
    "mult_map = map(lambda x: x*c, xx)\n",
    "list(mult_map)"
   ]
  },
  {
   "cell_type": "markdown",
   "metadata": {},
   "source": [
    "### The `filter` function."
   ]
  },
  {
   "cell_type": "markdown",
   "metadata": {},
   "source": [
    " It tests every element in an iterable object with a function that returns True or False, keeping the former only."
   ]
  },
  {
   "cell_type": "code",
   "execution_count": 41,
   "metadata": {},
   "outputs": [],
   "source": [
    "numbers = [13, 10, 11, 17, 85]\n",
    "\n",
    "div_by_5_map = map(lambda num: num % 5 == 0, numbers)\n",
    "\n",
    "div_by_5_filter = filter(lambda num: num % 5 == 0, numbers)"
   ]
  },
  {
   "cell_type": "code",
   "execution_count": 42,
   "metadata": {},
   "outputs": [
    {
     "name": "stdout",
     "output_type": "stream",
     "text": [
      "map:  <class 'map'>\n",
      "filter:  <class 'filter'>\n"
     ]
    }
   ],
   "source": [
    "print(\"map: \", type(div_by_5_map))\n",
    "\n",
    "print(\"filter: \", type(div_by_5_filter))"
   ]
  },
  {
   "cell_type": "code",
   "execution_count": 43,
   "metadata": {},
   "outputs": [
    {
     "name": "stdout",
     "output_type": "stream",
     "text": [
      "map:  [False, True, False, False, True]\n",
      "filter:  [10, 85]\n"
     ]
    }
   ],
   "source": [
    "# We convert the iterator into a list\n",
    "print(\"map: \", list(div_by_5_map))\n",
    "print(\"filter: \", list(div_by_5_filter))"
   ]
  },
  {
   "cell_type": "code",
   "execution_count": 44,
   "metadata": {},
   "outputs": [
    {
     "name": "stdout",
     "output_type": "stream",
     "text": [
      "[False, True, False, False, True]\n"
     ]
    }
   ],
   "source": [
    "print([n % 5 ==0 for n in numbers])"
   ]
  },
  {
   "cell_type": "markdown",
   "metadata": {},
   "source": [
    "## `functools` functions"
   ]
  },
  {
   "cell_type": "code",
   "execution_count": 45,
   "metadata": {},
   "outputs": [],
   "source": [
    "import functools"
   ]
  },
  {
   "cell_type": "markdown",
   "metadata": {},
   "source": [
    "### `reduce`"
   ]
  },
  {
   "cell_type": "markdown",
   "metadata": {},
   "source": [
    "`reduce` applies the principle of *folding*,, by reducing the iterable to a single value. \n",
    "\n",
    "Contrary to `filter` and `map`, it takes two input values.\n",
    "\n",
    "It is useful when one needs to apply a function to an iterable and reduce it to a single cumulative value."
   ]
  },
  {
   "cell_type": "markdown",
   "metadata": {},
   "source": [
    "Let us check the formula\n",
    "$$\n",
    "\\sum_{i=0}^{n}i = \\frac{n(n+1)}{2}.\n",
    "$$"
   ]
  },
  {
   "cell_type": "code",
   "execution_count": 46,
   "metadata": {},
   "outputs": [],
   "source": [
    "def formula(n):\n",
    "    return n*(n+1) // 2"
   ]
  },
  {
   "cell_type": "code",
   "execution_count": 47,
   "metadata": {},
   "outputs": [
    {
     "name": "stdout",
     "output_type": "stream",
     "text": [
      "Formula:  55\n"
     ]
    }
   ],
   "source": [
    "n = 10\n",
    "print(\"Formula: \", formula(n))"
   ]
  },
  {
   "cell_type": "code",
   "execution_count": 48,
   "metadata": {},
   "outputs": [
    {
     "name": "stdout",
     "output_type": "stream",
     "text": [
      "The sum is equal to 55\n"
     ]
    }
   ],
   "source": [
    "myList = np.arange(n+1)\n",
    "\n",
    "mySum = functools.reduce(lambda a, b : a+b, myList)\n",
    "\n",
    "print(\"The sum is equal to\", mySum) "
   ]
  },
  {
   "cell_type": "markdown",
   "metadata": {},
   "source": [
    "### Computation time"
   ]
  },
  {
   "cell_type": "code",
   "execution_count": 49,
   "metadata": {},
   "outputs": [],
   "source": [
    "def formula(n):\n",
    "    return n*(n+1) // 2\n",
    "\n",
    "def formula_loop(n):\n",
    "    res = 0\n",
    "    for i in np.arange(n+1):\n",
    "        res += i\n",
    "    return res\n",
    "\n",
    "def formula_sum(n):\n",
    "    return sum(range(n+1))\n",
    "\n",
    "def formula_npsum(n):\n",
    "    return np.sum(np.arange(n+1))\n",
    "\n",
    "def formula_functools(n):\n",
    "    return functools.reduce(lambda a, b : a+b, np.arange(n+1))"
   ]
  },
  {
   "cell_type": "code",
   "execution_count": 50,
   "metadata": {},
   "outputs": [
    {
     "name": "stderr",
     "output_type": "stream",
     "text": [
      "C:\\Users\\ajacquie\\AppData\\Local\\Temp\\ipykernel_724\\3671495906.py:2: RuntimeWarning: overflow encountered in scalar multiply\n",
      "  return n*(n+1) // 2\n",
      "C:\\Users\\ajacquie\\AppData\\Local\\Temp\\ipykernel_724\\3671495906.py:7: RuntimeWarning: overflow encountered in scalar add\n",
      "  res += i\n",
      "C:\\Users\\ajacquie\\AppData\\Local\\Temp\\ipykernel_724\\3671495906.py:17: RuntimeWarning: overflow encountered in scalar add\n",
      "  return functools.reduce(lambda a, b : a+b, np.arange(n+1))\n"
     ]
    }
   ],
   "source": [
    "myfuncs = [formula, formula_loop, formula_sum, formula_npsum, formula_functools]\n",
    "nn = np.arange(10000, 1000000, 50000)\n",
    "\n",
    "mydata_vals, mydata_time = [], []\n",
    "    \n",
    "for n in nn:\n",
    "    dts, vals = [], []\n",
    "    for f in myfuncs:\n",
    "        t0 = time.time()\n",
    "        fn = f(n)\n",
    "        dt = time.time() - t0\n",
    "        \n",
    "        vals.append(n)\n",
    "        dts.append(dt)\n",
    "        \n",
    "    mydata_vals.append(vals)\n",
    "    mydata_time.append(dts)"
   ]
  },
  {
   "cell_type": "code",
   "execution_count": 51,
   "metadata": {},
   "outputs": [
    {
     "data": {
      "text/html": [
       "<table border=\"1\" class=\"dataframe\">\n",
       "  <thead>\n",
       "    <tr style=\"text-align: right;\">\n",
       "      <th>[Values]</th>\n",
       "      <th>formula</th>\n",
       "      <th>formula_loop</th>\n",
       "      <th>formula_sum</th>\n",
       "      <th>formula_npsum</th>\n",
       "      <th>formula_functools</th>\n",
       "    </tr>\n",
       "    <tr>\n",
       "      <th>n</th>\n",
       "      <th></th>\n",
       "      <th></th>\n",
       "      <th></th>\n",
       "      <th></th>\n",
       "      <th></th>\n",
       "    </tr>\n",
       "  </thead>\n",
       "  <tbody>\n",
       "    <tr>\n",
       "      <th>10000</th>\n",
       "      <td>10000</td>\n",
       "      <td>10000</td>\n",
       "      <td>10000</td>\n",
       "      <td>10000</td>\n",
       "      <td>10000</td>\n",
       "    </tr>\n",
       "    <tr>\n",
       "      <th>60000</th>\n",
       "      <td>60000</td>\n",
       "      <td>60000</td>\n",
       "      <td>60000</td>\n",
       "      <td>60000</td>\n",
       "      <td>60000</td>\n",
       "    </tr>\n",
       "    <tr>\n",
       "      <th>110000</th>\n",
       "      <td>110000</td>\n",
       "      <td>110000</td>\n",
       "      <td>110000</td>\n",
       "      <td>110000</td>\n",
       "      <td>110000</td>\n",
       "    </tr>\n",
       "    <tr>\n",
       "      <th>160000</th>\n",
       "      <td>160000</td>\n",
       "      <td>160000</td>\n",
       "      <td>160000</td>\n",
       "      <td>160000</td>\n",
       "      <td>160000</td>\n",
       "    </tr>\n",
       "    <tr>\n",
       "      <th>210000</th>\n",
       "      <td>210000</td>\n",
       "      <td>210000</td>\n",
       "      <td>210000</td>\n",
       "      <td>210000</td>\n",
       "      <td>210000</td>\n",
       "    </tr>\n",
       "    <tr>\n",
       "      <th>260000</th>\n",
       "      <td>260000</td>\n",
       "      <td>260000</td>\n",
       "      <td>260000</td>\n",
       "      <td>260000</td>\n",
       "      <td>260000</td>\n",
       "    </tr>\n",
       "    <tr>\n",
       "      <th>310000</th>\n",
       "      <td>310000</td>\n",
       "      <td>310000</td>\n",
       "      <td>310000</td>\n",
       "      <td>310000</td>\n",
       "      <td>310000</td>\n",
       "    </tr>\n",
       "    <tr>\n",
       "      <th>360000</th>\n",
       "      <td>360000</td>\n",
       "      <td>360000</td>\n",
       "      <td>360000</td>\n",
       "      <td>360000</td>\n",
       "      <td>360000</td>\n",
       "    </tr>\n",
       "    <tr>\n",
       "      <th>410000</th>\n",
       "      <td>410000</td>\n",
       "      <td>410000</td>\n",
       "      <td>410000</td>\n",
       "      <td>410000</td>\n",
       "      <td>410000</td>\n",
       "    </tr>\n",
       "    <tr>\n",
       "      <th>460000</th>\n",
       "      <td>460000</td>\n",
       "      <td>460000</td>\n",
       "      <td>460000</td>\n",
       "      <td>460000</td>\n",
       "      <td>460000</td>\n",
       "    </tr>\n",
       "    <tr>\n",
       "      <th>510000</th>\n",
       "      <td>510000</td>\n",
       "      <td>510000</td>\n",
       "      <td>510000</td>\n",
       "      <td>510000</td>\n",
       "      <td>510000</td>\n",
       "    </tr>\n",
       "    <tr>\n",
       "      <th>560000</th>\n",
       "      <td>560000</td>\n",
       "      <td>560000</td>\n",
       "      <td>560000</td>\n",
       "      <td>560000</td>\n",
       "      <td>560000</td>\n",
       "    </tr>\n",
       "    <tr>\n",
       "      <th>610000</th>\n",
       "      <td>610000</td>\n",
       "      <td>610000</td>\n",
       "      <td>610000</td>\n",
       "      <td>610000</td>\n",
       "      <td>610000</td>\n",
       "    </tr>\n",
       "    <tr>\n",
       "      <th>660000</th>\n",
       "      <td>660000</td>\n",
       "      <td>660000</td>\n",
       "      <td>660000</td>\n",
       "      <td>660000</td>\n",
       "      <td>660000</td>\n",
       "    </tr>\n",
       "    <tr>\n",
       "      <th>710000</th>\n",
       "      <td>710000</td>\n",
       "      <td>710000</td>\n",
       "      <td>710000</td>\n",
       "      <td>710000</td>\n",
       "      <td>710000</td>\n",
       "    </tr>\n",
       "    <tr>\n",
       "      <th>760000</th>\n",
       "      <td>760000</td>\n",
       "      <td>760000</td>\n",
       "      <td>760000</td>\n",
       "      <td>760000</td>\n",
       "      <td>760000</td>\n",
       "    </tr>\n",
       "    <tr>\n",
       "      <th>810000</th>\n",
       "      <td>810000</td>\n",
       "      <td>810000</td>\n",
       "      <td>810000</td>\n",
       "      <td>810000</td>\n",
       "      <td>810000</td>\n",
       "    </tr>\n",
       "    <tr>\n",
       "      <th>860000</th>\n",
       "      <td>860000</td>\n",
       "      <td>860000</td>\n",
       "      <td>860000</td>\n",
       "      <td>860000</td>\n",
       "      <td>860000</td>\n",
       "    </tr>\n",
       "    <tr>\n",
       "      <th>910000</th>\n",
       "      <td>910000</td>\n",
       "      <td>910000</td>\n",
       "      <td>910000</td>\n",
       "      <td>910000</td>\n",
       "      <td>910000</td>\n",
       "    </tr>\n",
       "    <tr>\n",
       "      <th>960000</th>\n",
       "      <td>960000</td>\n",
       "      <td>960000</td>\n",
       "      <td>960000</td>\n",
       "      <td>960000</td>\n",
       "      <td>960000</td>\n",
       "    </tr>\n",
       "  </tbody>\n",
       "</table>"
      ],
      "text/plain": [
       "<IPython.core.display.HTML object>"
      ]
     },
     "metadata": {},
     "output_type": "display_data"
    },
    {
     "data": {
      "text/html": [
       "<table border=\"1\" class=\"dataframe\">\n",
       "  <thead>\n",
       "    <tr style=\"text-align: right;\">\n",
       "      <th>[Comp time (seconds)]</th>\n",
       "      <th>formula</th>\n",
       "      <th>formula_loop</th>\n",
       "      <th>formula_sum</th>\n",
       "      <th>formula_npsum</th>\n",
       "      <th>formula_functools</th>\n",
       "    </tr>\n",
       "    <tr>\n",
       "      <th>n</th>\n",
       "      <th></th>\n",
       "      <th></th>\n",
       "      <th></th>\n",
       "      <th></th>\n",
       "      <th></th>\n",
       "    </tr>\n",
       "  </thead>\n",
       "  <tbody>\n",
       "    <tr>\n",
       "      <th>10000</th>\n",
       "      <td>0.0</td>\n",
       "      <td>0.001</td>\n",
       "      <td>0.000</td>\n",
       "      <td>0.000</td>\n",
       "      <td>0.002</td>\n",
       "    </tr>\n",
       "    <tr>\n",
       "      <th>60000</th>\n",
       "      <td>0.0</td>\n",
       "      <td>0.006</td>\n",
       "      <td>0.002</td>\n",
       "      <td>0.000</td>\n",
       "      <td>0.008</td>\n",
       "    </tr>\n",
       "    <tr>\n",
       "      <th>110000</th>\n",
       "      <td>0.0</td>\n",
       "      <td>0.008</td>\n",
       "      <td>0.006</td>\n",
       "      <td>0.000</td>\n",
       "      <td>0.014</td>\n",
       "    </tr>\n",
       "    <tr>\n",
       "      <th>160000</th>\n",
       "      <td>0.0</td>\n",
       "      <td>0.013</td>\n",
       "      <td>0.003</td>\n",
       "      <td>0.000</td>\n",
       "      <td>0.021</td>\n",
       "    </tr>\n",
       "    <tr>\n",
       "      <th>210000</th>\n",
       "      <td>0.0</td>\n",
       "      <td>0.016</td>\n",
       "      <td>0.000</td>\n",
       "      <td>0.000</td>\n",
       "      <td>0.032</td>\n",
       "    </tr>\n",
       "    <tr>\n",
       "      <th>260000</th>\n",
       "      <td>0.0</td>\n",
       "      <td>0.023</td>\n",
       "      <td>0.008</td>\n",
       "      <td>0.000</td>\n",
       "      <td>0.023</td>\n",
       "    </tr>\n",
       "    <tr>\n",
       "      <th>310000</th>\n",
       "      <td>0.0</td>\n",
       "      <td>0.031</td>\n",
       "      <td>0.010</td>\n",
       "      <td>0.000</td>\n",
       "      <td>0.044</td>\n",
       "    </tr>\n",
       "    <tr>\n",
       "      <th>360000</th>\n",
       "      <td>0.0</td>\n",
       "      <td>0.032</td>\n",
       "      <td>0.014</td>\n",
       "      <td>0.000</td>\n",
       "      <td>0.031</td>\n",
       "    </tr>\n",
       "    <tr>\n",
       "      <th>410000</th>\n",
       "      <td>0.0</td>\n",
       "      <td>0.040</td>\n",
       "      <td>0.021</td>\n",
       "      <td>0.000</td>\n",
       "      <td>0.050</td>\n",
       "    </tr>\n",
       "    <tr>\n",
       "      <th>460000</th>\n",
       "      <td>0.0</td>\n",
       "      <td>0.044</td>\n",
       "      <td>0.019</td>\n",
       "      <td>0.000</td>\n",
       "      <td>0.054</td>\n",
       "    </tr>\n",
       "    <tr>\n",
       "      <th>510000</th>\n",
       "      <td>0.0</td>\n",
       "      <td>0.052</td>\n",
       "      <td>0.021</td>\n",
       "      <td>0.000</td>\n",
       "      <td>0.063</td>\n",
       "    </tr>\n",
       "    <tr>\n",
       "      <th>560000</th>\n",
       "      <td>0.0</td>\n",
       "      <td>0.050</td>\n",
       "      <td>0.021</td>\n",
       "      <td>0.000</td>\n",
       "      <td>0.062</td>\n",
       "    </tr>\n",
       "    <tr>\n",
       "      <th>610000</th>\n",
       "      <td>0.0</td>\n",
       "      <td>0.060</td>\n",
       "      <td>0.023</td>\n",
       "      <td>0.000</td>\n",
       "      <td>0.072</td>\n",
       "    </tr>\n",
       "    <tr>\n",
       "      <th>660000</th>\n",
       "      <td>0.0</td>\n",
       "      <td>0.062</td>\n",
       "      <td>0.029</td>\n",
       "      <td>0.000</td>\n",
       "      <td>0.075</td>\n",
       "    </tr>\n",
       "    <tr>\n",
       "      <th>710000</th>\n",
       "      <td>0.0</td>\n",
       "      <td>0.062</td>\n",
       "      <td>0.031</td>\n",
       "      <td>0.000</td>\n",
       "      <td>0.087</td>\n",
       "    </tr>\n",
       "    <tr>\n",
       "      <th>760000</th>\n",
       "      <td>0.0</td>\n",
       "      <td>0.066</td>\n",
       "      <td>0.031</td>\n",
       "      <td>0.000</td>\n",
       "      <td>0.092</td>\n",
       "    </tr>\n",
       "    <tr>\n",
       "      <th>810000</th>\n",
       "      <td>0.0</td>\n",
       "      <td>0.072</td>\n",
       "      <td>0.041</td>\n",
       "      <td>0.000</td>\n",
       "      <td>0.092</td>\n",
       "    </tr>\n",
       "    <tr>\n",
       "      <th>860000</th>\n",
       "      <td>0.0</td>\n",
       "      <td>0.084</td>\n",
       "      <td>0.035</td>\n",
       "      <td>0.002</td>\n",
       "      <td>0.099</td>\n",
       "    </tr>\n",
       "    <tr>\n",
       "      <th>910000</th>\n",
       "      <td>0.0</td>\n",
       "      <td>0.079</td>\n",
       "      <td>0.037</td>\n",
       "      <td>0.001</td>\n",
       "      <td>0.106</td>\n",
       "    </tr>\n",
       "    <tr>\n",
       "      <th>960000</th>\n",
       "      <td>0.0</td>\n",
       "      <td>0.083</td>\n",
       "      <td>0.035</td>\n",
       "      <td>0.006</td>\n",
       "      <td>0.111</td>\n",
       "    </tr>\n",
       "  </tbody>\n",
       "</table>"
      ],
      "text/plain": [
       "<IPython.core.display.HTML object>"
      ]
     },
     "metadata": {},
     "output_type": "display_data"
    }
   ],
   "source": [
    "df = pd.DataFrame(mydata_vals, columns = [str(f.__name__) for f in myfuncs])\n",
    "df.columns.name = '[Values]'\n",
    "df.index = nn\n",
    "df.index.name = \"n\"\n",
    "display(HTML(df.to_html()))\n",
    "\n",
    "df = pd.DataFrame(np.round(mydata_time, 3), columns = [str(f.__name__) for f in myfuncs])\n",
    "df.columns.name = '[Comp time (seconds)]'\n",
    "df.index = nn\n",
    "df.index.name = \"n\"\n",
    "display(HTML(df.to_html()))"
   ]
  },
  {
   "cell_type": "markdown",
   "metadata": {},
   "source": [
    "####### Second version, with pre-computed `np.arange` (we add the letter \"v\" to indicate \"vector\")"
   ]
  },
  {
   "cell_type": "code",
   "execution_count": 52,
   "metadata": {},
   "outputs": [],
   "source": [
    "def vformula(n):\n",
    "    return n*(n+1) // 2\n",
    "\n",
    "def vformula_loop(nn):\n",
    "    res = 0\n",
    "    for i in nn:\n",
    "        res += i\n",
    "    return res\n",
    "\n",
    "def vformula_sum(nn):\n",
    "    return sum(nn)\n",
    "\n",
    "def vformula_npsum(nn):\n",
    "    return np.sum(nn)\n",
    "\n",
    "def vformula_functools(nn):\n",
    "    return functools.reduce(lambda a, b : a+b, nn)"
   ]
  },
  {
   "cell_type": "code",
   "execution_count": 53,
   "metadata": {},
   "outputs": [
    {
     "data": {
      "text/plain": [
       "array([ 100000,  600000, 1100000, 1600000, 2100000, 2600000, 3100000,\n",
       "       3600000, 4100000, 4600000, 5100000, 5600000, 6100000, 6600000,\n",
       "       7100000, 7600000, 8100000, 8600000, 9100000, 9600000])"
      ]
     },
     "execution_count": 53,
     "metadata": {},
     "output_type": "execute_result"
    }
   ],
   "source": [
    "nn = np.arange(100000, 10000000, 500000)\n",
    "nn"
   ]
  },
  {
   "cell_type": "code",
   "execution_count": 54,
   "metadata": {},
   "outputs": [
    {
     "name": "stderr",
     "output_type": "stream",
     "text": [
      "C:\\Users\\ajacquie\\AppData\\Local\\Temp\\ipykernel_724\\296023125.py:7: RuntimeWarning: overflow encountered in scalar add\n",
      "  res += i\n",
      "C:\\Users\\ajacquie\\AppData\\Local\\Temp\\ipykernel_724\\296023125.py:11: RuntimeWarning: overflow encountered in scalar add\n",
      "  return sum(nn)\n",
      "C:\\Users\\ajacquie\\AppData\\Local\\Temp\\ipykernel_724\\296023125.py:17: RuntimeWarning: overflow encountered in scalar add\n",
      "  return functools.reduce(lambda a, b : a+b, nn)\n"
     ]
    }
   ],
   "source": [
    "myvfuncs = [vformula, vformula_loop, vformula_sum, vformula_npsum, vformula_functools]\n",
    "nn = np.arange(100000, 10000000, 500000)\n",
    "\n",
    "mydata_vals, mydata_time = [], []\n",
    "    \n",
    "for n in nn:\n",
    "    nn_temp = np.arange(n+1)\n",
    "    dts, vals = [], []\n",
    "    for f in myvfuncs:\n",
    "        t0 = time.time()\n",
    "        fn = f(nn_temp)\n",
    "        dt = time.time() - t0\n",
    "        \n",
    "        vals.append(n)\n",
    "        dts.append(dt)\n",
    "        \n",
    "    mydata_vals.append(vals)\n",
    "    mydata_time.append(dts)"
   ]
  },
  {
   "cell_type": "code",
   "execution_count": 55,
   "metadata": {},
   "outputs": [
    {
     "data": {
      "text/html": [
       "<table border=\"1\" class=\"dataframe\">\n",
       "  <thead>\n",
       "    <tr style=\"text-align: right;\">\n",
       "      <th>[Comp time (seconds)]</th>\n",
       "      <th>vformula</th>\n",
       "      <th>vformula_loop</th>\n",
       "      <th>vformula_sum</th>\n",
       "      <th>vformula_npsum</th>\n",
       "      <th>vformula_functools</th>\n",
       "    </tr>\n",
       "    <tr>\n",
       "      <th>n</th>\n",
       "      <th></th>\n",
       "      <th></th>\n",
       "      <th></th>\n",
       "      <th></th>\n",
       "      <th></th>\n",
       "    </tr>\n",
       "  </thead>\n",
       "  <tbody>\n",
       "    <tr>\n",
       "      <th>100000</th>\n",
       "      <td>0.000</td>\n",
       "      <td>0.010</td>\n",
       "      <td>0.006</td>\n",
       "      <td>0.000</td>\n",
       "      <td>0.017</td>\n",
       "    </tr>\n",
       "    <tr>\n",
       "      <th>600000</th>\n",
       "      <td>0.003</td>\n",
       "      <td>0.054</td>\n",
       "      <td>0.039</td>\n",
       "      <td>0.000</td>\n",
       "      <td>0.073</td>\n",
       "    </tr>\n",
       "    <tr>\n",
       "      <th>1100000</th>\n",
       "      <td>0.000</td>\n",
       "      <td>0.115</td>\n",
       "      <td>0.065</td>\n",
       "      <td>0.000</td>\n",
       "      <td>0.134</td>\n",
       "    </tr>\n",
       "    <tr>\n",
       "      <th>1600000</th>\n",
       "      <td>0.000</td>\n",
       "      <td>0.155</td>\n",
       "      <td>0.110</td>\n",
       "      <td>0.002</td>\n",
       "      <td>0.184</td>\n",
       "    </tr>\n",
       "    <tr>\n",
       "      <th>2100000</th>\n",
       "      <td>0.010</td>\n",
       "      <td>0.196</td>\n",
       "      <td>0.143</td>\n",
       "      <td>0.000</td>\n",
       "      <td>0.243</td>\n",
       "    </tr>\n",
       "    <tr>\n",
       "      <th>2600000</th>\n",
       "      <td>0.019</td>\n",
       "      <td>0.248</td>\n",
       "      <td>0.164</td>\n",
       "      <td>0.008</td>\n",
       "      <td>0.297</td>\n",
       "    </tr>\n",
       "    <tr>\n",
       "      <th>3100000</th>\n",
       "      <td>0.010</td>\n",
       "      <td>0.268</td>\n",
       "      <td>0.231</td>\n",
       "      <td>0.002</td>\n",
       "      <td>0.348</td>\n",
       "    </tr>\n",
       "    <tr>\n",
       "      <th>3600000</th>\n",
       "      <td>0.021</td>\n",
       "      <td>0.318</td>\n",
       "      <td>0.234</td>\n",
       "      <td>0.002</td>\n",
       "      <td>0.400</td>\n",
       "    </tr>\n",
       "    <tr>\n",
       "      <th>4100000</th>\n",
       "      <td>0.021</td>\n",
       "      <td>0.376</td>\n",
       "      <td>0.270</td>\n",
       "      <td>0.003</td>\n",
       "      <td>0.472</td>\n",
       "    </tr>\n",
       "    <tr>\n",
       "      <th>4600000</th>\n",
       "      <td>0.021</td>\n",
       "      <td>0.419</td>\n",
       "      <td>0.297</td>\n",
       "      <td>0.002</td>\n",
       "      <td>0.542</td>\n",
       "    </tr>\n",
       "    <tr>\n",
       "      <th>5100000</th>\n",
       "      <td>0.022</td>\n",
       "      <td>0.450</td>\n",
       "      <td>0.341</td>\n",
       "      <td>0.003</td>\n",
       "      <td>0.584</td>\n",
       "    </tr>\n",
       "    <tr>\n",
       "      <th>5600000</th>\n",
       "      <td>0.031</td>\n",
       "      <td>0.501</td>\n",
       "      <td>0.362</td>\n",
       "      <td>0.007</td>\n",
       "      <td>0.650</td>\n",
       "    </tr>\n",
       "    <tr>\n",
       "      <th>6100000</th>\n",
       "      <td>0.033</td>\n",
       "      <td>0.545</td>\n",
       "      <td>0.414</td>\n",
       "      <td>0.003</td>\n",
       "      <td>0.699</td>\n",
       "    </tr>\n",
       "    <tr>\n",
       "      <th>6600000</th>\n",
       "      <td>0.032</td>\n",
       "      <td>0.576</td>\n",
       "      <td>0.420</td>\n",
       "      <td>0.003</td>\n",
       "      <td>0.737</td>\n",
       "    </tr>\n",
       "    <tr>\n",
       "      <th>7100000</th>\n",
       "      <td>0.031</td>\n",
       "      <td>0.652</td>\n",
       "      <td>0.444</td>\n",
       "      <td>0.004</td>\n",
       "      <td>0.813</td>\n",
       "    </tr>\n",
       "    <tr>\n",
       "      <th>7600000</th>\n",
       "      <td>0.041</td>\n",
       "      <td>0.672</td>\n",
       "      <td>0.483</td>\n",
       "      <td>0.000</td>\n",
       "      <td>0.894</td>\n",
       "    </tr>\n",
       "    <tr>\n",
       "      <th>8100000</th>\n",
       "      <td>0.037</td>\n",
       "      <td>0.791</td>\n",
       "      <td>0.541</td>\n",
       "      <td>0.005</td>\n",
       "      <td>0.938</td>\n",
       "    </tr>\n",
       "    <tr>\n",
       "      <th>8600000</th>\n",
       "      <td>0.049</td>\n",
       "      <td>0.775</td>\n",
       "      <td>0.620</td>\n",
       "      <td>0.004</td>\n",
       "      <td>0.973</td>\n",
       "    </tr>\n",
       "    <tr>\n",
       "      <th>9100000</th>\n",
       "      <td>0.041</td>\n",
       "      <td>0.757</td>\n",
       "      <td>0.475</td>\n",
       "      <td>0.005</td>\n",
       "      <td>1.182</td>\n",
       "    </tr>\n",
       "    <tr>\n",
       "      <th>9600000</th>\n",
       "      <td>0.062</td>\n",
       "      <td>1.050</td>\n",
       "      <td>0.761</td>\n",
       "      <td>0.007</td>\n",
       "      <td>1.179</td>\n",
       "    </tr>\n",
       "  </tbody>\n",
       "</table>"
      ],
      "text/plain": [
       "<IPython.core.display.HTML object>"
      ]
     },
     "metadata": {},
     "output_type": "display_data"
    }
   ],
   "source": [
    "df = pd.DataFrame(np.round(mydata_time, 3), columns = [str(f.__name__) for f in myvfuncs])\n",
    "df.columns.name = '[Comp time (seconds)]'\n",
    "df.index = nn\n",
    "df.index.name = \"n\"\n",
    "display(HTML(df.to_html()))"
   ]
  },
  {
   "cell_type": "markdown",
   "metadata": {},
   "source": [
    "Another example: computing the max"
   ]
  },
  {
   "cell_type": "code",
   "execution_count": 56,
   "metadata": {},
   "outputs": [
    {
     "name": "stdout",
     "output_type": "stream",
     "text": [
      "The maximum is equal to 10\n"
     ]
    }
   ],
   "source": [
    "myMax = functools.reduce(lambda a, b : a if a > b else b,myList)\n",
    "print(\"The maximum is equal to\", myMax) "
   ]
  },
  {
   "cell_type": "markdown",
   "metadata": {},
   "source": [
    "**Quote by Guido van Rossum, creator of `Python`:**\n",
    "\n",
    "\"*Use functools.reduce if you really need it; however, 99% of the time an explicit for loop is more readable.*\""
   ]
  },
  {
   "cell_type": "markdown",
   "metadata": {},
   "source": [
    "### The `partial` module"
   ]
  },
  {
   "cell_type": "markdown",
   "metadata": {},
   "source": [
    "One may want to use the behaviour of a function, but freezing some of its arguments.\n",
    "For example"
   ]
  },
  {
   "cell_type": "code",
   "execution_count": 57,
   "metadata": {},
   "outputs": [
    {
     "data": {
      "text/plain": [
       "5"
      ]
     },
     "execution_count": 57,
     "metadata": {},
     "output_type": "execute_result"
    }
   ],
   "source": [
    "def add(a):\n",
    "    return a + 2\n",
    "\n",
    "add(3)"
   ]
  },
  {
   "cell_type": "code",
   "execution_count": 58,
   "metadata": {},
   "outputs": [
    {
     "data": {
      "text/plain": [
       "21"
      ]
     },
     "execution_count": 58,
     "metadata": {},
     "output_type": "execute_result"
    }
   ],
   "source": [
    "from functools import partial\n",
    "\n",
    "def add(bb, a): ## one can only freeze the first argument\n",
    "    return a + np.sum(bb)\n",
    "\n",
    "add_new = partial(add, [2, 3, 5, 7])\n",
    "\n",
    "add_new(4)"
   ]
  },
  {
   "cell_type": "code",
   "execution_count": 59,
   "metadata": {},
   "outputs": [
    {
     "data": {
      "text/plain": [
       "'Hello Jack'"
      ]
     },
     "execution_count": 59,
     "metadata": {},
     "output_type": "execute_result"
    }
   ],
   "source": [
    "def printMessage(message, name): ## the first argument is frozen\n",
    "    return message + \" \" + name\n",
    "\n",
    "newMessage = partial(printMessage, \"Hello\")\n",
    "\n",
    "newMessage(\"Jack\")"
   ]
  },
  {
   "cell_type": "markdown",
   "metadata": {},
   "source": [
    "*Example: When using the Black-Scholes pricing function, we may want to impose a specified interest rate, that the user cannot modify.* "
   ]
  },
  {
   "cell_type": "markdown",
   "metadata": {},
   "source": [
    "$$\n",
    "\\mathrm{BS}(r, S_0, K, T, \\sigma)\n",
    "$$"
   ]
  },
  {
   "cell_type": "markdown",
   "metadata": {},
   "source": [
    "BS_user = partial(BS, fixedRate)"
   ]
  },
  {
   "cell_type": "markdown",
   "metadata": {},
   "source": [
    "**Exercise:**\n",
    "*Rewrite the above two operations (sum and max) using `numpy` packages (not with `functools`).*"
   ]
  },
  {
   "cell_type": "markdown",
   "metadata": {},
   "source": [
    "**Exercise:**\n",
    "*Write the following command using `map` and `filter`:*\n",
    "\n",
    "*`arbitrary_numbers = [num ** 3 for num in range(1, 21) if num % 3 == 0]`*\n",
    "\n",
    "*Test on the list `numbers = [13, 10, 11, 18, 35]`*"
   ]
  },
  {
   "cell_type": "code",
   "execution_count": 60,
   "metadata": {},
   "outputs": [],
   "source": [
    "## Solution:\n",
    "arbitrary_numbersFilter = map(lambda num: num ** 3, filter(lambda num: num % 3 == 0, range(1, 21)))"
   ]
  },
  {
   "cell_type": "code",
   "execution_count": 61,
   "metadata": {},
   "outputs": [
    {
     "data": {
      "text/plain": [
       "[27, 216, 729, 1728, 3375, 5832]"
      ]
     },
     "execution_count": 61,
     "metadata": {},
     "output_type": "execute_result"
    }
   ],
   "source": [
    "list(arbitrary_numbersFilter)"
   ]
  },
  {
   "cell_type": "markdown",
   "metadata": {},
   "source": [
    "## Iterators and Generators"
   ]
  },
  {
   "cell_type": "markdown",
   "metadata": {},
   "source": [
    "An iterator is an object representing a stream of data. \n",
    "\n",
    "It must support a method called `__next__()` that takes no argument and returns the next element of the stream. \n",
    "\n",
    "At the end of the stream, `__next__()` raises the `StopIteration` exception. \n",
    "\n",
    "Iterators (the data) can be of finite or infinite length."
   ]
  },
  {
   "cell_type": "markdown",
   "metadata": {},
   "source": [
    "Standard objects to iterate over (called iterable objects) are lists, tuples, arrays, dictionaries."
   ]
  },
  {
   "cell_type": "markdown",
   "metadata": {},
   "source": [
    "The two fundamental methods `iter()` and `next()` are called *iterator protocols*."
   ]
  },
  {
   "cell_type": "code",
   "execution_count": 62,
   "metadata": {},
   "outputs": [
    {
     "name": "stdout",
     "output_type": "stream",
     "text": [
      "[ 1.    3.25  5.5   7.75 10.  ] <class 'numpy.ndarray'>\n"
     ]
    }
   ],
   "source": [
    "## Example\n",
    "xx = np.linspace(1., 10., 5)\n",
    "print(xx, type(xx))"
   ]
  },
  {
   "cell_type": "code",
   "execution_count": 63,
   "metadata": {},
   "outputs": [
    {
     "name": "stdout",
     "output_type": "stream",
     "text": [
      "it:  <iterator object at 0x000001E83DE8BEE0> <class 'iterator'>\n"
     ]
    }
   ],
   "source": [
    "it = iter(xx)\n",
    "print(\"it: \", it, type(it))"
   ]
  },
  {
   "cell_type": "code",
   "execution_count": 64,
   "metadata": {},
   "outputs": [
    {
     "name": "stdout",
     "output_type": "stream",
     "text": [
      "1.0\n"
     ]
    }
   ],
   "source": [
    "print(next(it))"
   ]
  },
  {
   "cell_type": "markdown",
   "metadata": {},
   "source": [
    "The functions `min` and `max` in are built-in functions operating on iterators:"
   ]
  },
  {
   "cell_type": "code",
   "execution_count": 65,
   "metadata": {},
   "outputs": [
    {
     "name": "stdout",
     "output_type": "stream",
     "text": [
      "10.0\n"
     ]
    }
   ],
   "source": [
    "it = iter(xx)\n",
    "\n",
    "print(max(it))"
   ]
  },
  {
   "cell_type": "code",
   "execution_count": 66,
   "metadata": {},
   "outputs": [
    {
     "data": {
      "text/plain": [
       "iterator"
      ]
     },
     "execution_count": 66,
     "metadata": {},
     "output_type": "execute_result"
    }
   ],
   "source": [
    "type(it)"
   ]
  },
  {
   "cell_type": "markdown",
   "metadata": {},
   "source": [
    "*Of course here you could use `numpy.max` and `numpy.min` directly on the `numpy.array`.*"
   ]
  },
  {
   "cell_type": "code",
   "execution_count": 67,
   "metadata": {},
   "outputs": [
    {
     "name": "stdout",
     "output_type": "stream",
     "text": [
      "True\n",
      "False\n"
     ]
    }
   ],
   "source": [
    "print(xx[1] in iter(xx))\n",
    "print(1.2 in iter(xx))"
   ]
  },
  {
   "cell_type": "markdown",
   "metadata": {},
   "source": [
    "*Warning....!*"
   ]
  },
  {
   "cell_type": "code",
   "execution_count": 68,
   "metadata": {},
   "outputs": [
    {
     "name": "stdout",
     "output_type": "stream",
     "text": [
      "False\n"
     ]
    }
   ],
   "source": [
    "it = iter(xx)\n",
    "print(1.2 in it)"
   ]
  },
  {
   "cell_type": "code",
   "execution_count": 69,
   "metadata": {},
   "outputs": [
    {
     "ename": "StopIteration",
     "evalue": "",
     "output_type": "error",
     "traceback": [
      "\u001b[1;31m---------------------------------------------------------------------------\u001b[0m",
      "\u001b[1;31mStopIteration\u001b[0m                             Traceback (most recent call last)",
      "Cell \u001b[1;32mIn[69], line 1\u001b[0m\n\u001b[1;32m----> 1\u001b[0m \u001b[38;5;28mnext\u001b[39m(it)\n",
      "\u001b[1;31mStopIteration\u001b[0m: "
     ]
    }
   ],
   "source": [
    "next(it)"
   ]
  },
  {
   "cell_type": "markdown",
   "metadata": {},
   "source": [
    "### Iterators for dictionaries"
   ]
  },
  {
   "cell_type": "markdown",
   "metadata": {},
   "source": [
    "Since dictionaries are iterable objects, we can also construct iterators on them."
   ]
  },
  {
   "cell_type": "markdown",
   "metadata": {},
   "source": [
    "Let us illustrate this on financial data.\n",
    "We first import options data on the S&P 500 from Yahoo Finance, and create a dictionary from this `pandas` dataframe."
   ]
  },
  {
   "cell_type": "code",
   "execution_count": 70,
   "metadata": {},
   "outputs": [
    {
     "name": "stderr",
     "output_type": "stream",
     "text": [
      "C:\\Users\\ajacquie\\AppData\\Local\\anaconda3\\Lib\\site-packages\\yahoo_fin\\options.py:42: FutureWarning: Passing literal html to 'read_html' is deprecated and will be removed in a future version. To read from a literal string, wrap it in a 'StringIO' object.\n",
      "  tables = pd.read_html(requests.get(site, headers=headers).text)\n"
     ]
    },
    {
     "ename": "ValueError",
     "evalue": "No tables found",
     "output_type": "error",
     "traceback": [
      "\u001b[1;31m---------------------------------------------------------------------------\u001b[0m",
      "\u001b[1;31mValueError\u001b[0m                                Traceback (most recent call last)",
      "Cell \u001b[1;32mIn[70], line 3\u001b[0m\n\u001b[0;32m      1\u001b[0m \u001b[38;5;28;01mfrom\u001b[39;00m \u001b[38;5;21;01myahoo_fin\u001b[39;00m \u001b[38;5;28;01mimport\u001b[39;00m options\n\u001b[1;32m----> 3\u001b[0m chain \u001b[38;5;241m=\u001b[39m options\u001b[38;5;241m.\u001b[39mget_options_chain(\u001b[38;5;124m\"\u001b[39m\u001b[38;5;124mspy\u001b[39m\u001b[38;5;124m\"\u001b[39m)\n\u001b[0;32m      4\u001b[0m calls \u001b[38;5;241m=\u001b[39m chain[\u001b[38;5;124m\"\u001b[39m\u001b[38;5;124mcalls\u001b[39m\u001b[38;5;124m\"\u001b[39m]\n",
      "File \u001b[1;32m~\\AppData\\Local\\anaconda3\\Lib\\site-packages\\yahoo_fin\\options.py:42\u001b[0m, in \u001b[0;36mget_options_chain\u001b[1;34m(ticker, date, raw, headers)\u001b[0m\n\u001b[0;32m     33\u001b[0m \u001b[38;5;250m\u001b[39m\u001b[38;5;124;03m\"\"\"Extracts call / put option tables for input ticker and expiration date.  If\u001b[39;00m\n\u001b[0;32m     34\u001b[0m \u001b[38;5;124;03m   no date is input, the default result will be the earliest expiring\u001b[39;00m\n\u001b[0;32m     35\u001b[0m \u001b[38;5;124;03m   option chain from the current date.\u001b[39;00m\n\u001b[0;32m     36\u001b[0m \u001b[38;5;124;03m\u001b[39;00m\n\u001b[0;32m     37\u001b[0m \u001b[38;5;124;03m   @param: ticker\u001b[39;00m\n\u001b[0;32m     38\u001b[0m \u001b[38;5;124;03m   @param: date\"\"\"\u001b[39;00m    \n\u001b[0;32m     40\u001b[0m site \u001b[38;5;241m=\u001b[39m build_options_url(ticker, date)\n\u001b[1;32m---> 42\u001b[0m tables \u001b[38;5;241m=\u001b[39m pd\u001b[38;5;241m.\u001b[39mread_html(requests\u001b[38;5;241m.\u001b[39mget(site, headers\u001b[38;5;241m=\u001b[39mheaders)\u001b[38;5;241m.\u001b[39mtext)\n\u001b[0;32m     44\u001b[0m \u001b[38;5;28;01mif\u001b[39;00m \u001b[38;5;28mlen\u001b[39m(tables) \u001b[38;5;241m==\u001b[39m \u001b[38;5;241m1\u001b[39m:\n\u001b[0;32m     45\u001b[0m     calls \u001b[38;5;241m=\u001b[39m tables[\u001b[38;5;241m0\u001b[39m]\u001b[38;5;241m.\u001b[39mcopy()\n",
      "File \u001b[1;32m~\\AppData\\Local\\anaconda3\\Lib\\site-packages\\pandas\\io\\html.py:1240\u001b[0m, in \u001b[0;36mread_html\u001b[1;34m(io, match, flavor, header, index_col, skiprows, attrs, parse_dates, thousands, encoding, decimal, converters, na_values, keep_default_na, displayed_only, extract_links, dtype_backend, storage_options)\u001b[0m\n\u001b[0;32m   1224\u001b[0m \u001b[38;5;28;01mif\u001b[39;00m \u001b[38;5;28misinstance\u001b[39m(io, \u001b[38;5;28mstr\u001b[39m) \u001b[38;5;129;01mand\u001b[39;00m \u001b[38;5;129;01mnot\u001b[39;00m \u001b[38;5;28many\u001b[39m(\n\u001b[0;32m   1225\u001b[0m     [\n\u001b[0;32m   1226\u001b[0m         is_file_like(io),\n\u001b[1;32m   (...)\u001b[0m\n\u001b[0;32m   1230\u001b[0m     ]\n\u001b[0;32m   1231\u001b[0m ):\n\u001b[0;32m   1232\u001b[0m     warnings\u001b[38;5;241m.\u001b[39mwarn(\n\u001b[0;32m   1233\u001b[0m         \u001b[38;5;124m\"\u001b[39m\u001b[38;5;124mPassing literal html to \u001b[39m\u001b[38;5;124m'\u001b[39m\u001b[38;5;124mread_html\u001b[39m\u001b[38;5;124m'\u001b[39m\u001b[38;5;124m is deprecated and \u001b[39m\u001b[38;5;124m\"\u001b[39m\n\u001b[0;32m   1234\u001b[0m         \u001b[38;5;124m\"\u001b[39m\u001b[38;5;124mwill be removed in a future version. To read from a \u001b[39m\u001b[38;5;124m\"\u001b[39m\n\u001b[1;32m   (...)\u001b[0m\n\u001b[0;32m   1237\u001b[0m         stacklevel\u001b[38;5;241m=\u001b[39mfind_stack_level(),\n\u001b[0;32m   1238\u001b[0m     )\n\u001b[1;32m-> 1240\u001b[0m \u001b[38;5;28;01mreturn\u001b[39;00m _parse(\n\u001b[0;32m   1241\u001b[0m     flavor\u001b[38;5;241m=\u001b[39mflavor,\n\u001b[0;32m   1242\u001b[0m     io\u001b[38;5;241m=\u001b[39mio,\n\u001b[0;32m   1243\u001b[0m     match\u001b[38;5;241m=\u001b[39mmatch,\n\u001b[0;32m   1244\u001b[0m     header\u001b[38;5;241m=\u001b[39mheader,\n\u001b[0;32m   1245\u001b[0m     index_col\u001b[38;5;241m=\u001b[39mindex_col,\n\u001b[0;32m   1246\u001b[0m     skiprows\u001b[38;5;241m=\u001b[39mskiprows,\n\u001b[0;32m   1247\u001b[0m     parse_dates\u001b[38;5;241m=\u001b[39mparse_dates,\n\u001b[0;32m   1248\u001b[0m     thousands\u001b[38;5;241m=\u001b[39mthousands,\n\u001b[0;32m   1249\u001b[0m     attrs\u001b[38;5;241m=\u001b[39mattrs,\n\u001b[0;32m   1250\u001b[0m     encoding\u001b[38;5;241m=\u001b[39mencoding,\n\u001b[0;32m   1251\u001b[0m     decimal\u001b[38;5;241m=\u001b[39mdecimal,\n\u001b[0;32m   1252\u001b[0m     converters\u001b[38;5;241m=\u001b[39mconverters,\n\u001b[0;32m   1253\u001b[0m     na_values\u001b[38;5;241m=\u001b[39mna_values,\n\u001b[0;32m   1254\u001b[0m     keep_default_na\u001b[38;5;241m=\u001b[39mkeep_default_na,\n\u001b[0;32m   1255\u001b[0m     displayed_only\u001b[38;5;241m=\u001b[39mdisplayed_only,\n\u001b[0;32m   1256\u001b[0m     extract_links\u001b[38;5;241m=\u001b[39mextract_links,\n\u001b[0;32m   1257\u001b[0m     dtype_backend\u001b[38;5;241m=\u001b[39mdtype_backend,\n\u001b[0;32m   1258\u001b[0m     storage_options\u001b[38;5;241m=\u001b[39mstorage_options,\n\u001b[0;32m   1259\u001b[0m )\n",
      "File \u001b[1;32m~\\AppData\\Local\\anaconda3\\Lib\\site-packages\\pandas\\io\\html.py:1003\u001b[0m, in \u001b[0;36m_parse\u001b[1;34m(flavor, io, match, attrs, encoding, displayed_only, extract_links, storage_options, **kwargs)\u001b[0m\n\u001b[0;32m   1001\u001b[0m \u001b[38;5;28;01melse\u001b[39;00m:\n\u001b[0;32m   1002\u001b[0m     \u001b[38;5;28;01massert\u001b[39;00m retained \u001b[38;5;129;01mis\u001b[39;00m \u001b[38;5;129;01mnot\u001b[39;00m \u001b[38;5;28;01mNone\u001b[39;00m  \u001b[38;5;66;03m# for mypy\u001b[39;00m\n\u001b[1;32m-> 1003\u001b[0m     \u001b[38;5;28;01mraise\u001b[39;00m retained\n\u001b[0;32m   1005\u001b[0m ret \u001b[38;5;241m=\u001b[39m []\n\u001b[0;32m   1006\u001b[0m \u001b[38;5;28;01mfor\u001b[39;00m table \u001b[38;5;129;01min\u001b[39;00m tables:\n",
      "File \u001b[1;32m~\\AppData\\Local\\anaconda3\\Lib\\site-packages\\pandas\\io\\html.py:983\u001b[0m, in \u001b[0;36m_parse\u001b[1;34m(flavor, io, match, attrs, encoding, displayed_only, extract_links, storage_options, **kwargs)\u001b[0m\n\u001b[0;32m    972\u001b[0m p \u001b[38;5;241m=\u001b[39m parser(\n\u001b[0;32m    973\u001b[0m     io,\n\u001b[0;32m    974\u001b[0m     compiled_match,\n\u001b[1;32m   (...)\u001b[0m\n\u001b[0;32m    979\u001b[0m     storage_options,\n\u001b[0;32m    980\u001b[0m )\n\u001b[0;32m    982\u001b[0m \u001b[38;5;28;01mtry\u001b[39;00m:\n\u001b[1;32m--> 983\u001b[0m     tables \u001b[38;5;241m=\u001b[39m p\u001b[38;5;241m.\u001b[39mparse_tables()\n\u001b[0;32m    984\u001b[0m \u001b[38;5;28;01mexcept\u001b[39;00m \u001b[38;5;167;01mValueError\u001b[39;00m \u001b[38;5;28;01mas\u001b[39;00m caught:\n\u001b[0;32m    985\u001b[0m     \u001b[38;5;66;03m# if `io` is an io-like object, check if it's seekable\u001b[39;00m\n\u001b[0;32m    986\u001b[0m     \u001b[38;5;66;03m# and try to rewind it before trying the next parser\u001b[39;00m\n\u001b[0;32m    987\u001b[0m     \u001b[38;5;28;01mif\u001b[39;00m \u001b[38;5;28mhasattr\u001b[39m(io, \u001b[38;5;124m\"\u001b[39m\u001b[38;5;124mseekable\u001b[39m\u001b[38;5;124m\"\u001b[39m) \u001b[38;5;129;01mand\u001b[39;00m io\u001b[38;5;241m.\u001b[39mseekable():\n",
      "File \u001b[1;32m~\\AppData\\Local\\anaconda3\\Lib\\site-packages\\pandas\\io\\html.py:249\u001b[0m, in \u001b[0;36m_HtmlFrameParser.parse_tables\u001b[1;34m(self)\u001b[0m\n\u001b[0;32m    241\u001b[0m \u001b[38;5;28;01mdef\u001b[39;00m \u001b[38;5;21mparse_tables\u001b[39m(\u001b[38;5;28mself\u001b[39m):\n\u001b[0;32m    242\u001b[0m \u001b[38;5;250m    \u001b[39m\u001b[38;5;124;03m\"\"\"\u001b[39;00m\n\u001b[0;32m    243\u001b[0m \u001b[38;5;124;03m    Parse and return all tables from the DOM.\u001b[39;00m\n\u001b[0;32m    244\u001b[0m \n\u001b[1;32m   (...)\u001b[0m\n\u001b[0;32m    247\u001b[0m \u001b[38;5;124;03m    list of parsed (header, body, footer) tuples from tables.\u001b[39;00m\n\u001b[0;32m    248\u001b[0m \u001b[38;5;124;03m    \"\"\"\u001b[39;00m\n\u001b[1;32m--> 249\u001b[0m     tables \u001b[38;5;241m=\u001b[39m \u001b[38;5;28mself\u001b[39m\u001b[38;5;241m.\u001b[39m_parse_tables(\u001b[38;5;28mself\u001b[39m\u001b[38;5;241m.\u001b[39m_build_doc(), \u001b[38;5;28mself\u001b[39m\u001b[38;5;241m.\u001b[39mmatch, \u001b[38;5;28mself\u001b[39m\u001b[38;5;241m.\u001b[39mattrs)\n\u001b[0;32m    250\u001b[0m     \u001b[38;5;28;01mreturn\u001b[39;00m (\u001b[38;5;28mself\u001b[39m\u001b[38;5;241m.\u001b[39m_parse_thead_tbody_tfoot(table) \u001b[38;5;28;01mfor\u001b[39;00m table \u001b[38;5;129;01min\u001b[39;00m tables)\n",
      "File \u001b[1;32m~\\AppData\\Local\\anaconda3\\Lib\\site-packages\\pandas\\io\\html.py:598\u001b[0m, in \u001b[0;36m_BeautifulSoupHtml5LibFrameParser._parse_tables\u001b[1;34m(self, document, match, attrs)\u001b[0m\n\u001b[0;32m    596\u001b[0m tables \u001b[38;5;241m=\u001b[39m document\u001b[38;5;241m.\u001b[39mfind_all(element_name, attrs\u001b[38;5;241m=\u001b[39mattrs)\n\u001b[0;32m    597\u001b[0m \u001b[38;5;28;01mif\u001b[39;00m \u001b[38;5;129;01mnot\u001b[39;00m tables:\n\u001b[1;32m--> 598\u001b[0m     \u001b[38;5;28;01mraise\u001b[39;00m \u001b[38;5;167;01mValueError\u001b[39;00m(\u001b[38;5;124m\"\u001b[39m\u001b[38;5;124mNo tables found\u001b[39m\u001b[38;5;124m\"\u001b[39m)\n\u001b[0;32m    600\u001b[0m result \u001b[38;5;241m=\u001b[39m []\n\u001b[0;32m    601\u001b[0m unique_tables \u001b[38;5;241m=\u001b[39m \u001b[38;5;28mset\u001b[39m()\n",
      "\u001b[1;31mValueError\u001b[0m: No tables found"
     ]
    }
   ],
   "source": [
    "from yahoo_fin import options\n",
    "\n",
    "chain = options.get_options_chain(\"spy\")\n",
    "calls = chain[\"calls\"]"
   ]
  },
  {
   "cell_type": "code",
   "execution_count": 81,
   "metadata": {},
   "outputs": [
    {
     "name": "stdout",
     "output_type": "stream",
     "text": [
      "('2024-11-22', '2024-11-29', '2024-12-06', '2024-12-13', '2024-12-20', '2024-12-27', '2025-01-17', '2025-02-21', '2025-03-21', '2025-04-17', '2025-06-20', '2025-07-18', '2025-08-15', '2025-09-19', '2025-12-19', '2026-01-16', '2026-06-18', '2026-12-18', '2027-01-15')\n"
     ]
    }
   ],
   "source": [
    "import yfinance as yf\n",
    "\n",
    "ticker = \"AMZN\"\n",
    "yf_ticker = yf.Ticker(ticker)\n",
    "\n",
    "## List of maturities available\n",
    "print(yf_ticker.options)\n",
    "maturity_selected = yf_ticker.options[2]"
   ]
  },
  {
   "cell_type": "code",
   "execution_count": 82,
   "metadata": {},
   "outputs": [
    {
     "data": {
      "text/plain": [
       "Options(calls=         contractSymbol             lastTradeDate  strike  lastPrice  bid  \\\n",
       "0   AMZN241206C00100000 2024-11-15 20:04:47+00:00   100.0     101.42  0.0   \n",
       "1   AMZN241206C00105000 2024-11-08 18:41:16+00:00   105.0     104.69  0.0   \n",
       "2   AMZN241206C00110000 2024-11-08 19:50:56+00:00   110.0      99.41  0.0   \n",
       "3   AMZN241206C00115000 2024-11-11 17:11:22+00:00   115.0      91.83  0.0   \n",
       "4   AMZN241206C00120000 2024-11-15 14:39:24+00:00   120.0      85.87  0.0   \n",
       "5   AMZN241206C00125000 2024-11-13 19:07:37+00:00   125.0      89.30  0.0   \n",
       "6   AMZN241206C00130000 2024-11-12 17:33:50+00:00   130.0      78.77  0.0   \n",
       "7   AMZN241206C00135000 2024-11-14 14:30:00+00:00   135.0      79.68  0.0   \n",
       "8   AMZN241206C00140000 2024-11-15 14:34:44+00:00   140.0      66.09  0.0   \n",
       "9   AMZN241206C00145000 2024-11-15 19:10:08+00:00   145.0      56.70  0.0   \n",
       "10  AMZN241206C00150000 2024-11-15 16:21:01+00:00   150.0      54.64  0.0   \n",
       "11  AMZN241206C00155000 2024-11-12 15:40:04+00:00   155.0      51.99  0.0   \n",
       "12  AMZN241206C00160000 2024-11-15 18:15:41+00:00   160.0      41.97  0.0   \n",
       "13  AMZN241206C00165000 2024-11-15 17:11:10+00:00   165.0      38.63  0.0   \n",
       "14  AMZN241206C00170000 2024-11-15 18:01:07+00:00   170.0      33.40  0.0   \n",
       "15  AMZN241206C00175000 2024-11-15 17:10:40+00:00   175.0      28.95  0.0   \n",
       "16  AMZN241206C00180000 2024-11-15 20:32:21+00:00   180.0      23.70  0.0   \n",
       "17  AMZN241206C00185000 2024-11-15 20:35:26+00:00   185.0      18.97  0.0   \n",
       "18  AMZN241206C00190000 2024-11-15 20:20:36+00:00   190.0      14.30  0.0   \n",
       "19  AMZN241206C00195000 2024-11-15 20:59:13+00:00   195.0      10.36  0.0   \n",
       "20  AMZN241206C00200000 2024-11-15 20:59:55+00:00   200.0       7.10  0.0   \n",
       "21  AMZN241206C00205000 2024-11-15 20:59:56+00:00   205.0       4.35  0.0   \n",
       "22  AMZN241206C00210000 2024-11-15 20:59:19+00:00   210.0       2.60  0.0   \n",
       "23  AMZN241206C00215000 2024-11-15 20:59:56+00:00   215.0       1.40  0.0   \n",
       "24  AMZN241206C00220000 2024-11-15 20:59:50+00:00   220.0       0.77  0.0   \n",
       "25  AMZN241206C00225000 2024-11-15 20:59:06+00:00   225.0       0.45  0.0   \n",
       "26  AMZN241206C00230000 2024-11-15 20:49:50+00:00   230.0       0.23  0.0   \n",
       "27  AMZN241206C00235000 2024-11-15 20:02:00+00:00   235.0       0.15  0.0   \n",
       "28  AMZN241206C00240000 2024-11-15 20:54:16+00:00   240.0       0.12  0.0   \n",
       "29  AMZN241206C00245000 2024-11-15 17:43:43+00:00   245.0       0.06  0.0   \n",
       "30  AMZN241206C00250000 2024-11-15 20:51:39+00:00   250.0       0.06  0.0   \n",
       "31  AMZN241206C00255000 2024-11-15 20:56:51+00:00   255.0       0.05  0.0   \n",
       "32  AMZN241206C00260000 2024-11-15 19:42:17+00:00   260.0       0.03  0.0   \n",
       "33  AMZN241206C00265000 2024-11-15 16:22:39+00:00   265.0       0.01  0.0   \n",
       "34  AMZN241206C00270000 2024-11-15 19:34:45+00:00   270.0       0.01  0.0   \n",
       "35  AMZN241206C00275000 2024-11-13 19:19:58+00:00   275.0       0.03  0.0   \n",
       "36  AMZN241206C00280000 2024-11-13 14:30:08+00:00   280.0       0.02  NaN   \n",
       "37  AMZN241206C00285000 2024-11-15 16:09:53+00:00   285.0       0.01  NaN   \n",
       "\n",
       "    ask  change  percentChange   volume  openInterest  impliedVolatility  \\\n",
       "0   0.0     0.0            0.0      5.0           0.0           0.000010   \n",
       "1   0.0     0.0            0.0      1.0           0.0           0.000010   \n",
       "2   0.0     0.0            0.0      1.0           0.0           0.000010   \n",
       "3   0.0     0.0            0.0      5.0           0.0           0.000010   \n",
       "4   0.0     0.0            0.0      NaN           NaN           0.000010   \n",
       "5   0.0     0.0            0.0      NaN           0.0           0.000010   \n",
       "6   0.0     0.0            0.0      NaN           0.0           0.000010   \n",
       "7   0.0     0.0            0.0      NaN           0.0           0.000010   \n",
       "8   0.0     0.0            0.0     10.0           0.0           0.000010   \n",
       "9   0.0     0.0            0.0      NaN           0.0           0.000010   \n",
       "10  0.0     0.0            0.0     17.0           0.0           0.000010   \n",
       "11  0.0     0.0            0.0      6.0           0.0           0.000010   \n",
       "12  0.0     0.0            0.0      1.0           0.0           0.000010   \n",
       "13  0.0     0.0            0.0      3.0           0.0           0.000010   \n",
       "14  0.0     0.0            0.0      3.0           0.0           0.000010   \n",
       "15  0.0     0.0            0.0     10.0           0.0           0.000010   \n",
       "16  0.0     0.0            0.0      9.0           0.0           0.000010   \n",
       "17  0.0     0.0            0.0     22.0           0.0           0.000010   \n",
       "18  0.0     0.0            0.0     28.0           0.0           0.000010   \n",
       "19  0.0     0.0            0.0    329.0           0.0           0.000010   \n",
       "20  0.0     0.0            0.0   1692.0           0.0           0.000010   \n",
       "21  0.0     0.0            0.0   7090.0           0.0           0.015635   \n",
       "22  0.0     0.0            0.0  15211.0           0.0           0.031260   \n",
       "23  0.0     0.0            0.0   3252.0           0.0           0.062509   \n",
       "24  0.0     0.0            0.0   2764.0           0.0           0.062509   \n",
       "25  0.0     0.0            0.0   1543.0           0.0           0.125009   \n",
       "26  0.0     0.0            0.0    483.0           0.0           0.125009   \n",
       "27  0.0     0.0            0.0    159.0           0.0           0.125009   \n",
       "28  0.0     0.0            0.0    103.0           0.0           0.125009   \n",
       "29  0.0     0.0            0.0     19.0           0.0           0.125009   \n",
       "30  0.0     0.0            0.0    359.0           0.0           0.250007   \n",
       "31  0.0     0.0            0.0    606.0           0.0           0.250007   \n",
       "32  0.0     0.0            0.0    315.0           0.0           0.250007   \n",
       "33  0.0     0.0            0.0      2.0           0.0           0.250007   \n",
       "34  0.0     0.0            0.0      NaN           0.0           0.250007   \n",
       "35  0.0     0.0            0.0     10.0           0.0           0.250007   \n",
       "36  0.0     0.0            0.0      NaN           0.0           0.250007   \n",
       "37  0.0     0.0            0.0      NaN           NaN           0.250007   \n",
       "\n",
       "    inTheMoney contractSize currency  \n",
       "0         True      REGULAR      USD  \n",
       "1         True      REGULAR      USD  \n",
       "2         True      REGULAR      USD  \n",
       "3         True      REGULAR      USD  \n",
       "4         True      REGULAR      USD  \n",
       "5         True      REGULAR      USD  \n",
       "6         True      REGULAR      USD  \n",
       "7         True      REGULAR      USD  \n",
       "8         True      REGULAR      USD  \n",
       "9         True      REGULAR      USD  \n",
       "10        True      REGULAR      USD  \n",
       "11        True      REGULAR      USD  \n",
       "12        True      REGULAR      USD  \n",
       "13        True      REGULAR      USD  \n",
       "14        True      REGULAR      USD  \n",
       "15        True      REGULAR      USD  \n",
       "16        True      REGULAR      USD  \n",
       "17        True      REGULAR      USD  \n",
       "18        True      REGULAR      USD  \n",
       "19        True      REGULAR      USD  \n",
       "20        True      REGULAR      USD  \n",
       "21       False      REGULAR      USD  \n",
       "22       False      REGULAR      USD  \n",
       "23       False      REGULAR      USD  \n",
       "24       False      REGULAR      USD  \n",
       "25       False      REGULAR      USD  \n",
       "26       False      REGULAR      USD  \n",
       "27       False      REGULAR      USD  \n",
       "28       False      REGULAR      USD  \n",
       "29       False      REGULAR      USD  \n",
       "30       False      REGULAR      USD  \n",
       "31       False      REGULAR      USD  \n",
       "32       False      REGULAR      USD  \n",
       "33       False      REGULAR      USD  \n",
       "34       False      REGULAR      USD  \n",
       "35       False      REGULAR      USD  \n",
       "36       False      REGULAR      USD  \n",
       "37       False      REGULAR      USD  , puts=         contractSymbol             lastTradeDate  strike  lastPrice  bid  \\\n",
       "0   AMZN241206P00100000 2024-11-15 15:19:00+00:00   100.0       0.01  0.0   \n",
       "1   AMZN241206P00105000 2024-11-05 20:33:57+00:00   105.0       0.03  0.0   \n",
       "2   AMZN241206P00110000 2024-10-31 17:41:32+00:00   110.0       0.04  0.0   \n",
       "3   AMZN241206P00115000 2024-11-01 14:28:24+00:00   115.0       0.02  0.0   \n",
       "4   AMZN241206P00125000 2024-11-12 19:58:33+00:00   125.0       0.02  0.0   \n",
       "5   AMZN241206P00130000 2024-10-31 13:45:31+00:00   130.0       0.11  0.0   \n",
       "6   AMZN241206P00135000 2024-11-15 20:29:42+00:00   135.0       0.05  0.0   \n",
       "7   AMZN241206P00140000 2024-11-15 19:43:40+00:00   140.0       0.08  0.0   \n",
       "8   AMZN241206P00145000 2024-11-15 20:56:38+00:00   145.0       0.09  0.0   \n",
       "9   AMZN241206P00150000 2024-11-15 20:49:30+00:00   150.0       0.13  0.0   \n",
       "10  AMZN241206P00155000 2024-11-15 20:28:45+00:00   155.0       0.15  0.0   \n",
       "11  AMZN241206P00160000 2024-11-15 20:59:45+00:00   160.0       0.20  0.0   \n",
       "12  AMZN241206P00165000 2024-11-15 20:49:54+00:00   165.0       0.25  0.0   \n",
       "13  AMZN241206P00170000 2024-11-15 20:49:18+00:00   170.0       0.32  0.0   \n",
       "14  AMZN241206P00175000 2024-11-15 20:59:45+00:00   175.0       0.43  0.0   \n",
       "15  AMZN241206P00180000 2024-11-15 20:58:20+00:00   180.0       0.58  0.0   \n",
       "16  AMZN241206P00185000 2024-11-15 20:56:08+00:00   185.0       0.81  0.0   \n",
       "17  AMZN241206P00190000 2024-11-15 20:56:16+00:00   190.0       1.30  0.0   \n",
       "18  AMZN241206P00195000 2024-11-15 20:59:14+00:00   195.0       2.29  0.0   \n",
       "19  AMZN241206P00200000 2024-11-15 20:59:30+00:00   200.0       3.85  0.0   \n",
       "20  AMZN241206P00205000 2024-11-15 20:59:38+00:00   205.0       6.20  0.0   \n",
       "21  AMZN241206P00210000 2024-11-15 20:56:16+00:00   210.0       9.21  0.0   \n",
       "22  AMZN241206P00215000 2024-11-15 20:58:52+00:00   215.0      13.26  0.0   \n",
       "23  AMZN241206P00220000 2024-11-15 20:19:42+00:00   220.0      18.22  0.0   \n",
       "24  AMZN241206P00225000 2024-11-15 20:19:42+00:00   225.0      22.98  0.0   \n",
       "25  AMZN241206P00230000 2024-11-15 14:33:44+00:00   230.0      23.95  0.0   \n",
       "26  AMZN241206P00235000 2024-11-15 17:19:15+00:00   235.0      31.60  0.0   \n",
       "27  AMZN241206P00240000 2024-11-07 15:52:49+00:00   240.0      29.12  0.0   \n",
       "28  AMZN241206P00245000 2024-11-15 15:21:38+00:00   245.0      39.95  0.0   \n",
       "29  AMZN241206P00250000 2024-11-15 18:46:06+00:00   250.0      49.55  0.0   \n",
       "30  AMZN241206P00255000 2024-11-04 20:50:00+00:00   255.0      59.45  0.0   \n",
       "31  AMZN241206P00265000 2024-11-08 20:50:01+00:00   265.0      56.75  0.0   \n",
       "32  AMZN241206P00270000 2024-11-15 14:42:02+00:00   270.0      64.85  0.0   \n",
       "\n",
       "    ask  change  percentChange  volume  openInterest  impliedVolatility  \\\n",
       "0   0.0     0.0            0.0    10.0           0.0           0.500005   \n",
       "1   0.0     0.0            0.0     1.0           0.0           0.500005   \n",
       "2   0.0     0.0            0.0     NaN           0.0           0.500005   \n",
       "3   0.0     0.0            0.0     2.0           0.0           0.500005   \n",
       "4   0.0     0.0            0.0   100.0           0.0           0.500005   \n",
       "5   0.0     0.0            0.0     NaN           0.0           0.500005   \n",
       "6   0.0     0.0            0.0     5.0           0.0           0.500005   \n",
       "7   0.0     0.0            0.0     6.0           0.0           0.250007   \n",
       "8   0.0     0.0            0.0     6.0           0.0           0.250007   \n",
       "9   0.0     0.0            0.0    40.0           0.0           0.250007   \n",
       "10  0.0     0.0            0.0   144.0           0.0           0.250007   \n",
       "11  0.0     0.0            0.0   208.0           0.0           0.250007   \n",
       "12  0.0     0.0            0.0    62.0           0.0           0.250007   \n",
       "13  0.0     0.0            0.0    71.0           0.0           0.125009   \n",
       "14  0.0     0.0            0.0   133.0           0.0           0.125009   \n",
       "15  0.0     0.0            0.0   219.0           0.0           0.125009   \n",
       "16  0.0     0.0            0.0   265.0           0.0           0.062509   \n",
       "17  0.0     0.0            0.0   784.0           0.0           0.062509   \n",
       "18  0.0     0.0            0.0   875.0           0.0           0.031260   \n",
       "19  0.0     0.0            0.0   830.0           0.0           0.015635   \n",
       "20  0.0     0.0            0.0   643.0           0.0           0.000010   \n",
       "21  0.0     0.0            0.0   350.0           0.0           0.000010   \n",
       "22  0.0     0.0            0.0   400.0           0.0           0.000010   \n",
       "23  0.0     0.0            0.0     7.0           0.0           0.000010   \n",
       "24  0.0     0.0            0.0    67.0           0.0           0.000010   \n",
       "25  0.0     0.0            0.0     NaN           0.0           0.000010   \n",
       "26  0.0     0.0            0.0     1.0           0.0           0.000010   \n",
       "27  0.0     0.0            0.0     NaN           0.0           0.000010   \n",
       "28  0.0     0.0            0.0     1.0           0.0           0.000010   \n",
       "29  0.0     0.0            0.0     1.0           0.0           0.000010   \n",
       "30  0.0     0.0            0.0     NaN           0.0           0.000010   \n",
       "31  0.0     0.0            0.0     1.0           0.0           0.000010   \n",
       "32  0.0     0.0            0.0     NaN           NaN           0.000010   \n",
       "\n",
       "    inTheMoney contractSize currency  \n",
       "0        False      REGULAR      USD  \n",
       "1        False      REGULAR      USD  \n",
       "2        False      REGULAR      USD  \n",
       "3        False      REGULAR      USD  \n",
       "4        False      REGULAR      USD  \n",
       "5        False      REGULAR      USD  \n",
       "6        False      REGULAR      USD  \n",
       "7        False      REGULAR      USD  \n",
       "8        False      REGULAR      USD  \n",
       "9        False      REGULAR      USD  \n",
       "10       False      REGULAR      USD  \n",
       "11       False      REGULAR      USD  \n",
       "12       False      REGULAR      USD  \n",
       "13       False      REGULAR      USD  \n",
       "14       False      REGULAR      USD  \n",
       "15       False      REGULAR      USD  \n",
       "16       False      REGULAR      USD  \n",
       "17       False      REGULAR      USD  \n",
       "18       False      REGULAR      USD  \n",
       "19       False      REGULAR      USD  \n",
       "20        True      REGULAR      USD  \n",
       "21        True      REGULAR      USD  \n",
       "22        True      REGULAR      USD  \n",
       "23        True      REGULAR      USD  \n",
       "24        True      REGULAR      USD  \n",
       "25        True      REGULAR      USD  \n",
       "26        True      REGULAR      USD  \n",
       "27        True      REGULAR      USD  \n",
       "28        True      REGULAR      USD  \n",
       "29        True      REGULAR      USD  \n",
       "30        True      REGULAR      USD  \n",
       "31        True      REGULAR      USD  \n",
       "32        True      REGULAR      USD  , underlying={'language': 'en-US', 'region': 'US', 'quoteType': 'EQUITY', 'typeDisp': 'Equity', 'quoteSourceName': 'Nasdaq Real Time Price', 'triggerable': True, 'customPriceAlertConfidence': 'HIGH', 'currency': 'USD', 'marketState': 'PRE', 'exchange': 'NMS', 'shortName': 'Amazon.com, Inc.', 'longName': 'Amazon.com, Inc.', 'messageBoardId': 'finmb_18749', 'exchangeTimezoneName': 'America/New_York', 'exchangeTimezoneShortName': 'EST', 'gmtOffSetMilliseconds': -18000000, 'market': 'us_market', 'esgPopulated': False, 'priceHint': 2, 'preMarketChange': 0.81999207, 'preMarketChangePercent': 0.4047145, 'preMarketTime': 1731922940, 'preMarketPrice': 203.43, 'regularMarketChangePercent': -4.1942477, 'regularMarketPrice': 202.61, 'askSize': 2, 'fullExchangeName': 'NasdaqGS', 'financialCurrency': 'USD', 'regularMarketOpen': 206.75, 'averageDailyVolume3Month': 37247209, 'averageDailyVolume10Day': 47995390, 'fiftyTwoWeekLowChange': 61.11, 'fiftyTwoWeekLowChangePercent': 0.43187279, 'fiftyTwoWeekRange': '141.5 - 215.9', 'fiftyTwoWeekHighChange': -13.289993, 'fiftyTwoWeekHighChangePercent': -0.061556246, 'fiftyTwoWeekLow': 141.5, 'fiftyTwoWeekHigh': 215.9, 'fiftyTwoWeekChangePercent': 38.650513, 'earningsTimestamp': 1730404860, 'earningsTimestampStart': 1738234740, 'hasPrePostMarketData': True, 'firstTradeDateMilliseconds': 863703000000, 'regularMarketChange': -8.869995, 'regularMarketTime': 1731704401, 'regularMarketDayHigh': 207.3, 'regularMarketDayRange': '199.62 - 207.3', 'regularMarketDayLow': 199.62, 'regularMarketVolume': 86591144, 'regularMarketPreviousClose': 211.48, 'bid': 202.38, 'ask': 202.75, 'bidSize': 1, 'earningsTimestampEnd': 1738584000, 'earningsCallTimestampStart': 1730408400, 'earningsCallTimestampEnd': 1730408400, 'isEarningsDateEstimate': True, 'trailingAnnualDividendRate': 0.0, 'trailingPE': 43.292736, 'trailingAnnualDividendYield': 0.0, 'epsTrailingTwelveMonths': 4.68, 'epsForward': 6.15, 'epsCurrentYear': 5.10845, 'priceEpsCurrentYear': 39.66174, 'sharesOutstanding': 10515000320, 'bookValue': 24.655, 'fiftyDayAverage': 191.1626, 'fiftyDayAverageChange': 11.447403, 'fiftyDayAverageChangePercent': 0.05988307, 'twoHundredDayAverage': 183.0374, 'twoHundredDayAverageChange': 19.572601, 'twoHundredDayAverageChangePercent': 0.10693225, 'marketCap': 2130444156928, 'forwardPE': 32.944714, 'priceToBook': 8.217806, 'sourceInterval': 15, 'exchangeDataDelayedBy': 0, 'averageAnalystRating': '1.4 - Strong Buy', 'tradeable': False, 'cryptoTradeable': False, 'displayName': 'Amazon.com', 'symbol': 'AMZN'})"
      ]
     },
     "execution_count": 82,
     "metadata": {},
     "output_type": "execute_result"
    }
   ],
   "source": [
    "# get option chain for specific expiration\n",
    "ticker_options = yf_ticker.option_chain(maturity_selected)\n",
    "ticker_options"
   ]
  },
  {
   "cell_type": "code",
   "execution_count": 85,
   "metadata": {},
   "outputs": [
    {
     "data": {
      "text/html": [
       "<div>\n",
       "<style scoped>\n",
       "    .dataframe tbody tr th:only-of-type {\n",
       "        vertical-align: middle;\n",
       "    }\n",
       "\n",
       "    .dataframe tbody tr th {\n",
       "        vertical-align: top;\n",
       "    }\n",
       "\n",
       "    .dataframe thead th {\n",
       "        text-align: right;\n",
       "    }\n",
       "</style>\n",
       "<table border=\"1\" class=\"dataframe\">\n",
       "  <thead>\n",
       "    <tr style=\"text-align: right;\">\n",
       "      <th></th>\n",
       "      <th>contractSymbol</th>\n",
       "      <th>lastTradeDate</th>\n",
       "      <th>strike</th>\n",
       "      <th>lastPrice</th>\n",
       "      <th>bid</th>\n",
       "      <th>ask</th>\n",
       "      <th>change</th>\n",
       "      <th>percentChange</th>\n",
       "      <th>volume</th>\n",
       "      <th>openInterest</th>\n",
       "      <th>impliedVolatility</th>\n",
       "      <th>inTheMoney</th>\n",
       "      <th>contractSize</th>\n",
       "      <th>currency</th>\n",
       "    </tr>\n",
       "  </thead>\n",
       "  <tbody>\n",
       "    <tr>\n",
       "      <th>0</th>\n",
       "      <td>AMZN241206C00100000</td>\n",
       "      <td>2024-11-15 20:04:47+00:00</td>\n",
       "      <td>100.0</td>\n",
       "      <td>101.42</td>\n",
       "      <td>0.0</td>\n",
       "      <td>0.0</td>\n",
       "      <td>0.0</td>\n",
       "      <td>0.0</td>\n",
       "      <td>5.0</td>\n",
       "      <td>0.0</td>\n",
       "      <td>0.00001</td>\n",
       "      <td>True</td>\n",
       "      <td>REGULAR</td>\n",
       "      <td>USD</td>\n",
       "    </tr>\n",
       "    <tr>\n",
       "      <th>1</th>\n",
       "      <td>AMZN241206C00105000</td>\n",
       "      <td>2024-11-08 18:41:16+00:00</td>\n",
       "      <td>105.0</td>\n",
       "      <td>104.69</td>\n",
       "      <td>0.0</td>\n",
       "      <td>0.0</td>\n",
       "      <td>0.0</td>\n",
       "      <td>0.0</td>\n",
       "      <td>1.0</td>\n",
       "      <td>0.0</td>\n",
       "      <td>0.00001</td>\n",
       "      <td>True</td>\n",
       "      <td>REGULAR</td>\n",
       "      <td>USD</td>\n",
       "    </tr>\n",
       "    <tr>\n",
       "      <th>2</th>\n",
       "      <td>AMZN241206C00110000</td>\n",
       "      <td>2024-11-08 19:50:56+00:00</td>\n",
       "      <td>110.0</td>\n",
       "      <td>99.41</td>\n",
       "      <td>0.0</td>\n",
       "      <td>0.0</td>\n",
       "      <td>0.0</td>\n",
       "      <td>0.0</td>\n",
       "      <td>1.0</td>\n",
       "      <td>0.0</td>\n",
       "      <td>0.00001</td>\n",
       "      <td>True</td>\n",
       "      <td>REGULAR</td>\n",
       "      <td>USD</td>\n",
       "    </tr>\n",
       "    <tr>\n",
       "      <th>3</th>\n",
       "      <td>AMZN241206C00115000</td>\n",
       "      <td>2024-11-11 17:11:22+00:00</td>\n",
       "      <td>115.0</td>\n",
       "      <td>91.83</td>\n",
       "      <td>0.0</td>\n",
       "      <td>0.0</td>\n",
       "      <td>0.0</td>\n",
       "      <td>0.0</td>\n",
       "      <td>5.0</td>\n",
       "      <td>0.0</td>\n",
       "      <td>0.00001</td>\n",
       "      <td>True</td>\n",
       "      <td>REGULAR</td>\n",
       "      <td>USD</td>\n",
       "    </tr>\n",
       "    <tr>\n",
       "      <th>4</th>\n",
       "      <td>AMZN241206C00120000</td>\n",
       "      <td>2024-11-15 14:39:24+00:00</td>\n",
       "      <td>120.0</td>\n",
       "      <td>85.87</td>\n",
       "      <td>0.0</td>\n",
       "      <td>0.0</td>\n",
       "      <td>0.0</td>\n",
       "      <td>0.0</td>\n",
       "      <td>NaN</td>\n",
       "      <td>NaN</td>\n",
       "      <td>0.00001</td>\n",
       "      <td>True</td>\n",
       "      <td>REGULAR</td>\n",
       "      <td>USD</td>\n",
       "    </tr>\n",
       "  </tbody>\n",
       "</table>\n",
       "</div>"
      ],
      "text/plain": [
       "        contractSymbol             lastTradeDate  strike  lastPrice  bid  ask  \\\n",
       "0  AMZN241206C00100000 2024-11-15 20:04:47+00:00   100.0     101.42  0.0  0.0   \n",
       "1  AMZN241206C00105000 2024-11-08 18:41:16+00:00   105.0     104.69  0.0  0.0   \n",
       "2  AMZN241206C00110000 2024-11-08 19:50:56+00:00   110.0      99.41  0.0  0.0   \n",
       "3  AMZN241206C00115000 2024-11-11 17:11:22+00:00   115.0      91.83  0.0  0.0   \n",
       "4  AMZN241206C00120000 2024-11-15 14:39:24+00:00   120.0      85.87  0.0  0.0   \n",
       "\n",
       "   change  percentChange  volume  openInterest  impliedVolatility  inTheMoney  \\\n",
       "0     0.0            0.0     5.0           0.0            0.00001        True   \n",
       "1     0.0            0.0     1.0           0.0            0.00001        True   \n",
       "2     0.0            0.0     1.0           0.0            0.00001        True   \n",
       "3     0.0            0.0     5.0           0.0            0.00001        True   \n",
       "4     0.0            0.0     NaN           NaN            0.00001        True   \n",
       "\n",
       "  contractSize currency  \n",
       "0      REGULAR      USD  \n",
       "1      REGULAR      USD  \n",
       "2      REGULAR      USD  \n",
       "3      REGULAR      USD  \n",
       "4      REGULAR      USD  "
      ]
     },
     "execution_count": 85,
     "metadata": {},
     "output_type": "execute_result"
    }
   ],
   "source": [
    "calls = ticker_options.calls\n",
    "calls.head()"
   ]
  },
  {
   "cell_type": "code",
   "execution_count": 86,
   "metadata": {},
   "outputs": [
    {
     "name": "stdout",
     "output_type": "stream",
     "text": [
      "<class 'pandas.core.frame.DataFrame'>\n",
      "RangeIndex: 38 entries, 0 to 37\n",
      "Data columns (total 14 columns):\n",
      " #   Column             Non-Null Count  Dtype              \n",
      "---  ------             --------------  -----              \n",
      " 0   contractSymbol     38 non-null     object             \n",
      " 1   lastTradeDate      38 non-null     datetime64[ns, UTC]\n",
      " 2   strike             38 non-null     float64            \n",
      " 3   lastPrice          38 non-null     float64            \n",
      " 4   bid                36 non-null     float64            \n",
      " 5   ask                38 non-null     float64            \n",
      " 6   change             38 non-null     float64            \n",
      " 7   percentChange      38 non-null     float64            \n",
      " 8   volume             30 non-null     float64            \n",
      " 9   openInterest       36 non-null     float64            \n",
      " 10  impliedVolatility  38 non-null     float64            \n",
      " 11  inTheMoney         38 non-null     bool               \n",
      " 12  contractSize       38 non-null     object             \n",
      " 13  currency           38 non-null     object             \n",
      "dtypes: bool(1), datetime64[ns, UTC](1), float64(9), object(3)\n",
      "memory usage: 4.0+ KB\n"
     ]
    }
   ],
   "source": [
    "calls.info()"
   ]
  },
  {
   "cell_type": "code",
   "execution_count": 88,
   "metadata": {},
   "outputs": [
    {
     "name": "stdout",
     "output_type": "stream",
     "text": [
      "['contractSymbol', 'lastTradeDate', 'strike', 'lastPrice', 'bid', 'ask', 'change', 'percentChange', 'volume', 'openInterest', 'impliedVolatility', 'inTheMoney', 'contractSize', 'currency']\n"
     ]
    }
   ],
   "source": [
    "select_index = 3\n",
    "\n",
    "keys = list(calls.keys()) ## Same as keys = calls.columns.values\n",
    "print(keys)"
   ]
  },
  {
   "cell_type": "code",
   "execution_count": 98,
   "metadata": {},
   "outputs": [
    {
     "name": "stdout",
     "output_type": "stream",
     "text": [
      "contractSymbol             AMZN241206C00115000\n",
      "lastTradeDate        2024-11-11 17:11:22+00:00\n",
      "strike                                   115.0\n",
      "lastPrice                                91.83\n",
      "bid                                        0.0\n",
      "ask                                        0.0\n",
      "change                                     0.0\n",
      "percentChange                              0.0\n",
      "volume                                     5.0\n",
      "openInterest                               0.0\n",
      "impliedVolatility                      0.00001\n",
      "inTheMoney                                True\n",
      "contractSize                           REGULAR\n",
      "currency                                   USD\n",
      "Name: 3, dtype: object\n"
     ]
    }
   ],
   "source": [
    "values = calls.iloc[select_index,:]  ## same as [calls[k][select_index] for k in keys]\n",
    "print(values)\n",
    "dictio = {k : v for (k,v) in zip(keys, values)}"
   ]
  },
  {
   "cell_type": "code",
   "execution_count": 99,
   "metadata": {},
   "outputs": [
    {
     "data": {
      "text/plain": [
       "dict_keys(['contractSymbol', 'lastTradeDate', 'strike', 'lastPrice', 'bid', 'ask', 'change', 'percentChange', 'volume', 'openInterest', 'impliedVolatility', 'inTheMoney', 'contractSize', 'currency'])"
      ]
     },
     "execution_count": 99,
     "metadata": {},
     "output_type": "execute_result"
    }
   ],
   "source": [
    "dictio.keys()"
   ]
  },
  {
   "cell_type": "code",
   "execution_count": 100,
   "metadata": {},
   "outputs": [
    {
     "name": "stdout",
     "output_type": "stream",
     "text": [
      "contractSymbol :  AMZN241206C00115000\n",
      "lastTradeDate :  2024-11-11 17:11:22+00:00\n",
      "strike :  115.0\n",
      "lastPrice :  91.83\n",
      "bid :  0.0\n",
      "ask :  0.0\n",
      "change :  0.0\n",
      "percentChange :  0.0\n",
      "volume :  5.0\n",
      "openInterest :  0.0\n",
      "impliedVolatility :  1.0000000000000003e-05\n",
      "inTheMoney :  True\n",
      "contractSize :  REGULAR\n",
      "currency :  USD\n"
     ]
    }
   ],
   "source": [
    "for k in dictio.keys():\n",
    "    print(k, \": \", dictio[k])"
   ]
  },
  {
   "cell_type": "code",
   "execution_count": 101,
   "metadata": {},
   "outputs": [],
   "source": [
    "## The iterator loops over the keys of the dictionary\n",
    "it = iter(dictio)"
   ]
  },
  {
   "cell_type": "code",
   "execution_count": 102,
   "metadata": {},
   "outputs": [
    {
     "name": "stdout",
     "output_type": "stream",
     "text": [
      "contractSymbol\n"
     ]
    }
   ],
   "source": [
    "print(next(it))"
   ]
  },
  {
   "cell_type": "code",
   "execution_count": 103,
   "metadata": {},
   "outputs": [
    {
     "name": "stdout",
     "output_type": "stream",
     "text": [
      "lastTradeDate\n"
     ]
    }
   ],
   "source": [
    "print(next(it))"
   ]
  },
  {
   "cell_type": "markdown",
   "metadata": {},
   "source": [
    "### Generators"
   ]
  },
  {
   "cell_type": "markdown",
   "metadata": {},
   "source": [
    "Generators are similar to functions, but do not destroy the local environment within a `python` function once the function has been evaluated."
   ]
  },
  {
   "cell_type": "code",
   "execution_count": 106,
   "metadata": {},
   "outputs": [
    {
     "name": "stdout",
     "output_type": "stream",
     "text": [
      "gen is of type  <class 'dict_keyiterator'>\n"
     ]
    }
   ],
   "source": [
    "def generate_ints(N):\n",
    "    for i in range(N):\n",
    "        yield i\n",
    "        \n",
    "## NOTE: there is no `return' command for generators\n",
    "\n",
    "gen = generate_ints(3)\n",
    "print(\"gen is of type \", type(it))"
   ]
  },
  {
   "cell_type": "code",
   "execution_count": 107,
   "metadata": {},
   "outputs": [
    {
     "data": {
      "text/plain": [
       "0"
      ]
     },
     "execution_count": 107,
     "metadata": {},
     "output_type": "execute_result"
    }
   ],
   "source": [
    "next(gen)"
   ]
  },
  {
   "cell_type": "code",
   "execution_count": 108,
   "metadata": {},
   "outputs": [
    {
     "data": {
      "text/plain": [
       "1"
      ]
     },
     "execution_count": 108,
     "metadata": {},
     "output_type": "execute_result"
    }
   ],
   "source": [
    "next(gen)"
   ]
  },
  {
   "cell_type": "code",
   "execution_count": 110,
   "metadata": {},
   "outputs": [
    {
     "ename": "StopIteration",
     "evalue": "",
     "output_type": "error",
     "traceback": [
      "\u001b[1;31m---------------------------------------------------------------------------\u001b[0m",
      "\u001b[1;31mStopIteration\u001b[0m                             Traceback (most recent call last)",
      "Cell \u001b[1;32mIn[110], line 1\u001b[0m\n\u001b[1;32m----> 1\u001b[0m \u001b[38;5;28mnext\u001b[39m(gen)\n",
      "\u001b[1;31mStopIteration\u001b[0m: "
     ]
    }
   ],
   "source": [
    "next(gen)"
   ]
  },
  {
   "cell_type": "markdown",
   "metadata": {},
   "source": [
    "You can also modify the value of an internal counter within a generator, using the send() method."
   ]
  },
  {
   "cell_type": "code",
   "execution_count": 111,
   "metadata": {},
   "outputs": [],
   "source": [
    "def counter(maximum):\n",
    "    i = 0\n",
    "    while i < maximum:\n",
    "        val = yield i\n",
    "        # If a value is provided, we change the counter\n",
    "        if val is not None:\n",
    "            i = val\n",
    "        else:\n",
    "            i += 1"
   ]
  },
  {
   "cell_type": "code",
   "execution_count": 113,
   "metadata": {},
   "outputs": [
    {
     "data": {
      "text/plain": [
       "0"
      ]
     },
     "execution_count": 113,
     "metadata": {},
     "output_type": "execute_result"
    }
   ],
   "source": [
    "it = counter(10)\n",
    "next(it)"
   ]
  },
  {
   "cell_type": "code",
   "execution_count": 114,
   "metadata": {},
   "outputs": [
    {
     "data": {
      "text/plain": [
       "1"
      ]
     },
     "execution_count": 114,
     "metadata": {},
     "output_type": "execute_result"
    }
   ],
   "source": [
    "next(it)"
   ]
  },
  {
   "cell_type": "code",
   "execution_count": 115,
   "metadata": {},
   "outputs": [
    {
     "data": {
      "text/plain": [
       "2"
      ]
     },
     "execution_count": 115,
     "metadata": {},
     "output_type": "execute_result"
    }
   ],
   "source": [
    "next(it)"
   ]
  },
  {
   "cell_type": "code",
   "execution_count": 116,
   "metadata": {},
   "outputs": [
    {
     "data": {
      "text/plain": [
       "8"
      ]
     },
     "execution_count": 116,
     "metadata": {},
     "output_type": "execute_result"
    }
   ],
   "source": [
    "it.send(7)\n",
    "next(it)"
   ]
  },
  {
   "cell_type": "code",
   "execution_count": 117,
   "metadata": {},
   "outputs": [
    {
     "data": {
      "text/plain": [
       "9"
      ]
     },
     "execution_count": 117,
     "metadata": {},
     "output_type": "execute_result"
    }
   ],
   "source": [
    "next(it)"
   ]
  },
  {
   "cell_type": "markdown",
   "metadata": {},
   "source": [
    "The other useful methods on generators are\n",
    "- throw() to raise an exception\n",
    "- close() to terminate the iteration within the generator"
   ]
  },
  {
   "cell_type": "markdown",
   "metadata": {},
   "source": [
    "### When to use iterators / generators?"
   ]
  },
  {
   "cell_type": "markdown",
   "metadata": {},
   "source": [
    "#### Example 1: reading through a large file"
   ]
  },
  {
   "cell_type": "code",
   "execution_count": 118,
   "metadata": {},
   "outputs": [],
   "source": [
    "import csv"
   ]
  },
  {
   "cell_type": "code",
   "execution_count": 135,
   "metadata": {},
   "outputs": [],
   "source": [
    "def read_file():\n",
    "    with open('Book1.csv', 'r') as myfile:\n",
    "        r = csv.reader(myfile)\n",
    "        return [row for row in r]\n",
    "\n",
    "output_rows = read_file() "
   ]
  },
  {
   "cell_type": "code",
   "execution_count": 139,
   "metadata": {},
   "outputs": [],
   "source": [
    "def read_file_gen():\n",
    "    with open('Book1.csv', 'r') as myfile:\n",
    "        r = csv.reader(myfile)\n",
    "        for row in r:\n",
    "            yield row\n",
    "\n",
    "output_rows_gen = read_file_gen()\n",
    "#output_rows_gen_r = [row for row in read_file_gen()]"
   ]
  },
  {
   "cell_type": "code",
   "execution_count": 132,
   "metadata": {},
   "outputs": [
    {
     "data": {
      "text/plain": [
       "['Jack', '3', '-0.53927136']"
      ]
     },
     "execution_count": 132,
     "metadata": {},
     "output_type": "execute_result"
    }
   ],
   "source": [
    "next(output_rows_gen)"
   ]
  },
  {
   "cell_type": "code",
   "execution_count": 144,
   "metadata": {},
   "outputs": [
    {
     "name": "stdout",
     "output_type": "stream",
     "text": [
      "Memory of the generator:  240\n",
      "Memory of the generator:  7509944\n"
     ]
    }
   ],
   "source": [
    "import sys\n",
    "\n",
    "print(\"Memory of the generator: \", sys.getsizeof(output_rows_gen))\n",
    "\n",
    "print(\"Memory of the generator: \", sys.getsizeof(output_rows))"
   ]
  },
  {
   "cell_type": "markdown",
   "metadata": {},
   "source": [
    "#### Example 2: Computing over large arrays"
   ]
  },
  {
   "cell_type": "code",
   "execution_count": 157,
   "metadata": {},
   "outputs": [],
   "source": [
    "N = 10000"
   ]
  },
  {
   "cell_type": "code",
   "execution_count": 158,
   "metadata": {},
   "outputs": [
    {
     "name": "stdout",
     "output_type": "stream",
     "text": [
      "<class 'list'>\n",
      "446 µs ± 69.2 µs per loop (mean ± std. dev. of 7 runs, 1,000 loops each)\n"
     ]
    },
    {
     "data": {
      "text/plain": [
       "333283335000"
      ]
     },
     "execution_count": 158,
     "metadata": {},
     "output_type": "execute_result"
    }
   ],
   "source": [
    "list_integers = [i * i for i in range(N)]\n",
    "print(type(list_integers))\n",
    "\n",
    "%timeit sum(list_integers)\n",
    "\n",
    "sum(list_integers)"
   ]
  },
  {
   "cell_type": "code",
   "execution_count": 159,
   "metadata": {},
   "outputs": [],
   "source": [
    "def list_gen_func(N):\n",
    "    for i in range(N):\n",
    "        yield i*i"
   ]
  },
  {
   "cell_type": "code",
   "execution_count": 160,
   "metadata": {},
   "outputs": [
    {
     "name": "stdout",
     "output_type": "stream",
     "text": [
      "<class 'generator'>\n",
      "110 ns ± 4.47 ns per loop (mean ± std. dev. of 7 runs, 10,000,000 loops each)\n"
     ]
    }
   ],
   "source": [
    "list_integers_gen_func = list_gen_func(N)\n",
    "\n",
    "print(type(list_integers_gen_func))\n",
    "%timeit sum(list_integers_gen_func)\n",
    "#sum(list_integers_gen_func)"
   ]
  },
  {
   "cell_type": "code",
   "execution_count": 166,
   "metadata": {},
   "outputs": [
    {
     "name": "stdout",
     "output_type": "stream",
     "text": [
      "<class 'generator'>\n",
      "109 ns ± 6.46 ns per loop (mean ± std. dev. of 7 runs, 10,000,000 loops each)\n"
     ]
    }
   ],
   "source": [
    "list_integers_gen = (i * i for i in range(N))\n",
    "list_integers_gen_list = list(list_integers_gen)\n",
    "print(type(list_integers_gen))\n",
    "\n",
    "%timeit sum(list_integers_gen)\n",
    "#sum(list_integers_gen)"
   ]
  },
  {
   "cell_type": "code",
   "execution_count": 167,
   "metadata": {},
   "outputs": [
    {
     "name": "stdout",
     "output_type": "stream",
     "text": [
      "85176\n",
      "208\n",
      "85176\n"
     ]
    }
   ],
   "source": [
    "print(sys.getsizeof(list_integers))\n",
    "print(sys.getsizeof(list_integers_gen))\n",
    "print(sys.getsizeof(list_integers_gen_list))\n",
    "#print(sys.getsizeof(list_integers_gen_func))"
   ]
  },
  {
   "cell_type": "markdown",
   "metadata": {},
   "source": [
    "### Built-in functions for iterators"
   ]
  },
  {
   "cell_type": "code",
   "execution_count": 168,
   "metadata": {},
   "outputs": [
    {
     "data": {
      "text/plain": [
       "map"
      ]
     },
     "execution_count": 168,
     "metadata": {},
     "output_type": "execute_result"
    }
   ],
   "source": [
    "## the map() function returns an iterator over a sequence\n",
    "def upper(word):\n",
    "    return word.upper()\n",
    "\n",
    "listNames = ['foreign exchange', 'equities', 'rates', 'commodities']\n",
    "map_uppercase = map(upper, listNames)\n",
    "type(map_uppercase)"
   ]
  },
  {
   "cell_type": "code",
   "execution_count": 169,
   "metadata": {},
   "outputs": [
    {
     "data": {
      "text/plain": [
       "'FOREIGN EXCHANGE'"
      ]
     },
     "execution_count": 169,
     "metadata": {},
     "output_type": "execute_result"
    }
   ],
   "source": [
    "next(map_uppercase)"
   ]
  },
  {
   "cell_type": "markdown",
   "metadata": {},
   "source": [
    "#### `enumerate()`"
   ]
  },
  {
   "cell_type": "code",
   "execution_count": 170,
   "metadata": {},
   "outputs": [
    {
     "name": "stdout",
     "output_type": "stream",
     "text": [
      "0 foreign exchange\n",
      "1 equities\n",
      "2 rates\n",
      "3 commodities\n"
     ]
    }
   ],
   "source": [
    "for i in range(len(listNames)):\n",
    "    print(i, listNames[i])"
   ]
  },
  {
   "cell_type": "code",
   "execution_count": 171,
   "metadata": {},
   "outputs": [
    {
     "name": "stdout",
     "output_type": "stream",
     "text": [
      "foreign exchange\n",
      "equities\n",
      "rates\n",
      "commodities\n"
     ]
    }
   ],
   "source": [
    "for name in listNames:\n",
    "    print(name)"
   ]
  },
  {
   "cell_type": "code",
   "execution_count": 176,
   "metadata": {},
   "outputs": [
    {
     "name": "stdout",
     "output_type": "stream",
     "text": [
      "(0, 'foreign exchange')\n",
      "(1, 'equities')\n",
      "(2, 'rates')\n",
      "(3, 'commodities')\n"
     ]
    }
   ],
   "source": [
    "## enumerate() returns 2-tuples containing counts and elements:\n",
    "for x in enumerate(listNames):\n",
    "    print(x)"
   ]
  },
  {
   "cell_type": "markdown",
   "metadata": {},
   "source": [
    "#### `sorted()` and `sort()`"
   ]
  },
  {
   "cell_type": "code",
   "execution_count": 183,
   "metadata": {},
   "outputs": [],
   "source": [
    "import yfinance as yf\n",
    "## https://www.slickcharts.com/sp500\n",
    "listTickers = ['GOOGL', 'AAPL', 'MSFT', 'AMZN', 'UNH', 'TSLA', 'JNJ', 'XOM', 'JPM', 'NVDA'] \n",
    "unsortedList = []\n",
    "for ticker in listTickers:\n",
    "    ticker_info = yf.Ticker(ticker).info\n",
    "    market_price = ticker_info['regularMarketOpen']\n",
    "    unsortedList.append((ticker, market_price))"
   ]
  },
  {
   "cell_type": "code",
   "execution_count": 185,
   "metadata": {},
   "outputs": [
    {
     "data": {
      "text/plain": [
       "[('GOOGL', 173.89),\n",
       " ('AAPL', 225.92),\n",
       " ('MSFT', 420.25),\n",
       " ('AMZN', 206.75),\n",
       " ('UNH', 591.92),\n",
       " ('TSLA', 310.855),\n",
       " ('JNJ', 150.9),\n",
       " ('XOM', 120.4),\n",
       " ('JPM', 241.46),\n",
       " ('NVDA', 144.87)]"
      ]
     },
     "execution_count": 185,
     "metadata": {},
     "output_type": "execute_result"
    }
   ],
   "source": [
    "unsortedList"
   ]
  },
  {
   "cell_type": "code",
   "execution_count": 186,
   "metadata": {},
   "outputs": [],
   "source": [
    "unsortedList_copy = unsortedList"
   ]
  },
  {
   "cell_type": "code",
   "execution_count": 187,
   "metadata": {},
   "outputs": [
    {
     "data": {
      "text/plain": [
       "[('GOOGL', 173.89),\n",
       " ('AAPL', 225.92),\n",
       " ('MSFT', 420.25),\n",
       " ('AMZN', 206.75),\n",
       " ('UNH', 591.92),\n",
       " ('TSLA', 310.855),\n",
       " ('JNJ', 150.9),\n",
       " ('XOM', 120.4),\n",
       " ('JPM', 241.46),\n",
       " ('NVDA', 144.87)]"
      ]
     },
     "execution_count": 187,
     "metadata": {},
     "output_type": "execute_result"
    }
   ],
   "source": [
    "unsortedList_copy"
   ]
  },
  {
   "cell_type": "code",
   "execution_count": 188,
   "metadata": {},
   "outputs": [
    {
     "data": {
      "text/plain": [
       "[('XOM', 120.4),\n",
       " ('NVDA', 144.87),\n",
       " ('JNJ', 150.9),\n",
       " ('GOOGL', 173.89),\n",
       " ('AMZN', 206.75),\n",
       " ('AAPL', 225.92),\n",
       " ('JPM', 241.46),\n",
       " ('TSLA', 310.855),\n",
       " ('MSFT', 420.25),\n",
       " ('UNH', 591.92)]"
      ]
     },
     "execution_count": 188,
     "metadata": {},
     "output_type": "execute_result"
    }
   ],
   "source": [
    "unsortedList_copy.sort(key=lambda x: x[1])\n",
    "unsortedList_copy"
   ]
  },
  {
   "cell_type": "markdown",
   "metadata": {},
   "source": [
    "- **Problem 1:** The list (unsortedList_copy) has been modified.\n",
    "\n",
    "- **Problem 2:** The very original list (unsortedList) has also been modified."
   ]
  },
  {
   "cell_type": "code",
   "execution_count": 189,
   "metadata": {},
   "outputs": [
    {
     "data": {
      "text/plain": [
       "[('XOM', 120.4),\n",
       " ('NVDA', 144.87),\n",
       " ('JNJ', 150.9),\n",
       " ('GOOGL', 173.89),\n",
       " ('AMZN', 206.75),\n",
       " ('AAPL', 225.92),\n",
       " ('JPM', 241.46),\n",
       " ('TSLA', 310.855),\n",
       " ('MSFT', 420.25),\n",
       " ('UNH', 591.92)]"
      ]
     },
     "execution_count": 189,
     "metadata": {},
     "output_type": "execute_result"
    }
   ],
   "source": [
    "unsortedList"
   ]
  },
  {
   "cell_type": "code",
   "execution_count": 190,
   "metadata": {},
   "outputs": [],
   "source": [
    "unsortedList_copy = unsortedList.copy()"
   ]
  },
  {
   "cell_type": "code",
   "execution_count": 191,
   "metadata": {},
   "outputs": [
    {
     "data": {
      "text/plain": [
       "[('XOM', 120.4),\n",
       " ('NVDA', 144.87),\n",
       " ('JNJ', 150.9),\n",
       " ('GOOGL', 173.89),\n",
       " ('AMZN', 206.75),\n",
       " ('AAPL', 225.92),\n",
       " ('JPM', 241.46),\n",
       " ('TSLA', 310.855),\n",
       " ('MSFT', 420.25),\n",
       " ('UNH', 591.92)]"
      ]
     },
     "execution_count": 191,
     "metadata": {},
     "output_type": "execute_result"
    }
   ],
   "source": [
    "sorted(unsortedList_copy, key=lambda x: x[1])"
   ]
  },
  {
   "cell_type": "code",
   "execution_count": 192,
   "metadata": {},
   "outputs": [
    {
     "data": {
      "text/plain": [
       "[('XOM', 120.4),\n",
       " ('NVDA', 144.87),\n",
       " ('JNJ', 150.9),\n",
       " ('GOOGL', 173.89),\n",
       " ('AMZN', 206.75),\n",
       " ('AAPL', 225.92),\n",
       " ('JPM', 241.46),\n",
       " ('TSLA', 310.855),\n",
       " ('MSFT', 420.25),\n",
       " ('UNH', 591.92)]"
      ]
     },
     "execution_count": 192,
     "metadata": {},
     "output_type": "execute_result"
    }
   ],
   "source": [
    "unsortedList"
   ]
  },
  {
   "cell_type": "markdown",
   "metadata": {},
   "source": [
    "The main difference is that the original list is unchanged when using `sorted()`."
   ]
  },
  {
   "cell_type": "markdown",
   "metadata": {},
   "source": [
    "#### `zip()`"
   ]
  },
  {
   "cell_type": "markdown",
   "metadata": {},
   "source": [
    "`zip` converts multiple sequences and combines them into tuple. Here is an example creating a dictionary counting the letters in names:"
   ]
  },
  {
   "cell_type": "code",
   "execution_count": 197,
   "metadata": {},
   "outputs": [
    {
     "name": "stdout",
     "output_type": "stream",
     "text": [
      "<map object at 0x000001E847489E70>\n"
     ]
    }
   ],
   "source": [
    "names = ['Thomas', 'Guillem', 'Dominic', 'Chuou', 'Pablo', 'Akram', 'Xingjian', 'Zhenyi']\n",
    "ll = map(len, names)\n",
    "print(ll)"
   ]
  },
  {
   "cell_type": "code",
   "execution_count": 198,
   "metadata": {},
   "outputs": [
    {
     "data": {
      "text/plain": [
       "{'Thomas': 6,\n",
       " 'Guillem': 7,\n",
       " 'Dominic': 7,\n",
       " 'Chuou': 5,\n",
       " 'Pablo': 5,\n",
       " 'Akram': 5,\n",
       " 'Xingjian': 8,\n",
       " 'Zhenyi': 6}"
      ]
     },
     "execution_count": 198,
     "metadata": {},
     "output_type": "execute_result"
    }
   ],
   "source": [
    "dict(zip(names, ll))"
   ]
  },
  {
   "cell_type": "markdown",
   "metadata": {},
   "source": [
    "### A Finance example:  option pricing"
   ]
  },
  {
   "cell_type": "markdown",
   "metadata": {},
   "source": [
    "The Black–Scholes model is one of the cornerstones of mathematical finance.\n",
    "It assumes that the underlying stock price has the following dynamics:\n",
    "$$\n",
    "\\frac{\\mathrm{d} S_t}{S_t} = r \\mathrm{d}t + \\sigma \\mathrm{d} W_t,\n",
    "\\qquad S_0 >0,\n",
    "$$\n",
    "for $t\\geq 0$, for some constant (volatility) $\\sigma>0$, and where $(W_t)_{t\\geq 0}$ is a standard Brownian motion.\n",
    "\n",
    "The value of a European Call option on $(S_t)_{t\\geq 0}$ in the Black-Scholes model is given, at time $t\\in [0,T]$, by\n",
    "$$\n",
    "C^{\\mathrm{BS}}(S_0, K, T;\\sigma) := \\mathrm{e}^{-rT}\\mathbb{E}\\left[\\max(S_{T} - K, 0)\\right]\n",
    " = S_0\\left(\\mathcal{N}(d_{+}) - \\mathrm{e}^{k}\\mathcal{N}(d_{-})\\right),\n",
    "$$\n",
    "where\n",
    "$$\n",
    "d_{\\pm} = \\frac{-k}{\\sigma\\sqrt{T}} \\pm\\frac{\\sigma\\sqrt{T}}{2}\n",
    "$$\n",
    "and\n",
    "- $k := \\log\\left(K\\mathrm{e}^{-rT} / S_0\\right)$ is called the log forward moneyness;\n",
    "- $\\mathcal{N}(\\cdot)$ is the cumulative distribution function of the standard normal distribution,\n",
    "- $T - t$ is the time to maturity;\n",
    "- $S_t$ is the spot price of the underlying asset;\n",
    "- $K$ is the strike price;\n",
    "- $\\sigma$ is the volatility  of returns of the underlying asset.\n"
   ]
  },
  {
   "cell_type": "code",
   "execution_count": 199,
   "metadata": {},
   "outputs": [],
   "source": [
    "from scipy.stats import norm\n",
    "from scipy.optimize import bisect\n",
    "import matplotlib.pyplot as plt\n",
    "import numpy as np\n",
    "\n",
    "def BlackScholesCallPrice(S, K, T, sigma, r):\n",
    "    \"\"\"European Call option price in the Black-Scholes model\n",
    "    S: initial value for the stock price\n",
    "    K: strike\n",
    "    T: maturity\n",
    "    r: constant risk-free rate\n",
    "    \"\"\"\n",
    "    d1 = (np.log(S/K) + (r+.5*sigma**2)*T) / (sigma * np.sqrt(T))\n",
    "    d2 = d1 - sigma * np.sqrt(T)\n",
    "    return S*norm.cdf(d1) - K*np.exp (-r*T) * norm.cdf (d2)\n",
    "\n",
    "\n",
    "def impliedVol(S, K, T, r, price):\n",
    "    \"\"\"Computes the implied volatility given a Call option price\n",
    "    This is done using bisection\n",
    "    \n",
    "    S: initial value for the stock price\n",
    "    K: strike\n",
    "    T: maturity\n",
    "    r: constant risk-free rate\n",
    "    price: observed price\n",
    "    \"\"\"\n",
    "    def smileMin(vol, *args):\n",
    "        S, K, T, r, price = args\n",
    "        return price - BlackScholesCallPrice(S, K, T, vol, r)\n",
    "    vMin = 0.0001\n",
    "    vMax = 3.\n",
    "    return bisect(smileMin, vMin, vMax, args=(S, K, T, r, price), rtol=1e-15, full_output=False, disp=True)"
   ]
  },
  {
   "cell_type": "code",
   "execution_count": 201,
   "metadata": {},
   "outputs": [
    {
     "name": "stdout",
     "output_type": "stream",
     "text": [
      "The implied volatility is equal to 1.4% for a Call option worth 0.1\n",
      "Consistency check (error):  -2.7755575615628914e-17\n"
     ]
    }
   ],
   "source": [
    "## Example:\n",
    "S, K, T, r, callput = 1., 0.9,  1., 0., 1\n",
    "price = 0.1\n",
    "impVol = impliedVol(S, K, T, r, price)\n",
    "print(\"The implied volatility is equal to \" + str(np.round(100*impVol, 2)) + \"% for a Call option worth \" + str(np.round(price, 2)))\n",
    "print(\"Consistency check (error): \", BlackScholesCallPrice(S, K, T, impVol, r)-  price)"
   ]
  },
  {
   "cell_type": "markdown",
   "metadata": {},
   "source": [
    "Example of generated option prices and implied volatilities"
   ]
  },
  {
   "cell_type": "code",
   "execution_count": 202,
   "metadata": {},
   "outputs": [
    {
     "data": {
      "image/png": "[encoded data removed]",
      "text/plain": [
       "<Figure size 1400x600 with 2 Axes>"
      ]
     },
     "metadata": {},
     "output_type": "display_data"
    }
   ],
   "source": [
    "S, T, r, callput = 1., 1., 0., 1\n",
    "nbStrikes = 10\n",
    "KK = np.linspace(0.7, 1.3, nbStrikes)\n",
    "prices = [0.5*np.minimum(1./(2.*K), 1)*(S+ np.maximum(S-K, 0.)) for K in KK]\n",
    "ivs = [impliedVol(S, K, T, r, p) for (K,p) in zip(KK, prices)]\n",
    "\n",
    "plt.figure(figsize=(14, 6))\n",
    "plt.subplot(221)\n",
    "plt.plot(KK, [S for _ in KK], 'k--', label=\"Upper bound\")\n",
    "plt.plot(KK, [np.maximum(S-K,0.) for K in KK], 'c--', label=\"Lower bound\")\n",
    "plt.plot(KK, prices, 'b+', label=\"Prices\")\n",
    "plt.legend(loc=\"best\")\n",
    "plt.xlabel(\"Strike\")\n",
    "plt.title(\"Call option prices\")\n",
    "\n",
    "plt.subplot(222)\n",
    "plt.plot(KK, ivs, 'b+')\n",
    "plt.title(\"Implied volatilities\")\n",
    "plt.xlabel(\"Strike\")\n",
    "plt.show()"
   ]
  },
  {
   "cell_type": "markdown",
   "metadata": {},
   "source": [
    "Suppose now we want to be able to run the impliedVol() function for a whole range of strikes and option prices at the same time."
   ]
  },
  {
   "cell_type": "code",
   "execution_count": 203,
   "metadata": {},
   "outputs": [],
   "source": [
    "impliedVols = map(lambda K, p: impliedVol(S, K, T, r, p), KK, prices)"
   ]
  },
  {
   "cell_type": "code",
   "execution_count": 204,
   "metadata": {},
   "outputs": [
    {
     "data": {
      "text/plain": [
       "map"
      ]
     },
     "execution_count": 204,
     "metadata": {},
     "output_type": "execute_result"
    }
   ],
   "source": [
    "type(impliedVols)"
   ]
  },
  {
   "cell_type": "code",
   "execution_count": 205,
   "metadata": {},
   "outputs": [
    {
     "data": {
      "text/plain": [
       "array([0.89, 0.79, 0.72, 0.68, 0.65, 0.65, 0.67, 0.69, 0.7 , 0.72])"
      ]
     },
     "execution_count": 205,
     "metadata": {},
     "output_type": "execute_result"
    }
   ],
   "source": [
    "ivs = list(impliedVols)\n",
    "np.round(ivs, 2)"
   ]
  },
  {
   "cell_type": "code",
   "execution_count": 206,
   "metadata": {},
   "outputs": [],
   "source": [
    "## Note that we could have written this as a list comprehension as well:\n",
    "ivs = [impliedVol(S, K, T, r, p) for (K,p) in zip(KK, prices)]"
   ]
  },
  {
   "cell_type": "markdown",
   "metadata": {},
   "source": [
    "**Exercise:**\n",
    "\n",
    "*Only returns the implied volatilities above a certain threshold.*"
   ]
  },
  {
   "cell_type": "code",
   "execution_count": 207,
   "metadata": {},
   "outputs": [],
   "source": [
    "threshold = .68\n",
    "\n",
    "ivs_filtered = list(filter(lambda x: x>threshold, ivs))\n",
    "TrueFalse = list(map(lambda x: x>threshold, ivs))\n",
    "KK_filtered = [K for (i,K) in enumerate(KK) if TrueFalse[i]] ## select the corresponding strikes"
   ]
  },
  {
   "cell_type": "code",
   "execution_count": 208,
   "metadata": {},
   "outputs": [
    {
     "data": {
      "image/png": "[encoded data removed]",
      "text/plain": [
       "<Figure size 800x400 with 1 Axes>"
      ]
     },
     "metadata": {},
     "output_type": "display_data"
    }
   ],
   "source": [
    "plt.figure(figsize=(8,4))\n",
    "plt.plot(KK, ivs, 'b+', markersize=12, label=\"Before filter\")\n",
    "plt.plot(KK_filtered, ivs_filtered, 'ko', mfc='None', markersize=12, label=\"After filter\")\n",
    "plt.legend(loc=\"best\")\n",
    "plt.title(\"Implied volatilities\")\n",
    "plt.xlabel(\"Strike\")\n",
    "plt.show()"
   ]
  },
  {
   "cell_type": "markdown",
   "metadata": {},
   "source": [
    "## The itertools module\n",
    "The itertools module contains a number of commonly-used iterators as well as functions for combining several iterators.\n",
    "\n",
    "We only show some basic and useful examples.\n",
    "\n",
    "Full details available here: https://docs.python.org/3.7/library/itertools.html"
   ]
  },
  {
   "cell_type": "code",
   "execution_count": 209,
   "metadata": {},
   "outputs": [],
   "source": [
    "import itertools"
   ]
  },
  {
   "cell_type": "code",
   "execution_count": 210,
   "metadata": {},
   "outputs": [
    {
     "data": {
      "text/plain": [
       "itertools.repeat"
      ]
     },
     "execution_count": 210,
     "metadata": {},
     "output_type": "execute_result"
    }
   ],
   "source": [
    "rep = itertools.repeat('abc', 5)\n",
    "type(rep)"
   ]
  },
  {
   "cell_type": "code",
   "execution_count": 211,
   "metadata": {},
   "outputs": [
    {
     "data": {
      "text/plain": [
       "['abc', 'abc', 'abc', 'abc', 'abc']"
      ]
     },
     "execution_count": 211,
     "metadata": {},
     "output_type": "execute_result"
    }
   ],
   "source": [
    "list(rep)"
   ]
  },
  {
   "cell_type": "code",
   "execution_count": 212,
   "metadata": {},
   "outputs": [
    {
     "data": {
      "text/plain": [
       "['a', 'b', 'c', 1, 2, 3]"
      ]
     },
     "execution_count": 212,
     "metadata": {},
     "output_type": "execute_result"
    }
   ],
   "source": [
    "list(itertools.chain(['a', 'b', 'c'], (1, 2, 3)))"
   ]
  },
  {
   "cell_type": "code",
   "execution_count": 214,
   "metadata": {},
   "outputs": [
    {
     "name": "stdout",
     "output_type": "stream",
     "text": [
      "<class 'itertools.combinations'>\n",
      "[(1, 2), (1, 3), (1, 4), (1, 5), (2, 3), (2, 4), (2, 5), (3, 4), (3, 5), (4, 5)]\n",
      "Number of elements:  10\n"
     ]
    }
   ],
   "source": [
    "## Combinatorics\n",
    "comb = itertools.combinations([1, 2, 3, 4, 5], 2)\n",
    "print(type(comb))\n",
    "\n",
    "combL = list(comb)\n",
    "\n",
    "print(combL)\n",
    "\n",
    "print(\"Number of elements: \", len(combL))"
   ]
  },
  {
   "cell_type": "markdown",
   "metadata": {},
   "source": [
    "Note that the elements within each output tuple are in the same order as the original iterable input"
   ]
  },
  {
   "cell_type": "code",
   "execution_count": 215,
   "metadata": {},
   "outputs": [
    {
     "name": "stdout",
     "output_type": "stream",
     "text": [
      "[(1, 2), (1, 3), (1, 4), (1, 5), (2, 1), (2, 3), (2, 4), (2, 5), (3, 1), (3, 2), (3, 4), (3, 5), (4, 1), (4, 2), (4, 3), (4, 5), (5, 1), (5, 2), (5, 3), (5, 4)]\n",
      "Number of elements:  20\n"
     ]
    }
   ],
   "source": [
    "perm = itertools.permutations([1, 2, 3, 4, 5], 2)\n",
    "permL = list(perm)\n",
    "print(permL)\n",
    "print(\"Number of elements: \", len(permL))"
   ]
  },
  {
   "cell_type": "markdown",
   "metadata": {},
   "source": [
    "`itertools.groupby`"
   ]
  },
  {
   "cell_type": "markdown",
   "metadata": {},
   "source": [
    "`groupby()` collects all the consecutive elements from the underlying iterable that have the same key value, and returns a stream of 2-tuples containing a key value and an iterator for the elements with that key."
   ]
  },
  {
   "cell_type": "code",
   "execution_count": 216,
   "metadata": {},
   "outputs": [
    {
     "name": "stdout",
     "output_type": "stream",
     "text": [
      "[('London', 'England'), ('Liverpool', 'England'), ('York', 'England'), ('Bath', 'England'), ('Dublin', 'Ireland'), ('Cork', 'Ireland'), ('Galway', 'Ireland'), ('Belfast', 'Northern Ireland'), ('Londonderry', 'Northern Ireland'), ('Edinburg', 'Scotland'), ('Glasgow', 'Scotland'), ('Perth', 'Scotland'), ('Cardiff', 'Wales'), ('Swansea', 'Wales')]\n"
     ]
    }
   ],
   "source": [
    "ukCities = [('Edinburg', 'Scotland'), ('London', 'England'), ('Cardiff', 'Wales'),\n",
    "             ('Dublin', 'Ireland'), ('Belfast', 'Northern Ireland'), ('Glasgow', 'Scotland'), \n",
    "              ('Liverpool', 'England'), ('York', 'England'), ('Bath', 'England'), ('Perth', 'Scotland'),\n",
    "              ('Swansea', 'Wales'), ('Cork', 'Ireland'), ('Galway', 'Ireland'), ('Londonderry', 'Northern Ireland')]\n",
    "\n",
    "def get_country(myList):\n",
    "    return myList[1]\n",
    "\n",
    "data = sorted(ukCities, key=lambda x: x[1])\n",
    "\n",
    "print(data)"
   ]
  },
  {
   "cell_type": "code",
   "execution_count": 223,
   "metadata": {},
   "outputs": [
    {
     "name": "stdout",
     "output_type": "stream",
     "text": [
      "<itertools.groupby object at 0x000001E844639A30>\n"
     ]
    }
   ],
   "source": [
    "itg = itertools.groupby(data, get_country)\n",
    "print(itg)"
   ]
  },
  {
   "cell_type": "code",
   "execution_count": 224,
   "metadata": {},
   "outputs": [
    {
     "name": "stdout",
     "output_type": "stream",
     "text": [
      "Country:  England <class 'itertools._grouper'>\n",
      "London\n",
      "Liverpool\n",
      "York\n",
      "Bath\n",
      "*******\n",
      "Country:  Ireland <class 'itertools._grouper'>\n",
      "Dublin\n",
      "Cork\n",
      "Galway\n",
      "*******\n",
      "Country:  Northern Ireland <class 'itertools._grouper'>\n",
      "Belfast\n",
      "Londonderry\n",
      "*******\n",
      "Country:  Scotland <class 'itertools._grouper'>\n",
      "Edinburg\n",
      "Glasgow\n",
      "Perth\n",
      "*******\n",
      "Country:  Wales <class 'itertools._grouper'>\n",
      "Cardiff\n",
      "Swansea\n",
      "*******\n"
     ]
    }
   ],
   "source": [
    "for i in itg:\n",
    "    print(\"Country: \", i[0], type(i[1]))\n",
    "    for j in i[1]:\n",
    "        print(j[0])\n",
    "    print(\"*******\")"
   ]
  },
  {
   "cell_type": "markdown",
   "metadata": {},
   "source": [
    "## Decorators"
   ]
  },
  {
   "cell_type": "markdown",
   "metadata": {},
   "source": [
    "We have seen how to define functions on functions. We now move on, for the final part of this session,  how to modify (or  `decorate`) functions."
   ]
  },
  {
   "cell_type": "code",
   "execution_count": 226,
   "metadata": {},
   "outputs": [
    {
     "name": "stdout",
     "output_type": "stream",
     "text": [
      "<function myComment at 0x000001E865E06660>\n",
      "<function decor.<locals>.wrapper at 0x000001E865E81300>\n"
     ]
    }
   ],
   "source": [
    "def decor(f):\n",
    "    def wrapper():\n",
    "        print(\"***Something to do before the function is called***\")\n",
    "        f()\n",
    "        print(\"***Something to do after the function is called***\")\n",
    "    return wrapper\n",
    "\n",
    "def myComment():\n",
    "    print(\"My lecturer is amazing\")\n",
    "\n",
    "print(myComment)\n",
    "\n",
    "myComment = decor(myComment)\n",
    "\n",
    "print(myComment)"
   ]
  },
  {
   "cell_type": "code",
   "execution_count": 227,
   "metadata": {},
   "outputs": [
    {
     "name": "stdout",
     "output_type": "stream",
     "text": [
      "***Something to do before the function is called***\n",
      "My lecturer is amazing\n",
      "***Something to do after the function is called***\n"
     ]
    }
   ],
   "source": [
    "myComment()"
   ]
  },
  {
   "cell_type": "markdown",
   "metadata": {},
   "source": [
    "The function `myComment` now refers to the decorator instead of the function itself, indeed:"
   ]
  },
  {
   "cell_type": "markdown",
   "metadata": {},
   "source": [
    "*Note:* decorators will be used more intensively in the OOP part of the course."
   ]
  },
  {
   "cell_type": "markdown",
   "metadata": {},
   "source": [
    "## The `pie` syntax\n",
    "\n",
    "How to avoid repeating the function name too many times."
   ]
  },
  {
   "cell_type": "code",
   "execution_count": 229,
   "metadata": {},
   "outputs": [],
   "source": [
    "def decor(f):\n",
    "    def wrapper():\n",
    "        print(\"***Something to do before the function is called***\")\n",
    "        f()\n",
    "        print(\"***Something to do after the function is called***\")\n",
    "    return wrapper\n",
    "\n",
    "@decor\n",
    "def myComment():\n",
    "    print(\"My lecturer is amazing\")"
   ]
  },
  {
   "cell_type": "code",
   "execution_count": 230,
   "metadata": {},
   "outputs": [
    {
     "name": "stdout",
     "output_type": "stream",
     "text": [
      "***Something to do before the function is called***\n",
      "My lecturer is amazing\n",
      "***Something to do after the function is called***\n"
     ]
    }
   ],
   "source": [
    "myComment()"
   ]
  },
  {
   "cell_type": "markdown",
   "metadata": {},
   "source": [
    "## Decorating functions with arguments"
   ]
  },
  {
   "cell_type": "code",
   "execution_count": 231,
   "metadata": {},
   "outputs": [
    {
     "ename": "TypeError",
     "evalue": "decor.<locals>.wrapper() takes 0 positional arguments but 2 were given",
     "output_type": "error",
     "traceback": [
      "\u001b[1;31m---------------------------------------------------------------------------\u001b[0m",
      "\u001b[1;31mTypeError\u001b[0m                                 Traceback (most recent call last)",
      "Cell \u001b[1;32mIn[231], line 20\u001b[0m\n\u001b[0;32m     17\u001b[0m     payoff \u001b[38;5;241m=\u001b[39m np\u001b[38;5;241m.\u001b[39mmaximum(S\u001b[38;5;241m-\u001b[39mK, \u001b[38;5;241m0.\u001b[39m)\n\u001b[0;32m     18\u001b[0m     \u001b[38;5;28;01mreturn\u001b[39;00m payoff\n\u001b[1;32m---> 20\u001b[0m callOptionType(\u001b[38;5;241m100\u001b[39m, \u001b[38;5;241m90\u001b[39m)\n",
      "\u001b[1;31mTypeError\u001b[0m: decor.<locals>.wrapper() takes 0 positional arguments but 2 were given"
     ]
    }
   ],
   "source": [
    "def decor(f):\n",
    "    def wrapper():\n",
    "        print(\"***Something to do before the function is called***\")\n",
    "        f()\n",
    "        print(\"***Something to do after the function is called***\")\n",
    "    return wrapper\n",
    "\n",
    "@decor\n",
    "def callOptionType(S, K):\n",
    "    if S<K:\n",
    "        msg = \"The Call option is out of the money\"\n",
    "    elif S>K:\n",
    "        msg = \"The Call option is in the money\"\n",
    "    else:\n",
    "        msg = \"The Call option is at the money\"\n",
    "    print(msg)\n",
    "    payoff = np.maximum(S-K, 0.)\n",
    "    return payoff\n",
    "        \n",
    "callOptionType(100, 90)"
   ]
  },
  {
   "cell_type": "code",
   "execution_count": 233,
   "metadata": {},
   "outputs": [
    {
     "name": "stdout",
     "output_type": "stream",
     "text": [
      "***Something to do before the function is called***\n",
      "The Call option is in the money\n",
      "***Something to do after the function is called***\n"
     ]
    }
   ],
   "source": [
    "def decor(f):\n",
    "    def wrapper(*args):\n",
    "        print(\"***Something to do before the function is called***\")\n",
    "        f(*args)\n",
    "        print(\"***Something to do after the function is called***\")\n",
    "    return wrapper\n",
    "\n",
    "@decor\n",
    "def callOptionType(S, K):\n",
    "    if S<K:\n",
    "        msg = \"The Call option is out of the money\"\n",
    "    elif S>K:\n",
    "        msg = \"The Call option is in the money\"\n",
    "    else:\n",
    "        msg = \"The Call option is at the money\"\n",
    "    print(msg)\n",
    "    payoff = np.maximum(S-K, 0.)\n",
    "    return payoff\n",
    "        \n",
    "callOptionType(100., 90.)"
   ]
  },
  {
   "cell_type": "markdown",
   "metadata": {},
   "source": [
    "Note however that the wrapper inside the decorator does not return anything. \n",
    "The decorator did not return the value of the `callOptionType` function. We need to make sure the wrapper function returns the value of the decorated function."
   ]
  },
  {
   "cell_type": "code",
   "execution_count": 234,
   "metadata": {},
   "outputs": [
    {
     "name": "stdout",
     "output_type": "stream",
     "text": [
      "***Something to do before the function is called***\n",
      "The Call option is in the money\n",
      "***Something to do after the function is called***\n",
      "The Call option is in the money\n"
     ]
    },
    {
     "data": {
      "text/plain": [
       "10.0"
      ]
     },
     "execution_count": 234,
     "metadata": {},
     "output_type": "execute_result"
    }
   ],
   "source": [
    "def decor(f):\n",
    "    def wrapper(*args):\n",
    "        print(\"***Something to do before the function is called***\")\n",
    "        f(*args)\n",
    "        print(\"***Something to do after the function is called***\")\n",
    "        return f(*args)\n",
    "    return wrapper\n",
    "\n",
    "@decor\n",
    "def callOptionType(S, K):\n",
    "    if S<K:\n",
    "        msg = \"The Call option is out of the money\"\n",
    "    elif S>K:\n",
    "        msg = \"The Call option is in the money\"\n",
    "    else:\n",
    "        msg = \"The Call option is at the money\"\n",
    "    print(msg)\n",
    "    payoff = np.maximum(S-K, 0.)\n",
    "    return payoff\n",
    "        \n",
    "callOptionType(100, 90)"
   ]
  },
  {
   "cell_type": "markdown",
   "metadata": {},
   "source": [
    "## Introspection?"
   ]
  },
  {
   "cell_type": "markdown",
   "metadata": {},
   "source": [
    "What is `callOptionType`?"
   ]
  },
  {
   "cell_type": "code",
   "execution_count": 235,
   "metadata": {},
   "outputs": [
    {
     "data": {
      "text/plain": [
       "<function __main__.decor.<locals>.wrapper(*args)>"
      ]
     },
     "execution_count": 235,
     "metadata": {},
     "output_type": "execute_result"
    }
   ],
   "source": [
    "callOptionType"
   ]
  },
  {
   "cell_type": "code",
   "execution_count": 236,
   "metadata": {},
   "outputs": [
    {
     "data": {
      "text/plain": [
       "'wrapper'"
      ]
     },
     "execution_count": 236,
     "metadata": {},
     "output_type": "execute_result"
    }
   ],
   "source": [
    "callOptionType.__name__"
   ]
  },
  {
   "cell_type": "code",
   "execution_count": 237,
   "metadata": {},
   "outputs": [
    {
     "name": "stdout",
     "output_type": "stream",
     "text": [
      "Help on function wrapper in module __main__:\n",
      "\n",
      "wrapper(*args)\n",
      "\n"
     ]
    }
   ],
   "source": [
    "help(callOptionType)"
   ]
  },
  {
   "cell_type": "code",
   "execution_count": 238,
   "metadata": {},
   "outputs": [
    {
     "name": "stdout",
     "output_type": "stream",
     "text": [
      "***Something to do before the function is called***\n",
      "The Call option is in the money\n",
      "***Something to do after the function is called***\n",
      "The Call option is in the money\n"
     ]
    },
    {
     "data": {
      "text/plain": [
       "10.0"
      ]
     },
     "execution_count": 238,
     "metadata": {},
     "output_type": "execute_result"
    }
   ],
   "source": [
    "import functools\n",
    "def decor(f):\n",
    "    @functools.wraps(f)\n",
    "    def wrapper(*args):\n",
    "        print(\"***Something to do before the function is called***\")\n",
    "        f(*args)\n",
    "        print(\"***Something to do after the function is called***\")\n",
    "        return f(*args)\n",
    "    return wrapper\n",
    "\n",
    "@decor\n",
    "def callOptionType(S, K):\n",
    "    if S<K:\n",
    "        msg = \"The Call option is out of the money\"\n",
    "    elif S>K:\n",
    "        msg = \"The Call option is in the money\"\n",
    "    else:\n",
    "        msg = \"The Call option is at the money\"\n",
    "    print(msg)\n",
    "    payoff = np.maximum(S-K, 0.)\n",
    "    return payoff\n",
    "        \n",
    "callOptionType(100, 90)"
   ]
  },
  {
   "cell_type": "code",
   "execution_count": 239,
   "metadata": {},
   "outputs": [
    {
     "data": {
      "text/plain": [
       "<function __main__.callOptionType(S, K)>"
      ]
     },
     "execution_count": 239,
     "metadata": {},
     "output_type": "execute_result"
    }
   ],
   "source": [
    "callOptionType"
   ]
  },
  {
   "cell_type": "code",
   "execution_count": 240,
   "metadata": {},
   "outputs": [
    {
     "data": {
      "text/plain": [
       "'callOptionType'"
      ]
     },
     "execution_count": 240,
     "metadata": {},
     "output_type": "execute_result"
    }
   ],
   "source": [
    "callOptionType.__name__"
   ]
  },
  {
   "cell_type": "code",
   "execution_count": 241,
   "metadata": {},
   "outputs": [
    {
     "name": "stdout",
     "output_type": "stream",
     "text": [
      "Help on function callOptionType in module __main__:\n",
      "\n",
      "callOptionType(S, K)\n",
      "\n"
     ]
    }
   ],
   "source": [
    "help(callOptionType)"
   ]
  },
  {
   "cell_type": "markdown",
   "metadata": {},
   "source": [
    "# Conclusion"
   ]
  },
  {
   "cell_type": "markdown",
   "metadata": {},
   "source": [
    "Functional Programming can be very useful, but Python is not a pure FP programming language (like Haskell). \n",
    "\n",
    "It is in fact a multi-paradigm language, and FP should be used with parsimony, not religiously."
   ]
  }
 ],
 "metadata": {
  "kernelspec": {
   "display_name": "Python 3 (ipykernel)",
   "language": "python",
   "name": "python3"
  },
  "language_info": {
   "codemirror_mode": {
    "name": "ipython",
    "version": 3
   },
   "file_extension": ".py",
   "mimetype": "text/x-python",
   "name": "python",
   "nbconvert_exporter": "python",
   "pygments_lexer": "ipython3",
   "version": "3.11.7"
  },
  "latex_envs": {
   "LaTeX_envs_menu_present": true,
   "autoclose": false,
   "autocomplete": true,
   "bibliofile": "biblio.bib",
   "cite_by": "apalike",
   "current_citInitial": 1,
   "eqLabelWithNumbers": true,
   "eqNumInitial": 1,
   "hotkeys": {
    "equation": "Ctrl-E",
    "itemize": "Ctrl-I"
   },
   "labels_anchors": false,
   "latex_user_defs": false,
   "report_style_numbering": false,
   "user_envs_cfg": false
  },
  "toc": {
   "base_numbering": 1,
   "nav_menu": {
    "height": "358px",
    "width": "666px"
   },
   "number_sections": true,
   "sideBar": true,
   "skip_h1_title": true,
   "title_cell": "Table of Contents",
   "title_sidebar": "Contents",
   "toc_cell": true,
   "toc_position": {},
   "toc_section_display": true,
   "toc_window_display": true
  }
 },
 "nbformat": 4,
 "nbformat_minor": 4
}
